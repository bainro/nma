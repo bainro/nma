{
  "cells": [
    {
      "cell_type": "markdown",
      "metadata": {
        "id": "view-in-github",
        "colab_type": "text"
      },
      "source": [
        "<a href=\"https://colab.research.google.com/github/bainro/nma/blob/main/tutorials/W3D1_BayesianDecisions/student/W3D1_Tutorial1.ipynb\" target=\"_parent\"><img src=\"https://colab.research.google.com/assets/colab-badge.svg\" alt=\"Open In Colab\"/></a>"
      ]
    },
    {
      "cell_type": "markdown",
      "metadata": {
        "execution": {},
        "id": "QafOS4GjTQ3d"
      },
      "source": [
        "# Tutorial 1: Bayes with a binary hidden state\n",
        "**Week 3, Day 1: Bayesian Decisions**\n",
        "\n",
        "**By Neuromatch Academy**\n",
        "\n",
        "__Content creators:__ Eric DeWitt, Xaq Pitkow, Ella Batty, Saeed Salehi\n",
        "\n",
        "__Content reviewers:__ Hyosub Kim, Zahra Arjmandi, Anoop Kulkarni\n",
        "\n",
        "__Production editor:__ Ella Batty\n",
        "\n",
        "__Post-Production team:__ Gagana B, Spiros Chavlis"
      ]
    },
    {
      "cell_type": "markdown",
      "metadata": {
        "execution": {},
        "id": "O2QibVutTQ3k"
      },
      "source": [
        "<p align='center'><img src='https://github.com/NeuromatchAcademy/widgets/blob/master/sponsors.png?raw=True'/></p>"
      ]
    },
    {
      "cell_type": "markdown",
      "metadata": {
        "execution": {},
        "id": "fcdKmAJZTQ3l"
      },
      "source": [
        "# Tutorial Objectives\n",
        "\n",
        "*Estimated timing of tutorial: 1 hour, 30 minutes*\n",
        "\n",
        "This is the first of two core tutorials on Bayesian statistics. In these tutorials, we will explore the fundamental concepts of the Bayesian approach. In this tutorial you will work through an example of Bayesian inference and decision making using a binary hidden state. The second tutorial extends these concepts to a continuous hidden state. In the related NMA days, each of these basic ideas will be extended. In Hidden Dynamics, we consider these ideas through time as you explore what happens when we infer a hidden state using repeated observations and when the hidden state changes across time. On the Optimal Control day, we will introduce the notion of how to use inference and decisions to select actions for optimal control.\n",
        "\n",
        "This notebook will introduce the fundamental building blocks for Bayesian statistics: \n",
        "\n",
        "1. How do we combine the possible loss (or gain) for making a decision with our probabilistic knowledge?\n",
        "2. How do we use probability distributions to represent hidden states?\n",
        "3. How does marginalization work and how can we use it?\n",
        "4. How do we combine new information with our prior knowledge? "
      ]
    },
    {
      "cell_type": "code",
      "execution_count": 1,
      "metadata": {
        "cellView": "form",
        "execution": {},
        "colab": {
          "base_uri": "https://localhost:8080/",
          "height": 501
        },
        "id": "I1ibO1AVTQ3m",
        "outputId": "2c3b4fc7-961f-4868-80cc-99e9de1355f2"
      },
      "outputs": [
        {
          "output_type": "execute_result",
          "data": {
            "text/plain": [
              "<IPython.lib.display.IFrame at 0x7fc5c4a93f90>"
            ],
            "text/html": [
              "\n",
              "        <iframe\n",
              "            width=\"854\"\n",
              "            height=\"480\"\n",
              "            src=\"https://mfr.ca-1.osf.io/render?url=https://osf.io/dx7jt/?direct%26mode=render%26action=download%26mode=render\"\n",
              "            frameborder=\"0\"\n",
              "            allowfullscreen\n",
              "        ></iframe>\n",
              "        "
            ]
          },
          "metadata": {},
          "execution_count": 1
        }
      ],
      "source": [
        "# @title Tutorial slides\n",
        "\n",
        "# @markdown These are the slides for the videos in this tutorial\n",
        "from IPython.display import IFrame\n",
        "IFrame(src=f\"https://mfr.ca-1.osf.io/render?url=https://osf.io/dx7jt/?direct%26mode=render%26action=download%26mode=render\", width=854, height=480)"
      ]
    },
    {
      "cell_type": "code",
      "execution_count": 2,
      "metadata": {
        "cellView": "form",
        "execution": {},
        "colab": {
          "base_uri": "https://localhost:8080/",
          "height": 581,
          "referenced_widgets": [
            "e4e70fe080444e49ae06c518ac15eabf",
            "b547af1dc03f40e89c07ea9c8d800e3e",
            "d2e03554a0b54e608c476bb05079a26d",
            "2c297918bd154729a4fbe77e29a457f0",
            "93d2a6b4dee94c0fa463a22b97a418fa",
            "c2d385277f2d40098ce5a8faaf2f5ccc"
          ]
        },
        "id": "1i2hn0-OTQ3o",
        "outputId": "80c3280a-e22b-4000-9508-0817d829f36c"
      },
      "outputs": [
        {
          "output_type": "display_data",
          "data": {
            "text/plain": [
              "Tab(children=(Output(), Output()), _titles={'0': 'Youtube', '1': 'Bilibili'})"
            ],
            "application/vnd.jupyter.widget-view+json": {
              "version_major": 2,
              "version_minor": 0,
              "model_id": "e4e70fe080444e49ae06c518ac15eabf"
            }
          },
          "metadata": {}
        }
      ],
      "source": [
        "# @title Video 1: Introduction to Bayesian Statistics and Decisions\n",
        "from ipywidgets import widgets\n",
        "\n",
        "out2 = widgets.Output()\n",
        "with out2:\n",
        "  from IPython.display import IFrame\n",
        "  class BiliVideo(IFrame):\n",
        "      def __init__(self, id, page=1, width=400, height=300, **kwargs):\n",
        "          self.id=id\n",
        "          src = 'https://player.bilibili.com/player.html?bvid={0}&page={1}'.format(id, page)\n",
        "          super(BiliVideo, self).__init__(src, width, height, **kwargs)\n",
        "\n",
        "  video = BiliVideo(id=\"BV1Ch41167jN\", width=854, height=480, fs=1)\n",
        "  print('Video available at https://www.bilibili.com/video/{0}'.format(video.id))\n",
        "  display(video)\n",
        "\n",
        "out1 = widgets.Output()\n",
        "with out1:\n",
        "  from IPython.display import YouTubeVideo\n",
        "  video = YouTubeVideo(id=\"Hcx2_JTpf2M\", width=854, height=480, fs=1, rel=0)\n",
        "  print('Video available at https://youtube.com/watch?v=' + video.id)\n",
        "  display(video)\n",
        "\n",
        "out = widgets.Tab([out1, out2])\n",
        "out.set_title(0, 'Youtube')\n",
        "out.set_title(1, 'Bilibili')\n",
        "\n",
        "display(out)"
      ]
    },
    {
      "cell_type": "markdown",
      "metadata": {
        "execution": {},
        "id": "VxWm8rKRTQ3p"
      },
      "source": [
        "# Setup  \n"
      ]
    },
    {
      "cell_type": "code",
      "execution_count": 3,
      "metadata": {
        "execution": {},
        "id": "AGqwAlQjTQ3q"
      },
      "outputs": [],
      "source": [
        "# Imports\n",
        "import numpy as np\n",
        "import matplotlib.pyplot as plt\n",
        "from matplotlib import patches, transforms, gridspec\n",
        "from scipy.optimize import fsolve\n",
        "from collections import namedtuple"
      ]
    },
    {
      "cell_type": "code",
      "execution_count": 4,
      "metadata": {
        "cellView": "form",
        "execution": {},
        "id": "BM53ItJ-TQ3r"
      },
      "outputs": [],
      "source": [
        "#@title Figure Settings\n",
        "import ipywidgets as widgets       # interactive display\n",
        "from ipywidgets import GridspecLayout, HBox, VBox, FloatSlider, Layout, ToggleButtons\n",
        "from ipywidgets import interactive, interactive_output, Checkbox, Select\n",
        "from IPython.display import clear_output\n",
        "%config InlineBackend.figure_format = 'retina'\n",
        "plt.style.use(\"https://raw.githubusercontent.com/NeuromatchAcademy/course-content/main/nma.mplstyle\")\n",
        "\n",
        "import warnings\n",
        "warnings.filterwarnings(\"ignore\")"
      ]
    },
    {
      "cell_type": "code",
      "execution_count": 5,
      "metadata": {
        "cellView": "form",
        "execution": {},
        "id": "cHlAZUHbTQ3s"
      },
      "outputs": [],
      "source": [
        "# @title Plotting Functions\n",
        "\n",
        "def plot_joint_probs(P, ):\n",
        "    assert np.all(P >= 0), \"probabilities should be >= 0\"\n",
        "    # normalize if not\n",
        "    P = P / np.sum(P)\n",
        "    marginal_y = np.sum(P,axis=1)\n",
        "    marginal_x = np.sum(P,axis=0)\n",
        "\n",
        "    # definitions for the axes\n",
        "    left, width = 0.1, 0.65\n",
        "    bottom, height = 0.1, 0.65\n",
        "    spacing = 0.005\n",
        "\n",
        "    # start with a square Figure\n",
        "    fig = plt.figure(figsize=(5, 5))\n",
        "\n",
        "    joint_prob = [left, bottom, width, height]\n",
        "    rect_histx = [left, bottom + height + spacing, width, 0.2]\n",
        "    rect_histy = [left + width + spacing, bottom, 0.2, height]\n",
        "\n",
        "    rect_x_cmap = plt.cm.Blues\n",
        "    rect_y_cmap = plt.cm.Reds\n",
        "\n",
        "    # Show joint probs and marginals\n",
        "    ax = fig.add_axes(joint_prob)\n",
        "    ax_x = fig.add_axes(rect_histx, sharex=ax)\n",
        "    ax_y = fig.add_axes(rect_histy, sharey=ax)\n",
        "\n",
        "    # Show joint probs and marginals\n",
        "    ax.matshow(P,vmin=0., vmax=1., cmap='Greys')\n",
        "    ax_x.bar(0, marginal_x[0], facecolor=rect_x_cmap(marginal_x[0]))\n",
        "    ax_x.bar(1, marginal_x[1], facecolor=rect_x_cmap(marginal_x[1]))\n",
        "    ax_y.barh(0, marginal_y[0], facecolor=rect_y_cmap(marginal_y[0]))\n",
        "    ax_y.barh(1, marginal_y[1], facecolor=rect_y_cmap(marginal_y[1]))\n",
        "    # set limits\n",
        "    ax_x.set_ylim([0,1])\n",
        "    ax_y.set_xlim([0,1])\n",
        "\n",
        "    # show values\n",
        "    ind = np.arange(2)\n",
        "    x,y = np.meshgrid(ind,ind)\n",
        "    for i,j in zip(x.flatten(), y.flatten()):\n",
        "        c = f\"{P[i,j]:.2f}\"\n",
        "        ax.text(j,i, c, va='center', ha='center', color='black')\n",
        "    for i in ind:\n",
        "        v = marginal_x[i]\n",
        "        c = f\"{v:.2f}\"\n",
        "        ax_x.text(i, v +0.1, c, va='center', ha='center', color='black')\n",
        "        v = marginal_y[i]\n",
        "        c = f\"{v:.2f}\"\n",
        "        ax_y.text(v+0.2, i, c, va='center', ha='center', color='black')\n",
        "\n",
        "    # set up labels\n",
        "    ax.xaxis.tick_bottom()\n",
        "    ax.yaxis.tick_left()\n",
        "    ax.set_xticks([0,1])\n",
        "    ax.set_yticks([0,1])\n",
        "    ax.set_xticklabels(['Silver','Gold'])\n",
        "    ax.set_yticklabels(['Small', 'Large'])\n",
        "    ax.set_xlabel('color')\n",
        "    ax.set_ylabel('size')\n",
        "    ax_x.axis('off')\n",
        "    ax_y.axis('off')\n",
        "    return fig\n",
        "\n",
        "\n",
        "def plot_prior_likelihood_posterior(prior, likelihood, posterior):\n",
        "\n",
        "    # definitions for the axes\n",
        "    left, width = 0.05, 0.3\n",
        "    bottom, height = 0.05, 0.9\n",
        "    padding = 0.12\n",
        "    small_width = 0.1\n",
        "    left_space = left + small_width + padding\n",
        "    added_space = padding + width\n",
        "\n",
        "    fig = plt.figure(figsize=(12, 4))\n",
        "\n",
        "    rect_prior = [left, bottom, small_width, height]\n",
        "    rect_likelihood = [left_space , bottom , width, height]\n",
        "    rect_posterior = [left_space +  added_space, bottom , width, height]\n",
        "\n",
        "    ax_prior = fig.add_axes(rect_prior)\n",
        "    ax_likelihood = fig.add_axes(rect_likelihood, sharey=ax_prior)\n",
        "    ax_posterior = fig.add_axes(rect_posterior, sharey = ax_prior)\n",
        "\n",
        "    rect_colormap = plt.cm.Blues\n",
        "\n",
        "    # Show posterior probs and marginals\n",
        "    ax_prior.barh(0, prior[0], facecolor = rect_colormap(prior[0, 0]))\n",
        "    ax_prior.barh(1, prior[1], facecolor = rect_colormap(prior[1, 0]))\n",
        "    ax_likelihood.matshow(likelihood, vmin=0., vmax=1., cmap='Reds')\n",
        "    ax_posterior.matshow(posterior, vmin=0., vmax=1., cmap='Greens')\n",
        "\n",
        "\n",
        "    # Probabilities plot details\n",
        "    # ax_prior.set(xlim = [1, 0], yticks = [0, 1], yticklabels = ['left', 'right'],\n",
        "    #              ylabel = 'state (s)', title = \"Prior p(s)\")\n",
        "    ax_prior.set(xlim = [1, 0], xticks = [], yticks = [0, 1], yticklabels = ['left', 'right'],\n",
        "                 title = \"Prior p(s)\")\n",
        "    ax_prior.yaxis.tick_right()\n",
        "    ax_prior.spines['left'].set_visible(False)\n",
        "    ax_prior.spines['bottom'].set_visible(False)\n",
        "\n",
        "    # Likelihood plot details\n",
        "    ax_likelihood.set(xticks = [0, 1], xticklabels = ['fish', 'no fish'],\n",
        "                  yticks = [0, 1], yticklabels = ['left', 'right'],\n",
        "                   ylabel = 'state (s)', xlabel = 'measurement (m)',\n",
        "                   title = 'Likelihood p(m (left) | s)')\n",
        "    ax_likelihood.xaxis.set_ticks_position('bottom')\n",
        "    ax_likelihood.spines['left'].set_visible(False)\n",
        "    ax_likelihood.spines['bottom'].set_visible(False)\n",
        "\n",
        "    # Posterior plot details\n",
        "\n",
        "    ax_posterior.set(xticks = [0, 1], xticklabels = ['fish', 'no fish'],\n",
        "                  yticks = [0, 1], yticklabels = ['left', 'right'],\n",
        "                   ylabel = 'state (s)', xlabel = 'measurement (m)',\n",
        "                   title = 'Posterior p(s | m)')\n",
        "    ax_posterior.xaxis.set_ticks_position('bottom')\n",
        "    ax_posterior.spines['left'].set_visible(False)\n",
        "    ax_posterior.spines['bottom'].set_visible(False)\n",
        "\n",
        "\n",
        "    # show values\n",
        "    ind = np.arange(2)\n",
        "    x,y = np.meshgrid(ind,ind)\n",
        "    for i,j in zip(x.flatten(), y.flatten()):\n",
        "        c = f\"{posterior[i,j]:.2f}\"\n",
        "        ax_posterior.text(j,i, c, va='center', ha='center', color='black')\n",
        "    for i,j in zip(x.flatten(), y.flatten()):\n",
        "        c = f\"{likelihood[i,j]:.2f}\"\n",
        "        ax_likelihood.text(j,i, c, va='center', ha='center', color='black')\n",
        "    for i in ind:\n",
        "        v = prior[i, 0]\n",
        "        c = f\"{v:.2f}\"\n",
        "        ax_prior.text(v+0.2, i, c, va='center', ha='center', color='black')\n",
        "\n",
        "\n",
        "def plot_prior_likelihood(ps, p_a_s1, p_a_s0, measurement):\n",
        "    likelihood = np.asarray([[p_a_s1, 1-p_a_s1],[p_a_s0, 1-p_a_s0]])\n",
        "    assert 0.0 <= ps <= 1.0\n",
        "    prior = np.asarray([ps, 1 - ps])\n",
        "    if measurement == \"Fish\":\n",
        "        posterior = likelihood[:, 0] * prior\n",
        "    else:\n",
        "        posterior = (likelihood[:, 1] * prior).reshape(-1)\n",
        "    posterior /= np.sum(posterior)\n",
        "\n",
        "    # definitions for the axes\n",
        "    left, width = 0.05, 0.3\n",
        "    bottom, height = 0.05, 0.9\n",
        "    padding = 0.12\n",
        "    small_width = 0.2\n",
        "    left_space = left + small_width + padding\n",
        "    small_padding = 0.05\n",
        "\n",
        "    fig = plt.figure(figsize=(12, 4))\n",
        "\n",
        "    rect_prior = [left, bottom, small_width, height]\n",
        "    rect_likelihood = [left_space , bottom , width, height]\n",
        "    rect_posterior = [left_space + width + small_padding, bottom , small_width, height]\n",
        "\n",
        "    ax_prior = fig.add_axes(rect_prior)\n",
        "    ax_likelihood = fig.add_axes(rect_likelihood, sharey=ax_prior)\n",
        "    ax_posterior = fig.add_axes(rect_posterior, sharey=ax_prior)\n",
        "\n",
        "    prior_colormap = plt.cm.Blues\n",
        "    posterior_colormap = plt.cm.Greens\n",
        "\n",
        "    # Show posterior probs and marginals\n",
        "    ax_prior.barh(0, prior[0], facecolor = prior_colormap(prior[0]))\n",
        "    ax_prior.barh(1, prior[1], facecolor = prior_colormap(prior[1]))\n",
        "    ax_likelihood.matshow(likelihood, vmin=0., vmax=1., cmap='Reds')\n",
        "    # ax_posterior.matshow(posterior, vmin=0., vmax=1., cmap='')\n",
        "    ax_posterior.barh(0, posterior[0], facecolor = posterior_colormap(posterior[0]))\n",
        "    ax_posterior.barh(1, posterior[1], facecolor = posterior_colormap(posterior[1]))\n",
        "\n",
        "    # Probabilities plot details\n",
        "    ax_prior.set(xlim = [1, 0], yticks = [0, 1], yticklabels = ['left', 'right'],\n",
        "                 title = \"Prior p(s)\", xticks = [])\n",
        "    ax_prior.yaxis.tick_right()\n",
        "    ax_prior.spines['left'].set_visible(False)\n",
        "    ax_prior.spines['bottom'].set_visible(False)\n",
        "\n",
        "    # Likelihood plot details\n",
        "    ax_likelihood.set(xticks = [0, 1], xticklabels = ['fish', 'no fish'],\n",
        "                  yticks = [0, 1], yticklabels = ['left', 'right'],\n",
        "                   ylabel = 'state (s)', xlabel = 'measurement (m)',\n",
        "                   title = 'Likelihood p(m | s)')\n",
        "    ax_likelihood.xaxis.set_ticks_position('bottom')\n",
        "    ax_likelihood.spines['left'].set_visible(False)\n",
        "    ax_likelihood.spines['bottom'].set_visible(False)\n",
        "\n",
        "    # Posterior plot details\n",
        "    ax_posterior.set(xlim = [0, 1], xticks = [], yticks = [0, 1],\n",
        "                     yticklabels = ['left', 'right'], title = \"Posterior p(s | m)\")\n",
        "    ax_posterior.spines['left'].set_visible(False)\n",
        "    ax_posterior.spines['bottom'].set_visible(False)\n",
        "\n",
        "    # show values\n",
        "    ind = np.arange(2)\n",
        "    x,y = np.meshgrid(ind,ind)\n",
        "    # for i,j in zip(x.flatten(), y.flatten()):\n",
        "    #     c = f\"{posterior[i,j]:.2f}\"\n",
        "    #     ax_posterior.text(j,i, c, va='center', ha='center', color='black')\n",
        "    for i in ind:\n",
        "        v = posterior[i]\n",
        "        c = f\"{v:.2f}\"\n",
        "        ax_posterior.text(v+0.2, i, c, va='center', ha='center', color='black')\n",
        "    for i,j in zip(x.flatten(), y.flatten()):\n",
        "        c = f\"{likelihood[i,j]:.2f}\"\n",
        "        ax_likelihood.text(j,i, c, va='center', ha='center', color='black')\n",
        "    for i in ind:\n",
        "        v = prior[i]\n",
        "        c = f\"{v:.2f}\"\n",
        "        ax_prior.text(v+0.2, i, c, va='center', ha='center', color='black')\n",
        "    return fig\n",
        "\n",
        "\n",
        "from matplotlib import colors\n",
        "def plot_utility(ps):\n",
        "    prior = np.asarray([ps, 1 - ps])\n",
        "\n",
        "    utility = np.array([[2, -3], [-2, 1]])\n",
        "\n",
        "    expected = prior @ utility\n",
        "\n",
        "    # definitions for the axes\n",
        "    left, width = 0.05, 0.16\n",
        "    bottom, height = 0.05, 0.9\n",
        "    padding = 0.02\n",
        "    small_width = 0.1\n",
        "    left_space = left + small_width + padding\n",
        "    added_space = padding + width\n",
        "\n",
        "    fig = plt.figure(figsize=(17, 3))\n",
        "\n",
        "    rect_prior = [left, bottom, small_width, height]\n",
        "    rect_utility = [left + added_space , bottom , width, height]\n",
        "    rect_expected = [left + 2* added_space, bottom , width, height]\n",
        "\n",
        "    ax_prior = fig.add_axes(rect_prior)\n",
        "    ax_utility = fig.add_axes(rect_utility, sharey=ax_prior)\n",
        "    ax_expected = fig.add_axes(rect_expected)\n",
        "\n",
        "    rect_colormap = plt.cm.Blues\n",
        "\n",
        "    # Data of plots\n",
        "    ax_prior.barh(0, prior[0], facecolor = rect_colormap(prior[0]))\n",
        "    ax_prior.barh(1, prior[1], facecolor = rect_colormap(prior[1]))\n",
        "    ax_utility.matshow(utility, cmap='cool')\n",
        "    norm = colors.Normalize(vmin=-3, vmax=3)\n",
        "    ax_expected.bar(0, expected[0], facecolor = rect_colormap(norm(expected[0])))\n",
        "    ax_expected.bar(1, expected[1], facecolor = rect_colormap(norm(expected[1])))\n",
        "\n",
        "    # Probabilities plot details\n",
        "    ax_prior.set(xlim = [1, 0], xticks = [], yticks = [0, 1], yticklabels = ['left', 'right'],\n",
        "                 title = \"Probability of state\")\n",
        "    ax_prior.yaxis.tick_right()\n",
        "    ax_prior.spines['left'].set_visible(False)\n",
        "    ax_prior.spines['bottom'].set_visible(False)\n",
        "\n",
        "    # Utility plot details\n",
        "    ax_utility.set(xticks = [0, 1], xticklabels = ['left', 'right'],\n",
        "                  yticks = [0, 1], yticklabels = ['left', 'right'],\n",
        "                   ylabel = 'state (s)', xlabel = 'action (a)',\n",
        "                   title = 'Utility')\n",
        "    ax_utility.xaxis.set_ticks_position('bottom')\n",
        "    ax_utility.spines['left'].set_visible(False)\n",
        "    ax_utility.spines['bottom'].set_visible(False)\n",
        "\n",
        "    # Expected utility plot details\n",
        "    ax_expected.set(title = 'Expected utility', ylim = [-3, 3],\n",
        "                    xticks = [0, 1], xticklabels = ['left', 'right'],\n",
        "                    xlabel = 'action (a)',\n",
        "                    yticks = [])\n",
        "    ax_expected.xaxis.set_ticks_position('bottom')\n",
        "    ax_expected.spines['left'].set_visible(False)\n",
        "    ax_expected.spines['bottom'].set_visible(False)\n",
        "\n",
        "    # show values\n",
        "    ind = np.arange(2)\n",
        "    x,y = np.meshgrid(ind,ind)\n",
        "\n",
        "    for i,j in zip(x.flatten(), y.flatten()):\n",
        "        c = f\"{utility[i,j]:.2f}\"\n",
        "        ax_utility.text(j,i, c, va='center', ha='center', color='black')\n",
        "    for i in ind:\n",
        "        v = prior[i]\n",
        "        c = f\"{v:.2f}\"\n",
        "        ax_prior.text(v+0.2, i, c, va='center', ha='center', color='black')\n",
        "    for i in ind:\n",
        "        v = expected[i]\n",
        "        c = f\"{v:.2f}\"\n",
        "        ax_expected.text(i, 2.5, c, va='center', ha='center', color='black')\n",
        "\n",
        "    return fig\n",
        "\n",
        "\n",
        "def plot_prior_likelihood_utility(ps, p_a_s1, p_a_s0, measurement):\n",
        "    assert 0.0 <= ps <= 1.0\n",
        "    assert 0.0 <= p_a_s1 <= 1.0\n",
        "    assert 0.0 <= p_a_s0 <= 1.0\n",
        "    prior = np.asarray([ps, 1 - ps])\n",
        "    likelihood = np.asarray([[p_a_s1, 1-p_a_s1],[p_a_s0, 1-p_a_s0]])\n",
        "    utility = np.array([[2.0, -3.0], [-2.0, 1.0]])\n",
        "    # expected = np.zeros_like(utility)\n",
        "\n",
        "    if measurement == \"Fish\":\n",
        "        posterior = likelihood[:, 0] * prior\n",
        "    else:\n",
        "        posterior = (likelihood[:, 1] * prior).reshape(-1)\n",
        "    posterior /= np.sum(posterior)\n",
        "    # expected[:, 0] = utility[:, 0] * posterior\n",
        "    # expected[:, 1] = utility[:, 1] * posterior\n",
        "    expected = posterior @ utility\n",
        "\n",
        "    # definitions for the axes\n",
        "    left, width = 0.05, 0.3\n",
        "    bottom, height = 0.05, 0.3\n",
        "    padding = 0.12\n",
        "    small_width = 0.2\n",
        "    left_space = left + small_width + padding\n",
        "    small_padding = 0.05\n",
        "\n",
        "    fig = plt.figure(figsize=(10, 9))\n",
        "\n",
        "    rect_prior = [left, bottom + height + padding, small_width, height]\n",
        "    rect_likelihood = [left_space , bottom + height + padding , width, height]\n",
        "    rect_posterior = [left_space + width + small_padding, bottom + height + padding , small_width, height]\n",
        "\n",
        "    rect_utility = [padding, bottom, width, height]\n",
        "    rect_expected = [padding + width + padding + left, bottom, width, height]\n",
        "\n",
        "    ax_likelihood = fig.add_axes(rect_likelihood)\n",
        "    ax_prior = fig.add_axes(rect_prior, sharey=ax_likelihood)\n",
        "    ax_posterior = fig.add_axes(rect_posterior, sharey=ax_likelihood)\n",
        "    ax_utility = fig.add_axes(rect_utility)\n",
        "    ax_expected = fig.add_axes(rect_expected)\n",
        "\n",
        "    prior_colormap = plt.cm.Blues\n",
        "    posterior_colormap = plt.cm.Greens\n",
        "    expected_colormap = plt.cm.Wistia\n",
        "\n",
        "    # Show posterior probs and marginals\n",
        "    ax_prior.barh(0, prior[0], facecolor = prior_colormap(prior[0]))\n",
        "    ax_prior.barh(1, prior[1], facecolor = prior_colormap(prior[1]))\n",
        "    ax_likelihood.matshow(likelihood, vmin=0., vmax=1., cmap='Reds')\n",
        "    ax_posterior.barh(0, posterior[0], facecolor = posterior_colormap(posterior[0]))\n",
        "    ax_posterior.barh(1, posterior[1], facecolor = posterior_colormap(posterior[1]))\n",
        "    ax_utility.matshow(utility, vmin=0., vmax=1., cmap='cool')\n",
        "    # ax_expected.matshow(expected, vmin=0., vmax=1., cmap='Wistia')\n",
        "    ax_expected.bar(0, expected[0], facecolor = expected_colormap(expected[0]))\n",
        "    ax_expected.bar(1, expected[1], facecolor = expected_colormap(expected[1]))\n",
        "\n",
        "    # Probabilities plot details\n",
        "    ax_prior.set(xlim = [1, 0], yticks = [0, 1], yticklabels = ['left', 'right'],\n",
        "                 title = \"Prior p(s)\", xticks = [])\n",
        "    ax_prior.yaxis.tick_right()\n",
        "    ax_prior.spines['left'].set_visible(False)\n",
        "    ax_prior.spines['bottom'].set_visible(False)\n",
        "\n",
        "    # Likelihood plot details\n",
        "    ax_likelihood.set(xticks = [0, 1], xticklabels = ['fish', 'no fish'],\n",
        "                  yticks = [0, 1], yticklabels = ['left', 'right'],\n",
        "                   ylabel = 'state (s)', xlabel = 'measurement (m)',\n",
        "                   title = 'Likelihood p(m | s)')\n",
        "    ax_likelihood.xaxis.set_ticks_position('bottom')\n",
        "    ax_likelihood.spines['left'].set_visible(False)\n",
        "    ax_likelihood.spines['bottom'].set_visible(False)\n",
        "\n",
        "    # Posterior plot details\n",
        "    ax_posterior.set(xlim = [0, 1], xticks = [], yticks = [0, 1],\n",
        "                     yticklabels = ['left', 'right'], title = \"Posterior p(s | m)\")\n",
        "    ax_posterior.spines['left'].set_visible(False)\n",
        "    ax_posterior.spines['bottom'].set_visible(False)\n",
        "\n",
        "    # Utility plot details\n",
        "    ax_utility.set(xticks = [0, 1], xticklabels = ['left', 'right'],\n",
        "                   xlabel = 'action (a)', yticks = [0, 1], yticklabels = ['left', 'right'],\n",
        "                   title = 'Utility', ylabel = 'state (s)')\n",
        "    ax_utility.xaxis.set_ticks_position('bottom')\n",
        "    ax_utility.spines['left'].set_visible(False)\n",
        "    ax_utility.spines['bottom'].set_visible(False)\n",
        "\n",
        "    # Expected Utility plot details\n",
        "    ax_expected.set(ylim = [-2, 2], xticks = [0, 1], xticklabels = ['left', 'right'],\n",
        "                 xlabel = 'action (a)', title = 'Expected utility', yticks=[])\n",
        "    # ax_expected.axis('off')\n",
        "    ax_expected.spines['left'].set_visible(False)\n",
        "    # ax_expected.set(xticks = [0, 1], xticklabels = ['left', 'right'],\n",
        "    #                 xlabel = 'action (a)',\n",
        "    #                title = 'Expected utility')\n",
        "    # ax_expected.xaxis.set_ticks_position('bottom')\n",
        "    # ax_expected.spines['left'].set_visible(False)\n",
        "    # ax_expected.spines['bottom'].set_visible(False)\n",
        "\n",
        "    # show values\n",
        "    ind = np.arange(2)\n",
        "    x,y = np.meshgrid(ind,ind)\n",
        "    for i in ind:\n",
        "        v = posterior[i]\n",
        "        c = f\"{v:.2f}\"\n",
        "        ax_posterior.text(v+0.2, i, c, va='center', ha='center', color='black')\n",
        "    for i,j in zip(x.flatten(), y.flatten()):\n",
        "        c = f\"{likelihood[i,j]:.2f}\"\n",
        "        ax_likelihood.text(j,i, c, va='center', ha='center', color='black')\n",
        "    for i,j in zip(x.flatten(), y.flatten()):\n",
        "        c = f\"{utility[i,j]:.2f}\"\n",
        "        ax_utility.text(j,i, c, va='center', ha='center', color='black')\n",
        "    # for i,j in zip(x.flatten(), y.flatten()):\n",
        "    #     c = f\"{expected[i,j]:.2f}\"\n",
        "    #     ax_expected.text(j,i, c, va='center', ha='center', color='black')\n",
        "    for i in ind:\n",
        "        v = prior[i]\n",
        "        c = f\"{v:.2f}\"\n",
        "        ax_prior.text(v+0.2, i, c, va='center', ha='center', color='black')\n",
        "    for i in ind:\n",
        "        v = expected[i]\n",
        "        c = f\"{v:.2f}\"\n",
        "        ax_expected.text(i, v, c, va='center', ha='center', color='black')\n",
        "\n",
        "    return fig"
      ]
    },
    {
      "cell_type": "code",
      "execution_count": 6,
      "metadata": {
        "cellView": "form",
        "execution": {},
        "id": "aBkzcjV1TQ3u"
      },
      "outputs": [],
      "source": [
        "# @title Helper Functions\n",
        "\n",
        "def compute_marginal(px, py, cor):\n",
        "    \"\"\" Calculate 2x2 joint probabilities given marginals p(x=1), p(y=1) and correlation\n",
        "\n",
        "      Args:\n",
        "        px (scalar): marginal probability of x\n",
        "        py (scalar): marginal probability of y\n",
        "        cor (scalar): correlation value\n",
        "\n",
        "      Returns:\n",
        "        ndarray of size (2, 2): joint probability array of x and y\n",
        "    \"\"\"\n",
        "\n",
        "    p11 = px*py + cor*np.sqrt(px*py*(1-px)*(1-py))\n",
        "    p01 = px - p11\n",
        "    p10 = py - p11\n",
        "    p00 = 1.0 - p11 - p01 - p10\n",
        "\n",
        "    return np.asarray([[p00, p01], [p10, p11]])\n",
        "\n",
        "\n",
        "def compute_cor_range(px,py):\n",
        "    \"\"\" Calculate the allowed range of correlation values given marginals p(x=1)\n",
        "      and p(y=1)\n",
        "\n",
        "    Args:\n",
        "      px (scalar): marginal probability of x\n",
        "      py (scalar): marginal probability of y\n",
        "\n",
        "    Returns:\n",
        "      scalar, scalar: minimum and maximum possible values of correlation\n",
        "    \"\"\"\n",
        "\n",
        "    def p11(corr):\n",
        "        return px*py + corr*np.sqrt(px*py*(1-px)*(1-py))\n",
        "    def p01(corr):\n",
        "        return px - p11(corr)\n",
        "    def p10(corr):\n",
        "        return py - p11(corr)\n",
        "    def p00(corr):\n",
        "        return 1.0 - p11(corr) - p01(corr) - p10(corr)\n",
        "    Cmax = min(fsolve(p01, 0.0), fsolve(p10, 0.0))\n",
        "    Cmin = max(fsolve(p11, 0.0), fsolve(p00, 0.0))\n",
        "    return Cmin, Cmax"
      ]
    },
    {
      "cell_type": "markdown",
      "metadata": {
        "execution": {},
        "id": "9Twti6cbTQ3w"
      },
      "source": [
        "---\n",
        "# Section 1: Gone Fishin'\n"
      ]
    },
    {
      "cell_type": "code",
      "execution_count": 7,
      "metadata": {
        "cellView": "form",
        "execution": {},
        "colab": {
          "base_uri": "https://localhost:8080/",
          "height": 581,
          "referenced_widgets": [
            "ab480fdab580468095eaed5d9527dfa4",
            "16f230dad55545668afcc3eef3cd54ca",
            "6fe4c60036974c409cf39b6366010716",
            "59d8d99aa234476ba57761aad7a4cb0b",
            "f24d42db117f40b78163a2ecbab7d233",
            "3c6dca99595d4c1ab01de42b4294cc17"
          ]
        },
        "id": "DriXamDUTQ3x",
        "outputId": "c5cfa442-e4bd-4af0-83de-55c0f6ed87de"
      },
      "outputs": [
        {
          "output_type": "display_data",
          "data": {
            "text/plain": [
              "Tab(children=(Output(), Output()), _titles={'0': 'Youtube', '1': 'Bilibili'})"
            ],
            "application/vnd.jupyter.widget-view+json": {
              "version_major": 2,
              "version_minor": 0,
              "model_id": "ab480fdab580468095eaed5d9527dfa4"
            }
          },
          "metadata": {}
        }
      ],
      "source": [
        "# @title Video 2: Gone Fishin'\n",
        "from ipywidgets import widgets\n",
        "\n",
        "out2 = widgets.Output()\n",
        "with out2:\n",
        "  from IPython.display import IFrame\n",
        "  class BiliVideo(IFrame):\n",
        "      def __init__(self, id, page=1, width=400, height=300, **kwargs):\n",
        "          self.id=id\n",
        "          src = 'https://player.bilibili.com/player.html?bvid={0}&page={1}'.format(id, page)\n",
        "          super(BiliVideo, self).__init__(src, width, height, **kwargs)\n",
        "\n",
        "  video = BiliVideo(id=\"BV1TP4y147pJ\", width=854, height=480, fs=1)\n",
        "  print('Video available at https://www.bilibili.com/video/{0}'.format(video.id))\n",
        "  display(video)\n",
        "\n",
        "out1 = widgets.Output()\n",
        "with out1:\n",
        "  from IPython.display import YouTubeVideo\n",
        "  video = YouTubeVideo(id=\"kAdBjWOI_yE\", width=854, height=480, fs=1, rel=0)\n",
        "  print('Video available at https://youtube.com/watch?v=' + video.id)\n",
        "  display(video)\n",
        "\n",
        "out = widgets.Tab([out1, out2])\n",
        "out.set_title(0, 'Youtube')\n",
        "out.set_title(1, 'Bilibili')\n",
        "\n",
        "display(out)"
      ]
    },
    {
      "cell_type": "markdown",
      "metadata": {
        "execution": {},
        "id": "kCNaznIvTQ3y"
      },
      "source": [
        "This video covers the example problem of fishing that we will cover in this tutorial.\n",
        "\n",
        "<details>\n",
        "<summary> <font color=‘blue’>Click here for text recap of video </font></summary>\n",
        "\n",
        "You were just introduced to the **binary hidden state problem** we are going to explore. You need to decide which side to fish on--the hidden state. We know fish like to school together. On different days the school of fish is either on the left or right side, but we don’t know what the case is today. We define our knowledge about the fish location as a distribution over the random hidden state variable. Using our probabilistic knowledge, also called our **belief** about the hidden state, we will explore how to make the decision about where to fish today, based on what to expect in terms of gains or losses for the decision.\n",
        "The gains and losss are defined by the utility of choosing an action, which is fishing on the left or right. The details of the utilities are described \n",
        "</details>\n",
        "\n",
        "In the next two sections we will consider just the probability of where the fish might be and what you gain or lose by choosing where to fish (leaving Bayesian approaches to the last few sections).\n",
        "\n",
        "Remember, you can either think of yourself as a scientist conducting an experiment or as a brain trying to make a decision. The Bayesian approach is the same!\n"
      ]
    },
    {
      "cell_type": "markdown",
      "metadata": {
        "execution": {},
        "id": "cEiSYXYZTQ3z"
      },
      "source": [
        "---\n",
        "# Section 2: Deciding where to fish \n",
        "\n",
        "*Estimated timing to here from start of tutorial: 10 min*"
      ]
    },
    {
      "cell_type": "code",
      "execution_count": 8,
      "metadata": {
        "cellView": "form",
        "execution": {},
        "colab": {
          "base_uri": "https://localhost:8080/",
          "height": 581,
          "referenced_widgets": [
            "884e0fef3c7445a2b6a72fc3a74c1672",
            "60d860f9448540c590566feda86bb692",
            "e2d020b668e84bf3acc18450989dccb9",
            "856bff6897864170a2f5fcf3fd2adc94",
            "dff71955840f4a90a9775e6382885c4d",
            "ef843fb4829649da9dc3c24b4b2ac9c5"
          ]
        },
        "id": "ceAoTMfZTQ30",
        "outputId": "00610673-1b17-43eb-bba6-ea13471bb227"
      },
      "outputs": [
        {
          "output_type": "display_data",
          "data": {
            "text/plain": [
              "Tab(children=(Output(), Output()), _titles={'0': 'Youtube', '1': 'Bilibili'})"
            ],
            "application/vnd.jupyter.widget-view+json": {
              "version_major": 2,
              "version_minor": 0,
              "model_id": "884e0fef3c7445a2b6a72fc3a74c1672"
            }
          },
          "metadata": {}
        }
      ],
      "source": [
        "# @title Video 3: Utility\n",
        "from ipywidgets import widgets\n",
        "\n",
        "out2 = widgets.Output()\n",
        "with out2:\n",
        "  from IPython.display import IFrame\n",
        "  class BiliVideo(IFrame):\n",
        "      def __init__(self, id, page=1, width=400, height=300, **kwargs):\n",
        "          self.id=id\n",
        "          src = 'https://player.bilibili.com/player.html?bvid={0}&page={1}'.format(id, page)\n",
        "          super(BiliVideo, self).__init__(src, width, height, **kwargs)\n",
        "\n",
        "  video = BiliVideo(id=\"BV1uL411H7ZE\", width=854, height=480, fs=1)\n",
        "  print('Video available at https://www.bilibili.com/video/{0}'.format(video.id))\n",
        "  display(video)\n",
        "\n",
        "out1 = widgets.Output()\n",
        "with out1:\n",
        "  from IPython.display import YouTubeVideo\n",
        "  video = YouTubeVideo(id=\"8-5RM0k3IKE\", width=854, height=480, fs=1, rel=0)\n",
        "  print('Video available at https://youtube.com/watch?v=' + video.id)\n",
        "  display(video)\n",
        "\n",
        "out = widgets.Tab([out1, out2])\n",
        "out.set_title(0, 'Youtube')\n",
        "out.set_title(1, 'Bilibili')\n",
        "\n",
        "display(out)"
      ]
    },
    {
      "cell_type": "markdown",
      "metadata": {
        "execution": {},
        "id": "F7PbR-QETQ31"
      },
      "source": [
        "This video covers utility and expected utility.\n",
        "\n",
        "<details>\n",
        "<summary> <font color=‘blue’>Click here for text recap of video </font></summary>\n",
        "\n",
        "You need to decide where to fish. It may seem obvious - you could just fish on the side where the probability of the fish being is higher! Unfortunately, decisions and actions are always a little more complicated. Deciding to fish may be influenced by more than just the probability of the school of fish being there as we saw by the potential issues of submarines and sunburn. The consequences of the action you take is based on the true (but hidden) state of the world and the action you choose! In our example, fishing on the wrong side, where there aren't many fish, is likely to lead to you spending your afternoon not catching fish and therefore getting a sunburn. The submarine represents a risk to fishing on the right side that is greater than the left side. If you want to know what to expect from taking the action of fishing on one side or the other, you need to calculate the expected utility.\n",
        "\n",
        "You know the (prior) probability that the school of fish is on the left side of the dock today, $P(s = \\textrm{left})$. So, you also know the probability the school is on the right, $P(s = \\textrm{right})$, because these two probabilities must add up to 1.\n",
        "\n",
        "We quantify gains and losses numerically using a **utility** function $U(s,a)$, which describes the consequences of your actions: how much value you gain (or if negative, lose) given the state of the world ($s$) and the action you take ($a$). In our example, our utility can be summarized as:\n",
        "\n",
        "| Utility: U(s,a)   | a = left   | a = right  |\n",
        "| ----------------- |------------|------------|\n",
        "| s = Left          | +2         | -3         |\n",
        "| s = right         | -2         | +1         |\n",
        "\n",
        "To use possible gains and losses to choose an action, we calculate the **expected utility** of that action by weighing these utilities with the probability of that state occuring. This allows us to choose actions by taking probabilities of events into account: we don't care if the outcome of an action-state pair is a loss if the probability of that state is very low. We can formalize this as:\n",
        "\n",
        "\\begin{equation}\n",
        "\\text{Expected utility of action a} = \\sum_{s}U(s,a)P(s)\n",
        "\\end{equation}\n",
        "\n",
        "In other words, the expected utility of an action a is the sum over possible states of the utility of that action and state times the probability of that state.\n",
        "\n",
        "</details>"
      ]
    },
    {
      "cell_type": "markdown",
      "metadata": {
        "execution": {},
        "id": "L8BwSQZ4TQ31"
      },
      "source": [
        "## Interactive Demo 2: Exploring the decision\n",
        "\n",
        "Let's start to get a sense of how all this works using the interactive demo below. You can change the probability that the school of fish is on the left side,$p(s = \\textrm{left})$, using the slider. You will see the utility function (a matrix) in the middle and the corresponding expected utility for each action on the right.\n",
        "\n",
        "First, make sure you understand how the expected utility of each action is being computed from the probabilities and the utility values. In the initial state: the probability of the fish being on the left is 0.9 and on the right is 0.1. The expected utility of the action of fishing on the left is then $U(s = \\textrm{left},a = \\textrm{left})p(s = \\textrm{left}) + U(s = \\textrm{right},a = \\textrm{left})p(s = \\textrm{right}) = 2(0.9) + -2(0.1) = 1.6$. Essentially, to get the expected utility of action $a$, you are doing a weighted sum over the relevant column of the utility matrix (corresponding to action $a$) where the weights are the state probabilities.\n",
        "\n",
        "For each of these scenarios, think and discuss first. Then use the demo to try out each and see if your action would have been correct (that is, if the expected value of that action is the highest).\n",
        "\n",
        "\n",
        "1.  You just arrived at the dock for the first time and have no sense of where the fish might be. So you guess that the probability of the school being on the left side is 0.5 (so the probability on the right side is also 0.5). Which side would you choose to fish on given our utility values?\n",
        "2.  You think that the probability of the school being on the left side is very low (0.1) and correspondingly high on the right side (0.9). Which side would you choose to fish on given our utility values?\n",
        "3.  What would you choose if the probability of the school being on the left side is slightly lower than on the right side (0. 4 vs 0.6)?"
      ]
    },
    {
      "cell_type": "code",
      "execution_count": 9,
      "metadata": {
        "cellView": "form",
        "execution": {},
        "colab": {
          "base_uri": "https://localhost:8080/",
          "height": 326,
          "referenced_widgets": [
            "fddbea6a27fb4b62b713e5c4f6879536",
            "04bb2608118e448b8a245c028bca07af",
            "55e724ea7e454a2dba70077e9081ce83",
            "9d72f9cc76e94b0bbd11c6dbcb800b4b",
            "034084dcd62548ce88bfa0b0d1bba531",
            "1009f2436b7d401593dc67da0f017bd1",
            "663cbd03761f44d19748a77cb88460d5"
          ]
        },
        "id": "7JhGpO71TQ32",
        "outputId": "334935c2-9eda-4980-f7c3-b893f552971b"
      },
      "outputs": [
        {
          "output_type": "display_data",
          "data": {
            "text/plain": [
              "interactive(children=(FloatSlider(value=0.9, description='p(s = left)', max=1.0, step=0.01), Output()), _dom_c…"
            ],
            "application/vnd.jupyter.widget-view+json": {
              "version_major": 2,
              "version_minor": 0,
              "model_id": "fddbea6a27fb4b62b713e5c4f6879536"
            }
          },
          "metadata": {}
        }
      ],
      "source": [
        "# @markdown Execute this cell to use the widget\n",
        "ps_widget = widgets.FloatSlider(0.9, description='p(s = left)', min=0.0, max=1.0, step=0.01)\n",
        "\n",
        "@widgets.interact(\n",
        "    ps = ps_widget,\n",
        ")\n",
        "def make_utility_plot(ps):\n",
        "    fig = plot_utility(ps)\n",
        "    plt.show(fig)\n",
        "    plt.close(fig)\n",
        "    return None"
      ]
    },
    {
      "cell_type": "markdown",
      "metadata": {
        "execution": {},
        "id": "5E7Fq5HXTQ33"
      },
      "source": [
        "[*Click for solution*](https://github.com/NeuromatchAcademy/course-content/tree/main//tutorials/W3D1_BayesianDecisions/solutions/W3D1_Tutorial1_Solution_ea0b49ae.py)\n",
        "\n"
      ]
    },
    {
      "cell_type": "code",
      "execution_count": 10,
      "metadata": {
        "cellView": "form",
        "execution": {},
        "colab": {
          "base_uri": "https://localhost:8080/",
          "height": 581,
          "referenced_widgets": [
            "23b5fcf1dbee4889a6f5d6affcbc0fe9",
            "a3d2684a34cd4456a645fcd81a729a58",
            "f5148f9454ee408895ef7dcaf7f29db9",
            "db2ff318ec304a00a3a1b6cb4d8fad10",
            "0d77826058b0403d82c719f995e7aff1",
            "470fc412d50a4e36973ad7ed76d32192"
          ]
        },
        "id": "tnabpdbGTQ33",
        "outputId": "676fa510-8809-4b96-8377-c457ad5ff141"
      },
      "outputs": [
        {
          "output_type": "display_data",
          "data": {
            "text/plain": [
              "Tab(children=(Output(), Output()), _titles={'0': 'Youtube', '1': 'Bilibili'})"
            ],
            "application/vnd.jupyter.widget-view+json": {
              "version_major": 2,
              "version_minor": 0,
              "model_id": "23b5fcf1dbee4889a6f5d6affcbc0fe9"
            }
          },
          "metadata": {}
        }
      ],
      "source": [
        "# @title Video 4: Utility Demo Discussion\n",
        "from ipywidgets import widgets\n",
        "\n",
        "out2 = widgets.Output()\n",
        "with out2:\n",
        "  from IPython.display import IFrame\n",
        "  class BiliVideo(IFrame):\n",
        "      def __init__(self, id, page=1, width=400, height=300, **kwargs):\n",
        "          self.id=id\n",
        "          src = 'https://player.bilibili.com/player.html?bvid={0}&page={1}'.format(id, page)\n",
        "          super(BiliVideo, self).__init__(src, width, height, **kwargs)\n",
        "\n",
        "  video = BiliVideo(id=\"BV1po4y1D7Fu\", width=854, height=480, fs=1)\n",
        "  print('Video available at https://www.bilibili.com/video/{0}'.format(video.id))\n",
        "  display(video)\n",
        "\n",
        "out1 = widgets.Output()\n",
        "with out1:\n",
        "  from IPython.display import YouTubeVideo\n",
        "  video = YouTubeVideo(id=\"GHQbmsEyQjE\", width=854, height=480, fs=1, rel=0)\n",
        "  print('Video available at https://youtube.com/watch?v=' + video.id)\n",
        "  display(video)\n",
        "\n",
        "out = widgets.Tab([out1, out2])\n",
        "out.set_title(0, 'Youtube')\n",
        "out.set_title(1, 'Bilibili')\n",
        "\n",
        "display(out)"
      ]
    },
    {
      "cell_type": "markdown",
      "metadata": {
        "execution": {},
        "id": "FUngkxePTQ34"
      },
      "source": [
        "In this section, you have seen that both the utility of various state and action pairs and our knowledge of the probability of each state affects your decision. Importantly, we want our knowledge of the probability of each state to be as accurate as possible! \n",
        "\n",
        "So how do we know these probabilities? We may have prior knowledge from years of fishing at the same dock, learning that the fish are more likely to be on the left side, for example. Of course, we need to update our knowledge (our belief)! To do this, we need to collect more information, or take some measurements! In the next few sections, we will focus on how we improve our knowledge of the probabilities."
      ]
    },
    {
      "cell_type": "markdown",
      "metadata": {
        "execution": {},
        "id": "zuZ73imkTQ35"
      },
      "source": [
        "---\n",
        "# Section 3: Likelihood of the fish being on either side\n",
        "\n",
        "*Estimated timing to here from start of tutorial: 25 min*\n",
        " \n"
      ]
    },
    {
      "cell_type": "code",
      "execution_count": 11,
      "metadata": {
        "cellView": "form",
        "execution": {},
        "colab": {
          "base_uri": "https://localhost:8080/",
          "height": 581,
          "referenced_widgets": [
            "8714c93f0fd14e998117255538fdae96",
            "477e3fb89fd548928624ea045774dc83",
            "e0bdcd73874943ba887571581acf6e2d",
            "4ed87ed46cd54345aa81c1793cae49ed",
            "37ad1134f56f4e1ea182e3fd9800042e",
            "6dcf9779fdd44a9cbe610e221a22eb63"
          ]
        },
        "id": "M-fNU31STQ35",
        "outputId": "844ca485-bea1-4005-88a0-3ddfaaf7bd36"
      },
      "outputs": [
        {
          "output_type": "display_data",
          "data": {
            "text/plain": [
              "Tab(children=(Output(), Output()), _titles={'0': 'Youtube', '1': 'Bilibili'})"
            ],
            "application/vnd.jupyter.widget-view+json": {
              "version_major": 2,
              "version_minor": 0,
              "model_id": "8714c93f0fd14e998117255538fdae96"
            }
          },
          "metadata": {}
        }
      ],
      "source": [
        "# @title Video 5: Likelihood\n",
        "from ipywidgets import widgets\n",
        "\n",
        "out2 = widgets.Output()\n",
        "with out2:\n",
        "  from IPython.display import IFrame\n",
        "  class BiliVideo(IFrame):\n",
        "      def __init__(self, id, page=1, width=400, height=300, **kwargs):\n",
        "          self.id=id\n",
        "          src = 'https://player.bilibili.com/player.html?bvid={0}&page={1}'.format(id, page)\n",
        "          super(BiliVideo, self).__init__(src, width, height, **kwargs)\n",
        "\n",
        "  video = BiliVideo(id=\"BV1EK4y1u7AV\", width=854, height=480, fs=1)\n",
        "  print('Video available at https://www.bilibili.com/video/{0}'.format(video.id))\n",
        "  display(video)\n",
        "\n",
        "out1 = widgets.Output()\n",
        "with out1:\n",
        "  from IPython.display import YouTubeVideo\n",
        "  video = YouTubeVideo(id=\"Yv8MDjdm1l4\", width=854, height=480, fs=1, rel=0)\n",
        "  print('Video available at https://youtube.com/watch?v=' + video.id)\n",
        "  display(video)\n",
        "\n",
        "out = widgets.Tab([out1, out2])\n",
        "out.set_title(0, 'Youtube')\n",
        "out.set_title(1, 'Bilibili')\n",
        "\n",
        "display(out)"
      ]
    },
    {
      "cell_type": "markdown",
      "metadata": {
        "execution": {},
        "id": "kptXfP1VTQ37"
      },
      "source": [
        "\n",
        "<details>\n",
        "<summary> <font color=‘blue’>Click here for text recap of video </font></summary>\n",
        "\n",
        "First, we'll think about what it means to take a measurement (also often called an observation or just data) and what it tells you about what the hidden state may be. Specifically, we'll be looking at the **likelihood**, which is the probability of your measurement ($m$) given the hidden state ($s$): $P(m | s)$. Remember that in this case, the hidden state is which side of the dock the school of fish is on.\n",
        "We will watch someone fish (for let's say 10 minutes) and our measurement is whether they catch a fish or not. We know something about what catching a fish means for the likelihood of the fish being on one side or the other.\n",
        "</details>"
      ]
    },
    {
      "cell_type": "markdown",
      "metadata": {
        "execution": {},
        "id": "JYbykryoTQ37"
      },
      "source": [
        "## Think! 3: Guessing the location of the fish\n",
        "\n",
        "Let's say we go to a different dock to fish. Here, there are different probabilities of catching fish given the state of the world. At this dock, if you fish on the side of the dock where the fish are, you have a 70% chance of catching a fish. If you fish on the wrong side, you will catch a fish with only 20% probability. These are the likelihoods of observing someone catching a fish! That is, you are taking a measurement by seeing if someone else catches a fish!\n",
        "\n",
        "You see a fisher-person is fishing on the left side.\n",
        "\n",
        "1) Please figure out each of the following (might be easiest to do this separately and then compare notes):\n",
        "- probability of catching a fish given that the school of fish is on the left side, $P(m = \\textrm{catch fish} | s = \\textrm{left} )$\n",
        "- probability of not catching a fish given that the school of fish is on the left side, $P(m = \\textrm{no fish} | s = \\textrm{left})$\n",
        "- probability of catching a fish given that the school of fish is on the right side, $P(m = \\textrm{catch  fish} | s = \\textrm{right})$\n",
        "- probability of not catching a fish given that the school of fish is on the right side, $P(m = \\textrm{no fish} | s = \\textrm{right})$\n",
        "\n",
        "2) If the fisher-person catches a fish, which side would you guess the school is on? Why?\n",
        "\n",
        "3) If the fisher-person does not catch a fish, which side would you guess the school is on? Why?\n"
      ]
    },
    {
      "cell_type": "markdown",
      "metadata": {
        "execution": {},
        "id": "SP-KECsqTQ38"
      },
      "source": [
        "[*Click for solution*](https://github.com/NeuromatchAcademy/course-content/tree/main//tutorials/W3D1_BayesianDecisions/solutions/W3D1_Tutorial1_Solution_816c0c9d.py)\n",
        "\n"
      ]
    },
    {
      "cell_type": "markdown",
      "metadata": {
        "execution": {},
        "id": "FY81VohWTQ38"
      },
      "source": [
        "In the prior exercise, you tried to guess where the school of fish was based on the measurement you took (watching someone fish). You did this by choosing the state (side where you think the fish are) that maximized the probability of the measurement. In other words, you estimated the state by maximizing the likelihood (the side with the highest probability of measurement given state $P(m|s$)). This is called maximum likelihood estimation (MLE) and you've encountered it before during this course, in the [pre-reqs statistics day](https://compneuro.neuromatch.io/tutorials/W0D5_Statistics/student/W0D5_Tutorial2.html#section-2-2-maximum-likelihood) and on [Model Fitting day](https://compneuro.neuromatch.io/tutorials/W1D3_ModelFitting/student/W1D3_Tutorial2.html)!\n",
        "\n",
        "But, what if you had been going to this dock for years and you knew that the fish were almost always on the left side? This should probably affect how you make your estimate -- you would rely less on the single new measurement and more on your prior knowledge. This is the fundamental idea behind Bayesian inference, as we will see later in this tutorial!"
      ]
    },
    {
      "cell_type": "markdown",
      "metadata": {
        "execution": {},
        "id": "oywV30fZTQ38"
      },
      "source": [
        "---\n",
        "# Section 4: Correlation and marginalization\n",
        "\n",
        "*Estimated timing to here from start of tutorial: 35 min*\n"
      ]
    },
    {
      "cell_type": "code",
      "execution_count": 12,
      "metadata": {
        "cellView": "form",
        "execution": {},
        "colab": {
          "base_uri": "https://localhost:8080/",
          "height": 581,
          "referenced_widgets": [
            "10b2c0f71c8549a0821c7e240a5b521c",
            "899d1a1b9aaf4fbea8b1db6012950730",
            "68ed7343e8b74baaa7b28bd9e02a7cde",
            "394fbc0135a14515999f7a218b12a492",
            "3415cad2fa9f459da32a24412dbf7c6b",
            "28c6f8ae80844e6aa0cf99ca8d42dd22"
          ]
        },
        "id": "uri2lU5PTQ39",
        "outputId": "f2914665-4313-4d2f-b753-2757732a7010"
      },
      "outputs": [
        {
          "output_type": "display_data",
          "data": {
            "text/plain": [
              "Tab(children=(Output(), Output()), _titles={'0': 'Youtube', '1': 'Bilibili'})"
            ],
            "application/vnd.jupyter.widget-view+json": {
              "version_major": 2,
              "version_minor": 0,
              "model_id": "10b2c0f71c8549a0821c7e240a5b521c"
            }
          },
          "metadata": {}
        }
      ],
      "source": [
        "# @title Video 6: Correlation and marginalization\n",
        "from ipywidgets import widgets\n",
        "\n",
        "out2 = widgets.Output()\n",
        "with out2:\n",
        "  from IPython.display import IFrame\n",
        "  class BiliVideo(IFrame):\n",
        "      def __init__(self, id, page=1, width=400, height=300, **kwargs):\n",
        "          self.id=id\n",
        "          src = 'https://player.bilibili.com/player.html?bvid={0}&page={1}'.format(id, page)\n",
        "          super(BiliVideo, self).__init__(src, width, height, **kwargs)\n",
        "\n",
        "  video = BiliVideo(id=\"BV1Zq4y1p7N6\", width=854, height=480, fs=1)\n",
        "  print('Video available at https://www.bilibili.com/video/{0}'.format(video.id))\n",
        "  display(video)\n",
        "\n",
        "out1 = widgets.Output()\n",
        "with out1:\n",
        "  from IPython.display import YouTubeVideo\n",
        "  video = YouTubeVideo(id=\"iprFMHch2_g\", width=854, height=480, fs=1, rel=0)\n",
        "  print('Video available at https://youtube.com/watch?v=' + video.id)\n",
        "  display(video)\n",
        "\n",
        "out = widgets.Tab([out1, out2])\n",
        "out.set_title(0, 'Youtube')\n",
        "out.set_title(1, 'Bilibili')\n",
        "\n",
        "display(out)"
      ]
    },
    {
      "cell_type": "markdown",
      "metadata": {
        "execution": {},
        "id": "yt0S6YXgTQ39"
      },
      "source": [
        "## Section 4.1: Correlation"
      ]
    },
    {
      "cell_type": "markdown",
      "metadata": {
        "execution": {},
        "id": "mG8ZzA-NTQ39"
      },
      "source": [
        "In this section, we are going to take a step back for a bit and think more generally about the amount of information shared between two random variables. We want to know how much information you gain when you observe one variable (take a measurement) if you know something about another. We will see that the fundamental concept is the same if we think about two attributes, for example the size and color of the fish, or the prior information and the likelihood.\n"
      ]
    },
    {
      "cell_type": "markdown",
      "metadata": {
        "execution": {},
        "id": "2X7pvUQsTQ3-"
      },
      "source": [
        "### Think! 4.1: Covarying probability distributions\n",
        "\n",
        "The relationship between the marginal probabilities and the joint probabilities is determined by the correlation between the two random variables - a normalized measure of how much the variables covary. We can also think of this as gaining some information about one of the variables when we observe a measurement from the other. We will think about this more formally in Tutorial 2. \n",
        "\n",
        "Here, we want to think about how the correlation between size and color of these fish changes how much information we gain about one attribute based on the other. See Bonus Section 1 for the formula for correlation.\n",
        "\n",
        "Use the widget below and answer the following questions:\n",
        "\n",
        "1. When the correlation is zero, $\\rho = 0$, what does the distribution of size tell you about color?\n",
        "2. Set $\\rho$ to something small. As you change the probability of golden fish, what happens to the ratio of size probabilities? Set $\\rho$ larger (can be negative). Can you explain the pattern of changes in the probabilities of size as you change the probability of golden fish?\n",
        "3. Set the probability of golden fish and of large fish to around 65%. As the correlation goes towards 1, how often will you see silver large fish?\n",
        "4. What is increasing the (absolute) correlation telling you about how likely you are to see one of the properties if you see a fish with the other?\n"
      ]
    },
    {
      "cell_type": "code",
      "execution_count": 13,
      "metadata": {
        "execution": {},
        "colab": {
          "base_uri": "https://localhost:8080/",
          "height": 835,
          "referenced_widgets": [
            "8a28d85b5ac14d78a9f4df34bac84e80",
            "20365e30ee24481c8f9cc1522ccb1eb3",
            "fafafd04c0fb40138c1d528bf276a35a",
            "22e878f12d69422eb1129dcf05102dc2",
            "e7b746d49959415e9790500e1744de36",
            "3d4f1cd05efb42bfbfd6ccbd44a92972",
            "c428920b77a24b669940faffea410241",
            "c99a611e2b9d4f2c9798fd5b34f0fa72",
            "7302ae1220b24f7ab5cfba376e2e3450",
            "1287a2b502094e79af5711376bb69fbf",
            "8124f3f6517e452c8c0f24e1e5aeb823",
            "def28b78ee2b4aa9a228fe049edc2b75",
            "b789d9ee3a6b462d8d6ba1d605cefaa1"
          ]
        },
        "id": "toj-jcbXTQ3-",
        "outputId": "27630f9b-6f34-4175-e485-e5b1b10c34ff"
      },
      "outputs": [
        {
          "output_type": "display_data",
          "data": {
            "text/plain": [
              "interactive(children=(FloatSlider(value=0.5, description='p(color=golden)', layout=Layout(grid_area='widget002…"
            ],
            "application/vnd.jupyter.widget-view+json": {
              "version_major": 2,
              "version_minor": 0,
              "model_id": "8a28d85b5ac14d78a9f4df34bac84e80"
            }
          },
          "metadata": {}
        }
      ],
      "source": [
        "# @markdown Execute this cell to enable the widget\n",
        "style = {'description_width': 'initial'}\n",
        "gs = GridspecLayout(2,2)\n",
        "\n",
        "cor_widget = widgets.FloatSlider(0.0, description='ρ', min=-1, max=1, step=0.01)\n",
        "px_widget = widgets.FloatSlider(0.5, description='p(color=golden)', min=0.01, max=0.99, step=0.01, style=style)\n",
        "py_widget = widgets.FloatSlider(0.5, description='p(size=large)', min=0.01, max=0.99, step=0.01, style=style)\n",
        "gs[0,0] = cor_widget\n",
        "gs[0,1] = px_widget\n",
        "gs[1,0] = py_widget\n",
        "\n",
        "\n",
        "@widgets.interact(\n",
        "    px=px_widget,\n",
        "    py=py_widget,\n",
        "    cor=cor_widget,\n",
        ")\n",
        "def make_corr_plot(px, py, cor):\n",
        "    Cmin, Cmax = compute_cor_range(px, py) #allow correlation values\n",
        "    cor_widget.min, cor_widget.max = Cmin+0.01, Cmax-0.01\n",
        "    if cor_widget.value > Cmax:\n",
        "        cor_widget.value = Cmax\n",
        "    if cor_widget.value < Cmin:\n",
        "        cor_widget.value = Cmin\n",
        "    cor = cor_widget.value\n",
        "    P = compute_marginal(px,py,cor)\n",
        "    # print(P)\n",
        "    fig = plot_joint_probs(P)\n",
        "    plt.show(fig)\n",
        "    plt.close(fig)\n",
        "    return None\n",
        "\n",
        "# gs[1,1] = make_corr_plot()"
      ]
    },
    {
      "cell_type": "markdown",
      "metadata": {
        "execution": {},
        "id": "ZgLPr94aTQ3_"
      },
      "source": [
        "[*Click for solution*](https://github.com/NeuromatchAcademy/course-content/tree/main//tutorials/W3D1_BayesianDecisions/solutions/W3D1_Tutorial1_Solution_eb6596af.py)\n",
        "\n"
      ]
    },
    {
      "cell_type": "markdown",
      "metadata": {
        "execution": {},
        "id": "b2su9RxBTQ3_"
      },
      "source": [
        "We have just seen how two random variables can be more or less independent. The more correlated, the less independent, and the more shared information. We also learned that we can marginalize to determine the marginal likelihood of a measurement or to find the marginal probability distribution of two random variables. We are going to now complete our journey towards being fully Bayesian!"
      ]
    },
    {
      "cell_type": "markdown",
      "metadata": {
        "execution": {},
        "id": "FYKyoRhdTQ3_"
      },
      "source": [
        "## Section 4.2: Marginalisation"
      ]
    },
    {
      "cell_type": "markdown",
      "metadata": {
        "execution": {},
        "id": "U-qoutxhTQ3_"
      },
      "source": [
        "\n",
        "<details>\n",
        "<summary> <font color=‘blue’>Click here for text recap of relevant part of video </font></summary>\n",
        "\n",
        "We may want to find the probability of one variable while ignoring another: we will do this by averaging out, or marginalizing, the irrelevant variable.\n",
        "\n",
        "We will think of this in two different ways.\n",
        "\n",
        "In the first math exercise, you will think about the case where you know the joint probabilities of two variables and want to figure out the probability of just one variable. To make this explicit, let's assume that a fish has a color that is either gold or silver (our first variable) and a size that is either small or large (our second). We could write out the the **joint probabilities**: the probability of both specific attributes occuring together. For example, the probability of a fish being small and silver, $P(X = \\textrm{small}, Y = \\textrm{silver})$, is 0.4. The following table summarizes our joint probabilities:\n",
        "\n",
        "| P(X, Y)        | Y = silver  | Y = gold  |\n",
        "| -------------- |-------------|-----------|\n",
        "| X = small      | 0.4         | 0.2       |\n",
        "| X = large      | 0.1         | 0.3       |\n",
        "\n",
        "\n",
        "We want to know what the probability of a fish being small  regardless of color. Since the fish are either silver or gold, this would be the probability of a fish being small and silver plus the probability of a fish being small and gold. This is an example of marginalizing, or averaging out, the variable we are not interested in across the rows or columns.. In math speak: $P(X = \\textrm{small}) = \\sum_y{P(X = \\textrm{small}, Y)}$. This gives us a **marginal probability**, a probability of a variable outcome (in this case size), regardless of the other variables (in this case color).\n",
        "\n",
        "More generally, we can marginalize out a second irrelevant variable $y$ by summing over the relevant joint probabilities:\n",
        "\n",
        "$$p(x) = \\sum_y p(x, y) $$\n",
        "\n",
        "\n",
        "In the second math exercise, you will remove an unknown (the hidden state) to find the marginal probability of a measurement. You will do this by marginalizing out the hidden state. In this case, you know the conditional probabilities of the measurement given state and the probabilities of each state. You can marginalize using:\n",
        "\n",
        "$$p(m) = \\sum_s p(m | s) p(s) $$\n",
        "\n",
        "These two ways of thinking about marginalization (as averaging over joint probabilities or conditioning on some variable) are equivalent because the joint probability of two variables equals the conditional probability of the first given the second times the marginal probability of the second:\n",
        "\n",
        "$$p(x, y) = p(x|y)p(y)$$ \n",
        "\n"
      ]
    },
    {
      "cell_type": "markdown",
      "metadata": {
        "execution": {},
        "id": "mdoXOO6QTQ4A"
      },
      "source": [
        "### Math Exercise 4.2.1: Computing marginal probabilities\n",
        "\n",
        "To understand the information between two variables, let's first consider the joint probabilities over the size and color of the fish.\n",
        "\n",
        "| P(X, Y)        | Y = silver  | Y = gold  |\n",
        "| -------------- |-------------|-----------|\n",
        "| X = small      | 0.4         | 0.2       |\n",
        "| X = large      | 0.1         | 0.3       |\n",
        "\n",
        "Please complete the following math problems to further practice thinking through probabilities:\n",
        "\n",
        "1. Calculate the probability of a fish being silver.\n",
        "2. Calculate the probability of a fish being small, large, silver, or gold.\n",
        "3. Calculate the probability of a fish being small OR gold. **Hint:** $P(A\\ \\textrm{or}\\ B) = P(A) + P(B) - P(A\\ \\textrm{and}\\ B)$.\n",
        "\n",
        "**We don't typically have math exercises in NMA but feel it is important for you to really compute this out yourself. Feel free to use the next cell to write out the math if helpful, or use paper and pen. We recommend doing this exercise individually first and then comparing notes and discussing.**"
      ]
    },
    {
      "cell_type": "code",
      "execution_count": 14,
      "metadata": {
        "execution": {},
        "colab": {
          "base_uri": "https://localhost:8080/",
          "height": 53
        },
        "id": "yiAGAAiSTQ4A",
        "outputId": "6b3c730d-2775-46c6-f143-3ae8d7a949ee"
      },
      "outputs": [
        {
          "output_type": "execute_result",
          "data": {
            "text/plain": [
              "'\\nJoint probabilities\\n\\nP( X = small, Y = silver) = 0.4\\nP( X = large, Y = silver) = 0.1\\nP( X = small, Y = gold) = 0.2\\nP( X = large, Y = gold) = 0.3\\n\\n\\n1. P(Y = silver) = ...\\n\\n2. P(X = small or large, Y = silver or gold) = ...\\n\\n3. P( X = small or Y = gold) = ...\\n\\n'"
            ],
            "application/vnd.google.colaboratory.intrinsic+json": {
              "type": "string"
            }
          },
          "metadata": {},
          "execution_count": 14
        }
      ],
      "source": [
        "\"\"\"\n",
        "Joint probabilities\n",
        "\n",
        "P( X = small, Y = silver) = 0.4\n",
        "P( X = large, Y = silver) = 0.1\n",
        "P( X = small, Y = gold) = 0.2\n",
        "P( X = large, Y = gold) = 0.3\n",
        "\n",
        "\n",
        "1. P(Y = silver) = p(Y) = ∑_s[p(Y|s)p(s)] = ( * ) + ( * )\n",
        "\n",
        "2. P(X = small or large, Y = silver or gold) = 1 (that's all possibilities covered...)\n",
        "\n",
        "3. P( X = small or Y = gold) = \n",
        "\n",
        "\"\"\""
      ]
    },
    {
      "cell_type": "markdown",
      "metadata": {
        "execution": {},
        "id": "K-WbOEI4TQ4B"
      },
      "source": [
        "[*Click for solution*](https://github.com/NeuromatchAcademy/course-content/tree/main//tutorials/W3D1_BayesianDecisions/solutions/W3D1_Tutorial1_Solution_b60a0fd3.py)\n",
        "\n"
      ]
    },
    {
      "cell_type": "markdown",
      "metadata": {
        "execution": {},
        "id": "ZHoDJVZDTQ4B"
      },
      "source": [
        "### Math Exercise 4.2.2: Computing marginal likelihood\n",
        "\n",
        "When we normalize to find the posterior, we need to determine the marginal likelihood--or evidence--for the measurement we observed. To do this, we need to marginalize as we just did above to find the probabilities of a color or size. Only, in this case, we are marginalizing to remove a conditioning variable! In this case, let's consider the likelihood of fish (if we observed a fisher-person fishing on the **right**).\n",
        "\n",
        "| p(m\\|s)       | m = fish | m = no fish  |\n",
        "| ------------ | ---------- | -------------- |\n",
        "| s = left     | 0.1      | 0.9          |\n",
        "| s = right    | 0.5      | 0.5          |\n",
        "\n",
        "\n",
        "The table above shows us the **likelihoods**, just as we explored earlier.\n",
        "\n",
        "You want to know the total probability of a fish being caught, $P(m = \\textrm{fish})$, by the fisher-person fishing on the right. (You would need this to calculate the posterior.) To do this, you will need to consider the prior probability, $p(s)$, and marginalize over the hidden states!\n",
        "\n",
        "This is an example of marginalizing, or conditioning away, the variable we are not interested in as well.\n",
        "\n",
        "Please complete the following math problems to further practice thinking through probabilities:\n",
        "\n",
        "1. Calculate the marginal likelihood of the fish being caught, $P(m = \\textrm{fish})$, if the priors are: $p(s = \\textrm{left}) = 0.3$ and $p(s = \\textrm{right}) = 0.7$.\n",
        "2. Calculate the marginal likelihood of the fish being caught,  $P(m = \\textrm{fish})$, if the priors are: $p(s = \\textrm{left}) = 0.6$ and $p(s = \\textrm{right}) = 0.4$.\n",
        "\n",
        "**We don't typically have math exercises in NMA but feel it is important for you to really compute this out yourself. Feel free to use the next cell to write out the math if helpful, or use paper and pen. We recommend doing this exercise individually first and then comparing notes and discussing.**\n"
      ]
    },
    {
      "cell_type": "code",
      "execution_count": 15,
      "metadata": {
        "execution": {},
        "colab": {
          "base_uri": "https://localhost:8080/",
          "height": 53
        },
        "id": "LgwT4YslTQ4B",
        "outputId": "f6ae78eb-279b-4d45-b4d0-d85421745e39"
      },
      "outputs": [
        {
          "output_type": "execute_result",
          "data": {
            "text/plain": [
              "'\\n\\nPriors\\nP(s = left) = 0.3\\nP(s = right) = 0.7\\n\\nLikelihoods\\nP(m = fish | s = left) = 0.1\\nP(m = fish | s = right) = 0.5\\nP(m = no fish | s = left) = 0.9\\nP(m = no fish | s = right) = 0.5\\n\\n1. P(m = fish) = ...\\n\\n2. P(m = fish) = ...\\n\\n'"
            ],
            "application/vnd.google.colaboratory.intrinsic+json": {
              "type": "string"
            }
          },
          "metadata": {},
          "execution_count": 15
        }
      ],
      "source": [
        "\"\"\"\n",
        "\n",
        "Priors\n",
        "P(s = left) = 0.3\n",
        "P(s = right) = 0.7\n",
        "\n",
        "Likelihoods\n",
        "P(m = fish | s = left) = 0.1\n",
        "P(m = fish | s = right) = 0.5\n",
        "P(m = no fish | s = left) = 0.9\n",
        "P(m = no fish | s = right) = 0.5\n",
        "\n",
        "1. P(m = fish) = ...\n",
        "\n",
        "2. P(m = fish) = ...\n",
        "\n",
        "# from the answers:\n",
        "1. The marginal likelihood (evidence) is\n",
        "    P(m = fish) = P(m = fish, s = left) + P(m = fish, s = right)\n",
        "                = P(m = fish | s = left)P(s = left) + P(m = fish | s = right)P(s = right)\n",
        "                = 0.1 * 0.3 + .5 * .7\n",
        "            = 0.38\n",
        "2. The marginal likelihood (evidence) is\n",
        "    P(m = fish) = P(m = fish, s = left) + P(m = fish, s = right)\n",
        "                = P(m = fish | s = left)P(s = left) + P(m = fish | s = right)P(s = right)\n",
        "                = 0.1 * 0.6 + .5 * .4\n",
        "                = 0.26\n",
        "\n",
        "\"\"\""
      ]
    },
    {
      "cell_type": "markdown",
      "metadata": {
        "execution": {},
        "id": "HkZSgup_TQ4B"
      },
      "source": [
        "[*Click for solution*](https://github.com/NeuromatchAcademy/course-content/tree/main//tutorials/W3D1_BayesianDecisions/solutions/W3D1_Tutorial1_Solution_63e04b30.py)\n",
        "\n"
      ]
    },
    {
      "cell_type": "markdown",
      "metadata": {
        "execution": {},
        "id": "uiDMLElfTQ4C"
      },
      "source": [
        "---\n",
        "# Section 5: Bayes' Rule and the Posterior\n",
        "\n",
        "*Estimated timing to here from start of tutorial: 55 min*"
      ]
    },
    {
      "cell_type": "code",
      "execution_count": 16,
      "metadata": {
        "cellView": "form",
        "execution": {},
        "colab": {
          "base_uri": "https://localhost:8080/",
          "height": 581,
          "referenced_widgets": [
            "299cb1206cbe4aaab840e38c1c879c59",
            "ebb8c2de68b846aebf68adf50c72f43b",
            "a5f3edb1049944b0838687ad90efd5aa",
            "69fd79b5a93b4490b5be67e7e51fada2",
            "4822c82c485b4176a036dcaa4e623a44",
            "4675f2ee852d49ca90d2d9b2ca97d4e5"
          ]
        },
        "id": "iXZjgHsWTQ4C",
        "outputId": "eb58659e-61c3-4b15-c49f-076b135b4b6e"
      },
      "outputs": [
        {
          "output_type": "display_data",
          "data": {
            "text/plain": [
              "Tab(children=(Output(), Output()), _titles={'0': 'Youtube', '1': 'Bilibili'})"
            ],
            "application/vnd.jupyter.widget-view+json": {
              "version_major": 2,
              "version_minor": 0,
              "model_id": "299cb1206cbe4aaab840e38c1c879c59"
            }
          },
          "metadata": {}
        }
      ],
      "source": [
        "# @title Video 7: Posterior Beliefs\n",
        "from ipywidgets import widgets\n",
        "\n",
        "out2 = widgets.Output()\n",
        "with out2:\n",
        "  from IPython.display import IFrame\n",
        "  class BiliVideo(IFrame):\n",
        "      def __init__(self, id, page=1, width=400, height=300, **kwargs):\n",
        "          self.id=id\n",
        "          src = 'https://player.bilibili.com/player.html?bvid={0}&page={1}'.format(id, page)\n",
        "          super(BiliVideo, self).__init__(src, width, height, **kwargs)\n",
        "\n",
        "  video = BiliVideo(id=\"BV1fK4y1M7EC\", width=854, height=480, fs=1)\n",
        "  print('Video available at https://www.bilibili.com/video/{0}'.format(video.id))\n",
        "  display(video)\n",
        "\n",
        "out1 = widgets.Output()\n",
        "with out1:\n",
        "  from IPython.display import YouTubeVideo\n",
        "  video = YouTubeVideo(id=\"cOAJQ4utwD0\", width=854, height=480, fs=1, rel=0)\n",
        "  print('Video available at https://youtube.com/watch?v=' + video.id)\n",
        "  display(video)\n",
        "\n",
        "out = widgets.Tab([out1, out2])\n",
        "out.set_title(0, 'Youtube')\n",
        "out.set_title(1, 'Bilibili')\n",
        "\n",
        "display(out)"
      ]
    },
    {
      "cell_type": "markdown",
      "metadata": {
        "execution": {},
        "id": "POqcJsyUTQ4C"
      },
      "source": [
        "Marginalization is going to be used to combine our prior knowledge, which we call the **prior**, and our new information from a measurement, the **likelihood**. Only in this case, the information we gain about the hidden state we are interested in, where the fish are, is based on the relationship between the probabilities of the measurement and our prior. \n",
        "\n",
        "We can now calculate the full posterior distribution for the hidden state ($s$) using Bayes' Rule. As we've seen, the posterior is proportional to the prior times the likelihood. This means that the posterior probability of the hidden state ($s$) given a measurement ($m$) is proportional to the likelihood of the measurement given the state times the prior probability of that state:\n",
        "\n",
        "\\begin{equation}\n",
        "P(s | m) \\propto P(m | s) P(s)\n",
        "\\end{equation}\n",
        "\n",
        "We say proportional to instead of equal because we need to normalize to produce a full probability distribution:\n",
        "\n",
        "\\begin{equation}\n",
        "P(s | m) = \\frac{P(m | s) P(s)}{P(m)}\n",
        "\\end{equation}\n",
        "\n",
        "Normalizing by this $P(m)$ means that our posterior is a complete probability distribution that sums or integrates to 1 appropriately. We now can use this new, complete probability distribution for any future inference or decisions we like! In fact, as we will see tomorrow, we can use it as a new prior! Finally, we often call this probability distribution our beliefs over the hidden states, to emphasize that it is our subjective knowledge about the hidden state.\n",
        "\n",
        "For many complicated cases, like those we might be using to model behavioral or brain inferences, the normalization term can be intractable or extremely complex to calculate. We can be careful to choose probability distributions whfere we can analytically calculate the posterior probability or numerical approximation is reliable. Better yet, we sometimes don't need to bother with this normalization! The normalization term, $P(m)$, is the probability of the measurement. This does not depend on state so is essentially a constant we can often ignore. We can compare the unnormalized posterior distribution values for different states because how they relate to each other is unchanged when divided by the same constant. We will see how to do this to compare evidence for different hypotheses tomorrow. (It's also used to compare the likelihood of models fit using maximum likelihood estimation)\n",
        "\n",
        "In this relatively simple example, we can compute the marginal likelihood $P(m)$ easily by using:\n",
        "\n",
        "\\begin{equation}\n",
        "P(m) = \\sum_s P(m | s) P(s)\n",
        "\\end{equation}\n",
        "\n",
        "We can then normalize so that we deal with the full posterior distribution."
      ]
    },
    {
      "cell_type": "markdown",
      "metadata": {
        "execution": {},
        "id": "QoUUf8qiTQ4C"
      },
      "source": [
        "## Math Exercise 5: Calculating a posterior probability\n",
        "\n",
        "Our prior is $p(s = \\textrm{left}) = 0.3$ and $p(s = \\textrm{right}) = 0.7$. In the video, we learned that the chance of catching a fish given they fish on the same side as the school was 50%. Otherwise, it was 10%. We observe a person fishing on the left side. Our likelihood is: \n",
        "\n",
        "\n",
        "| Likelihood: p(m \\| s) | m = fish   | m = no fish  |\n",
        "| ----------------- |----------|----------|\n",
        "| s = left          | 0.5          | 0.5         |\n",
        "| s = right         | 0.1        |  0.9       |\n",
        "\n",
        "\n",
        "Calculate the posterior probability (on paper) that:\n",
        "\n",
        "1. The school is on the left if the fisher-person catches a fish: $p(s = \\textrm{left} | m = \\textrm{fish})$ (hint: normalize by computing $p(m = \\textrm{fish})$)\n",
        "2. The school is on the right if the fisher-person does not catch a fish: $p(s = \\textrm{right} | m = \\textrm{no fish})$\n",
        "\n",
        "**We don't typically have math exercises in NMA but feel it is important for you to really compute this out yourself. Feel free to use the next cell to write out the math if helpful, or use paper and pen. We recommend doing this exercise individually first and then comparing notes and discussing.**"
      ]
    },
    {
      "cell_type": "code",
      "execution_count": 17,
      "metadata": {
        "execution": {},
        "colab": {
          "base_uri": "https://localhost:8080/",
          "height": 53
        },
        "id": "1WaBm2yeTQ4C",
        "outputId": "248f4735-c576-488e-9ed0-24e76715673e"
      },
      "outputs": [
        {
          "output_type": "execute_result",
          "data": {
            "text/plain": [
              "'\\nPriors\\np(s = left) = 0.3\\np(s = right) = 0.7\\n\\nLikelihoods\\nP(m = fish | s = left) = 0.5\\nP(m = fish | s = right) = 0.1\\nP(m = no fish | s = left) = 0.5\\nP(m = no fish | s = right) = 0.9\\n\\n1. p( s = left | m = fish) = ...\\n\\n2. p( s = right | m = no fish ) = ...\\n\\n'"
            ],
            "application/vnd.google.colaboratory.intrinsic+json": {
              "type": "string"
            }
          },
          "metadata": {},
          "execution_count": 17
        }
      ],
      "source": [
        "\"\"\"\n",
        "Priors\n",
        "p(s = left) = 0.3\n",
        "p(s = right) = 0.7\n",
        "\n",
        "Likelihoods\n",
        "P(m = fish | s = left) = 0.5\n",
        "P(m = fish | s = right) = 0.1\n",
        "P(m = no fish | s = left) = 0.5\n",
        "P(m = no fish | s = right) = 0.9\n",
        "\n",
        "From Baye's Rule:\n",
        "P(s = left | m = fish) = P(m = fish | s = left)P(s = left) / P(m = fish)\n",
        "\n",
        "1. p( s = left | m = fish) = P(m = fish | s = left)P(s = left) / P(m = fish) = 0.5 * 0.3 / P(m = fish)\n",
        "\n",
        "# marginal likelihood?\n",
        "P(m = fish) =  P(m = fish | s = left)P(s = left) +  P(m = fish | s = right)P(s = right)\n",
        "               = 0.5 * 0.3 + .1 * .7\n",
        "               = 0.22\n",
        "\n",
        "0.5 * 0.3 / 0.22 ~= 0.68\n",
        "\n",
        "2. p( s = right | m = no fish ) = P(m = no fish | s = right)P(s = right) / P(m = no fish)\n",
        "denominator = 1 - 0.22 = 0.78\n",
        "\n",
        "0.9 * 0.7 / 0.78\n",
        "\n",
        "\"\"\""
      ]
    },
    {
      "cell_type": "markdown",
      "metadata": {
        "execution": {},
        "id": "7lKkGrAoTQ4D"
      },
      "source": [
        "[*Click for solution*](https://github.com/NeuromatchAcademy/course-content/tree/main//tutorials/W3D1_BayesianDecisions/solutions/W3D1_Tutorial1_Solution_ef5710ed.py)\n",
        "\n"
      ]
    },
    {
      "cell_type": "markdown",
      "metadata": {
        "execution": {},
        "id": "slVC3gy_TQ4D"
      },
      "source": [
        "## Coding Exercise 5: Computing Posteriors\n",
        "\n",
        "Let's implement our above math to be able to compute posteriors for different priors and likelihoods.\n",
        "\n",
        "As before, our prior is $p(s = \\textrm{left}) = 0.3$ and $p(s = \\textrm{right}) = 0.7$. In the video, we learned that the chance of catching a fish given they fish on the same side as the school was 50%. Otherwise, it was 10%. We observe a person fishing on the left side. Our likelihood is: \n",
        "\n",
        "\n",
        "| Likelihood: p(m \\| s) | m = fish   | m = no fish  |\n",
        "| ----------------- |----------|----------|\n",
        "| s = left          | 0.5          | 0.5         |\n",
        "| s = right         | 0.1        |  0.9       |\n",
        "\n",
        "\n",
        "We want our full posterior to take the same 2 by 2 form. Make sure the outputs match your math answers!\n",
        "\n"
      ]
    },
    {
      "cell_type": "code",
      "execution_count": 21,
      "metadata": {
        "execution": {},
        "colab": {
          "base_uri": "https://localhost:8080/",
          "height": 362
        },
        "id": "qEfwg01DTQ4D",
        "outputId": "ad4f609e-4094-42b3-aaf9-aac49f0404ee"
      },
      "outputs": [
        {
          "output_type": "display_data",
          "data": {
            "text/plain": [
              "<Figure size 864x288 with 3 Axes>"
            ],
            "image/png": "[encoded data removed]"
          },
          "metadata": {
            "image/png": {
              "width": 834,
              "height": 345
            },
            "needs_background": "light"
          }
        }
      ],
      "source": [
        "def compute_posterior(likelihood, prior):\n",
        "  \"\"\" Use Bayes' Rule to compute posterior from likelihood and prior\n",
        "\n",
        "  Args:\n",
        "    likelihood (ndarray): i x j array with likelihood probabilities where i is\n",
        "                    number of state options, j is number of measurement options\n",
        "    prior (ndarray): i x 1 array with prior probability of each state\n",
        "\n",
        "  Returns:\n",
        "    ndarray: i x j array with posterior probabilities where i is\n",
        "            number of state options, j is number of measurement options\n",
        "\n",
        "  \"\"\"\n",
        "\n",
        "  #################################################\n",
        "  ## TODO for students ##\n",
        "  # Fill out function and remove\n",
        "  # raise NotImplementedError(\"Student exercise: implement compute_posterior\")\n",
        "  #################################################\n",
        "\n",
        "  # Compute unnormalized posterior (likelihood times prior)\n",
        "  posterior = likelihood * prior\n",
        "\n",
        "  # Compute p(m)\n",
        "  p_m = np.sum(posterior, axis = 0)\n",
        "\n",
        "  # Normalize posterior (divide elements by p_m)\n",
        "  posterior /= p_m\n",
        "\n",
        "  return posterior\n",
        "\n",
        "\n",
        "# Make prior\n",
        "prior = np.array([0.3, 0.7]).reshape((2, 1)) # first row is s = left, second row is s = right\n",
        "\n",
        "# Make likelihood\n",
        "likelihood = np.array([[0.5, 0.5], [0.1, 0.9]]) # first row is s = left, second row is s = right\n",
        "\n",
        "# Compute posterior\n",
        "posterior = compute_posterior(likelihood, prior)\n",
        "\n",
        "# Visualize\n",
        "plot_prior_likelihood_posterior(prior, likelihood, posterior)"
      ]
    },
    {
      "cell_type": "markdown",
      "metadata": {
        "execution": {},
        "id": "OyCSTQ_MTQ4E"
      },
      "source": [
        "[*Click for solution*](https://github.com/NeuromatchAcademy/course-content/tree/main//tutorials/W3D1_BayesianDecisions/solutions/W3D1_Tutorial1_Solution_1a2cc907.py)\n",
        "\n",
        "*Example output:*\n",
        "\n",
        "<img alt='Solution hint' align='left' width=1665.0 height=674.0 src=https://raw.githubusercontent.com/NeuromatchAcademy/course-content/main/tutorials/W3D1_BayesianDecisions/static/W3D1_Tutorial1_Solution_1a2cc907_0.png>\n",
        "\n"
      ]
    },
    {
      "cell_type": "markdown",
      "metadata": {
        "execution": {},
        "id": "H-l2FdOjTQ4E"
      },
      "source": [
        "## Interactive Demo 5: What affects the posterior?\n",
        "\n",
        "Now that we can understand the implementation of *Bayes rule*, let's vary the parameters of the prior and likelihood to see how changing the prior and likelihood affect the posterior. \n",
        "\n",
        "In the demo below, you can change the prior by playing with the slider for $p( s = left)$. You can also change the likelihood by changing the probability of catching a fish given that the school is on the left and the probability of catching a fish given that the school is on the right. The fisher-person you are observing is fishing on the left.\n",
        " \n",
        "\n",
        "1.   Keeping the likelihood constant, when does the prior have the strongest influence over the posterior? Meaning, when does the posterior look most like the prior no matter whether a fish was caught or not?\n",
        "2.   What happens if the likelihoods for catching a fish are similar when you fish on the correct or incorrect side?\n",
        "3.  Set the prior probability of the state = left to 0.6 and play with the likelihood. When does the likelihood exert the most influence over the posterior?"
      ]
    },
    {
      "cell_type": "code",
      "execution_count": 22,
      "metadata": {
        "cellView": "form",
        "execution": {},
        "colab": {
          "base_uri": "https://localhost:8080/",
          "height": 459,
          "referenced_widgets": [
            "46e63b6260444c46afe77376b08940d1",
            "10b1145b58bb410bb97ad6e1dc1e92fa",
            "8511b5db8d8247bfb6b741b5c0b29c5f",
            "d67e2eb79d5a461b9b2ab6cf59af6542",
            "32728964850644acb8c19b9b1ce819c7",
            "3a1ffaef7e954e918cfcb1904b946bc9",
            "273358c101c349269ffea5c70b7e695e",
            "a0380eeff9ba4330a9fad0fe67a2822f",
            "e5d4534fef1c45479e9c0857f25ccf5d",
            "31bd538329604d3a9b8e90f53925ed67",
            "d41bfa2353c14de788de7012e3b2d46c",
            "8346c2807844497cad92654b6640cd08",
            "8818809d2cf24c1797219fdf89a534d1",
            "f02045534f934145af5c838c541542dc",
            "ffd97ff2610f49419d98d29458565243",
            "7ac9b741c72f4d7b9b7f582158bd7aff",
            "38907b6bc56e49e8940ca4a345b868e8",
            "f7d1976d3c514cf3adf254e05febb717"
          ]
        },
        "id": "CuHWSaVlTQ4E",
        "outputId": "bc5f9975-d1e9-422c-e9ac-0d264b0be3b9"
      },
      "outputs": [
        {
          "output_type": "display_data",
          "data": {
            "text/plain": [
              "VBox(children=(FloatSlider(value=0.3, description='p(s = left)', max=0.99, min=0.01, step=0.01), HBox(children…"
            ],
            "application/vnd.jupyter.widget-view+json": {
              "version_major": 2,
              "version_minor": 0,
              "model_id": "46e63b6260444c46afe77376b08940d1"
            }
          },
          "metadata": {}
        },
        {
          "output_type": "display_data",
          "data": {
            "text/plain": [
              "Output()"
            ],
            "application/vnd.jupyter.widget-view+json": {
              "version_major": 2,
              "version_minor": 0,
              "model_id": "38907b6bc56e49e8940ca4a345b868e8"
            }
          },
          "metadata": {}
        }
      ],
      "source": [
        "# @markdown Execute this cell to enable the widget\n",
        "# style = {'description_width': 'initial'}\n",
        "ps_widget = widgets.FloatSlider(0.3, description='p(s = left)',\n",
        "                                min=0.01, max=0.99, step=0.01)\n",
        "p_a_s1_widget = widgets.FloatSlider(0.5, description='p(fish on left | state = left)',\n",
        "                                    min=0.01, max=0.99, step=0.01, style=style, layout=Layout(width='370px'))\n",
        "p_a_s0_widget = widgets.FloatSlider(0.1, description='p(fish on left | state = right)',\n",
        "                                    min=0.01, max=0.99, step=0.01, style=style, layout=Layout(width='370px'))\n",
        "# observed_widget = widgets.Checkbox(value=False, description='Observed fish (m)',\n",
        "#                                  disabled=False, indent=False,\n",
        "#                                  layout=Layout(display=\"flex\", justify_content=\"center\"))\n",
        "\n",
        "observed_widget = ToggleButtons(options=['Fish', 'No Fish'],\n",
        "    description='Observation (m) on the left:', disabled=False, button_style='',\n",
        "    layout=Layout(width='auto', display=\"flex\"),\n",
        "    style={'description_width': 'initial'}\n",
        ")\n",
        "\n",
        "widget_ui = VBox([ps_widget,\n",
        "                  HBox([p_a_s1_widget, p_a_s0_widget]),\n",
        "                  observed_widget])\n",
        "widget_out = interactive_output(plot_prior_likelihood,\n",
        "                                {'ps': ps_widget,\n",
        "                                'p_a_s1': p_a_s1_widget,\n",
        "                                'p_a_s0': p_a_s0_widget,\n",
        "                                'measurement': observed_widget})\n",
        "display(widget_ui, widget_out)\n",
        "\n",
        "# @widgets.interact(\n",
        "#     ps=ps_widget,\n",
        "#     p_a_s1=p_a_s1_widget,\n",
        "#     p_a_s0=p_a_s0_widget,\n",
        "#     m_right=observed_widget\n",
        "# )\n",
        "# def make_prior_likelihood_plot(ps,p_a_s1,p_a_s0,m_right):\n",
        "#     fig = plot_prior_likelihood(ps,p_a_s1,p_a_s0,m_right)\n",
        "#     plt.show(fig)\n",
        "#     plt.close(fig)\n",
        "#     return None"
      ]
    },
    {
      "cell_type": "markdown",
      "metadata": {
        "execution": {},
        "id": "TzYqMQW0TQ4F"
      },
      "source": [
        "[*Click for solution*](https://github.com/NeuromatchAcademy/course-content/tree/main//tutorials/W3D1_BayesianDecisions/solutions/W3D1_Tutorial1_Solution_122410a7.py)\n",
        "\n"
      ]
    },
    {
      "cell_type": "code",
      "execution_count": 23,
      "metadata": {
        "cellView": "form",
        "execution": {},
        "colab": {
          "base_uri": "https://localhost:8080/",
          "height": 581,
          "referenced_widgets": [
            "373fe23a797045f48e61cc97e7a5a4b3",
            "a6f3eb0dcee64480864ca4363d8f3316",
            "4c468e2a26634977a0edb30a5630b5b7",
            "ba11aab522264804bf3d997eb9dbfe82",
            "95378d945f2f4f2fac8eee4940df5689",
            "aea3552faf0f43988b3b190ce47d93eb"
          ]
        },
        "id": "YTTenclbTQ4F",
        "outputId": "c02ca97f-df61-4873-a250-a84401029a0d"
      },
      "outputs": [
        {
          "output_type": "display_data",
          "data": {
            "text/plain": [
              "Tab(children=(Output(), Output()), _titles={'0': 'Youtube', '1': 'Bilibili'})"
            ],
            "application/vnd.jupyter.widget-view+json": {
              "version_major": 2,
              "version_minor": 0,
              "model_id": "373fe23a797045f48e61cc97e7a5a4b3"
            }
          },
          "metadata": {}
        }
      ],
      "source": [
        "# @title Video 8: Posterior Beliefs Exercises Discussion\n",
        "from ipywidgets import widgets\n",
        "\n",
        "out2 = widgets.Output()\n",
        "with out2:\n",
        "  from IPython.display import IFrame\n",
        "  class BiliVideo(IFrame):\n",
        "      def __init__(self, id, page=1, width=400, height=300, **kwargs):\n",
        "          self.id=id\n",
        "          src = 'https://player.bilibili.com/player.html?bvid={0}&page={1}'.format(id, page)\n",
        "          super(BiliVideo, self).__init__(src, width, height, **kwargs)\n",
        "\n",
        "  video = BiliVideo(id=\"BV1TU4y1G7SM\", width=854, height=480, fs=1)\n",
        "  print('Video available at https://www.bilibili.com/video/{0}'.format(video.id))\n",
        "  display(video)\n",
        "\n",
        "out1 = widgets.Output()\n",
        "with out1:\n",
        "  from IPython.display import YouTubeVideo\n",
        "  video = YouTubeVideo(id=\"YPQgLVolvBs\", width=854, height=480, fs=1, rel=0)\n",
        "  print('Video available at https://youtube.com/watch?v=' + video.id)\n",
        "  display(video)\n",
        "\n",
        "out = widgets.Tab([out1, out2])\n",
        "out.set_title(0, 'Youtube')\n",
        "out.set_title(1, 'Bilibili')\n",
        "\n",
        "display(out)"
      ]
    },
    {
      "cell_type": "markdown",
      "metadata": {
        "execution": {},
        "id": "e9C21WjRTQ4F"
      },
      "source": [
        "# Section 6: Making Bayesian fishing decisions\n",
        "\n",
        "*Estimated timing to here from start of tutorial: 1 hr, 15 min*"
      ]
    },
    {
      "cell_type": "code",
      "execution_count": 24,
      "metadata": {
        "cellView": "form",
        "execution": {},
        "colab": {
          "base_uri": "https://localhost:8080/",
          "height": 581,
          "referenced_widgets": [
            "44d2dddcd69b4ac28cc147a8a38da607",
            "786aa12718be4b61b9430b1d6161b05b",
            "8f2a45642b2a47baa68d3acd1204bad2",
            "bd0b31c9d89046cba3926072f9df2fe3",
            "e1464c55d5c34485bb0ff9cf5327ee12",
            "3044fe4c0b5547218b6d1463b8c00d9b"
          ]
        },
        "id": "f8iITZenTQ4F",
        "outputId": "c84b59d9-0ffa-429d-c514-0560a4d6743c"
      },
      "outputs": [
        {
          "output_type": "display_data",
          "data": {
            "text/plain": [
              "Tab(children=(Output(), Output()), _titles={'0': 'Youtube', '1': 'Bilibili'})"
            ],
            "application/vnd.jupyter.widget-view+json": {
              "version_major": 2,
              "version_minor": 0,
              "model_id": "44d2dddcd69b4ac28cc147a8a38da607"
            }
          },
          "metadata": {}
        }
      ],
      "source": [
        "# @title Video 9: Bayesian Decisions\n",
        "from ipywidgets import widgets\n",
        "\n",
        "out2 = widgets.Output()\n",
        "with out2:\n",
        "  from IPython.display import IFrame\n",
        "  class BiliVideo(IFrame):\n",
        "      def __init__(self, id, page=1, width=400, height=300, **kwargs):\n",
        "          self.id=id\n",
        "          src = 'https://player.bilibili.com/player.html?bvid={0}&page={1}'.format(id, page)\n",
        "          super(BiliVideo, self).__init__(src, width, height, **kwargs)\n",
        "\n",
        "  video = BiliVideo(id=\"BV1954y1n7uH\", width=854, height=480, fs=1)\n",
        "  print('Video available at https://www.bilibili.com/video/{0}'.format(video.id))\n",
        "  display(video)\n",
        "\n",
        "out1 = widgets.Output()\n",
        "with out1:\n",
        "  from IPython.display import YouTubeVideo\n",
        "  video = YouTubeVideo(id=\"tz9zsmTHR68\", width=854, height=480, fs=1, rel=0)\n",
        "  print('Video available at https://youtube.com/watch?v=' + video.id)\n",
        "  display(video)\n",
        "\n",
        "out = widgets.Tab([out1, out2])\n",
        "out.set_title(0, 'Youtube')\n",
        "out.set_title(1, 'Bilibili')\n",
        "\n",
        "display(out)"
      ]
    },
    {
      "cell_type": "markdown",
      "metadata": {
        "execution": {},
        "id": "17YY21U5TQ4G"
      },
      "source": [
        "\n",
        "We will explore how to consider the expected utility of an action based on our belief (the posterior distribution) about where we think the fish are. Now we have all the components of a Bayesian decision: our prior information, the likelihood given a measurement, the posterior distribution (belief) and our utility (the gains and losses). This allows us to consider the relationship between the true value of the hidden state, $s$, and what we *expect* to get if we take action, $a$, based on our belief!\n",
        "\n",
        "Let's use the following widget to think about the relationship between these probability distributions and utility function."
      ]
    },
    {
      "cell_type": "markdown",
      "metadata": {
        "execution": {},
        "id": "z6mkeHpJTQ4G"
      },
      "source": [
        "## Interactive Demo! 6: What is more important, the probabilities or the utilities?\n",
        "\n",
        "We are now going to put everything we've learned together to gain some intuitions for how each of the elements that goes into a Bayesian decision comes together. Remember, the common assumption in neuroscience, psychology, economics, ecology, etc. is that we (humans and animals) are trying to maximize our expected utility. There is a lot going on in this demo as it brings everything in this tutorial together in one place - please spend time making sure you understand the controls and the plots, especially how everything relates together.\n",
        "\n",
        "1. Can you find a situation where the expected utility is the same for both actions?\n",
        "2. What is more important for determining the expected utility: the prior or a new measurement (the likelihood)?\n",
        "3. Why is this a normative model?\n",
        "4. Can you think of ways in which this model would need to be extended to describe human or animal behavior?"
      ]
    },
    {
      "cell_type": "code",
      "execution_count": 25,
      "metadata": {
        "cellView": "form",
        "execution": {},
        "colab": {
          "base_uri": "https://localhost:8080/",
          "height": 663,
          "referenced_widgets": [
            "d1c1eac261f940f49cc36959e0306ef1",
            "345d9802d15145ec9d38ad28674d3bb8",
            "8b93c31fa4b243a6b0c2dd024ecf34a6",
            "3017ed480fd64a0390e752bcb73eb2f6",
            "12ebfc6d03b1422989ec90a9d54f3351",
            "285cebe0ef624d5f93deee7f630d2cc5",
            "9414fc8b15cf440a8864432aec31c4f0",
            "a83fa15df8654a988252ba6a38737b8e",
            "47ee373a0d7142a88c37d8565374ce84",
            "4466e47a179c40cba13835754b011489",
            "fa7de7059cec4378be0e28f5c6669c09",
            "38a2d8032e0b43ae92bbb547b364edc0",
            "3449ecca9f5c44e580e4a207325f4bde",
            "1bfd7614a5d149dabc3675361bf4c603",
            "52446f15cc9e43c29a2f8b9dd3175592",
            "a3c7a58e2be749c39b689c21b1c2c147",
            "b8a5ff7f44d7437bb952903953d423de",
            "9b01bc8750fe4112afa0be82df88c886"
          ]
        },
        "id": "BfK8SbMxTQ4G",
        "outputId": "03a9fefb-e769-4f95-d58c-dffde4ba2087"
      },
      "outputs": [
        {
          "output_type": "display_data",
          "data": {
            "text/plain": [
              "VBox(children=(FloatSlider(value=0.3, description='p(s = left)', layout=Layout(width='300px'), max=0.99, min=0…"
            ],
            "application/vnd.jupyter.widget-view+json": {
              "version_major": 2,
              "version_minor": 0,
              "model_id": "d1c1eac261f940f49cc36959e0306ef1"
            }
          },
          "metadata": {}
        },
        {
          "output_type": "display_data",
          "data": {
            "text/plain": [
              "Output()"
            ],
            "application/vnd.jupyter.widget-view+json": {
              "version_major": 2,
              "version_minor": 0,
              "model_id": "b8a5ff7f44d7437bb952903953d423de"
            }
          },
          "metadata": {}
        }
      ],
      "source": [
        "# @markdown Execute this cell to enable the widget\n",
        "# style = {'description_width': 'initial'}\n",
        "\n",
        "ps_widget = widgets.FloatSlider(0.3, description='p(s = left)',\n",
        "                                min=0.01, max=0.99, step=0.01, layout=Layout(width='300px'))\n",
        "p_a_s1_widget = widgets.FloatSlider(0.5, description='p(fish on left | state = left)',\n",
        "                                    min=0.01, max=0.99, step=0.01, style=style, layout=Layout(width='370px'))\n",
        "p_a_s0_widget = widgets.FloatSlider(0.1, description='p(fish on left | state = right)',\n",
        "                                    min=0.01, max=0.99, step=0.01, style=style, layout=Layout(width='370px'))\n",
        "\n",
        "observed_widget = ToggleButtons(options=['Fish', 'No Fish'],\n",
        "    description='Observation (m) on the left:', disabled=False, button_style='',\n",
        "    layout=Layout(width='auto', display=\"flex\"),\n",
        "    style={'description_width': 'initial'}\n",
        ")\n",
        "\n",
        "widget_ui = VBox([ps_widget,\n",
        "                  HBox([p_a_s1_widget, p_a_s0_widget]),\n",
        "                  observed_widget])\n",
        "\n",
        "widget_out = interactive_output(plot_prior_likelihood_utility,\n",
        "                                {'ps': ps_widget,\n",
        "                                'p_a_s1': p_a_s1_widget,\n",
        "                                'p_a_s0': p_a_s0_widget,\n",
        "                                'measurement': observed_widget})\n",
        "display(widget_ui, widget_out)\n",
        "\n",
        "# @widgets.interact(\n",
        "#     ps=ps_widget,\n",
        "#     p_a_s1=p_a_s1_widget,\n",
        "#     p_a_s0=p_a_s0_widget,\n",
        "#     m_right=observed_widget\n",
        "# )\n",
        "# def make_prior_likelihood_utility_plot(ps, p_a_s1, p_a_s0,m_right):\n",
        "#     fig = plot_prior_likelihood_utility(ps, p_a_s1, p_a_s0,m_right)\n",
        "#     plt.show(fig)\n",
        "#     plt.close(fig)\n",
        "#     return None"
      ]
    },
    {
      "cell_type": "markdown",
      "metadata": {
        "execution": {},
        "id": "ni3SagIGTQ4G"
      },
      "source": [
        "[*Click for solution*](https://github.com/NeuromatchAcademy/course-content/tree/main//tutorials/W3D1_BayesianDecisions/solutions/W3D1_Tutorial1_Solution_fb91b9f9.py)\n",
        "\n"
      ]
    },
    {
      "cell_type": "code",
      "execution_count": 26,
      "metadata": {
        "cellView": "form",
        "execution": {},
        "colab": {
          "base_uri": "https://localhost:8080/",
          "height": 581,
          "referenced_widgets": [
            "1994755617ce46c381d03c10268b1293",
            "4d305a32beee4c4f91504f5898a1573c",
            "50f1723ce4224f62a56a688a00608d11",
            "d452f11291934ae48aa6ca9cf42021a5",
            "5fd3fcd6239247d89bff6b1365ca8253",
            "3f144c8849ea464e8943cb4c1d21827e"
          ]
        },
        "id": "iPzbpNszTQ4H",
        "outputId": "282bbd30-44a8-4c4d-fb9e-331c5da11e3b"
      },
      "outputs": [
        {
          "output_type": "display_data",
          "data": {
            "text/plain": [
              "Tab(children=(Output(), Output()), _titles={'0': 'Youtube', '1': 'Bilibili'})"
            ],
            "application/vnd.jupyter.widget-view+json": {
              "version_major": 2,
              "version_minor": 0,
              "model_id": "1994755617ce46c381d03c10268b1293"
            }
          },
          "metadata": {}
        }
      ],
      "source": [
        "# @title Video 10: Bayesian Decisions Demo Discussion\n",
        "from ipywidgets import widgets\n",
        "\n",
        "out2 = widgets.Output()\n",
        "with out2:\n",
        "  from IPython.display import IFrame\n",
        "  class BiliVideo(IFrame):\n",
        "      def __init__(self, id, page=1, width=400, height=300, **kwargs):\n",
        "          self.id=id\n",
        "          src = 'https://player.bilibili.com/player.html?bvid={0}&page={1}'.format(id, page)\n",
        "          super(BiliVideo, self).__init__(src, width, height, **kwargs)\n",
        "\n",
        "  video = BiliVideo(id=\"BV1QU4y137BS\", width=854, height=480, fs=1)\n",
        "  print('Video available at https://www.bilibili.com/video/{0}'.format(video.id))\n",
        "  display(video)\n",
        "\n",
        "out1 = widgets.Output()\n",
        "with out1:\n",
        "  from IPython.display import YouTubeVideo\n",
        "  video = YouTubeVideo(id=\"h9L0EYmUpHs\", width=854, height=480, fs=1, rel=0)\n",
        "  print('Video available at https://youtube.com/watch?v=' + video.id)\n",
        "  display(video)\n",
        "\n",
        "out = widgets.Tab([out1, out2])\n",
        "out.set_title(0, 'Youtube')\n",
        "out.set_title(1, 'Bilibili')\n",
        "\n",
        "display(out)"
      ]
    },
    {
      "cell_type": "markdown",
      "metadata": {
        "execution": {},
        "id": "L8kiimoATQ4H"
      },
      "source": [
        "---\n",
        "# Summary\n",
        "\n",
        "*Estimated timing of tutorial: 1 hour, 30 minutes*\n",
        "\n",
        "In this tutorial, you learned about combining prior information with new measurements to update your knowledge using Bayes Rule, in the context of a fishing problem. \n",
        "\n",
        "Specifically, we covered:\n",
        "\n",
        "* That the likelihood is the probability of the measurement given some hidden state\n",
        "\n",
        "* That how the prior and likelihood interact to create the posterior, the probability of the hidden state given a measurement, depends on how they covary\n",
        "\n",
        "* That utility is the gain from each action and state pair, and the expected utility for an action is the sum of the utility for all state pairs, weighted by the probability of that state happening. You can then choose the action with the highest expected utility.\n"
      ]
    },
    {
      "cell_type": "markdown",
      "metadata": {
        "execution": {},
        "id": "PAc_knRuTQ4H"
      },
      "source": [
        "---\n",
        "# Bonus"
      ]
    },
    {
      "cell_type": "markdown",
      "metadata": {
        "execution": {},
        "id": "rviL8O7MTQ4H"
      },
      "source": [
        "## Bonus Section 1: Correlation Formula\n",
        "\n",
        "To understand the way we calculate the correlation, we need to review the definition of covariance and correlation.\n",
        "\n",
        "Covariance:\n",
        "\n",
        "\\begin{equation}\n",
        "cov(X,Y) = \\sigma_{XY} = \\mathbb{E}[(X - \\mu_{x})(Y - \\mu_{y})] = \\mathbb{E}[X]\\mathbb{E}[Y] - \\mu_{x}\\mu_{y}\n",
        "\\end{equation}\n",
        "\n",
        "Correlation:\n",
        "\n",
        "\\begin{equation}\n",
        "\\rho_{XY} = \\frac{cov(Y,Y)}{\\sqrt{\\text{var}(X)\\text{var}(Y)}} = \\frac{\\sigma_{XY}}{\\sigma_{X}\\sigma_{Y}}\n",
        "\\end{equation}"
      ]
    }
  ],
  "metadata": {
    "colab": {
      "collapsed_sections": [
        "jWmfLbhzBpfz"
      ],
      "name": "W3D1_Tutorial1",
      "provenance": [],
      "toc_visible": true,
      "include_colab_link": true
    },
    "interpreter": {
      "hash": "3e19903e646247cead5404f55ff575624523d45cf244c3f93aaf5fa10367032a"
    },
    "kernel": {
      "display_name": "Python 3",
      "language": "python",
      "name": "python3"
    },
    "kernelspec": {
      "display_name": "Python 3.7.10 64-bit ('nma': conda)",
      "name": "python3"
    },
    "language_info": {
      "codemirror_mode": {
        "name": "ipython",
        "version": 3
      },
      "file_extension": ".py",
      "mimetype": "text/x-python",
      "name": "python",
      "nbconvert_exporter": "python",
      "pygments_lexer": "ipython3",
      "version": "3.7.13"
    },
    "widgets": {
      "application/vnd.jupyter.widget-state+json": {
        "e4e70fe080444e49ae06c518ac15eabf": {
          "model_module": "@jupyter-widgets/controls",
          "model_name": "TabModel",
          "model_module_version": "1.5.0",
          "state": {
            "_dom_classes": [],
            "_model_module": "@jupyter-widgets/controls",
            "_model_module_version": "1.5.0",
            "_model_name": "TabModel",
            "_titles": {
              "0": "Youtube",
              "1": "Bilibili"
            },
            "_view_count": null,
            "_view_module": "@jupyter-widgets/controls",
            "_view_module_version": "1.5.0",
            "_view_name": "TabView",
            "box_style": "",
            "children": [
              "IPY_MODEL_b547af1dc03f40e89c07ea9c8d800e3e",
              "IPY_MODEL_d2e03554a0b54e608c476bb05079a26d"
            ],
            "layout": "IPY_MODEL_2c297918bd154729a4fbe77e29a457f0",
            "selected_index": 0
          }
        },
        "b547af1dc03f40e89c07ea9c8d800e3e": {
          "model_module": "@jupyter-widgets/output",
          "model_name": "OutputModel",
          "model_module_version": "1.0.0",
          "state": {
            "_dom_classes": [],
            "_model_module": "@jupyter-widgets/output",
            "_model_module_version": "1.0.0",
            "_model_name": "OutputModel",
            "_view_count": null,
            "_view_module": "@jupyter-widgets/output",
            "_view_module_version": "1.0.0",
            "_view_name": "OutputView",
            "layout": "IPY_MODEL_93d2a6b4dee94c0fa463a22b97a418fa",
            "msg_id": "",
            "outputs": [
              {
                "output_type": "stream",
                "name": "stdout",
                "text": [
                  "Video available at https://youtube.com/watch?v=Hcx2_JTpf2M\n"
                ]
              },
              {
                "output_type": "display_data",
                "data": {
                  "text/plain": "<IPython.lib.display.YouTubeVideo at 0x7fc5c4ab6b10>",
                  "text/html": "\n        <iframe\n            width=\"854\"\n            height=\"480\"\n            src=\"https://www.youtube.com/embed/Hcx2_JTpf2M?fs=1&rel=0\"\n            frameborder=\"0\"\n            allowfullscreen\n        ></iframe>\n        ",
                  "image/jpeg": "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\n"
                },
                "metadata": {}
              }
            ]
          }
        },
        "d2e03554a0b54e608c476bb05079a26d": {
          "model_module": "@jupyter-widgets/output",
          "model_name": "OutputModel",
          "model_module_version": "1.0.0",
          "state": {
            "_dom_classes": [],
            "_model_module": "@jupyter-widgets/output",
            "_model_module_version": "1.0.0",
            "_model_name": "OutputModel",
            "_view_count": null,
            "_view_module": "@jupyter-widgets/output",
            "_view_module_version": "1.0.0",
            "_view_name": "OutputView",
            "layout": "IPY_MODEL_c2d385277f2d40098ce5a8faaf2f5ccc",
            "msg_id": "",
            "outputs": [
              {
                "output_type": "stream",
                "name": "stdout",
                "text": [
                  "Video available at https://www.bilibili.com/video/BV1Ch41167jN\n"
                ]
              },
              {
                "output_type": "display_data",
                "data": {
                  "text/plain": "<__main__.BiliVideo at 0x7fc5c4a93d90>",
                  "text/html": "\n        <iframe\n            width=\"854\"\n            height=\"480\"\n            src=\"https://player.bilibili.com/player.html?bvid=BV1Ch41167jN&page=1?fs=1\"\n            frameborder=\"0\"\n            allowfullscreen\n        ></iframe>\n        "
                },
                "metadata": {}
              }
            ]
          }
        },
        "2c297918bd154729a4fbe77e29a457f0": {
          "model_module": "@jupyter-widgets/base",
          "model_name": "LayoutModel",
          "model_module_version": "1.2.0",
          "state": {
            "_model_module": "@jupyter-widgets/base",
            "_model_module_version": "1.2.0",
            "_model_name": "LayoutModel",
            "_view_count": null,
            "_view_module": "@jupyter-widgets/base",
            "_view_module_version": "1.2.0",
            "_view_name": "LayoutView",
            "align_content": null,
            "align_items": null,
            "align_self": null,
            "border": null,
            "bottom": null,
            "display": null,
            "flex": null,
            "flex_flow": null,
            "grid_area": null,
            "grid_auto_columns": null,
            "grid_auto_flow": null,
            "grid_auto_rows": null,
            "grid_column": null,
            "grid_gap": null,
            "grid_row": null,
            "grid_template_areas": null,
            "grid_template_columns": null,
            "grid_template_rows": null,
            "height": null,
            "justify_content": null,
            "justify_items": null,
            "left": null,
            "margin": null,
            "max_height": null,
            "max_width": null,
            "min_height": null,
            "min_width": null,
            "object_fit": null,
            "object_position": null,
            "order": null,
            "overflow": null,
            "overflow_x": null,
            "overflow_y": null,
            "padding": null,
            "right": null,
            "top": null,
            "visibility": null,
            "width": null
          }
        },
        "93d2a6b4dee94c0fa463a22b97a418fa": {
          "model_module": "@jupyter-widgets/base",
          "model_name": "LayoutModel",
          "model_module_version": "1.2.0",
          "state": {
            "_model_module": "@jupyter-widgets/base",
            "_model_module_version": "1.2.0",
            "_model_name": "LayoutModel",
            "_view_count": null,
            "_view_module": "@jupyter-widgets/base",
            "_view_module_version": "1.2.0",
            "_view_name": "LayoutView",
            "align_content": null,
            "align_items": null,
            "align_self": null,
            "border": null,
            "bottom": null,
            "display": null,
            "flex": null,
            "flex_flow": null,
            "grid_area": null,
            "grid_auto_columns": null,
            "grid_auto_flow": null,
            "grid_auto_rows": null,
            "grid_column": null,
            "grid_gap": null,
            "grid_row": null,
            "grid_template_areas": null,
            "grid_template_columns": null,
            "grid_template_rows": null,
            "height": null,
            "justify_content": null,
            "justify_items": null,
            "left": null,
            "margin": null,
            "max_height": null,
            "max_width": null,
            "min_height": null,
            "min_width": null,
            "object_fit": null,
            "object_position": null,
            "order": null,
            "overflow": null,
            "overflow_x": null,
            "overflow_y": null,
            "padding": null,
            "right": null,
            "top": null,
            "visibility": null,
            "width": null
          }
        },
        "c2d385277f2d40098ce5a8faaf2f5ccc": {
          "model_module": "@jupyter-widgets/base",
          "model_name": "LayoutModel",
          "model_module_version": "1.2.0",
          "state": {
            "_model_module": "@jupyter-widgets/base",
            "_model_module_version": "1.2.0",
            "_model_name": "LayoutModel",
            "_view_count": null,
            "_view_module": "@jupyter-widgets/base",
            "_view_module_version": "1.2.0",
            "_view_name": "LayoutView",
            "align_content": null,
            "align_items": null,
            "align_self": null,
            "border": null,
            "bottom": null,
            "display": null,
            "flex": null,
            "flex_flow": null,
            "grid_area": null,
            "grid_auto_columns": null,
            "grid_auto_flow": null,
            "grid_auto_rows": null,
            "grid_column": null,
            "grid_gap": null,
            "grid_row": null,
            "grid_template_areas": null,
            "grid_template_columns": null,
            "grid_template_rows": null,
            "height": null,
            "justify_content": null,
            "justify_items": null,
            "left": null,
            "margin": null,
            "max_height": null,
            "max_width": null,
            "min_height": null,
            "min_width": null,
            "object_fit": null,
            "object_position": null,
            "order": null,
            "overflow": null,
            "overflow_x": null,
            "overflow_y": null,
            "padding": null,
            "right": null,
            "top": null,
            "visibility": null,
            "width": null
          }
        },
        "ab480fdab580468095eaed5d9527dfa4": {
          "model_module": "@jupyter-widgets/controls",
          "model_name": "TabModel",
          "model_module_version": "1.5.0",
          "state": {
            "_dom_classes": [],
            "_model_module": "@jupyter-widgets/controls",
            "_model_module_version": "1.5.0",
            "_model_name": "TabModel",
            "_titles": {
              "0": "Youtube",
              "1": "Bilibili"
            },
            "_view_count": null,
            "_view_module": "@jupyter-widgets/controls",
            "_view_module_version": "1.5.0",
            "_view_name": "TabView",
            "box_style": "",
            "children": [
              "IPY_MODEL_16f230dad55545668afcc3eef3cd54ca",
              "IPY_MODEL_6fe4c60036974c409cf39b6366010716"
            ],
            "layout": "IPY_MODEL_59d8d99aa234476ba57761aad7a4cb0b",
            "selected_index": 0
          }
        },
        "16f230dad55545668afcc3eef3cd54ca": {
          "model_module": "@jupyter-widgets/output",
          "model_name": "OutputModel",
          "model_module_version": "1.0.0",
          "state": {
            "_dom_classes": [],
            "_model_module": "@jupyter-widgets/output",
            "_model_module_version": "1.0.0",
            "_model_name": "OutputModel",
            "_view_count": null,
            "_view_module": "@jupyter-widgets/output",
            "_view_module_version": "1.0.0",
            "_view_name": "OutputView",
            "layout": "IPY_MODEL_f24d42db117f40b78163a2ecbab7d233",
            "msg_id": "",
            "outputs": [
              {
                "output_type": "stream",
                "name": "stdout",
                "text": [
                  "Video available at https://youtube.com/watch?v=kAdBjWOI_yE\n"
                ]
              },
              {
                "output_type": "display_data",
                "data": {
                  "text/plain": "<IPython.lib.display.YouTubeVideo at 0x7fc5b8cdbf90>",
                  "text/html": "\n        <iframe\n            width=\"854\"\n            height=\"480\"\n            src=\"https://www.youtube.com/embed/kAdBjWOI_yE?fs=1&rel=0\"\n            frameborder=\"0\"\n            allowfullscreen\n        ></iframe>\n        ",
                  "image/jpeg": "/9j/4AAQSkZJRgABAQAAAQABAAD/2wCEAAUDBAkICAgICAgICAgICAgICAgICQgICAgICAgICAgICAgIChALCAgOCQgIDRUNDhERExMTCAsWGBYSGBASExIBBQUFCAcIDQgIDhINDQ8SEhISEhISEhISEhISEhISEhISEhISEhISEhISEhISEhISEhISEhISEhISEhISEhISEv/AABEIAWgB4AMBIgACEQEDEQH/xAAdAAEAAgIDAQEAAAAAAAAAAAAABgcDBQIECAEJ/8QAWRAAAQMDAQMGBwkMCAMFCQAAAQACAwQFERIGEyEHFBYxQZIIIlFSYdHSFTJTVHGBkZPiGCMzNkJVcpShsbK0JDRic3R1s8E3dvAlNYK14QkXVmODlcLT8f/EABoBAQEAAwEBAAAAAAAAAAAAAAABAwQFAgb/xAAlEQEAAgICAgEFAQEBAAAAAAAAARECAwQSITFBEyJRYXGBkRT/2gAMAwEAAhEDEQA/APGSIiAiIgIiICIiAiIgIiICIiAiIgIiICIiAiIgIiICIiAiIgIiICIiAiIgIiICIiAiIgIiICIiAiIgIiICIiAiIgIiICIiAiIgIiICIiAiIgIiICIiAiIgIiICIiAiIgIiICIiAiIgIiICIiAiIgIiICIiAiIgIiICIiAiIgIiICIiAiIgIiICIiAiIgIiICIiAiIgIiICLf8ARSfz4e8/2E6KT+fD3n+wg0CLf9FJ/Ph7z/YTopP58Pef7CDQIt/0Un8+HvP9hOik/nw95/sINAi3/RSfz4e8/wBhOik/nw95/sINAi3/AEUn8+HvP9hOik/nw95/sINAi3/RSfz4e8/2E6KT+fD3n+wg0CLf9FJ/Ph7z/YTopP58Pef7CDQIt/0Un8+HvP8AYTopP58Pef7CDQIt/wBFJ/Ph7z/YTopP58Pef7CDQIt/0Un8+HvP9hOik/nw95/sINAi3/RSfz4e8/2E6KT+fD3n+wg0CLf9FJ/Ph7z/AGE6KT+fD3n+wg0CLf8ARSfz4e8/2E6KT+fD3n+wg0CLf9FJ/Ph7z/YTopP58Pef7CDQIt/0Un8+HvP9hOik/nw95/sINAi3/RSfz4e8/wBhOik/nw95/sINAi3/AEUn8+HvP9hOik/nw95/sINAi3/RSfz4e8/2E6KT+fD3n+wg0CLf9FJ/Ph7z/YTopP58Pef7CDQIt/0Un8+HvP8AYTopP58Pef7CDQIt/wBFJ/Ph7z/YTopP58Pef7CDQIt/0Un8+HvP9hOik/nw95/sINAi3/RSfz4e8/2E6KT+fD3n+wg0CLf9FJ/Ph7z/AGE6KT+fD3n+wg0CLf8ARSfz4e8/2E6KT+fD3n+wg0CLf9FJ/Ph7z/YTopP58Pef7CDQIt/0Un8+HvP9hOik/nw95/sINAi3/RSfz4e8/wBhOik/nw95/sINAi3/AEUn8+HvP9hOik/nw95/sINAi3/RSfz4e8/2E6KT+fD3n+wgmaIi9PIiIgIiICIiAiIgIiICIiAiIgIiICIiAiIgIiICIiAiIgIiICIiAiIgIiICIiAiIgIiICIiAiIgIiICIiAiIgIiICIiAiIgIiICIiAiKNS7VhrnN3BOkkZ3nkOPMUVJUUX6XD4ufrfsJ0uHxc/W/YQpKEUX6XD4ufrfsJ0uHxc/W/YQpKEUX6XD4ufrfsJ0uHxc/W/YQpKEUX6XD4ufrfsJ0uHxc/W/YQpKEUX6XD4ufrfsJ0uHxc/W/YQpKEUX6XD4ufrfsJ0uHxc/W/YQpKEUX6XD4ufrfsJ0uHxc/W/YQpKEUX6XD4ufrfsJ0uHxc/W/YQpKEUX6XD4ufrfsJ0uHxc/W/YQpKEUX6XD4ufrfsJ0uHxc/W/YQpKEUX6XD4ufrfsJ0uHxc/W/YQpKEUX6XD4ufrfsJ0uHxc/W/YQpKEUX6XD4ufrfsJ0uHxc/W/YQpKEUX6XD4ufrfsJ0uHxc/W/YQpKEUX6XD4ufrfsJ0uHxc/W/YQpKEUco9qBJJHHuCNb2MzvM41ODc40cetSNAREVQREQEREBERAREQEREBERAREQEREBERAREQEREBERACrKr/CP/AE3fxFWaFWVX+Ef+m7+IqSsMSIiiiIiAiIgKScmOy3u3eLdaRPzbn9Syn3+7326158fda268Y6tQ+VRtWR4MH447O/5nB/ugteo8Fq2ivktDNubb7rsIYLfNRiCd0jo2ysjDTXFznFjmuw1rjg5wqF5TdiK3Z251FpuLGNqacsOuJxfBNHIwPjmgkc1pfE5p6yAQQ5pAc0gewtqeQyS6coFZfn3W3ClpKuhuD7fRzOqL0XUNNRuZA+kDWinMjoR4xeSA9hAOeHnbl927Ze9sn190ttZS0NPU0dNNbJ2mnuAt9K9pmimbqbuquRjpnYDvE3rQHHTqIVCi9V8j22my1+u9JYG7A2+noKwvpm1e/kqa6D71IYpJakxCXLiwNJEgc3XnU4t46zkl2NslDyhXXZa6UUNfQTy1dJb3VOoyU8rBzqkG9a4eMafeREj3zzGRjqQeZ0Vm2zklqJNtBsk8vDhdH0skw0h/MYtU76xgIIyaFpmaD5zQVbMXJnZ9p+UOttNupY7fYLFAW1vMw9hqnUUjY6hu8dnTK+rndFqByY6Yubx6g8sovYmw9NYNpbi/ZyXk/mslBUx1MVuvUcVRFXQOghkkgmqp5YR472RE4e+Qay1jhIHFyq/wcuSmiuG2tVYby4Sw2t1ybLC17oRWz2+oFNuQ5rg9rCS+QhpzpiIz1lBRam3J1sZR3SivlVV3yjtUtqojVUlJU7ne3aYQ1UgpKXeVEbt5qp42eI2Q5qGcOoGyOWfbm3RR3Gy1HJ5RWGt0llLUh25rKXTL4k500wbVscGOAc1+h2okOcOvD4M+yVvuNh29qa6jhqZ7bYnVNBLKCXUs4o7rJvYsHg7XDEePwYQUOinfJHtLZbW+rqLzY/d2bRCLfTyVD6aljk1P38lSWZ3o0FmGOY8Eg+94FXrHb7FtjsftFcodmqTZ642GHnUE1AC2KeMRPnwcRsbKHNgmYQ4O05Y4EZwg8novRfgd7C2i9UG1/uzHA1lJboHQ3CZuo2sSw3PfVsY1AZjETJOPwIU05GK/YjaK5v2Tpdk2x0clNUc1vVRUF90qH07N46aQ7veUznjePGmUgaWjQA7SwPICLa7X2nmFxr6HXvOZVtVSbwjBfzad8OvHZnRnHpWqQEREBERAREQduz/1mn/v4v8AUarHVcWf+s0/9/F/qNVjqwkiIiqCIiAiIgIiICIiAiIgIiICIiAiIgIiICIiAiIgIiIAVZVf4R/6bv4irNCrKr/CP/Td/EVJWGJERRRERAREQFZHgwfjjs7/AJnB/uq3XZtlfNSzR1FNNLTzwuD4p4JHxTRPHU+OSMhzHDygoPVnLXyQbWV23lbdbHRTwsdWUUlJdDNBTwwmOjpInzlzn6zGxzH5Aa4uDXANdnBlXLbbLJeOVPZy3VQgnAo3MurA9rY5aiKKuqrfSVGHcZS5sILHcXMmhbxBAHk2TlO2gcC120N8c0jBa66V5BHkIM3EKLtqHiQSh7xKH7wSBzhIJA7UHh+ch+rjnryg952Ko24G2baaSmbatkaG4SRRxwR0FJbTbQ58VDol/CVE02af72w5D5caIxlrfOfhSw19n27r7luZqZ/ujBcLdUSRPbFMYG00sc0D3DTM1sjWg6ScOBBwRhVxtDt/ebiyKOvvF0rI4XNfEypramZjJGZLJQ2SQjejJ8f33pXU2n2quV2fE653GtuD4m7uF1bUzVBiadIIY6d50A6WknhkjJyeKD3vtTcrZRUVbyo02htXXbMUlNSQua1+m4VD9DHS6T98ma80cDse9ZSS8cZXnjwEtt4LftJU09fUCEXqkdSx1MrhqNfvmSwh0shwHSffgC7Op7ox2rp+EfthbYrBs1sjYq2Kvo7bAay4VUGvcz3GQyA6DJhzfvstdLpOQBUxAHxVQKD1ntXdeVqhuMlvZJc60CV7IKykttBLRzxBxEc3OGUpjpw5oDtMrmubnBAKpXZzZvae47SXM0LJ3bS0FRXXCuNPNTwVLKqKtENc+J0b2xPfzioILIiQ4OdpBHBail5VdoooBTR7Q3pkAAa2NlxrGhrQMBjCJcsjxw0jA9C0Fr2hrqWpdW0tdWU1Y8vc+rgqJoal5kdrkLp43iRxc7iSTxPFB7T2brrttBsptHFyh2nm0Fro5JaG61tHzCt502GY7yCJzW6pmuEAbJC1rZN5uyJNRCqzwRPxb5S/+W3/AMhelSG1O3t4usbYbld7lXQsLS2Gqq6iaIOaCA/dPeW7zBPjYzx61rLTfqykjqYaSsq6WKsj3NXFTzzQx1UJa9hiqWRuDZ49Mkg0vBGJHDtKD0v4IOzw6N7R3q00FJc9q6KZkNuhqmxyupIXRRO5xTxye9ne19ZpP5ZpQwHBcDZmwdPthXbJ7Yx7Tc5mr621VHuTQSMpm1rmilqmzbuhpGB7Ncr4WNaW5c5uAOrPiHZfaWvtc3OLbXVdBOW6XS0k8tO9zNQdoeYnDXHkA6XZBx1LvUm315irX3KO8XNtwkiMElbz2pNVJAS07l85k1viy1h0kkZY09YCC9PBPppIdnuU+GaN8UsWz8scsUjXMkjkZQ3xr45GOAcx7XAgg8QQVHPAS/Ha3/4a4/ycqqGm2ouMRrTHca6M3IPFxLKqoZz8SbzeCt0v/pQdvpc7zVnevz74rrWO8VVDM2poaqpo6hgc1s9LNLTzND2lrw2WFwcAWkggHiCg3XK7+MN+/wA5un89OoustXUPlkfLK98ssr3SSSSOc+SSR7i573vcSXvLiSSeJJKxICIiAiIgIiIO3Z/6zT/38X+o1WOq4s/9Zp/7+L/UarHVhJERFUEREBERAREQEREBERAREQEREBERAREQEREBERAREQAqyq/wj/03fxFWaFWVX+Ef+m7+IqSsMSIiiiIiAiIgKef+5raf/wCG73/9vqv/ANaga9g+HbyiXqz7SUUFru1fQwPslNO+GmnkjidM6vuTHSOjadJeWRxgnHUxvkQeV9pNlLlbNAuVtr7eZM7sVtJUUmvHE6N+xur5lpl6+8F/lan2smqdj9rTHdqW5Us5pJp2RtqGSwR710OuNg1OETJZmTfhI3w8CcjRRFv5ILjW7U1uy9va2WppKysgdPMTHBHTUspZz2ocxrjHCW7s8ASTKxoBJAQVwi9CO8HGkrY66LZ7a23X670EL5prVDTup3StiIbIKWp5w9tQdRDQ4N0ansBc3UCqm5KuT+4bS3KO12yNjp3sdLJJK4sgpoGFrX1FQ9rXFkQc9jeDSSXtABJAQRRbey7M19bBV1VHQ1VTT0EYlrZ4IZJYqWMtkfrqHsBETNMUhy7HBjvIrvu/IFs/STS0U/KFaI7hBrZNTOo8Qxzx5D4H1fPdDJGvBaWkBwIIIBGFpOQWyXaq2c20nt14FuoqS3MkudGaWKoNzh5tcXCETSeNTeIyZupnw2fyQgpRFZvIdyRTbSi4VUldT2m1WqJstwuVU1z2RB7ZHNZHEHNEr9MTifHaGjHHLmg/OVbk+s9rooau07V0d/dJUinkpoqV1HUQtMUkm/MUlQ9zosxhucAZkbxQQtuy9wNAboKGrNtbJujX7mTmgl1Bm7M+nRr1EDGesrTq8aaxXc8m81eLyBZRdBG6y80hJdPziJu/57+EHjlrtPV4q0nI7yKz32iqrvWXCksdionbua6V3FjpSWjd08Wtm9IdJG3Jc0F0rWt1Oy0BVKK89pPB/jfa6u7bM7Q0W00FubvLhBBA6jrKeIBzt6KZ8she3SyR3EtJET9OsghRzkH5Hp9rG3fm9WKeW10rKhkO4M76t8gn0QR4kbu3F0IGTn344cEFXovSll8FZlSZLf0ss7do44HyvskYE5ikaM7meqZPrY5uW6i2F2nJOHDBNObBcnFwvF9Zs9BG2Gv39RBPvid1Smk3nOnTvjDsNZunjhnLtIGS4IIcivHbbkZsNvp7judurdV3G3RTufbuZOgM09OHaqWCpdVuZJKXNLQGgnPYqOQEREBERAREQduz/wBZp/7+L/UarHVcWf8ArNP/AH8X+o1WOrCSIiKoIiICIiAiIgIi6NwrxGOAznqPl+Tt+dSZWIt3XEDrOFjNSwHGsZHWo3K+WY5wePAAuA+jK6coe08XY9GSD+0cV47SvVMo5Gu96QfkK5qGRVzmAgO7fL2jtC21uvreDZsg9j8fxY/evUZJTeosNPUsk4seHfJ1/R1rMvQIiIgiIgIiICIiAiIgBVlV/hH/AKbv4irNCrKr/CP/AE3fxFSVhiREUUREQEREBemf/aO/jVQf8v0v/mN1XmZemNqfCjorrM2ouWw9kr52RiFk1ZI2okbC173tiD5aUkMD5JDjqy93lQazwCdlpqramO6aSyjs1NVT1E7hiISVNLNRxQueeAeWzSyfJA5Wp4LG0NLdtpuUOtjbzh9a2SahjicYqiooBUVbCIXEh0bntNCCeGHPZ1cFRfKJ4Q9zuVvks1vo7ds/Z5dTZKK0Q83M0bwN5FNKCAY3kHUI2x6gS12oEg17ycba1+z9xgulsm3NTASMOGuKeJ3CWnqI84kheOBHAghrmlrmtcAvzk/5ZNh9n69twtey94pqyNkkQea98o0St0yMdFPUuYfnHAgeRSXwIbmyrr9vKihZuauriFTbYnFu9jjlmuT2s8Xh4sktGDjhnT6FALh4QFjqZXVtTyfWSa5SEyTVLp/6PNO8l0k0tEaUtkc55LiXucSSckniqr2N5Rq+zXt19tm6pKh088rqaNhFE6GokL5KJ8AcNVJggBuQW6GOaWua1wCIztcHuEgcHhzg8PBDw8E6g4HiHZznK9K+Cj+J3KV/k8f8ld11Lr4R1oqJnV79gLHJdHkyPrJ5GzRvnPEzvpjSDW/V42S8uz+Vniq55LuVSSxWjaK0so46hu0NI2kkmdK6N1KGw1cOtjAwiU4qicEj3g8qDceDpywx7N+6FBcqBt0sd3jbHX0vi71paHs3kQkOiQGORzXMcW5xGQ5unxpPyzclFgm2edthsfVz+5sdTHT11tqy50lHJK6KIRxvfmVr2STQZjkdJqE4e2TSADBeSPlNo7PSVVBc9nLbf6SpnbUNFUdzU08gj3TtxU7uQxtLQ33rQevic4G05VuXB11tUVgtVoo9n7IyUTyUdK908lRM12tpnqCxmtofpdjTkuY0lxwAAn9F/wAGKj/PG/zkCy8pn/B/ZfmWvce6x55o143m8vG83/8AY51jGrhndY/JVSw8rEjdj5NkuZRmKStFZz3fO3gImZLu9xoxjLMZ1dq7fI7y01Fho6q01VBSXux1rt5UWquH3sSjSd7BLpdunF0cTuLXAGJrm6XeMgsj/wBnQJekN0J1czFjm5zqzuNRrKLc7zPia9AqMZ/J3uO1dzwG6ncxbczUr3x7q0iSmfnEjNDbg6F+ex4w0/KFCNpvCBaLXVWjZvZ+g2Zprg0sr5aaV1VWVMZBaY+cuijLWlj5G8Q4gSO0luTmL8ivKxJszDeoY6KOrF5ouZPc+Z0RgAZOzeNDWO3h+/ngce9Qb/wK5HP29sj3uLnuddHOc4lznOdZ7iXOcTxJJOcldWr2+qdmdv7xd6SNkzqe/wB6ZLTyEtZUU8tdUxzQlzeLHFpy12Dpc1pw4AtMQ5GtuH7N3uivUdO2rfRc5xTvkMTZOcUlRSHMjWuLcCcu6uOnHatps1ynCk2iuN9ntNDcIrnNcJKm2Vo31MY7hUGofG1zmkamO0gOc08AeGTwC8ajYzZPlFiuNbs4KiybSxQS11RbZsGlqnkt1y6AXNEbpXNZvYSzSZg58R1DPkpX/V+EVT0dFW02zOy1v2dqbjGYaqviqH1c4icHAtp8wR7lw1Eji5rTxDc4IoBAREQEREBERB27P/Waf+/i/wBRqsdVxZ/6zT/38X+o1WOrCSIiKoIiICIiAiLBWS6WnHvjwA9P/X71JmldO8XDd4a0t1Hjx4/sH71qpbs4jSAC7gA4jq/QYOB+XrXaiss87ySMautzsYA8uM5d5OCzyW5lOMaXSydhLTjt6hniFgyyiWaMZpoZJHE+OM9vHgc+jyLtRhz2ktIByGkZHH5ncDwXaNM5595oGOAPFvEdrD1dS6dRTOByGOYR2tLgPocTw+fCnYjB06uIg4e0A44EcCR6R2n5l09GD6VuYXl+GOYHHqHDGflHUf3hcpbS53FjSAezrAPbgr12pOl+mpp5HMcCHEOB4EHipXY7pvvEfgSN+YOA/wB1F6iiLcntGOv1pE8tkY9pwcgj5RjOV7iWOYr2nqLFSzCRjXjqcM/Ie0fSsqyIIiIgiIgIiICIiAFWVX+Ef+m7+IqzQqyq/wAI/wDTd/EVJWGJERRRERAREQEREBbhmy1xcARbq8ggEEUtQQQeIIIZxGFp1f3Izy87UVF92ft015mfRzXa00UsBgogH0slZTwPiLmwB4BiJbkHPHrQU10TuX5tuH6pUewtMvUHhK8ue01q2rvFvt94lpqOmmhbBA2Cje2NrqSnkcA6WBzj473HiT1qn7tyZyU+ydBtUatjoq65vtraMROEkbmNrHb0zatLm/0M+Lge/HHggr9FYEHJnI/ZOXarnbBFFcxbTR7p28Li2N2932rAH3z3uns61dt05Dtmeh9mrPd63UVTU1komv8AIyukhrdJrP6FHTOm0QvjwGlzQ3JpSe1B5SRWdyT8kE18gr7lPcKS0WK2ybqru9ZqMW9OnRDTwjBnmO8h8TU38NGBlzmtOw215FWw2eS/2C9Uu0drppBHXvp4JqKrodWA2SaincX7nJbk5DhqDtJaHOaFQrs0FBNUOc2CGWdzGGRzYY3yObG0gOe4MBIYC5vE8OIVv8mXIBUXyxMvrLpRUVM2ulpqs1g3UNHTU7N5PWzVBfjQBhoYG8XPbktGXCRciux1TSbS3mh2X2mo5hDs5UTy3VtCyaCppnS0BqKNkEkj91IJXR/fMk/ejwGUHnVFNuSzYmku3O5LhfrdYqWjbCXyVmuWondOZdLaOjjw6pLRC4uwQW6mcDq4SPlW5HGWmz0W0FsvNNfbPWVBpOcw08tJLDUaZXBktNK5zmNxDICXFpBDQR4wyEDuGyFwp7ZSXiakey210skNJVl0ZZNLC+WORjWh2sEOhlHED3hWiXonlK/4UbF/5rdf527rzsgIiICIiAiIgIiIO3Z/6zT/AN/F/qNVjquLP/Waf+/i/wBRqsdWEkREVQREQEREBc4ixpaXjJJIaMZ4kYB/afoXBSzYHZfndZESMxsZvpCfKG8APRqc36Fh3ZdcWfj4ds4hgobMyVhedbnE569PUOGDj95HyLoXigGPwL2F3DOvPjA9ZaOBBXoOm2VYGtiijaMtDSXk8B5T5PkXKn5OmH76QHOGS3LWkA+VgB6/+slc763nw7UcSKedLPYKlzmsLC9h62OGoY48c4Bae3JwtvV7FvOC8OweGRxDMeceGPJgK/6HYYQlz3B0j3cWtbjtzpBBcB1+X0rDW7LvA0OOB+U1uHEcfe9Xk458quWyXrDjY+nn6TYgtxKx3AYPUewnzhk9X7V8FCGHBAHDGeo/Qr1umzrWxkNGGt6h1nJ/JB8irbaegbGH4GMHtHEeTH7VPq37ev8AzRjFwrPaGzhwc5uM4PDHX1eRQgQEZGMjJ7OpWjU4LSep2riB1f2seQHj9CiG0VDu3nTghxcQfQTn5uJ6vStvVk5PJ1+bZtn35iwfyXEfTxWxXQsjMRn9LAXfW3HpoyIiKoIiICIiAiIgBVlV/hH/AKbv4irNCrKr/CP/AE3fxFSVhiREUUREQEREBERAUz5Cfxq2a/5gs3/mNMoYu5Y7pNQ1VNW0sm6qaOohqqeXSx+7np5GywyaJAWO0vY04cCDjiCgs7wwfx3v/wDiKf8AkaVTbaOkln5ILHuIpJtztPK6URMdJu2ubdo2uk0A6Gl80TcntlYOtwVCbXbRVd2rZ7jcJjUVlS5rp5iyOMyOaxsbToha1jcMY0cAOpSXk15Xr/s5FNT2a5vpIJ5N9LCYaWpiMugM3rWVcMjY5C1rAXNwXCNgOdIwF137ZWttPJG6K4076Wapv8NYyCUFszIJWxsjM0bgDE926LtJ46XNzjOBqNvIXP5Itlnsa5zYr5Xb1zQSI9dReA0vI96CS0ZPa4eUKo9oeVG+XCjqqCuuU1VS1lb7oVMczIXulqwxkbZN8Y961rWRRsbG1wY1rGgNAGF3OTrlj2h2ep5KS0XR9LTSSb50DoKSqjEpABextZDJuiQG50YzpGc4QWvBE+v5IN3btT32raB093ijaS/m5EzxI9oGXRNFTRvL+oCB/HxHY4+C7TvpNkeUK41QMNuqbKaGGWTxIqitfBXwxRxOcMOkbLVQM4Zw6pYOsqlOTzlAu2z076mz181FLK0Ml0COSKVrclomgna6KUtLnYLmkjU7GMlbHlF5Xb/tDFHBd7nLU08TtbKdkdPS0+vse+CkijZK9oJAc8Et1OwRk5C14pHN5HXhrnND9pQ14BID2jQ8NcB75uprXYPa0HsC6/gF/wDfd8/5Uuf83bVTPTe5e5HuDzo+5POeec03UGOc9W832733/h1Y9C+bC7aXGxzT1FqqjSTVNLLRTPEcEuulmfHJJFieNwbl0MZ1AB3i8DxKC0eRLk+tb9mr1tdeKOqu8FrqWUcNopZpKUSyFtM6Soq6mEGWOnaKqPizGkRyE6uAFgcob45eSlk1NZTY6aS/RSxUYkrZ2uicHBtUJq5xkkZITgOB08Bhef8Ak15Ub3s2Z/cW4yUYqdO/Zu6eoieWZ0vMNVE+MSDJGoAHHDOFt6rl22nmhucE15mnhu8b4q6KeKkmY+OSIwPZC2SEijaYnEYg3fYesAgLA5Sv+FGxf+a3X+du687KQ3LbS41Nqo7JNVF9rt8ss9HS7uBohlmfLJK8StjEr8vnlOHOIGvhjAxHkBERAREQEREBERB27P8A1mn/AL+L/UarHVcWb+s0/wDfxf6jVY6sJIiIqgiIgIiICvHkpDGtOAA58MPV2jdNxn58nh5FSNPC6R7I2DU97msa0dZc4gAfSVaGwdRNDcKehkaRJFDplwQR97LyMH8pul0f0rV5XnCm9wYnvdeF+WKMascOOMnHXjCmFLTtIHicG8cY6+HDGVE7AcsaeHA4P0lTK2yn5vJhczU7+2ftc+aNaC9zfGIIDeGG54cfK70rSXChZnPAdZ4dvDiVIqt3i8eHBai5MLve9Q4nPkxjt6lnzYNVoXfo2tYSB1j9o6yqZ24ja7LR154enr/erc2pe4NcMcANI7Or5FVl7i4+MM+MCAPp4rXvy28oqFa1o3fiuwNIaPlJJyOHoC0tfBvyGgcG++8hJ4A+XqAHzLcX+PeTyNbn32APLwPHrWoonuY5wcDndu+UgdZ+UEZXQ1x4cHlZeadWjg3bNPaOJ+Ql2P2grMuF2rCJMNaHE8OsAaWuIznHDhj6FzyDxa4OHY5uSD8mQtvGY9NDLGY8/AiIvbGIiICIiAiIgLhuW+Y3uj1LmiKx7lnmN7o9Sm3IlsHDtDd47ZLK6mY+Com3sUcb3gwtaQ3S/hg5UNVxeBz+NdP/AIKu/gYoLO+5EoPzvV/q1Kn3IlB+d6v9WpV6WRRXmn7kSg/O9X+rUqfciUH53q/1alXpZEHmn7kSg/O9X+rUqfciUH53q/1alXpZEHmn7kSg/O9X+rUqfciUH53q/wBWpV6WRB5p+5EoPzvV/q1Kn3IlB+d6v9WpV6WRB5p+5EoPzvV/q1Kn3IlB+d6v9WpV6WRB5p+5EoPzvV/q1Kn3IlB+d6v9WpV6WRB5p+5EoPzvV/q1Kn3IlB+d6v8AVqVelkQeafuRKD871f6tSp9yJQfner/VqVelkQeafuRKD871f6tSp9yJQfner/VqVelkQeafuRKD871f6tSp9yJQfner/VqVelkQeafuRKD871f6tSp9yJQfner/AFalXpZEHmn7kSg/O9X+rUqfciUH53q/1alXpZEHkLlU8GyistnrrpHcaid9HE2RsUlPTtY8uljjw5zeIGHk8PIvOW5Z5je6PUv0D8Jr8U71/h4/5mBeAFUlwETR+S36AuaIqgiIgIiICIiDZbLTMjrqN8pxG2phMh8jN40OPyAZPzK6dorPza+WqqaDmoirad5yMAwRtewDA4niRx81UIvQuz1Xz+02GqJ1y09RVQyuPZJzaWIOcfOIDe8tTkx6l0+BncZa/wBxP/PCytk5oy0HWM54jIwMdeexS+huUAOHSxtd1aS5vzdZyqauGzdRqjEcm5p3uBmk1antYTgiPIwDntcOGc9i0m0HJzUuuIlglPueXSPdK6p1yOZu6cMj0vIcyRj2TnIzqMzfehuFq6tcTEzDo79uUTEVPn8PQ1dUMLdWoEZxkHhx4D9669bVsZF1jJb2/wC6rfYyxTQljXVskrM4cHceAxjVn8rB6x5FF/CIu9bSiCnpHuj3rnNcWniWgHHHsyvPaZlkn7Y/iQ7Z3qnaHh80TXDBLdY/d5cqu7ndaaSJz2yNc3iCQRwUa5NdjWXIy1F3lke0wyiMl7g3fYxG127OtrQTnynTjI4ZjV32QmoWzb2pi0apC2NjnzDBe5zGtDuOA0tblxBwMnisuOmPcy19nI2TMVjcMNRIx8j3xuyWnUB5R+VgejC1d7cWzR4/KZ1+jHEf9eRZKGzTmPf6dBbp4DAB9OOwH6FsLhbHPigqPgxKHj0hpc0j5ws2FNHbjM+/lGbvKx7zHHnIwDnhk57PKNXastvYWxgHhxcceTJ6l0WvDqlo6msIBcO3Ser0nq/Ytu48Twxkk48meKy6o+WPk1jj1fERFnaIiIgIiICIiAiIgK4vA5/Gun/wVd/AxU6ri8Dn8a6f/BV38DFFe5ERFFEREBeevDKjdNNsbSb2oihrtpaWjqebzSwPkgqHRRSs3kTg4Za48exehV5x8Ne2Q1s2xdFUs3lNV7T0tLUR6nM1wVDoopWa2EOblj3DLSCM8EE/2c5DLNQVdPW07rqZqaVs0QmulfPFrYcjXFLKWSN9BCw7W8vVmtlyuVonZXyXC3CkApaanbPNcJa2COohp7dEyXXPLu5AXagxrdJy7qz3uTzkP2d2frPdC0251LV7qSDemrrpxupC0vboqJ3s4ljeOM8FX/JvQxP5VdtJ3xsdNBbrOIZHAF0Qmt1uEu7J96XBoBI44yOolBv+UPaG2Vs2xFZcG7QW6etusbrbRxthpniqL4MU97gkLnNhBDMtYc8XKYcrHKna9mo6c3B88lTWP3dFb6KI1NdWSZa3RBACB757W5c5oJc0ZyQFXnhQ/wDfvJ5/zNH/ABUq1O0m5j5XrY+4YDZdnXR2l8g8TnQkq8sjcfFEml1YADxzK0dbm5C1OTTlMbe55qY2PaKzyQwicG927mEczC8RkQP3rt48EtJGBwPaqv8ACwo+ebR7A26Sapjpa+tusFUymqJqZ0sf/ZXAvhcHcMnB7MlejV588JP8ceTX/Mrr+61IO1th4Pe5ppJ9mb3fbVdYGmWl1XSqno6iVnjNgqo5nk7t+NGc4GvJa8AtO+8HHlX93dmDdrm+OmqLa6opbvK8CCFklHGyaSpcDhsTXU8kcjgMNa4vAwBhWHtptNSWegqblcJ2U9LSxOkke8gZwPFijBP3yZ7sNawcXOc0DJK8dWexXCLki2hrXRSRy3q5e6+6ja9rxb31tuikfp98IXMpppNXUYnA8WnJC96XwjrO58Ek1DfqO1VUzYKbaCttr6eyTPeSI3CqfJrZE8g4e9jR4rydIa4jVbe1sto5SdnKkzObRbQ2ystMsRe7dirpXCZkoYTpMj3voIuoHgeJzhaN3Jpftp9l6WgG1FpdZa6ht7oGU9k3TmQQGnnp42PbVZjcwwsYRgEaXNIHELaeF9Z56XZa1XSN4mrdlrjaLhvtJBlMLo6WQ4ySxrp5IJD14EfzoIL4Vu2lbSbX2qsppZG2zZd1nmuwie8aXXSsle9k0bTiRj6WlibjGfvvDryLU8Ierkrbtsfs7TySR+6N4NyrXROIDrbZojUTwSFrgQybeYHZmL5jWcFpbtRsnyi35sbz7tVs9Rb3aXb2ag2biidbSGY1Ne4wTM0Yzlzh2raeCpfH7UX2S/y7xzLLszZ7DG54IZLXzsFTc52Ajg9s0cjM9rZWdeRgLI2QrLZ012nZBNeJLrFRW91fTzuhdaYojSUjoPc6Nv30TOj3Rdq4FxfjsUK5MvCIqq+93qiqrJe30sNXQU9vjpbRNzqgbUGdspvmZiKU5EZBP5MUpxwXd5Mf+KO3H+XWT+Qt65eDp+OfKSO3n9nOPRu7nx+TiPpQYL94QNRSbXz2g2e8z26moJy6CmtM01ynrIax8HPKdol++2h0bPFmAAJcFftrqxUQQziOWITxRzCKdhjmjEjA/dzRnjHK3OC3sIIVHzOA5WowSBnYsgek+6bzgeU4BPzFXygIiICIiCuPCa/FO9f4eP8AmYF4AXv/AMJr8U71/h4/5mBeAFYSRERVBERAREQEREBWxyHXMGlr6R54wvgrIBnqc97YJcDyYLe8qnW42Mq3Q19MWuLQ6Vkb8HGpj3AFp9HV9AWPbj2xmGxxdnTZE/Hqf5L1zbXiSIMwDkDgeo9h+VdhtjY4eMOHXxwcY6uDQM/OtTYbg1gaHYzgD6O35Vsp79I94hpog44BdI/xY4xniSe0+gcSuXFRD63LrMRMOxTsa1zA1ojja4ANbgAfR6Qqq5f6ln3p+MyNlbjq6jn5+pWOHyyy7rOXasOI4A48gPABVDy8072zMBGlsnVIT4vDPi8Oo8Exxl6nXEYzPzTo7BESvMT26XEZBHDGRx4j0KU1+xMDyJZw+QN8Zoe9zmg9fvS4tGMKrbHtLHSXFrIHteHMa1+slw1N7Qc+KT2q35dot7T+M0NOkHHDTxHWCPQrnFMOGWEzU/CtNuK4R5iZG0NY0tZpAAAOBgehRWef/s/Vk5HOAfq3YOO1dvbe6NlqSPyePAYyQOJ/cVrK54FHIzIIlm4AE50lpzjHZgBbOnFyedsjtUfCK22NpHV73iCesl3Xk+gAfSu8vjWgDAGAvq3McesU5O3Z3ysREXpiEREBERAREQEREBXF4HP410/+Crv4GKnVcHgePDdqqcuIA5lXcSQB7xnaVFe5kWHnUfwkffb6051H8JH32+tRWZFh51H8JH32+tOdR/CR99vrQZlDOVPk0t20jKSO5c5xQzmppnUs76aSObSGh4kj8YOGAQRjB4qW86j+Ej77fWnOo/hI++31oKytPIXbKaogqWV20Dn080U7Gy3mulic+GRsjWyRPfpkjJaAWngQSFK7PsJQ0l5uN+hbKLhdYqeGrc6Quicyliihh0RYwwhkLOI6+KkXOo/hI++31pzqP4SPvt9aCPbZ7C0N3qbVV1jZTNZqwV1EY5DG1tQDGQZGj8I3723gfSupyp8mdq2lghhutO57qWQy0lVDI+CrpJHABzoJ4zkA6WEsdlpMbCQSxpEs51H8JH32+tOdR/CR99vrQQfk65KaKyVLq2Osu9wrDTPoxU3a4T1z2U0kkMr4o2OxGwF9PCchufE6+tZeVLkstu0clBNcDVtlthqHUclHUyUkkbqncb12uLxtX9Hjwc8OPlUz51H8JH32+tOdR/CR99vrQVVS+Dts5v4qirp626vgOqJt2uFbXwsJxnME0m7kacDLXtcDjiFas9JE+J0D4o3wPjMT4XMa6J0Tm6HROjI0ujLSWlpGMHCc6j+Ej77fWnOo/hI++31oKkh8Hazwue2jrdoLfRSOe99robvV09uc55y/7yCXgHiMB4HH5MWLfdlaSttc1mnjcaGaj5i6MPdrEG7ETdMhy7W0AEOOTkArbc6j+Ej77fWnOo/hI++31oNHsJsXQ2W1w2ahic2hgbOxscr3SucKiWWabW93F2p80nzHHUF0eSfk3tuzFHLQ2mOWOCaodVSGaR00jpnRxRE63cQ3RCzDeocT2lSrnUfwkffb6051H8JH32+tBHbPsHQ0l5uN+hbKLhdIqeGrc6Quicymiiii0REYYQyFnEdfFR++cjVsqb2L/FPc7fcHuhNWbbWyUkNwFPo3bK2IAiWPEcYLWlocG8ckkmwudR/CR99vrTnUfwkffb60EE5TuSK23+qpLhUSV9DcqFhip7la6p1FWshcXkw75rTmP75L2ZG9kwRqOZ1bqUQQxQtdI8QxRxB8rzJK8RtDA6SR3F8hAyXHiSSV951H8JH32+tOdR/CR99vrQZkWHnUfwkffb6051H8JH32+tBmRYedR/CR99vrTnUfwkffb60FfeE1+Kd6/wAPH/MwLwAvffhL1DHbKXoB7Cebx8A5pP8AWYOwFeBFYSRERVBERAREQEREBc6eQsex462Oa4dnFpBH7lwRRXpLZm9R1lPDINQEjQRgjOrqc0eUggfSs9ZcpGPjYwSgOzgRte8gNzxkLc6flKpfk+v5izSvdpaX72F+SNEjQSW8OsHGR6QPKrt2PvW/3b3DG9Ba/wB778BpAGT2nr8i4+7VOGX6fQcbkRnjDG65zse6ppquB0oaQ6LeRhpAaG8BqyDnt6+PUqh5TZrvcWNFQx1O2PW4aQA1/EnVnrwAcfSr5utvpo9UssDXDi5wMbXA46gTjrVe7RPoZi8CjaHYIAcSfT4rTnDetZMesesnRzxxyxrtP4eeqGkfSP3kr2tLTkNcfGPZ1dqsPZO5V9VTv3cLt2CAHSAjV1jxR2jiPoXGt2fjllBip9LS/L3aMDGerOMgetb653b3OpssLQGNcCB6Q4DgOo5TPKMvXmXNjD6czN+EC29kayrETSNTGu1uByMjqAPZjP7Fwnc4U8bT1B/X/wCE8M9v/oo9FM6aZ8vv5JHZwRkeM709Zzxx/ZUmuLdMLW+SVwJ8pDeJ+nK29WNU5m7PvctaiItppCIiAiIgIiICIiAiIgLi9gcMEAjyEZH0FckQYubR/Bs7rfUnNo/g2d1vqWVEGLm0fwbO631JzaP4Nndb6llRBi5tH8Gzut9Sc2j+DZ3W+pZUQYubR/Bs7rfUnNo/g2d1vqWVEGLm0fwbO631JzaP4Nndb6llRBi5tH8Gzut9Sc2j+DZ3W+pZUQYubR/Bs7rfUnNo/g2d1vqWVEGLm0fwbO631JzaP4Nndb6llRBi5tH8Gzut9Sc2j+DZ3W+pZUQYubR/Bs7rfUnNo/g2d1vqWVEGLm0fwbO631JzaP4Nndb6llRBi5tH8Gzut9Sc2j+DZ3W+pZUQYubR/Bs7rfUnNo/g2d1vqWVEGNsDAchjAR2hoB+nCyIiAiIgIiICIiAiIgIiIPrOsfKOpXJsvNLbKlsM2t9PUNYYKnSHZkzwjkHU13ADs1asqorbSunmihYCXSSNYAPSQM/IBx+ZekXWyOan3MzA9hAaQR2dWQew9WD2LS5UxcRP7dLga5yjKY+KSdt91RtDmxnIy4nHHhjgAOI4HitDfJKcFx3bA8Z1ENGeJI4ZGDk44eRR250Nwo26qYCsjDSGMLmxzMjAxujqOmTqHjcCodftoq1uSKCdjng5Dy04e4EOw5riNPqC0+n4dOORGMfc7O0e07YnvhIYSQSCwBudAJ8Uflf/ANVTbX3l1TJpc52katPp4uwCBwIyP2elcrnFWPe58jDqHvXOdnQOIPAA/wDrhaJ9O5jsu4u7T5Pkx2LZ164xhzuTyMts16hsbNGIwHdTz1Y/efSpDWtLqUP68Tfscw//AJAqKU7yHgkn1Ka2uRj6Z8bupzMfIesEeQ5AWeMvNy1+t4zCPotGy6GnmkhqJC9owY5A0atJzwe1g6x6AtpSVsUv4ORr/QDxHytPELYibakxXh2ERFUEREBERAREQEREBERAREQEREBERAREQEREBERAREQEREBERAREQEREBERAREQEREBERAREQEREBERAWOombG0ucQAPpPoHlK1d3vjIssjxJJ1Hj4jD/aI6z6B+xR9tQ6R5fI4uc7tP5PoaPyR6EHojwdtld+wXaZ+t0r5Y4Ix+Dp443uY4HHvpnaeLj1DgOsq530+kE+TP7yqF8FXbuOlqXWaseGQ1smuikdwayrIw6Bzjwa2UNaW/2gfOXpe6UYwRjtP/AF8q5PIxyjZPb/P47/Dzw+nj1/3+tI+AuYSOIP0jA6jhaO52tj85APpGPmUlonY8X/ZYK6Icc9ZHyf8AovMT4Z9mFqk2nszQx2mM5+TH7ScKrLpZywuBGOzyntPYvQl7gB1cPk7eztKgN1s+p5JHzjj+zyrJjnTXz0Kfrafd6c4Havvui5oAaeI/2Wz24iDJQ0DGB29efkUQulQYmHz3jDfn6z9C2MPLS3fZNNLc5zJM93Xxx9HD6F1mkjBGQQcgg4I+QjqWQRr6GraiKc+Zvy2VBtBPHgOxM3+3wd3x/vlb2i2ggk4OJid5H+9744fThRAtXzSvSLFY8OGWkEHtBBH0hclXcEr4zljnMP8AZJbn5cda2lJtBOzg/TIP7Qw7vN9SCYItLSbRQu4PDoj5T4zfpHH9i28UjXAOa4OaeotIIPzhBzREQEW/2H2dZc5auE1kdJJT26ur4GvhkndWPoYXTvpImxkFsjoo53avGIELsNd1DrWHZi43Bm8obbcK2Pj99pKSpqYgW8CN7DGWagezOeCDUouxcaGamlMNTBPTTtAc6Gpikp5mgkgF0UzQ8AkHiR2FddAREQEREBERAREQEREBETKAiLsUtBPMyaSKCeWOnYJKiSKKSSOnjcdLZJ3saWwsLuAc4gZQddERAREQEREBERAREQEREBERAREQEREBFiqahkTS6RwY0drjj5h5T6FHLntMTltOMf8AzHDj8rW9nz/QgkFdWxwjVI8N8g63O/RaOJUWu1+km8SPMcZ8h8d3yke9HoH0rVSyue4ue4ucesuJJ/b+5cmDtPWgNGCB5FlYOK4M8q5s/wB0SZZ2PI7SCCCHNOC0g5DgR1HI61608HPlebdY47Vc3tFxjZpgncQ0VkbQAP8A64HWOGeteRys1NO6N7XxvdG9jg9j2Etcx4OQ5rhxBB7Vj2a4zhl07p1z49fL9Dqy3lrgQ3IXRuFIdJI+cFUxyQeEUzRHRX8aXNAay4sBLXjqHOWNBLHYx448Xgc6V6BjnpqynE1LNFNE9upskbg9j+GQWubkOC5+eqcPbuauRGfqbV7Xwg5H7McB1dS6MllLmOcB2Z/YpcyiDnaSOHb2/Lg+hZto6ylt1vqKurlbDTQRkySP6w3hpa1o4vkcSA1o4knCx44zMs2WVeZeW+USjZE6aom8SOPAB6tTuOlrQffEnyKnqud08hkcMDqa3sa0dQCk3KRta+8VbptJgpWOcKanOMsaT7+Ujg6Zw4k9QzgcOJjLupdPVr6xc+3B5O7vlNemIoFzcuJWRrPmF8wuS+Kpb5hfHhcwvhCPTEVnoqySF2qNxb5R+S70Ob1FY3DtXEBBYyIiC++SDb3mVNQ3W9y2+tpaAMsVooqejopr9SvwwGobIGsliom0hka7L3GQlg06nAv6XL7tWx9ZdqWYX+23Siq4aa300dwDrKaOKT+ttpWMjdTGal0yNDdeTJF4wAcFDNhaaOtsl/oY6SmluUAo7tSTbkOr3UtLLouUNPN74BkLo5RG3i4On4HhiI7ypuFUzVJPW1lXLDCx80r5p6iaQsggYZpnEvcSY2DUerSOACKm2xW1r7i+Cx36eWtt9XI2npquocZ66z1c7t3T1lJVSZlMG9dG2SF7iwszgDBDoLeqCSjqKmlnAE9JPPTTNGcCWnkfFIGkgEt1sOD2jCtDZzkuuJoqxrLLXs2jtd2t0jHVBZHQSUUrZODDL/RqoR1FPqe5riNEzCCQHNMR5Y6hk95r547jSXY1BZLJW0NO6kpJZnQsD2wROkkyxpaBrD36+LskkoJdfeSm3Wo0TrxtJFRxV9FTVUDYrdU1VRrlaTNvIoZCIaWMmPEzjmQl4DW6CTrqzkfrWbQOsLaineG0wuDri7MdMy2acvrpGai5gDvvegE+OQNWk6xm8Juuhqa20up5op2t2WtUZdC9krWyCSvcYyWEgP0vYdPXh7fKrSuW21BS7VDe1tLHS3LY2ktgr/vNTTUlS9880LqkO1RGHTjU14LfvkerDSSiKfrdhLfUUVfV2O+e6z7VAKmuppbfPbpDSai2StpHTSOE0TDxcw4c1uCTkta7U8oWxxtEFnmNQKj3WtFPdNIi3XNzO0O3Gdbt6Ggt8fxc8fFCsnaKK+0VBcH1t52UpKeegqqbTb4rOaq6xzR4fR0Yo6JsxZKOGslmnxXEDGW8dstn27SWjZuqobnaIGWyyQ2y5ivrWUr6GamZG1z5I3NLnRnEhHUSAwt1B+QVpaXkZdJfaCyC4jVW2SO8c4FKSIzI2cc2ERnGv75B+E1N4P8Ae8OPVtvJZBWVcVuoL7S1dbE2aa8ObS1MdutVNTtbv5m3CQhleGyuEY3YbqLgToAcRblNe6Bu3dnmir6V9GzZCGFlUZomRkt5/I1r3F2I5TCWv0HiA4cFTPg83ukp33K3XCoZRU98slTa+eyeLHSTyx6Y3zOPBkRDpAXEgAhmcDJBHYk5NqCspa2awX5t3qLbTuqqqikt9Tb5paaM4lqKIzPdv2t8wDPFvHLmh3KHkyoobVabzdL8ygo7nHM7dsoKisqmyxyYjigigeTMwxhz3ykNDCGNw8vGJNye2Loe64Xe7V9qe91qqqK30VBWMrJq+oqXQlrmNY0FtK0xNy9w4CTJDdPGM8qVZC/ZnYiGKaKSSno7uyZjHse+ImoomtErGnMZJjfjVjOh3kQd6/cklvtc0XuttNTU1FWtjktdRBQ1NTLVwSMY41M8Eb9NDTsMjBrc9wdxI04ONezkcrPd+ssclTBFHQU5raq6SNcKWO37tkgqjHqyHHeBu7LhhzJPG0tL198IqtinptmRBNFMY9k7fHIIntkMcgY8GN4YTokyD4pweCtTa/aW3TbTbQ26W4UsFPf9nKa2w3HeMkpYKrcSmJs8rHaWRubUEkkgeKwflhBXOz/JRbrsax1n2kZVx0NFUVM7ZrbU0lSHxtzDu4p5AJaWRweDIDmMhgLXawRvaTZaxP2Kje+9xRMdfWvfdvcSskmjqHUADrZuGu3742tJdvQ7dnHVldrka2RGz9XdZbrdLOyolsNwgpqamr4qh0jHGKWaokdhoijG4jDA7Dn65DpG7KjvJ/SsvGx89ip6uigukF8ZcmU9bUR0nOKU0ccBdA+Tg9zXl+R2aBnGpuStNbOTqjht9Nc75em2qmuDpvcyGOhnr6ysgiIBq3QRPBp6fBa7jnhJHxBc0Gb8k+zMEdLtrQU13oKulmstue26t1w0sUMpuDpH1cbsvp5Imte58eXEAN7TgdK/WZu1FosDLfXW2K4WKhNpuFBWVcVO/FPuoo6umfksnp37gu1tJaRI3jlpC6+x1DT2m3bbULrpbqyR9joQJKOcPgfUufWtlpKeR+nnT43PiaXMGMytGAcgERy7cnlE+0Vl2st7F2ZbHwNuMElvqLdLEyodojqIW1Dy6SLJPAgcI5OOWFqrpWfyT10MWzu20ck0Uck1FaWwse9jHzOFRWAiJjjmQgvZkNzjW3yqsEBERAREQEREBERAREQEREBERAWpvl5bB4jcPlIzj8lueou9S7lzqxDGXflHxWDyu9Q61BJWuL3ayS4klx8pPHKEy+1c8kztUjy53ZnqA8jR1NHyL5FH5VyYxZQjzb5p9CBqyL4ULfAF8K5AoUQC5YXFq5hBxK22y21dwtT9dvrZ6Yk+NGx33mTy7yB+Y3nh1kZWpeuLipMX7escpifHheOx/hDVUTg250rZ28A6elIil7PfQyO0P4Z6nN+RQvli5TqraKoG8Bp6CB2aWiactacY385HCSpI7epoJDe0ugIGFw6z6F4x14xNxDNlytmWPWZc3FfB1JlfXrIwOLl8X1/YiI+EIAvq+FAC+oetAg49nzrivresj0ri7rA9KLaxUREenbs1znoqiGrpJn09VTyCWCeMgPjeARkZBBBaXNLXAtc1zmkEEgzKXamyVrt/cLHPS1hcJJKiw1zaKGeXOS/mFVBLFSuJwSYXAEknAKgSIL/5KeVx4qTaKBtNaKOqguL2196uNVcZoriaOR9JVTVVW9sEcRmiiDoGxaSZHEEuJ1U/tbtG2vjo2C22qhlpWzsmntlLHRiudK9jmyTxwgR5YGYbpAH3x+MAho0CIr4AgC+oiPgaB1ABC0deBlfUQfMDyL6iIPgaB1AD5EwvqIN1atk7hVU5qqejllgG+Ie3dh0u4bqnMETnCSq0N98Ymu04OcYWNuzFcaM3AUkvMxG6YzeIPvDZN06oEWreuphIdJmDdAIILuBU75O9prXRNtMk0scMlKKxlaJLa6vrHSVMlU2OajrJHFlDRthngLmQBkuqGfxZDLqWjuVfbpqenmdXVrJ6axUtmNDSxOhfO+kp20Rc6rfmL3MniaZXxOGsmR7NPHUg0l02OuFJC2aegmijc+KPqY57JZ2l8Ec0EbjLTyvAOlkjWudjgCthdOT+vpqPnFTTyxzOuVJbIaQRtmknmqoK2Uta6GR2mpY+kZGact15qWZ08A6dDbi1UslVPTyQytN2s1zpaWO1up53wWy4mpdTV1ymc+esuBhkH3yV7otUL3B+ZNI1ezW09rs7onQ1dTcsX+C5SA0j4C2j9zbxQPdid+JLgx1wje4cGOLGBrzxLQhtRsTcmzw0rqCZ09QyeSnjj3c++FMxz6kRPhc5kkkbWkuYDqbkAgFwBy1+wl1giknloJWwwwuqHSh8D2GCNuuWeExyHnETG8Xui1Bgzq0qUja6jpo46WGanfG2nvzy+3Wz3LpW1Nwsc1rpA2J2Z5J3PLN5IdLGtEQGvSXLWWbaalidaC9zw2i2fvlumxGTpqrh0g3DWD8ph90aXLhwGXZ96gi9VYKuKSqjkppGSUMTJqtrtP8AR4pHQMje85xpc6ppwME53rcZWuVj7bXHd2K2skjmhuV0pqOOvbMxzHSW+wyVVNa5y2TD9NQ2SA6yPG9ymkEgjNcICIiAiIgIiICIiAiIgIiICIurdandQySdobw/SPBv7SEGgvtVvJSBxbHljflHvj9PD/wrWy8flH7li3q4GVHmWZfcLrslX3eoOwuLjwWAyrg6XsQdhrsYXPK628TeIjs5X3UusHr46RCnYLlxcVgEia0Vn1LiSsWtC5CIZgV9JWDUmtFplcepMrE53ampEplymVhL0D0IhmBXEO4rEHIXItObzh2fLhcZPfD5Vwe7qXxzuIRVlooZ0rn8yHuv9tOlc/mQ91/tqLSZooZ0rn8yHuv9tOlc/mQ91/toUmaKGdK5/Mh7r/bTpXP5kPdf7aFJmihnSufzIe6/206Vz+ZD3X+2hSZooZ0rn8yHuv8AbTpXP5kPdf7aFJmihnSufzIe6/206Vz+ZD3X+2hSZooZ0rn8yHuv9tOlc/mQ91/toUmaKGdK5/Mh7r/bTpXP5kPdf7aFJmihnSufzIe6/wBtOlc/mQ91/toUmaKGdK5/Mh7r/bTpXP5kPdf7aFJo4knJJJwBknJwAGgZPYAAPkAXxQzpXP5kPdf7adK5/Mh7r/bQpM0UM6Vz+ZD3X+2nSufzIe6/20KTNFDOlc/mQ91/tp0rn8yHuv8AbQpM0UM6Vz+ZD3X+2nSufzIe6/20KTNFDOlc/mQ91/tp0rn8yHuv9tCkzRQzpXP5kPdf7adK5/Mh7r/bQpM0UM6Vz+ZD3X+2nSufzIe6/wBtCkzUd23qMRxR+e4uPyMHD9p/Ytd0rn8yHuv9ta67XN9S5rpAwFo0jQHAYznjknillOvqXzUseUyhTJqTUseUyhTmXICuGUyhTJqTUseUyhTJqTUseUyhTJqTUseUyhTJqTUseUyhTJqTUseUyhTJqX3WsWUyhTJqTUseUyhTJqXwuXDKZQpzz2L5lccplCnxERRRERAREQEREBERAREQEREBERAREQEREBERAREQEREBERAREQEREBERAREQEREBERAREQEREBERAREQEREBERAREQEREBERAREQEREBERAREQEREBERAREQEREBERAREQEREBERAREQEREBERAREQEREBERAREQEREBERAREQEREBERAREQEREBERAREQEREBERAREQEREBERAREQEREBERAREQEREBERAREQEREBERAREQEREBERAREQEREBERAREQEREBERAREQEREBERAREQEREBERAREQEREBERAREQf//Z\n"
                },
                "metadata": {}
              }
            ]
          }
        },
        "6fe4c60036974c409cf39b6366010716": {
          "model_module": "@jupyter-widgets/output",
          "model_name": "OutputModel",
          "model_module_version": "1.0.0",
          "state": {
            "_dom_classes": [],
            "_model_module": "@jupyter-widgets/output",
            "_model_module_version": "1.0.0",
            "_model_name": "OutputModel",
            "_view_count": null,
            "_view_module": "@jupyter-widgets/output",
            "_view_module_version": "1.0.0",
            "_view_name": "OutputView",
            "layout": "IPY_MODEL_3c6dca99595d4c1ab01de42b4294cc17",
            "msg_id": "",
            "outputs": [
              {
                "output_type": "stream",
                "name": "stdout",
                "text": [
                  "Video available at https://www.bilibili.com/video/BV1TP4y147pJ\n"
                ]
              },
              {
                "output_type": "display_data",
                "data": {
                  "text/plain": "<__main__.BiliVideo at 0x7fc5b8e61ad0>",
                  "text/html": "\n        <iframe\n            width=\"854\"\n            height=\"480\"\n            src=\"https://player.bilibili.com/player.html?bvid=BV1TP4y147pJ&page=1?fs=1\"\n            frameborder=\"0\"\n            allowfullscreen\n        ></iframe>\n        "
                },
                "metadata": {}
              }
            ]
          }
        },
        "59d8d99aa234476ba57761aad7a4cb0b": {
          "model_module": "@jupyter-widgets/base",
          "model_name": "LayoutModel",
          "model_module_version": "1.2.0",
          "state": {
            "_model_module": "@jupyter-widgets/base",
            "_model_module_version": "1.2.0",
            "_model_name": "LayoutModel",
            "_view_count": null,
            "_view_module": "@jupyter-widgets/base",
            "_view_module_version": "1.2.0",
            "_view_name": "LayoutView",
            "align_content": null,
            "align_items": null,
            "align_self": null,
            "border": null,
            "bottom": null,
            "display": null,
            "flex": null,
            "flex_flow": null,
            "grid_area": null,
            "grid_auto_columns": null,
            "grid_auto_flow": null,
            "grid_auto_rows": null,
            "grid_column": null,
            "grid_gap": null,
            "grid_row": null,
            "grid_template_areas": null,
            "grid_template_columns": null,
            "grid_template_rows": null,
            "height": null,
            "justify_content": null,
            "justify_items": null,
            "left": null,
            "margin": null,
            "max_height": null,
            "max_width": null,
            "min_height": null,
            "min_width": null,
            "object_fit": null,
            "object_position": null,
            "order": null,
            "overflow": null,
            "overflow_x": null,
            "overflow_y": null,
            "padding": null,
            "right": null,
            "top": null,
            "visibility": null,
            "width": null
          }
        },
        "f24d42db117f40b78163a2ecbab7d233": {
          "model_module": "@jupyter-widgets/base",
          "model_name": "LayoutModel",
          "model_module_version": "1.2.0",
          "state": {
            "_model_module": "@jupyter-widgets/base",
            "_model_module_version": "1.2.0",
            "_model_name": "LayoutModel",
            "_view_count": null,
            "_view_module": "@jupyter-widgets/base",
            "_view_module_version": "1.2.0",
            "_view_name": "LayoutView",
            "align_content": null,
            "align_items": null,
            "align_self": null,
            "border": null,
            "bottom": null,
            "display": null,
            "flex": null,
            "flex_flow": null,
            "grid_area": null,
            "grid_auto_columns": null,
            "grid_auto_flow": null,
            "grid_auto_rows": null,
            "grid_column": null,
            "grid_gap": null,
            "grid_row": null,
            "grid_template_areas": null,
            "grid_template_columns": null,
            "grid_template_rows": null,
            "height": null,
            "justify_content": null,
            "justify_items": null,
            "left": null,
            "margin": null,
            "max_height": null,
            "max_width": null,
            "min_height": null,
            "min_width": null,
            "object_fit": null,
            "object_position": null,
            "order": null,
            "overflow": null,
            "overflow_x": null,
            "overflow_y": null,
            "padding": null,
            "right": null,
            "top": null,
            "visibility": null,
            "width": null
          }
        },
        "3c6dca99595d4c1ab01de42b4294cc17": {
          "model_module": "@jupyter-widgets/base",
          "model_name": "LayoutModel",
          "model_module_version": "1.2.0",
          "state": {
            "_model_module": "@jupyter-widgets/base",
            "_model_module_version": "1.2.0",
            "_model_name": "LayoutModel",
            "_view_count": null,
            "_view_module": "@jupyter-widgets/base",
            "_view_module_version": "1.2.0",
            "_view_name": "LayoutView",
            "align_content": null,
            "align_items": null,
            "align_self": null,
            "border": null,
            "bottom": null,
            "display": null,
            "flex": null,
            "flex_flow": null,
            "grid_area": null,
            "grid_auto_columns": null,
            "grid_auto_flow": null,
            "grid_auto_rows": null,
            "grid_column": null,
            "grid_gap": null,
            "grid_row": null,
            "grid_template_areas": null,
            "grid_template_columns": null,
            "grid_template_rows": null,
            "height": null,
            "justify_content": null,
            "justify_items": null,
            "left": null,
            "margin": null,
            "max_height": null,
            "max_width": null,
            "min_height": null,
            "min_width": null,
            "object_fit": null,
            "object_position": null,
            "order": null,
            "overflow": null,
            "overflow_x": null,
            "overflow_y": null,
            "padding": null,
            "right": null,
            "top": null,
            "visibility": null,
            "width": null
          }
        },
        "884e0fef3c7445a2b6a72fc3a74c1672": {
          "model_module": "@jupyter-widgets/controls",
          "model_name": "TabModel",
          "model_module_version": "1.5.0",
          "state": {
            "_dom_classes": [],
            "_model_module": "@jupyter-widgets/controls",
            "_model_module_version": "1.5.0",
            "_model_name": "TabModel",
            "_titles": {
              "0": "Youtube",
              "1": "Bilibili"
            },
            "_view_count": null,
            "_view_module": "@jupyter-widgets/controls",
            "_view_module_version": "1.5.0",
            "_view_name": "TabView",
            "box_style": "",
            "children": [
              "IPY_MODEL_60d860f9448540c590566feda86bb692",
              "IPY_MODEL_e2d020b668e84bf3acc18450989dccb9"
            ],
            "layout": "IPY_MODEL_856bff6897864170a2f5fcf3fd2adc94",
            "selected_index": 0
          }
        },
        "60d860f9448540c590566feda86bb692": {
          "model_module": "@jupyter-widgets/output",
          "model_name": "OutputModel",
          "model_module_version": "1.0.0",
          "state": {
            "_dom_classes": [],
            "_model_module": "@jupyter-widgets/output",
            "_model_module_version": "1.0.0",
            "_model_name": "OutputModel",
            "_view_count": null,
            "_view_module": "@jupyter-widgets/output",
            "_view_module_version": "1.0.0",
            "_view_name": "OutputView",
            "layout": "IPY_MODEL_dff71955840f4a90a9775e6382885c4d",
            "msg_id": "",
            "outputs": [
              {
                "output_type": "stream",
                "name": "stdout",
                "text": [
                  "Video available at https://youtube.com/watch?v=8-5RM0k3IKE\n"
                ]
              },
              {
                "output_type": "display_data",
                "data": {
                  "text/plain": "<IPython.lib.display.YouTubeVideo at 0x7fc5c6b91a90>",
                  "text/html": "\n        <iframe\n            width=\"854\"\n            height=\"480\"\n            src=\"https://www.youtube.com/embed/8-5RM0k3IKE?fs=1&rel=0\"\n            frameborder=\"0\"\n            allowfullscreen\n        ></iframe>\n        ",
                  "image/jpeg": "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\n"
                },
                "metadata": {}
              }
            ]
          }
        },
        "e2d020b668e84bf3acc18450989dccb9": {
          "model_module": "@jupyter-widgets/output",
          "model_name": "OutputModel",
          "model_module_version": "1.0.0",
          "state": {
            "_dom_classes": [],
            "_model_module": "@jupyter-widgets/output",
            "_model_module_version": "1.0.0",
            "_model_name": "OutputModel",
            "_view_count": null,
            "_view_module": "@jupyter-widgets/output",
            "_view_module_version": "1.0.0",
            "_view_name": "OutputView",
            "layout": "IPY_MODEL_ef843fb4829649da9dc3c24b4b2ac9c5",
            "msg_id": "",
            "outputs": [
              {
                "output_type": "stream",
                "name": "stdout",
                "text": [
                  "Video available at https://www.bilibili.com/video/BV1uL411H7ZE\n"
                ]
              },
              {
                "output_type": "display_data",
                "data": {
                  "text/plain": "<__main__.BiliVideo at 0x7fc5b8e2e690>",
                  "text/html": "\n        <iframe\n            width=\"854\"\n            height=\"480\"\n            src=\"https://player.bilibili.com/player.html?bvid=BV1uL411H7ZE&page=1?fs=1\"\n            frameborder=\"0\"\n            allowfullscreen\n        ></iframe>\n        "
                },
                "metadata": {}
              }
            ]
          }
        },
        "856bff6897864170a2f5fcf3fd2adc94": {
          "model_module": "@jupyter-widgets/base",
          "model_name": "LayoutModel",
          "model_module_version": "1.2.0",
          "state": {
            "_model_module": "@jupyter-widgets/base",
            "_model_module_version": "1.2.0",
            "_model_name": "LayoutModel",
            "_view_count": null,
            "_view_module": "@jupyter-widgets/base",
            "_view_module_version": "1.2.0",
            "_view_name": "LayoutView",
            "align_content": null,
            "align_items": null,
            "align_self": null,
            "border": null,
            "bottom": null,
            "display": null,
            "flex": null,
            "flex_flow": null,
            "grid_area": null,
            "grid_auto_columns": null,
            "grid_auto_flow": null,
            "grid_auto_rows": null,
            "grid_column": null,
            "grid_gap": null,
            "grid_row": null,
            "grid_template_areas": null,
            "grid_template_columns": null,
            "grid_template_rows": null,
            "height": null,
            "justify_content": null,
            "justify_items": null,
            "left": null,
            "margin": null,
            "max_height": null,
            "max_width": null,
            "min_height": null,
            "min_width": null,
            "object_fit": null,
            "object_position": null,
            "order": null,
            "overflow": null,
            "overflow_x": null,
            "overflow_y": null,
            "padding": null,
            "right": null,
            "top": null,
            "visibility": null,
            "width": null
          }
        },
        "dff71955840f4a90a9775e6382885c4d": {
          "model_module": "@jupyter-widgets/base",
          "model_name": "LayoutModel",
          "model_module_version": "1.2.0",
          "state": {
            "_model_module": "@jupyter-widgets/base",
            "_model_module_version": "1.2.0",
            "_model_name": "LayoutModel",
            "_view_count": null,
            "_view_module": "@jupyter-widgets/base",
            "_view_module_version": "1.2.0",
            "_view_name": "LayoutView",
            "align_content": null,
            "align_items": null,
            "align_self": null,
            "border": null,
            "bottom": null,
            "display": null,
            "flex": null,
            "flex_flow": null,
            "grid_area": null,
            "grid_auto_columns": null,
            "grid_auto_flow": null,
            "grid_auto_rows": null,
            "grid_column": null,
            "grid_gap": null,
            "grid_row": null,
            "grid_template_areas": null,
            "grid_template_columns": null,
            "grid_template_rows": null,
            "height": null,
            "justify_content": null,
            "justify_items": null,
            "left": null,
            "margin": null,
            "max_height": null,
            "max_width": null,
            "min_height": null,
            "min_width": null,
            "object_fit": null,
            "object_position": null,
            "order": null,
            "overflow": null,
            "overflow_x": null,
            "overflow_y": null,
            "padding": null,
            "right": null,
            "top": null,
            "visibility": null,
            "width": null
          }
        },
        "ef843fb4829649da9dc3c24b4b2ac9c5": {
          "model_module": "@jupyter-widgets/base",
          "model_name": "LayoutModel",
          "model_module_version": "1.2.0",
          "state": {
            "_model_module": "@jupyter-widgets/base",
            "_model_module_version": "1.2.0",
            "_model_name": "LayoutModel",
            "_view_count": null,
            "_view_module": "@jupyter-widgets/base",
            "_view_module_version": "1.2.0",
            "_view_name": "LayoutView",
            "align_content": null,
            "align_items": null,
            "align_self": null,
            "border": null,
            "bottom": null,
            "display": null,
            "flex": null,
            "flex_flow": null,
            "grid_area": null,
            "grid_auto_columns": null,
            "grid_auto_flow": null,
            "grid_auto_rows": null,
            "grid_column": null,
            "grid_gap": null,
            "grid_row": null,
            "grid_template_areas": null,
            "grid_template_columns": null,
            "grid_template_rows": null,
            "height": null,
            "justify_content": null,
            "justify_items": null,
            "left": null,
            "margin": null,
            "max_height": null,
            "max_width": null,
            "min_height": null,
            "min_width": null,
            "object_fit": null,
            "object_position": null,
            "order": null,
            "overflow": null,
            "overflow_x": null,
            "overflow_y": null,
            "padding": null,
            "right": null,
            "top": null,
            "visibility": null,
            "width": null
          }
        },
        "fddbea6a27fb4b62b713e5c4f6879536": {
          "model_module": "@jupyter-widgets/controls",
          "model_name": "VBoxModel",
          "model_module_version": "1.5.0",
          "state": {
            "_dom_classes": [
              "widget-interact"
            ],
            "_model_module": "@jupyter-widgets/controls",
            "_model_module_version": "1.5.0",
            "_model_name": "VBoxModel",
            "_view_count": null,
            "_view_module": "@jupyter-widgets/controls",
            "_view_module_version": "1.5.0",
            "_view_name": "VBoxView",
            "box_style": "",
            "children": [
              "IPY_MODEL_04bb2608118e448b8a245c028bca07af",
              "IPY_MODEL_55e724ea7e454a2dba70077e9081ce83"
            ],
            "layout": "IPY_MODEL_9d72f9cc76e94b0bbd11c6dbcb800b4b"
          }
        },
        "04bb2608118e448b8a245c028bca07af": {
          "model_module": "@jupyter-widgets/controls",
          "model_name": "FloatSliderModel",
          "model_module_version": "1.5.0",
          "state": {
            "_dom_classes": [],
            "_model_module": "@jupyter-widgets/controls",
            "_model_module_version": "1.5.0",
            "_model_name": "FloatSliderModel",
            "_view_count": null,
            "_view_module": "@jupyter-widgets/controls",
            "_view_module_version": "1.5.0",
            "_view_name": "FloatSliderView",
            "continuous_update": true,
            "description": "p(s = left)",
            "description_tooltip": null,
            "disabled": false,
            "layout": "IPY_MODEL_034084dcd62548ce88bfa0b0d1bba531",
            "max": 1,
            "min": 0,
            "orientation": "horizontal",
            "readout": true,
            "readout_format": ".2f",
            "step": 0.01,
            "style": "IPY_MODEL_1009f2436b7d401593dc67da0f017bd1",
            "value": 0.4
          }
        },
        "55e724ea7e454a2dba70077e9081ce83": {
          "model_module": "@jupyter-widgets/output",
          "model_name": "OutputModel",
          "model_module_version": "1.0.0",
          "state": {
            "_dom_classes": [],
            "_model_module": "@jupyter-widgets/output",
            "_model_module_version": "1.0.0",
            "_model_name": "OutputModel",
            "_view_count": null,
            "_view_module": "@jupyter-widgets/output",
            "_view_module_version": "1.0.0",
            "_view_name": "OutputView",
            "layout": "IPY_MODEL_663cbd03761f44d19748a77cb88460d5",
            "msg_id": "",
            "outputs": [
              {
                "output_type": "display_data",
                "data": {
                  "text/plain": "<Figure size 1224x216 with 3 Axes>",
                  "image/png": "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\n"
                },
                "metadata": {
                  "image/png": {
                    "width": 674,
                    "height": 277
                  },
                  "needs_background": "light"
                }
              }
            ]
          }
        },
        "9d72f9cc76e94b0bbd11c6dbcb800b4b": {
          "model_module": "@jupyter-widgets/base",
          "model_name": "LayoutModel",
          "model_module_version": "1.2.0",
          "state": {
            "_model_module": "@jupyter-widgets/base",
            "_model_module_version": "1.2.0",
            "_model_name": "LayoutModel",
            "_view_count": null,
            "_view_module": "@jupyter-widgets/base",
            "_view_module_version": "1.2.0",
            "_view_name": "LayoutView",
            "align_content": null,
            "align_items": null,
            "align_self": null,
            "border": null,
            "bottom": null,
            "display": null,
            "flex": null,
            "flex_flow": null,
            "grid_area": null,
            "grid_auto_columns": null,
            "grid_auto_flow": null,
            "grid_auto_rows": null,
            "grid_column": null,
            "grid_gap": null,
            "grid_row": null,
            "grid_template_areas": null,
            "grid_template_columns": null,
            "grid_template_rows": null,
            "height": null,
            "justify_content": null,
            "justify_items": null,
            "left": null,
            "margin": null,
            "max_height": null,
            "max_width": null,
            "min_height": null,
            "min_width": null,
            "object_fit": null,
            "object_position": null,
            "order": null,
            "overflow": null,
            "overflow_x": null,
            "overflow_y": null,
            "padding": null,
            "right": null,
            "top": null,
            "visibility": null,
            "width": null
          }
        },
        "034084dcd62548ce88bfa0b0d1bba531": {
          "model_module": "@jupyter-widgets/base",
          "model_name": "LayoutModel",
          "model_module_version": "1.2.0",
          "state": {
            "_model_module": "@jupyter-widgets/base",
            "_model_module_version": "1.2.0",
            "_model_name": "LayoutModel",
            "_view_count": null,
            "_view_module": "@jupyter-widgets/base",
            "_view_module_version": "1.2.0",
            "_view_name": "LayoutView",
            "align_content": null,
            "align_items": null,
            "align_self": null,
            "border": null,
            "bottom": null,
            "display": null,
            "flex": null,
            "flex_flow": null,
            "grid_area": null,
            "grid_auto_columns": null,
            "grid_auto_flow": null,
            "grid_auto_rows": null,
            "grid_column": null,
            "grid_gap": null,
            "grid_row": null,
            "grid_template_areas": null,
            "grid_template_columns": null,
            "grid_template_rows": null,
            "height": null,
            "justify_content": null,
            "justify_items": null,
            "left": null,
            "margin": null,
            "max_height": null,
            "max_width": null,
            "min_height": null,
            "min_width": null,
            "object_fit": null,
            "object_position": null,
            "order": null,
            "overflow": null,
            "overflow_x": null,
            "overflow_y": null,
            "padding": null,
            "right": null,
            "top": null,
            "visibility": null,
            "width": null
          }
        },
        "1009f2436b7d401593dc67da0f017bd1": {
          "model_module": "@jupyter-widgets/controls",
          "model_name": "SliderStyleModel",
          "model_module_version": "1.5.0",
          "state": {
            "_model_module": "@jupyter-widgets/controls",
            "_model_module_version": "1.5.0",
            "_model_name": "SliderStyleModel",
            "_view_count": null,
            "_view_module": "@jupyter-widgets/base",
            "_view_module_version": "1.2.0",
            "_view_name": "StyleView",
            "description_width": "",
            "handle_color": null
          }
        },
        "663cbd03761f44d19748a77cb88460d5": {
          "model_module": "@jupyter-widgets/base",
          "model_name": "LayoutModel",
          "model_module_version": "1.2.0",
          "state": {
            "_model_module": "@jupyter-widgets/base",
            "_model_module_version": "1.2.0",
            "_model_name": "LayoutModel",
            "_view_count": null,
            "_view_module": "@jupyter-widgets/base",
            "_view_module_version": "1.2.0",
            "_view_name": "LayoutView",
            "align_content": null,
            "align_items": null,
            "align_self": null,
            "border": null,
            "bottom": null,
            "display": null,
            "flex": null,
            "flex_flow": null,
            "grid_area": null,
            "grid_auto_columns": null,
            "grid_auto_flow": null,
            "grid_auto_rows": null,
            "grid_column": null,
            "grid_gap": null,
            "grid_row": null,
            "grid_template_areas": null,
            "grid_template_columns": null,
            "grid_template_rows": null,
            "height": null,
            "justify_content": null,
            "justify_items": null,
            "left": null,
            "margin": null,
            "max_height": null,
            "max_width": null,
            "min_height": null,
            "min_width": null,
            "object_fit": null,
            "object_position": null,
            "order": null,
            "overflow": null,
            "overflow_x": null,
            "overflow_y": null,
            "padding": null,
            "right": null,
            "top": null,
            "visibility": null,
            "width": null
          }
        },
        "23b5fcf1dbee4889a6f5d6affcbc0fe9": {
          "model_module": "@jupyter-widgets/controls",
          "model_name": "TabModel",
          "model_module_version": "1.5.0",
          "state": {
            "_dom_classes": [],
            "_model_module": "@jupyter-widgets/controls",
            "_model_module_version": "1.5.0",
            "_model_name": "TabModel",
            "_titles": {
              "0": "Youtube",
              "1": "Bilibili"
            },
            "_view_count": null,
            "_view_module": "@jupyter-widgets/controls",
            "_view_module_version": "1.5.0",
            "_view_name": "TabView",
            "box_style": "",
            "children": [
              "IPY_MODEL_a3d2684a34cd4456a645fcd81a729a58",
              "IPY_MODEL_f5148f9454ee408895ef7dcaf7f29db9"
            ],
            "layout": "IPY_MODEL_db2ff318ec304a00a3a1b6cb4d8fad10",
            "selected_index": 0
          }
        },
        "a3d2684a34cd4456a645fcd81a729a58": {
          "model_module": "@jupyter-widgets/output",
          "model_name": "OutputModel",
          "model_module_version": "1.0.0",
          "state": {
            "_dom_classes": [],
            "_model_module": "@jupyter-widgets/output",
            "_model_module_version": "1.0.0",
            "_model_name": "OutputModel",
            "_view_count": null,
            "_view_module": "@jupyter-widgets/output",
            "_view_module_version": "1.0.0",
            "_view_name": "OutputView",
            "layout": "IPY_MODEL_0d77826058b0403d82c719f995e7aff1",
            "msg_id": "",
            "outputs": [
              {
                "output_type": "stream",
                "name": "stdout",
                "text": [
                  "Video available at https://youtube.com/watch?v=GHQbmsEyQjE\n"
                ]
              },
              {
                "output_type": "display_data",
                "data": {
                  "text/plain": "<IPython.lib.display.YouTubeVideo at 0x7fc5b88458d0>",
                  "text/html": "\n        <iframe\n            width=\"854\"\n            height=\"480\"\n            src=\"https://www.youtube.com/embed/GHQbmsEyQjE?fs=1&rel=0\"\n            frameborder=\"0\"\n            allowfullscreen\n        ></iframe>\n        ",
                  "image/jpeg": "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\n"
                },
                "metadata": {}
              }
            ]
          }
        },
        "f5148f9454ee408895ef7dcaf7f29db9": {
          "model_module": "@jupyter-widgets/output",
          "model_name": "OutputModel",
          "model_module_version": "1.0.0",
          "state": {
            "_dom_classes": [],
            "_model_module": "@jupyter-widgets/output",
            "_model_module_version": "1.0.0",
            "_model_name": "OutputModel",
            "_view_count": null,
            "_view_module": "@jupyter-widgets/output",
            "_view_module_version": "1.0.0",
            "_view_name": "OutputView",
            "layout": "IPY_MODEL_470fc412d50a4e36973ad7ed76d32192",
            "msg_id": "",
            "outputs": [
              {
                "output_type": "stream",
                "name": "stdout",
                "text": [
                  "Video available at https://www.bilibili.com/video/BV1po4y1D7Fu\n"
                ]
              },
              {
                "output_type": "display_data",
                "data": {
                  "text/plain": "<__main__.BiliVideo at 0x7fc5b8d97c50>",
                  "text/html": "\n        <iframe\n            width=\"854\"\n            height=\"480\"\n            src=\"https://player.bilibili.com/player.html?bvid=BV1po4y1D7Fu&page=1?fs=1\"\n            frameborder=\"0\"\n            allowfullscreen\n        ></iframe>\n        "
                },
                "metadata": {}
              }
            ]
          }
        },
        "db2ff318ec304a00a3a1b6cb4d8fad10": {
          "model_module": "@jupyter-widgets/base",
          "model_name": "LayoutModel",
          "model_module_version": "1.2.0",
          "state": {
            "_model_module": "@jupyter-widgets/base",
            "_model_module_version": "1.2.0",
            "_model_name": "LayoutModel",
            "_view_count": null,
            "_view_module": "@jupyter-widgets/base",
            "_view_module_version": "1.2.0",
            "_view_name": "LayoutView",
            "align_content": null,
            "align_items": null,
            "align_self": null,
            "border": null,
            "bottom": null,
            "display": null,
            "flex": null,
            "flex_flow": null,
            "grid_area": null,
            "grid_auto_columns": null,
            "grid_auto_flow": null,
            "grid_auto_rows": null,
            "grid_column": null,
            "grid_gap": null,
            "grid_row": null,
            "grid_template_areas": null,
            "grid_template_columns": null,
            "grid_template_rows": null,
            "height": null,
            "justify_content": null,
            "justify_items": null,
            "left": null,
            "margin": null,
            "max_height": null,
            "max_width": null,
            "min_height": null,
            "min_width": null,
            "object_fit": null,
            "object_position": null,
            "order": null,
            "overflow": null,
            "overflow_x": null,
            "overflow_y": null,
            "padding": null,
            "right": null,
            "top": null,
            "visibility": null,
            "width": null
          }
        },
        "0d77826058b0403d82c719f995e7aff1": {
          "model_module": "@jupyter-widgets/base",
          "model_name": "LayoutModel",
          "model_module_version": "1.2.0",
          "state": {
            "_model_module": "@jupyter-widgets/base",
            "_model_module_version": "1.2.0",
            "_model_name": "LayoutModel",
            "_view_count": null,
            "_view_module": "@jupyter-widgets/base",
            "_view_module_version": "1.2.0",
            "_view_name": "LayoutView",
            "align_content": null,
            "align_items": null,
            "align_self": null,
            "border": null,
            "bottom": null,
            "display": null,
            "flex": null,
            "flex_flow": null,
            "grid_area": null,
            "grid_auto_columns": null,
            "grid_auto_flow": null,
            "grid_auto_rows": null,
            "grid_column": null,
            "grid_gap": null,
            "grid_row": null,
            "grid_template_areas": null,
            "grid_template_columns": null,
            "grid_template_rows": null,
            "height": null,
            "justify_content": null,
            "justify_items": null,
            "left": null,
            "margin": null,
            "max_height": null,
            "max_width": null,
            "min_height": null,
            "min_width": null,
            "object_fit": null,
            "object_position": null,
            "order": null,
            "overflow": null,
            "overflow_x": null,
            "overflow_y": null,
            "padding": null,
            "right": null,
            "top": null,
            "visibility": null,
            "width": null
          }
        },
        "470fc412d50a4e36973ad7ed76d32192": {
          "model_module": "@jupyter-widgets/base",
          "model_name": "LayoutModel",
          "model_module_version": "1.2.0",
          "state": {
            "_model_module": "@jupyter-widgets/base",
            "_model_module_version": "1.2.0",
            "_model_name": "LayoutModel",
            "_view_count": null,
            "_view_module": "@jupyter-widgets/base",
            "_view_module_version": "1.2.0",
            "_view_name": "LayoutView",
            "align_content": null,
            "align_items": null,
            "align_self": null,
            "border": null,
            "bottom": null,
            "display": null,
            "flex": null,
            "flex_flow": null,
            "grid_area": null,
            "grid_auto_columns": null,
            "grid_auto_flow": null,
            "grid_auto_rows": null,
            "grid_column": null,
            "grid_gap": null,
            "grid_row": null,
            "grid_template_areas": null,
            "grid_template_columns": null,
            "grid_template_rows": null,
            "height": null,
            "justify_content": null,
            "justify_items": null,
            "left": null,
            "margin": null,
            "max_height": null,
            "max_width": null,
            "min_height": null,
            "min_width": null,
            "object_fit": null,
            "object_position": null,
            "order": null,
            "overflow": null,
            "overflow_x": null,
            "overflow_y": null,
            "padding": null,
            "right": null,
            "top": null,
            "visibility": null,
            "width": null
          }
        },
        "8714c93f0fd14e998117255538fdae96": {
          "model_module": "@jupyter-widgets/controls",
          "model_name": "TabModel",
          "model_module_version": "1.5.0",
          "state": {
            "_dom_classes": [],
            "_model_module": "@jupyter-widgets/controls",
            "_model_module_version": "1.5.0",
            "_model_name": "TabModel",
            "_titles": {
              "0": "Youtube",
              "1": "Bilibili"
            },
            "_view_count": null,
            "_view_module": "@jupyter-widgets/controls",
            "_view_module_version": "1.5.0",
            "_view_name": "TabView",
            "box_style": "",
            "children": [
              "IPY_MODEL_477e3fb89fd548928624ea045774dc83",
              "IPY_MODEL_e0bdcd73874943ba887571581acf6e2d"
            ],
            "layout": "IPY_MODEL_4ed87ed46cd54345aa81c1793cae49ed",
            "selected_index": 0
          }
        },
        "477e3fb89fd548928624ea045774dc83": {
          "model_module": "@jupyter-widgets/output",
          "model_name": "OutputModel",
          "model_module_version": "1.0.0",
          "state": {
            "_dom_classes": [],
            "_model_module": "@jupyter-widgets/output",
            "_model_module_version": "1.0.0",
            "_model_name": "OutputModel",
            "_view_count": null,
            "_view_module": "@jupyter-widgets/output",
            "_view_module_version": "1.0.0",
            "_view_name": "OutputView",
            "layout": "IPY_MODEL_37ad1134f56f4e1ea182e3fd9800042e",
            "msg_id": "",
            "outputs": [
              {
                "output_type": "stream",
                "name": "stdout",
                "text": [
                  "Video available at https://youtube.com/watch?v=Yv8MDjdm1l4\n"
                ]
              },
              {
                "output_type": "display_data",
                "data": {
                  "text/plain": "<IPython.lib.display.YouTubeVideo at 0x7fc5b884e410>",
                  "text/html": "\n        <iframe\n            width=\"854\"\n            height=\"480\"\n            src=\"https://www.youtube.com/embed/Yv8MDjdm1l4?fs=1&rel=0\"\n            frameborder=\"0\"\n            allowfullscreen\n        ></iframe>\n        ",
                  "image/jpeg": "/9j/4AAQSkZJRgABAQAAAQABAAD/2wCEAAUDBAkICAgICAgICAgICAgICAgICQgICAgICAgICAgICAgIChALCAgOCQgIDRUNDhERExMTCAsWGBYSGBASExIBBQUFCAcIDQgIDhINDQ8SEhISEhISEhISEhISEhISEhISEhISEhISEhISEhISEhISEhISEhISEhISEhISEhISEv/AABEIAWgB4AMBIgACEQEDEQH/xAAdAAEAAgIDAQEAAAAAAAAAAAAABgcDBQIECAEJ/8QAWRAAAQMDAQMGBwkMCAMFCQAAAQACAwQFERIGEyEHFBYxQZIIIlFSYdHSFTJTVHGBkZPiGCMzNkJVcpShsbK0JDRic3R1s8E3dvAlNYK14QkXVmODlcLT8f/EABoBAQEAAwEBAAAAAAAAAAAAAAABAwQFAgb/xAAlEQEAAgICAgEFAQEBAAAAAAAAARECAwQSITFBEyJRYXGBkRT/2gAMAwEAAhEDEQA/APGSIiAiIgIiICIiAiIgIiICIiAiIgIiICIiAiIgIiICIiAiIgIiICIiAiIgIiICIiAiIgIiICIiAiIgIiICIiAiIgIiICIiAiIgIiICIiAiIgIiICIiAiIgIiICIiAiIgIiICIiAiIgIiICIiAiIgIiICIiAiIgIiICIiAiIgIiICIiAiIgIiICIiAiIgIiICIiAiIgIiICLf8ARSfz4e8/2E6KT+fD3n+wg0CLf9FJ/Ph7z/YTopP58Pef7CDQIt/0Un8+HvP9hOik/nw95/sINAi3/RSfz4e8/wBhOik/nw95/sINAi3/AEUn8+HvP9hOik/nw95/sINAi3/RSfz4e8/2E6KT+fD3n+wg0CLf9FJ/Ph7z/YTopP58Pef7CDQIt/0Un8+HvP8AYTopP58Pef7CDQIt/wBFJ/Ph7z/YTopP58Pef7CDQIt/0Un8+HvP9hOik/nw95/sINAi3/RSfz4e8/2E6KT+fD3n+wg0CLf9FJ/Ph7z/AGE6KT+fD3n+wg0CLf8ARSfz4e8/2E6KT+fD3n+wg0CLf9FJ/Ph7z/YTopP58Pef7CDQIt/0Un8+HvP9hOik/nw95/sINAi3/RSfz4e8/wBhOik/nw95/sINAi3/AEUn8+HvP9hOik/nw95/sINAi3/RSfz4e8/2E6KT+fD3n+wg0CLf9FJ/Ph7z/YTopP58Pef7CDQIt/0Un8+HvP8AYTopP58Pef7CDQIt/wBFJ/Ph7z/YTopP58Pef7CDQIt/0Un8+HvP9hOik/nw95/sINAi3/RSfz4e8/2E6KT+fD3n+wg0CLf9FJ/Ph7z/AGE6KT+fD3n+wg0CLf8ARSfz4e8/2E6KT+fD3n+wg0CLf9FJ/Ph7z/YTopP58Pef7CDQIt/0Un8+HvP9hOik/nw95/sINAi3/RSfz4e8/wBhOik/nw95/sINAi3/AEUn8+HvP9hOik/nw95/sINAi3/RSfz4e8/2E6KT+fD3n+wgmaIi9PIiIgIiICIiAiIgIiICIiAiIgIiICIiAiIgIiICIiAiIgIiICIiAiIgIiICIiAiIgIiICIiAiIgIiICIiAiIgIiICIiAiIgIiICIiAiKNS7VhrnN3BOkkZ3nkOPMUVJUUX6XD4ufrfsJ0uHxc/W/YQpKEUX6XD4ufrfsJ0uHxc/W/YQpKEUX6XD4ufrfsJ0uHxc/W/YQpKEUX6XD4ufrfsJ0uHxc/W/YQpKEUX6XD4ufrfsJ0uHxc/W/YQpKEUX6XD4ufrfsJ0uHxc/W/YQpKEUX6XD4ufrfsJ0uHxc/W/YQpKEUX6XD4ufrfsJ0uHxc/W/YQpKEUX6XD4ufrfsJ0uHxc/W/YQpKEUX6XD4ufrfsJ0uHxc/W/YQpKEUX6XD4ufrfsJ0uHxc/W/YQpKEUX6XD4ufrfsJ0uHxc/W/YQpKEUX6XD4ufrfsJ0uHxc/W/YQpKEUX6XD4ufrfsJ0uHxc/W/YQpKEUX6XD4ufrfsJ0uHxc/W/YQpKEUco9qBJJHHuCNb2MzvM41ODc40cetSNAREVQREQEREBERAREQEREBERAREQEREBERAREQEREBERACrKr/CP/AE3fxFWaFWVX+Ef+m7+IqSsMSIiiiIiAiIgKScmOy3u3eLdaRPzbn9Syn3+7326158fda268Y6tQ+VRtWR4MH447O/5nB/ugteo8Fq2ivktDNubb7rsIYLfNRiCd0jo2ysjDTXFznFjmuw1rjg5wqF5TdiK3Z251FpuLGNqacsOuJxfBNHIwPjmgkc1pfE5p6yAQQ5pAc0gewtqeQyS6coFZfn3W3ClpKuhuD7fRzOqL0XUNNRuZA+kDWinMjoR4xeSA9hAOeHnbl927Ze9sn190ttZS0NPU0dNNbJ2mnuAt9K9pmimbqbuquRjpnYDvE3rQHHTqIVCi9V8j22my1+u9JYG7A2+noKwvpm1e/kqa6D71IYpJakxCXLiwNJEgc3XnU4t46zkl2NslDyhXXZa6UUNfQTy1dJb3VOoyU8rBzqkG9a4eMafeREj3zzGRjqQeZ0Vm2zklqJNtBsk8vDhdH0skw0h/MYtU76xgIIyaFpmaD5zQVbMXJnZ9p+UOttNupY7fYLFAW1vMw9hqnUUjY6hu8dnTK+rndFqByY6Yubx6g8sovYmw9NYNpbi/ZyXk/mslBUx1MVuvUcVRFXQOghkkgmqp5YR472RE4e+Qay1jhIHFyq/wcuSmiuG2tVYby4Sw2t1ybLC17oRWz2+oFNuQ5rg9rCS+QhpzpiIz1lBRam3J1sZR3SivlVV3yjtUtqojVUlJU7ne3aYQ1UgpKXeVEbt5qp42eI2Q5qGcOoGyOWfbm3RR3Gy1HJ5RWGt0llLUh25rKXTL4k500wbVscGOAc1+h2okOcOvD4M+yVvuNh29qa6jhqZ7bYnVNBLKCXUs4o7rJvYsHg7XDEePwYQUOinfJHtLZbW+rqLzY/d2bRCLfTyVD6aljk1P38lSWZ3o0FmGOY8Eg+94FXrHb7FtjsftFcodmqTZ642GHnUE1AC2KeMRPnwcRsbKHNgmYQ4O05Y4EZwg8novRfgd7C2i9UG1/uzHA1lJboHQ3CZuo2sSw3PfVsY1AZjETJOPwIU05GK/YjaK5v2Tpdk2x0clNUc1vVRUF90qH07N46aQ7veUznjePGmUgaWjQA7SwPICLa7X2nmFxr6HXvOZVtVSbwjBfzad8OvHZnRnHpWqQEREBERAREQduz/1mn/v4v8AUarHVcWf+s0/9/F/qNVjqwkiIiqCIiAiIgIiICIiAiIgIiICIiAiIgIiICIiAiIgIiIAVZVf4R/6bv4irNCrKr/CP/Td/EVJWGJERRRERAREQFZHgwfjjs7/AJnB/uq3XZtlfNSzR1FNNLTzwuD4p4JHxTRPHU+OSMhzHDygoPVnLXyQbWV23lbdbHRTwsdWUUlJdDNBTwwmOjpInzlzn6zGxzH5Aa4uDXANdnBlXLbbLJeOVPZy3VQgnAo3MurA9rY5aiKKuqrfSVGHcZS5sILHcXMmhbxBAHk2TlO2gcC120N8c0jBa66V5BHkIM3EKLtqHiQSh7xKH7wSBzhIJA7UHh+ch+rjnryg952Ko24G2baaSmbatkaG4SRRxwR0FJbTbQ58VDol/CVE02af72w5D5caIxlrfOfhSw19n27r7luZqZ/ujBcLdUSRPbFMYG00sc0D3DTM1sjWg6ScOBBwRhVxtDt/ebiyKOvvF0rI4XNfEypramZjJGZLJQ2SQjejJ8f33pXU2n2quV2fE653GtuD4m7uF1bUzVBiadIIY6d50A6WknhkjJyeKD3vtTcrZRUVbyo02htXXbMUlNSQua1+m4VD9DHS6T98ma80cDse9ZSS8cZXnjwEtt4LftJU09fUCEXqkdSx1MrhqNfvmSwh0shwHSffgC7Op7ox2rp+EfthbYrBs1sjYq2Kvo7bAay4VUGvcz3GQyA6DJhzfvstdLpOQBUxAHxVQKD1ntXdeVqhuMlvZJc60CV7IKykttBLRzxBxEc3OGUpjpw5oDtMrmubnBAKpXZzZvae47SXM0LJ3bS0FRXXCuNPNTwVLKqKtENc+J0b2xPfzioILIiQ4OdpBHBail5VdoooBTR7Q3pkAAa2NlxrGhrQMBjCJcsjxw0jA9C0Fr2hrqWpdW0tdWU1Y8vc+rgqJoal5kdrkLp43iRxc7iSTxPFB7T2brrttBsptHFyh2nm0Fro5JaG61tHzCt502GY7yCJzW6pmuEAbJC1rZN5uyJNRCqzwRPxb5S/+W3/AMhelSG1O3t4usbYbld7lXQsLS2Gqq6iaIOaCA/dPeW7zBPjYzx61rLTfqykjqYaSsq6WKsj3NXFTzzQx1UJa9hiqWRuDZ49Mkg0vBGJHDtKD0v4IOzw6N7R3q00FJc9q6KZkNuhqmxyupIXRRO5xTxye9ne19ZpP5ZpQwHBcDZmwdPthXbJ7Yx7Tc5mr621VHuTQSMpm1rmilqmzbuhpGB7Ncr4WNaW5c5uAOrPiHZfaWvtc3OLbXVdBOW6XS0k8tO9zNQdoeYnDXHkA6XZBx1LvUm315irX3KO8XNtwkiMElbz2pNVJAS07l85k1viy1h0kkZY09YCC9PBPppIdnuU+GaN8UsWz8scsUjXMkjkZQ3xr45GOAcx7XAgg8QQVHPAS/Ha3/4a4/ycqqGm2ouMRrTHca6M3IPFxLKqoZz8SbzeCt0v/pQdvpc7zVnevz74rrWO8VVDM2poaqpo6hgc1s9LNLTzND2lrw2WFwcAWkggHiCg3XK7+MN+/wA5un89OoustXUPlkfLK98ssr3SSSSOc+SSR7i573vcSXvLiSSeJJKxICIiAiIgIiIO3Z/6zT/38X+o1WOq4s/9Zp/7+L/UarHVhJERFUEREBERAREQEREBERAREQEREBERAREQEREBERAREQAqyq/wj/03fxFWaFWVX+Ef+m7+IqSsMSIiiiIiAiIgKef+5raf/wCG73/9vqv/ANaga9g+HbyiXqz7SUUFru1fQwPslNO+GmnkjidM6vuTHSOjadJeWRxgnHUxvkQeV9pNlLlbNAuVtr7eZM7sVtJUUmvHE6N+xur5lpl6+8F/lan2smqdj9rTHdqW5Us5pJp2RtqGSwR710OuNg1OETJZmTfhI3w8CcjRRFv5ILjW7U1uy9va2WppKysgdPMTHBHTUspZz2ocxrjHCW7s8ASTKxoBJAQVwi9CO8HGkrY66LZ7a23X670EL5prVDTup3StiIbIKWp5w9tQdRDQ4N0ansBc3UCqm5KuT+4bS3KO12yNjp3sdLJJK4sgpoGFrX1FQ9rXFkQc9jeDSSXtABJAQRRbey7M19bBV1VHQ1VTT0EYlrZ4IZJYqWMtkfrqHsBETNMUhy7HBjvIrvu/IFs/STS0U/KFaI7hBrZNTOo8Qxzx5D4H1fPdDJGvBaWkBwIIIBGFpOQWyXaq2c20nt14FuoqS3MkudGaWKoNzh5tcXCETSeNTeIyZupnw2fyQgpRFZvIdyRTbSi4VUldT2m1WqJstwuVU1z2RB7ZHNZHEHNEr9MTifHaGjHHLmg/OVbk+s9rooau07V0d/dJUinkpoqV1HUQtMUkm/MUlQ9zosxhucAZkbxQQtuy9wNAboKGrNtbJujX7mTmgl1Bm7M+nRr1EDGesrTq8aaxXc8m81eLyBZRdBG6y80hJdPziJu/57+EHjlrtPV4q0nI7yKz32iqrvWXCksdionbua6V3FjpSWjd08Wtm9IdJG3Jc0F0rWt1Oy0BVKK89pPB/jfa6u7bM7Q0W00FubvLhBBA6jrKeIBzt6KZ8she3SyR3EtJET9OsghRzkH5Hp9rG3fm9WKeW10rKhkO4M76t8gn0QR4kbu3F0IGTn344cEFXovSll8FZlSZLf0ss7do44HyvskYE5ikaM7meqZPrY5uW6i2F2nJOHDBNObBcnFwvF9Zs9BG2Gv39RBPvid1Smk3nOnTvjDsNZunjhnLtIGS4IIcivHbbkZsNvp7judurdV3G3RTufbuZOgM09OHaqWCpdVuZJKXNLQGgnPYqOQEREBERAREQduz/wBZp/7+L/UarHVcWf8ArNP/AH8X+o1WOrCSIiKoIiICIiAiIgIi6NwrxGOAznqPl+Tt+dSZWIt3XEDrOFjNSwHGsZHWo3K+WY5wePAAuA+jK6coe08XY9GSD+0cV47SvVMo5Gu96QfkK5qGRVzmAgO7fL2jtC21uvreDZsg9j8fxY/evUZJTeosNPUsk4seHfJ1/R1rMvQIiIgiIgIiICIiAiIgBVlV/hH/AKbv4irNCrKr/CP/AE3fxFSVhiREUUREQEREBemf/aO/jVQf8v0v/mN1XmZemNqfCjorrM2ouWw9kr52RiFk1ZI2okbC173tiD5aUkMD5JDjqy93lQazwCdlpqramO6aSyjs1NVT1E7hiISVNLNRxQueeAeWzSyfJA5Wp4LG0NLdtpuUOtjbzh9a2SahjicYqiooBUVbCIXEh0bntNCCeGHPZ1cFRfKJ4Q9zuVvks1vo7ds/Z5dTZKK0Q83M0bwN5FNKCAY3kHUI2x6gS12oEg17ycba1+z9xgulsm3NTASMOGuKeJ3CWnqI84kheOBHAghrmlrmtcAvzk/5ZNh9n69twtey94pqyNkkQea98o0St0yMdFPUuYfnHAgeRSXwIbmyrr9vKihZuauriFTbYnFu9jjlmuT2s8Xh4sktGDjhnT6FALh4QFjqZXVtTyfWSa5SEyTVLp/6PNO8l0k0tEaUtkc55LiXucSSckniqr2N5Rq+zXt19tm6pKh088rqaNhFE6GokL5KJ8AcNVJggBuQW6GOaWua1wCIztcHuEgcHhzg8PBDw8E6g4HiHZznK9K+Cj+J3KV/k8f8ld11Lr4R1oqJnV79gLHJdHkyPrJ5GzRvnPEzvpjSDW/V42S8uz+Vniq55LuVSSxWjaK0so46hu0NI2kkmdK6N1KGw1cOtjAwiU4qicEj3g8qDceDpywx7N+6FBcqBt0sd3jbHX0vi71paHs3kQkOiQGORzXMcW5xGQ5unxpPyzclFgm2edthsfVz+5sdTHT11tqy50lHJK6KIRxvfmVr2STQZjkdJqE4e2TSADBeSPlNo7PSVVBc9nLbf6SpnbUNFUdzU08gj3TtxU7uQxtLQ33rQevic4G05VuXB11tUVgtVoo9n7IyUTyUdK908lRM12tpnqCxmtofpdjTkuY0lxwAAn9F/wAGKj/PG/zkCy8pn/B/ZfmWvce6x55o143m8vG83/8AY51jGrhndY/JVSw8rEjdj5NkuZRmKStFZz3fO3gImZLu9xoxjLMZ1dq7fI7y01Fho6q01VBSXux1rt5UWquH3sSjSd7BLpdunF0cTuLXAGJrm6XeMgsj/wBnQJekN0J1czFjm5zqzuNRrKLc7zPia9AqMZ/J3uO1dzwG6ncxbczUr3x7q0iSmfnEjNDbg6F+ex4w0/KFCNpvCBaLXVWjZvZ+g2Zprg0sr5aaV1VWVMZBaY+cuijLWlj5G8Q4gSO0luTmL8ivKxJszDeoY6KOrF5ouZPc+Z0RgAZOzeNDWO3h+/ngce9Qb/wK5HP29sj3uLnuddHOc4lznOdZ7iXOcTxJJOcldWr2+qdmdv7xd6SNkzqe/wB6ZLTyEtZUU8tdUxzQlzeLHFpy12Dpc1pw4AtMQ5GtuH7N3uivUdO2rfRc5xTvkMTZOcUlRSHMjWuLcCcu6uOnHatps1ynCk2iuN9ntNDcIrnNcJKm2Vo31MY7hUGofG1zmkamO0gOc08AeGTwC8ajYzZPlFiuNbs4KiybSxQS11RbZsGlqnkt1y6AXNEbpXNZvYSzSZg58R1DPkpX/V+EVT0dFW02zOy1v2dqbjGYaqviqH1c4icHAtp8wR7lw1Eji5rTxDc4IoBAREQEREBERB27P/Waf+/i/wBRqsdVxZ/6zT/38X+o1WOrCSIiKoIiICIiAiLBWS6WnHvjwA9P/X71JmldO8XDd4a0t1Hjx4/sH71qpbs4jSAC7gA4jq/QYOB+XrXaiss87ySMautzsYA8uM5d5OCzyW5lOMaXSydhLTjt6hniFgyyiWaMZpoZJHE+OM9vHgc+jyLtRhz2ktIByGkZHH5ncDwXaNM5595oGOAPFvEdrD1dS6dRTOByGOYR2tLgPocTw+fCnYjB06uIg4e0A44EcCR6R2n5l09GD6VuYXl+GOYHHqHDGflHUf3hcpbS53FjSAezrAPbgr12pOl+mpp5HMcCHEOB4EHipXY7pvvEfgSN+YOA/wB1F6iiLcntGOv1pE8tkY9pwcgj5RjOV7iWOYr2nqLFSzCRjXjqcM/Ie0fSsqyIIiIgiIgIiICIiAFWVX+Ef+m7+IqzQqyq/wAI/wDTd/EVJWGJERRRERAREQEREBbhmy1xcARbq8ggEEUtQQQeIIIZxGFp1f3Izy87UVF92ft015mfRzXa00UsBgogH0slZTwPiLmwB4BiJbkHPHrQU10TuX5tuH6pUewtMvUHhK8ue01q2rvFvt94lpqOmmhbBA2Cje2NrqSnkcA6WBzj473HiT1qn7tyZyU+ydBtUatjoq65vtraMROEkbmNrHb0zatLm/0M+Lge/HHggr9FYEHJnI/ZOXarnbBFFcxbTR7p28Li2N2932rAH3z3uns61dt05Dtmeh9mrPd63UVTU1komv8AIyukhrdJrP6FHTOm0QvjwGlzQ3JpSe1B5SRWdyT8kE18gr7lPcKS0WK2ybqru9ZqMW9OnRDTwjBnmO8h8TU38NGBlzmtOw215FWw2eS/2C9Uu0drppBHXvp4JqKrodWA2SaincX7nJbk5DhqDtJaHOaFQrs0FBNUOc2CGWdzGGRzYY3yObG0gOe4MBIYC5vE8OIVv8mXIBUXyxMvrLpRUVM2ulpqs1g3UNHTU7N5PWzVBfjQBhoYG8XPbktGXCRciux1TSbS3mh2X2mo5hDs5UTy3VtCyaCppnS0BqKNkEkj91IJXR/fMk/ejwGUHnVFNuSzYmku3O5LhfrdYqWjbCXyVmuWondOZdLaOjjw6pLRC4uwQW6mcDq4SPlW5HGWmz0W0FsvNNfbPWVBpOcw08tJLDUaZXBktNK5zmNxDICXFpBDQR4wyEDuGyFwp7ZSXiakey210skNJVl0ZZNLC+WORjWh2sEOhlHED3hWiXonlK/4UbF/5rdf527rzsgIiICIiAiIgIiIO3Z/6zT/AN/F/qNVjquLP/Waf+/i/wBRqsdWEkREVQREQEREBc4ixpaXjJJIaMZ4kYB/afoXBSzYHZfndZESMxsZvpCfKG8APRqc36Fh3ZdcWfj4ds4hgobMyVhedbnE569PUOGDj95HyLoXigGPwL2F3DOvPjA9ZaOBBXoOm2VYGtiijaMtDSXk8B5T5PkXKn5OmH76QHOGS3LWkA+VgB6/+slc763nw7UcSKedLPYKlzmsLC9h62OGoY48c4Bae3JwtvV7FvOC8OweGRxDMeceGPJgK/6HYYQlz3B0j3cWtbjtzpBBcB1+X0rDW7LvA0OOB+U1uHEcfe9Xk458quWyXrDjY+nn6TYgtxKx3AYPUewnzhk9X7V8FCGHBAHDGeo/Qr1umzrWxkNGGt6h1nJ/JB8irbaegbGH4GMHtHEeTH7VPq37ev8AzRjFwrPaGzhwc5uM4PDHX1eRQgQEZGMjJ7OpWjU4LSep2riB1f2seQHj9CiG0VDu3nTghxcQfQTn5uJ6vStvVk5PJ1+bZtn35iwfyXEfTxWxXQsjMRn9LAXfW3HpoyIiKoIiICIiAiIgBVlV/hH/AKbv4irNCrKr/CP/AE3fxFSVhiREUUREQEREBERAUz5Cfxq2a/5gs3/mNMoYu5Y7pNQ1VNW0sm6qaOohqqeXSx+7np5GywyaJAWO0vY04cCDjiCgs7wwfx3v/wDiKf8AkaVTbaOkln5ILHuIpJtztPK6URMdJu2ubdo2uk0A6Gl80TcntlYOtwVCbXbRVd2rZ7jcJjUVlS5rp5iyOMyOaxsbToha1jcMY0cAOpSXk15Xr/s5FNT2a5vpIJ5N9LCYaWpiMugM3rWVcMjY5C1rAXNwXCNgOdIwF137ZWttPJG6K4076Wapv8NYyCUFszIJWxsjM0bgDE926LtJ46XNzjOBqNvIXP5Itlnsa5zYr5Xb1zQSI9dReA0vI96CS0ZPa4eUKo9oeVG+XCjqqCuuU1VS1lb7oVMczIXulqwxkbZN8Y961rWRRsbG1wY1rGgNAGF3OTrlj2h2ep5KS0XR9LTSSb50DoKSqjEpABextZDJuiQG50YzpGc4QWvBE+v5IN3btT32raB093ijaS/m5EzxI9oGXRNFTRvL+oCB/HxHY4+C7TvpNkeUK41QMNuqbKaGGWTxIqitfBXwxRxOcMOkbLVQM4Zw6pYOsqlOTzlAu2z076mz181FLK0Ml0COSKVrclomgna6KUtLnYLmkjU7GMlbHlF5Xb/tDFHBd7nLU08TtbKdkdPS0+vse+CkijZK9oJAc8Et1OwRk5C14pHN5HXhrnND9pQ14BID2jQ8NcB75uprXYPa0HsC6/gF/wDfd8/5Uuf83bVTPTe5e5HuDzo+5POeec03UGOc9W832733/h1Y9C+bC7aXGxzT1FqqjSTVNLLRTPEcEuulmfHJJFieNwbl0MZ1AB3i8DxKC0eRLk+tb9mr1tdeKOqu8FrqWUcNopZpKUSyFtM6Soq6mEGWOnaKqPizGkRyE6uAFgcob45eSlk1NZTY6aS/RSxUYkrZ2uicHBtUJq5xkkZITgOB08Bhef8Ak15Ub3s2Z/cW4yUYqdO/Zu6eoieWZ0vMNVE+MSDJGoAHHDOFt6rl22nmhucE15mnhu8b4q6KeKkmY+OSIwPZC2SEijaYnEYg3fYesAgLA5Sv+FGxf+a3X+du687KQ3LbS41Nqo7JNVF9rt8ss9HS7uBohlmfLJK8StjEr8vnlOHOIGvhjAxHkBERAREQEREBERB27P8A1mn/AL+L/UarHVcWb+s0/wDfxf6jVY6sJIiIqgiIgIiICvHkpDGtOAA58MPV2jdNxn58nh5FSNPC6R7I2DU97msa0dZc4gAfSVaGwdRNDcKehkaRJFDplwQR97LyMH8pul0f0rV5XnCm9wYnvdeF+WKMascOOMnHXjCmFLTtIHicG8cY6+HDGVE7AcsaeHA4P0lTK2yn5vJhczU7+2ftc+aNaC9zfGIIDeGG54cfK70rSXChZnPAdZ4dvDiVIqt3i8eHBai5MLve9Q4nPkxjt6lnzYNVoXfo2tYSB1j9o6yqZ24ja7LR154enr/erc2pe4NcMcANI7Or5FVl7i4+MM+MCAPp4rXvy28oqFa1o3fiuwNIaPlJJyOHoC0tfBvyGgcG++8hJ4A+XqAHzLcX+PeTyNbn32APLwPHrWoonuY5wcDndu+UgdZ+UEZXQ1x4cHlZeadWjg3bNPaOJ+Ql2P2grMuF2rCJMNaHE8OsAaWuIznHDhj6FzyDxa4OHY5uSD8mQtvGY9NDLGY8/AiIvbGIiICIiAiIgLhuW+Y3uj1LmiKx7lnmN7o9Sm3IlsHDtDd47ZLK6mY+Com3sUcb3gwtaQ3S/hg5UNVxeBz+NdP/AIKu/gYoLO+5EoPzvV/q1Kn3IlB+d6v9WpV6WRRXmn7kSg/O9X+rUqfciUH53q/1alXpZEHmn7kSg/O9X+rUqfciUH53q/1alXpZEHmn7kSg/O9X+rUqfciUH53q/wBWpV6WRB5p+5EoPzvV/q1Kn3IlB+d6v9WpV6WRB5p+5EoPzvV/q1Kn3IlB+d6v9WpV6WRB5p+5EoPzvV/q1Kn3IlB+d6v9WpV6WRB5p+5EoPzvV/q1Kn3IlB+d6v8AVqVelkQeafuRKD871f6tSp9yJQfner/VqVelkQeafuRKD871f6tSp9yJQfner/VqVelkQeafuRKD871f6tSp9yJQfner/VqVelkQeafuRKD871f6tSp9yJQfner/AFalXpZEHmn7kSg/O9X+rUqfciUH53q/1alXpZEHkLlU8GyistnrrpHcaid9HE2RsUlPTtY8uljjw5zeIGHk8PIvOW5Z5je6PUv0D8Jr8U71/h4/5mBeAFUlwETR+S36AuaIqgiIgIiICIiDZbLTMjrqN8pxG2phMh8jN40OPyAZPzK6dorPza+WqqaDmoirad5yMAwRtewDA4niRx81UIvQuz1Xz+02GqJ1y09RVQyuPZJzaWIOcfOIDe8tTkx6l0+BncZa/wBxP/PCytk5oy0HWM54jIwMdeexS+huUAOHSxtd1aS5vzdZyqauGzdRqjEcm5p3uBmk1antYTgiPIwDntcOGc9i0m0HJzUuuIlglPueXSPdK6p1yOZu6cMj0vIcyRj2TnIzqMzfehuFq6tcTEzDo79uUTEVPn8PQ1dUMLdWoEZxkHhx4D9669bVsZF1jJb2/wC6rfYyxTQljXVskrM4cHceAxjVn8rB6x5FF/CIu9bSiCnpHuj3rnNcWniWgHHHsyvPaZlkn7Y/iQ7Z3qnaHh80TXDBLdY/d5cqu7ndaaSJz2yNc3iCQRwUa5NdjWXIy1F3lke0wyiMl7g3fYxG127OtrQTnynTjI4ZjV32QmoWzb2pi0apC2NjnzDBe5zGtDuOA0tblxBwMnisuOmPcy19nI2TMVjcMNRIx8j3xuyWnUB5R+VgejC1d7cWzR4/KZ1+jHEf9eRZKGzTmPf6dBbp4DAB9OOwH6FsLhbHPigqPgxKHj0hpc0j5ws2FNHbjM+/lGbvKx7zHHnIwDnhk57PKNXastvYWxgHhxcceTJ6l0WvDqlo6msIBcO3Ser0nq/Ytu48Twxkk48meKy6o+WPk1jj1fERFnaIiIgIiICIiAiIgK4vA5/Gun/wVd/AxU6ri8Dn8a6f/BV38DFFe5ERFFEREBeevDKjdNNsbSb2oihrtpaWjqebzSwPkgqHRRSs3kTg4Za48exehV5x8Ne2Q1s2xdFUs3lNV7T0tLUR6nM1wVDoopWa2EOblj3DLSCM8EE/2c5DLNQVdPW07rqZqaVs0QmulfPFrYcjXFLKWSN9BCw7W8vVmtlyuVonZXyXC3CkApaanbPNcJa2COohp7dEyXXPLu5AXagxrdJy7qz3uTzkP2d2frPdC0251LV7qSDemrrpxupC0vboqJ3s4ljeOM8FX/JvQxP5VdtJ3xsdNBbrOIZHAF0Qmt1uEu7J96XBoBI44yOolBv+UPaG2Vs2xFZcG7QW6etusbrbRxthpniqL4MU97gkLnNhBDMtYc8XKYcrHKna9mo6c3B88lTWP3dFb6KI1NdWSZa3RBACB757W5c5oJc0ZyQFXnhQ/wDfvJ5/zNH/ABUq1O0m5j5XrY+4YDZdnXR2l8g8TnQkq8sjcfFEml1YADxzK0dbm5C1OTTlMbe55qY2PaKzyQwicG927mEczC8RkQP3rt48EtJGBwPaqv8ACwo+ebR7A26Sapjpa+tusFUymqJqZ0sf/ZXAvhcHcMnB7MlejV588JP8ceTX/Mrr+61IO1th4Pe5ppJ9mb3fbVdYGmWl1XSqno6iVnjNgqo5nk7t+NGc4GvJa8AtO+8HHlX93dmDdrm+OmqLa6opbvK8CCFklHGyaSpcDhsTXU8kcjgMNa4vAwBhWHtptNSWegqblcJ2U9LSxOkke8gZwPFijBP3yZ7sNawcXOc0DJK8dWexXCLki2hrXRSRy3q5e6+6ja9rxb31tuikfp98IXMpppNXUYnA8WnJC96XwjrO58Ek1DfqO1VUzYKbaCttr6eyTPeSI3CqfJrZE8g4e9jR4rydIa4jVbe1sto5SdnKkzObRbQ2ystMsRe7dirpXCZkoYTpMj3voIuoHgeJzhaN3Jpftp9l6WgG1FpdZa6ht7oGU9k3TmQQGnnp42PbVZjcwwsYRgEaXNIHELaeF9Z56XZa1XSN4mrdlrjaLhvtJBlMLo6WQ4ySxrp5IJD14EfzoIL4Vu2lbSbX2qsppZG2zZd1nmuwie8aXXSsle9k0bTiRj6WlibjGfvvDryLU8Ierkrbtsfs7TySR+6N4NyrXROIDrbZojUTwSFrgQybeYHZmL5jWcFpbtRsnyi35sbz7tVs9Rb3aXb2ag2biidbSGY1Ne4wTM0Yzlzh2raeCpfH7UX2S/y7xzLLszZ7DG54IZLXzsFTc52Ajg9s0cjM9rZWdeRgLI2QrLZ012nZBNeJLrFRW91fTzuhdaYojSUjoPc6Nv30TOj3Rdq4FxfjsUK5MvCIqq+93qiqrJe30sNXQU9vjpbRNzqgbUGdspvmZiKU5EZBP5MUpxwXd5Mf+KO3H+XWT+Qt65eDp+OfKSO3n9nOPRu7nx+TiPpQYL94QNRSbXz2g2e8z26moJy6CmtM01ynrIax8HPKdol++2h0bPFmAAJcFftrqxUQQziOWITxRzCKdhjmjEjA/dzRnjHK3OC3sIIVHzOA5WowSBnYsgek+6bzgeU4BPzFXygIiICIiCuPCa/FO9f4eP8AmYF4AXv/AMJr8U71/h4/5mBeAFYSRERVBERAREQEREBWxyHXMGlr6R54wvgrIBnqc97YJcDyYLe8qnW42Mq3Q19MWuLQ6Vkb8HGpj3AFp9HV9AWPbj2xmGxxdnTZE/Hqf5L1zbXiSIMwDkDgeo9h+VdhtjY4eMOHXxwcY6uDQM/OtTYbg1gaHYzgD6O35Vsp79I94hpog44BdI/xY4xniSe0+gcSuXFRD63LrMRMOxTsa1zA1ojja4ANbgAfR6Qqq5f6ln3p+MyNlbjq6jn5+pWOHyyy7rOXasOI4A48gPABVDy8072zMBGlsnVIT4vDPi8Oo8Exxl6nXEYzPzTo7BESvMT26XEZBHDGRx4j0KU1+xMDyJZw+QN8Zoe9zmg9fvS4tGMKrbHtLHSXFrIHteHMa1+slw1N7Qc+KT2q35dot7T+M0NOkHHDTxHWCPQrnFMOGWEzU/CtNuK4R5iZG0NY0tZpAAAOBgehRWef/s/Vk5HOAfq3YOO1dvbe6NlqSPyePAYyQOJ/cVrK54FHIzIIlm4AE50lpzjHZgBbOnFyedsjtUfCK22NpHV73iCesl3Xk+gAfSu8vjWgDAGAvq3McesU5O3Z3ysREXpiEREBERAREQEREBXF4HP410/+Crv4GKnVcHgePDdqqcuIA5lXcSQB7xnaVFe5kWHnUfwkffb6051H8JH32+tRWZFh51H8JH32+tOdR/CR99vrQZlDOVPk0t20jKSO5c5xQzmppnUs76aSObSGh4kj8YOGAQRjB4qW86j+Ej77fWnOo/hI++31oKytPIXbKaogqWV20Dn080U7Gy3mulic+GRsjWyRPfpkjJaAWngQSFK7PsJQ0l5uN+hbKLhdYqeGrc6Quicyliihh0RYwwhkLOI6+KkXOo/hI++31pzqP4SPvt9aCPbZ7C0N3qbVV1jZTNZqwV1EY5DG1tQDGQZGj8I3723gfSupyp8mdq2lghhutO57qWQy0lVDI+CrpJHABzoJ4zkA6WEsdlpMbCQSxpEs51H8JH32+tOdR/CR99vrQQfk65KaKyVLq2Osu9wrDTPoxU3a4T1z2U0kkMr4o2OxGwF9PCchufE6+tZeVLkstu0clBNcDVtlthqHUclHUyUkkbqncb12uLxtX9Hjwc8OPlUz51H8JH32+tOdR/CR99vrQVVS+Dts5v4qirp626vgOqJt2uFbXwsJxnME0m7kacDLXtcDjiFas9JE+J0D4o3wPjMT4XMa6J0Tm6HROjI0ujLSWlpGMHCc6j+Ej77fWnOo/hI++31oKkh8Hazwue2jrdoLfRSOe99robvV09uc55y/7yCXgHiMB4HH5MWLfdlaSttc1mnjcaGaj5i6MPdrEG7ETdMhy7W0AEOOTkArbc6j+Ej77fWnOo/hI++31oNHsJsXQ2W1w2ahic2hgbOxscr3SucKiWWabW93F2p80nzHHUF0eSfk3tuzFHLQ2mOWOCaodVSGaR00jpnRxRE63cQ3RCzDeocT2lSrnUfwkffb6051H8JH32+tBHbPsHQ0l5uN+hbKLhdIqeGrc6Quicymiiii0REYYQyFnEdfFR++cjVsqb2L/FPc7fcHuhNWbbWyUkNwFPo3bK2IAiWPEcYLWlocG8ckkmwudR/CR99vrTnUfwkffb60EE5TuSK23+qpLhUSV9DcqFhip7la6p1FWshcXkw75rTmP75L2ZG9kwRqOZ1bqUQQxQtdI8QxRxB8rzJK8RtDA6SR3F8hAyXHiSSV951H8JH32+tOdR/CR99vrQZkWHnUfwkffb6051H8JH32+tBmRYedR/CR99vrTnUfwkffb60FfeE1+Kd6/wAPH/MwLwAvffhL1DHbKXoB7Cebx8A5pP8AWYOwFeBFYSRERVBERAREQEREBc6eQsex462Oa4dnFpBH7lwRRXpLZm9R1lPDINQEjQRgjOrqc0eUggfSs9ZcpGPjYwSgOzgRte8gNzxkLc6flKpfk+v5izSvdpaX72F+SNEjQSW8OsHGR6QPKrt2PvW/3b3DG9Ba/wB778BpAGT2nr8i4+7VOGX6fQcbkRnjDG65zse6ppquB0oaQ6LeRhpAaG8BqyDnt6+PUqh5TZrvcWNFQx1O2PW4aQA1/EnVnrwAcfSr5utvpo9UssDXDi5wMbXA46gTjrVe7RPoZi8CjaHYIAcSfT4rTnDetZMesesnRzxxyxrtP4eeqGkfSP3kr2tLTkNcfGPZ1dqsPZO5V9VTv3cLt2CAHSAjV1jxR2jiPoXGt2fjllBip9LS/L3aMDGerOMgetb653b3OpssLQGNcCB6Q4DgOo5TPKMvXmXNjD6czN+EC29kayrETSNTGu1uByMjqAPZjP7Fwnc4U8bT1B/X/wCE8M9v/oo9FM6aZ8vv5JHZwRkeM709Zzxx/ZUmuLdMLW+SVwJ8pDeJ+nK29WNU5m7PvctaiItppCIiAiIgIiICIiAiIgLi9gcMEAjyEZH0FckQYubR/Bs7rfUnNo/g2d1vqWVEGLm0fwbO631JzaP4Nndb6llRBi5tH8Gzut9Sc2j+DZ3W+pZUQYubR/Bs7rfUnNo/g2d1vqWVEGLm0fwbO631JzaP4Nndb6llRBi5tH8Gzut9Sc2j+DZ3W+pZUQYubR/Bs7rfUnNo/g2d1vqWVEGLm0fwbO631JzaP4Nndb6llRBi5tH8Gzut9Sc2j+DZ3W+pZUQYubR/Bs7rfUnNo/g2d1vqWVEGLm0fwbO631JzaP4Nndb6llRBi5tH8Gzut9Sc2j+DZ3W+pZUQYubR/Bs7rfUnNo/g2d1vqWVEGNsDAchjAR2hoB+nCyIiAiIgIiICIiAiIgIiIPrOsfKOpXJsvNLbKlsM2t9PUNYYKnSHZkzwjkHU13ADs1asqorbSunmihYCXSSNYAPSQM/IBx+ZekXWyOan3MzA9hAaQR2dWQew9WD2LS5UxcRP7dLga5yjKY+KSdt91RtDmxnIy4nHHhjgAOI4HitDfJKcFx3bA8Z1ENGeJI4ZGDk44eRR250Nwo26qYCsjDSGMLmxzMjAxujqOmTqHjcCodftoq1uSKCdjng5Dy04e4EOw5riNPqC0+n4dOORGMfc7O0e07YnvhIYSQSCwBudAJ8Uflf/ANVTbX3l1TJpc52katPp4uwCBwIyP2elcrnFWPe58jDqHvXOdnQOIPAA/wDrhaJ9O5jsu4u7T5Pkx2LZ164xhzuTyMts16hsbNGIwHdTz1Y/efSpDWtLqUP68Tfscw//AJAqKU7yHgkn1Ka2uRj6Z8bupzMfIesEeQ5AWeMvNy1+t4zCPotGy6GnmkhqJC9owY5A0atJzwe1g6x6AtpSVsUv4ORr/QDxHytPELYibakxXh2ERFUEREBERAREQEREBERAREQEREBERAREQEREBERAREQEREBERAREQEREBERAREQEREBERAREQEREBERAWOombG0ucQAPpPoHlK1d3vjIssjxJJ1Hj4jD/aI6z6B+xR9tQ6R5fI4uc7tP5PoaPyR6EHojwdtld+wXaZ+t0r5Y4Ix+Dp443uY4HHvpnaeLj1DgOsq530+kE+TP7yqF8FXbuOlqXWaseGQ1smuikdwayrIw6Bzjwa2UNaW/2gfOXpe6UYwRjtP/AF8q5PIxyjZPb/P47/Dzw+nj1/3+tI+AuYSOIP0jA6jhaO52tj85APpGPmUlonY8X/ZYK6Icc9ZHyf8AovMT4Z9mFqk2nszQx2mM5+TH7ScKrLpZywuBGOzyntPYvQl7gB1cPk7eztKgN1s+p5JHzjj+zyrJjnTXz0Kfrafd6c4Havvui5oAaeI/2Wz24iDJQ0DGB29efkUQulQYmHz3jDfn6z9C2MPLS3fZNNLc5zJM93Xxx9HD6F1mkjBGQQcgg4I+QjqWQRr6GraiKc+Zvy2VBtBPHgOxM3+3wd3x/vlb2i2ggk4OJid5H+9744fThRAtXzSvSLFY8OGWkEHtBBH0hclXcEr4zljnMP8AZJbn5cda2lJtBOzg/TIP7Qw7vN9SCYItLSbRQu4PDoj5T4zfpHH9i28UjXAOa4OaeotIIPzhBzREQEW/2H2dZc5auE1kdJJT26ur4GvhkndWPoYXTvpImxkFsjoo53avGIELsNd1DrWHZi43Bm8obbcK2Pj99pKSpqYgW8CN7DGWagezOeCDUouxcaGamlMNTBPTTtAc6Gpikp5mgkgF0UzQ8AkHiR2FddAREQEREBERAREQEREBETKAiLsUtBPMyaSKCeWOnYJKiSKKSSOnjcdLZJ3saWwsLuAc4gZQddERAREQEREBERAREQEREBERAREQEREBFiqahkTS6RwY0drjj5h5T6FHLntMTltOMf8AzHDj8rW9nz/QgkFdWxwjVI8N8g63O/RaOJUWu1+km8SPMcZ8h8d3yke9HoH0rVSyue4ue4ucesuJJ/b+5cmDtPWgNGCB5FlYOK4M8q5s/wB0SZZ2PI7SCCCHNOC0g5DgR1HI61608HPlebdY47Vc3tFxjZpgncQ0VkbQAP8A64HWOGeteRys1NO6N7XxvdG9jg9j2Etcx4OQ5rhxBB7Vj2a4zhl07p1z49fL9Dqy3lrgQ3IXRuFIdJI+cFUxyQeEUzRHRX8aXNAay4sBLXjqHOWNBLHYx448Xgc6V6BjnpqynE1LNFNE9upskbg9j+GQWubkOC5+eqcPbuauRGfqbV7Xwg5H7McB1dS6MllLmOcB2Z/YpcyiDnaSOHb2/Lg+hZto6ylt1vqKurlbDTQRkySP6w3hpa1o4vkcSA1o4knCx44zMs2WVeZeW+USjZE6aom8SOPAB6tTuOlrQffEnyKnqud08hkcMDqa3sa0dQCk3KRta+8VbptJgpWOcKanOMsaT7+Ujg6Zw4k9QzgcOJjLupdPVr6xc+3B5O7vlNemIoFzcuJWRrPmF8wuS+Kpb5hfHhcwvhCPTEVnoqySF2qNxb5R+S70Ob1FY3DtXEBBYyIiC++SDb3mVNQ3W9y2+tpaAMsVooqejopr9SvwwGobIGsliom0hka7L3GQlg06nAv6XL7tWx9ZdqWYX+23Siq4aa300dwDrKaOKT+ttpWMjdTGal0yNDdeTJF4wAcFDNhaaOtsl/oY6SmluUAo7tSTbkOr3UtLLouUNPN74BkLo5RG3i4On4HhiI7ypuFUzVJPW1lXLDCx80r5p6iaQsggYZpnEvcSY2DUerSOACKm2xW1r7i+Cx36eWtt9XI2npquocZ66z1c7t3T1lJVSZlMG9dG2SF7iwszgDBDoLeqCSjqKmlnAE9JPPTTNGcCWnkfFIGkgEt1sOD2jCtDZzkuuJoqxrLLXs2jtd2t0jHVBZHQSUUrZODDL/RqoR1FPqe5riNEzCCQHNMR5Y6hk95r547jSXY1BZLJW0NO6kpJZnQsD2wROkkyxpaBrD36+LskkoJdfeSm3Wo0TrxtJFRxV9FTVUDYrdU1VRrlaTNvIoZCIaWMmPEzjmQl4DW6CTrqzkfrWbQOsLaineG0wuDri7MdMy2acvrpGai5gDvvegE+OQNWk6xm8Juuhqa20up5op2t2WtUZdC9krWyCSvcYyWEgP0vYdPXh7fKrSuW21BS7VDe1tLHS3LY2ktgr/vNTTUlS9880LqkO1RGHTjU14LfvkerDSSiKfrdhLfUUVfV2O+e6z7VAKmuppbfPbpDSai2StpHTSOE0TDxcw4c1uCTkta7U8oWxxtEFnmNQKj3WtFPdNIi3XNzO0O3Gdbt6Ggt8fxc8fFCsnaKK+0VBcH1t52UpKeegqqbTb4rOaq6xzR4fR0Yo6JsxZKOGslmnxXEDGW8dstn27SWjZuqobnaIGWyyQ2y5ivrWUr6GamZG1z5I3NLnRnEhHUSAwt1B+QVpaXkZdJfaCyC4jVW2SO8c4FKSIzI2cc2ERnGv75B+E1N4P8Ae8OPVtvJZBWVcVuoL7S1dbE2aa8ObS1MdutVNTtbv5m3CQhleGyuEY3YbqLgToAcRblNe6Bu3dnmir6V9GzZCGFlUZomRkt5/I1r3F2I5TCWv0HiA4cFTPg83ukp33K3XCoZRU98slTa+eyeLHSTyx6Y3zOPBkRDpAXEgAhmcDJBHYk5NqCspa2awX5t3qLbTuqqqikt9Tb5paaM4lqKIzPdv2t8wDPFvHLmh3KHkyoobVabzdL8ygo7nHM7dsoKisqmyxyYjigigeTMwxhz3ykNDCGNw8vGJNye2Loe64Xe7V9qe91qqqK30VBWMrJq+oqXQlrmNY0FtK0xNy9w4CTJDdPGM8qVZC/ZnYiGKaKSSno7uyZjHse+ImoomtErGnMZJjfjVjOh3kQd6/cklvtc0XuttNTU1FWtjktdRBQ1NTLVwSMY41M8Eb9NDTsMjBrc9wdxI04ONezkcrPd+ssclTBFHQU5raq6SNcKWO37tkgqjHqyHHeBu7LhhzJPG0tL198IqtinptmRBNFMY9k7fHIIntkMcgY8GN4YTokyD4pweCtTa/aW3TbTbQ26W4UsFPf9nKa2w3HeMkpYKrcSmJs8rHaWRubUEkkgeKwflhBXOz/JRbrsax1n2kZVx0NFUVM7ZrbU0lSHxtzDu4p5AJaWRweDIDmMhgLXawRvaTZaxP2Kje+9xRMdfWvfdvcSskmjqHUADrZuGu3742tJdvQ7dnHVldrka2RGz9XdZbrdLOyolsNwgpqamr4qh0jHGKWaokdhoijG4jDA7Dn65DpG7KjvJ/SsvGx89ip6uigukF8ZcmU9bUR0nOKU0ccBdA+Tg9zXl+R2aBnGpuStNbOTqjht9Nc75em2qmuDpvcyGOhnr6ysgiIBq3QRPBp6fBa7jnhJHxBc0Gb8k+zMEdLtrQU13oKulmstue26t1w0sUMpuDpH1cbsvp5Imte58eXEAN7TgdK/WZu1FosDLfXW2K4WKhNpuFBWVcVO/FPuoo6umfksnp37gu1tJaRI3jlpC6+x1DT2m3bbULrpbqyR9joQJKOcPgfUufWtlpKeR+nnT43PiaXMGMytGAcgERy7cnlE+0Vl2st7F2ZbHwNuMElvqLdLEyodojqIW1Dy6SLJPAgcI5OOWFqrpWfyT10MWzu20ck0Uck1FaWwse9jHzOFRWAiJjjmQgvZkNzjW3yqsEBERAREQEREBERAREQEREBERAWpvl5bB4jcPlIzj8lueou9S7lzqxDGXflHxWDyu9Q61BJWuL3ayS4klx8pPHKEy+1c8kztUjy53ZnqA8jR1NHyL5FH5VyYxZQjzb5p9CBqyL4ULfAF8K5AoUQC5YXFq5hBxK22y21dwtT9dvrZ6Yk+NGx33mTy7yB+Y3nh1kZWpeuLipMX7escpifHheOx/hDVUTg250rZ28A6elIil7PfQyO0P4Z6nN+RQvli5TqraKoG8Bp6CB2aWiactacY385HCSpI7epoJDe0ugIGFw6z6F4x14xNxDNlytmWPWZc3FfB1JlfXrIwOLl8X1/YiI+EIAvq+FAC+oetAg49nzrivresj0ri7rA9KLaxUREenbs1znoqiGrpJn09VTyCWCeMgPjeARkZBBBaXNLXAtc1zmkEEgzKXamyVrt/cLHPS1hcJJKiw1zaKGeXOS/mFVBLFSuJwSYXAEknAKgSIL/5KeVx4qTaKBtNaKOqguL2196uNVcZoriaOR9JVTVVW9sEcRmiiDoGxaSZHEEuJ1U/tbtG2vjo2C22qhlpWzsmntlLHRiudK9jmyTxwgR5YGYbpAH3x+MAho0CIr4AgC+oiPgaB1ABC0deBlfUQfMDyL6iIPgaB1AD5EwvqIN1atk7hVU5qqejllgG+Ie3dh0u4bqnMETnCSq0N98Ymu04OcYWNuzFcaM3AUkvMxG6YzeIPvDZN06oEWreuphIdJmDdAIILuBU75O9prXRNtMk0scMlKKxlaJLa6vrHSVMlU2OajrJHFlDRthngLmQBkuqGfxZDLqWjuVfbpqenmdXVrJ6axUtmNDSxOhfO+kp20Rc6rfmL3MniaZXxOGsmR7NPHUg0l02OuFJC2aegmijc+KPqY57JZ2l8Ec0EbjLTyvAOlkjWudjgCthdOT+vpqPnFTTyxzOuVJbIaQRtmknmqoK2Uta6GR2mpY+kZGact15qWZ08A6dDbi1UslVPTyQytN2s1zpaWO1up53wWy4mpdTV1ymc+esuBhkH3yV7otUL3B+ZNI1ezW09rs7onQ1dTcsX+C5SA0j4C2j9zbxQPdid+JLgx1wje4cGOLGBrzxLQhtRsTcmzw0rqCZ09QyeSnjj3c++FMxz6kRPhc5kkkbWkuYDqbkAgFwBy1+wl1giknloJWwwwuqHSh8D2GCNuuWeExyHnETG8Xui1Bgzq0qUja6jpo46WGanfG2nvzy+3Wz3LpW1Nwsc1rpA2J2Z5J3PLN5IdLGtEQGvSXLWWbaalidaC9zw2i2fvlumxGTpqrh0g3DWD8ph90aXLhwGXZ96gi9VYKuKSqjkppGSUMTJqtrtP8AR4pHQMje85xpc6ppwME53rcZWuVj7bXHd2K2skjmhuV0pqOOvbMxzHSW+wyVVNa5y2TD9NQ2SA6yPG9ymkEgjNcICIiAiIgIiICIiAiIgIiICIurdandQySdobw/SPBv7SEGgvtVvJSBxbHljflHvj9PD/wrWy8flH7li3q4GVHmWZfcLrslX3eoOwuLjwWAyrg6XsQdhrsYXPK628TeIjs5X3UusHr46RCnYLlxcVgEia0Vn1LiSsWtC5CIZgV9JWDUmtFplcepMrE53ampEplymVhL0D0IhmBXEO4rEHIXItObzh2fLhcZPfD5Vwe7qXxzuIRVlooZ0rn8yHuv9tOlc/mQ91/tqLSZooZ0rn8yHuv9tOlc/mQ91/toUmaKGdK5/Mh7r/bTpXP5kPdf7aFJmihnSufzIe6/206Vz+ZD3X+2hSZooZ0rn8yHuv8AbTpXP5kPdf7aFJmihnSufzIe6/206Vz+ZD3X+2hSZooZ0rn8yHuv9tOlc/mQ91/toUmaKGdK5/Mh7r/bTpXP5kPdf7aFJmihnSufzIe6/wBtOlc/mQ91/toUmaKGdK5/Mh7r/bTpXP5kPdf7aFJo4knJJJwBknJwAGgZPYAAPkAXxQzpXP5kPdf7adK5/Mh7r/bQpM0UM6Vz+ZD3X+2nSufzIe6/20KTNFDOlc/mQ91/tp0rn8yHuv8AbQpM0UM6Vz+ZD3X+2nSufzIe6/20KTNFDOlc/mQ91/tp0rn8yHuv9tCkzRQzpXP5kPdf7adK5/Mh7r/bQpM0UM6Vz+ZD3X+2nSufzIe6/wBtCkzUd23qMRxR+e4uPyMHD9p/Ytd0rn8yHuv9ta67XN9S5rpAwFo0jQHAYznjknillOvqXzUseUyhTJqTUseUyhTmXICuGUyhTJqTUseUyhTJqTUseUyhTJqTUseUyhTJqTUseUyhTJqTUseUyhTJqX3WsWUyhTJqTUseUyhTJqXwuXDKZQpzz2L5lccplCnxERRRERAREQEREBERAREQEREBERAREQEREBERAREQEREBERAREQEREBERAREQEREBERAREQEREBERAREQEREBERAREQEREBERAREQEREBERAREQEREBERAREQEREBERAREQEREBERAREQEREBERAREQEREBERAREQEREBERAREQEREBERAREQEREBERAREQEREBERAREQEREBERAREQEREBERAREQEREBERAREQEREBERAREQEREBERAREQEREBERAREQEREBERAREQEREBERAREQEREBERAREQEREBERAREQf//Z\n"
                },
                "metadata": {}
              }
            ]
          }
        },
        "e0bdcd73874943ba887571581acf6e2d": {
          "model_module": "@jupyter-widgets/output",
          "model_name": "OutputModel",
          "model_module_version": "1.0.0",
          "state": {
            "_dom_classes": [],
            "_model_module": "@jupyter-widgets/output",
            "_model_module_version": "1.0.0",
            "_model_name": "OutputModel",
            "_view_count": null,
            "_view_module": "@jupyter-widgets/output",
            "_view_module_version": "1.0.0",
            "_view_name": "OutputView",
            "layout": "IPY_MODEL_6dcf9779fdd44a9cbe610e221a22eb63",
            "msg_id": "",
            "outputs": [
              {
                "output_type": "stream",
                "name": "stdout",
                "text": [
                  "Video available at https://www.bilibili.com/video/BV1EK4y1u7AV\n"
                ]
              },
              {
                "output_type": "display_data",
                "data": {
                  "text/plain": "<__main__.BiliVideo at 0x7fc5b884e590>",
                  "text/html": "\n        <iframe\n            width=\"854\"\n            height=\"480\"\n            src=\"https://player.bilibili.com/player.html?bvid=BV1EK4y1u7AV&page=1?fs=1\"\n            frameborder=\"0\"\n            allowfullscreen\n        ></iframe>\n        "
                },
                "metadata": {}
              }
            ]
          }
        },
        "4ed87ed46cd54345aa81c1793cae49ed": {
          "model_module": "@jupyter-widgets/base",
          "model_name": "LayoutModel",
          "model_module_version": "1.2.0",
          "state": {
            "_model_module": "@jupyter-widgets/base",
            "_model_module_version": "1.2.0",
            "_model_name": "LayoutModel",
            "_view_count": null,
            "_view_module": "@jupyter-widgets/base",
            "_view_module_version": "1.2.0",
            "_view_name": "LayoutView",
            "align_content": null,
            "align_items": null,
            "align_self": null,
            "border": null,
            "bottom": null,
            "display": null,
            "flex": null,
            "flex_flow": null,
            "grid_area": null,
            "grid_auto_columns": null,
            "grid_auto_flow": null,
            "grid_auto_rows": null,
            "grid_column": null,
            "grid_gap": null,
            "grid_row": null,
            "grid_template_areas": null,
            "grid_template_columns": null,
            "grid_template_rows": null,
            "height": null,
            "justify_content": null,
            "justify_items": null,
            "left": null,
            "margin": null,
            "max_height": null,
            "max_width": null,
            "min_height": null,
            "min_width": null,
            "object_fit": null,
            "object_position": null,
            "order": null,
            "overflow": null,
            "overflow_x": null,
            "overflow_y": null,
            "padding": null,
            "right": null,
            "top": null,
            "visibility": null,
            "width": null
          }
        },
        "37ad1134f56f4e1ea182e3fd9800042e": {
          "model_module": "@jupyter-widgets/base",
          "model_name": "LayoutModel",
          "model_module_version": "1.2.0",
          "state": {
            "_model_module": "@jupyter-widgets/base",
            "_model_module_version": "1.2.0",
            "_model_name": "LayoutModel",
            "_view_count": null,
            "_view_module": "@jupyter-widgets/base",
            "_view_module_version": "1.2.0",
            "_view_name": "LayoutView",
            "align_content": null,
            "align_items": null,
            "align_self": null,
            "border": null,
            "bottom": null,
            "display": null,
            "flex": null,
            "flex_flow": null,
            "grid_area": null,
            "grid_auto_columns": null,
            "grid_auto_flow": null,
            "grid_auto_rows": null,
            "grid_column": null,
            "grid_gap": null,
            "grid_row": null,
            "grid_template_areas": null,
            "grid_template_columns": null,
            "grid_template_rows": null,
            "height": null,
            "justify_content": null,
            "justify_items": null,
            "left": null,
            "margin": null,
            "max_height": null,
            "max_width": null,
            "min_height": null,
            "min_width": null,
            "object_fit": null,
            "object_position": null,
            "order": null,
            "overflow": null,
            "overflow_x": null,
            "overflow_y": null,
            "padding": null,
            "right": null,
            "top": null,
            "visibility": null,
            "width": null
          }
        },
        "6dcf9779fdd44a9cbe610e221a22eb63": {
          "model_module": "@jupyter-widgets/base",
          "model_name": "LayoutModel",
          "model_module_version": "1.2.0",
          "state": {
            "_model_module": "@jupyter-widgets/base",
            "_model_module_version": "1.2.0",
            "_model_name": "LayoutModel",
            "_view_count": null,
            "_view_module": "@jupyter-widgets/base",
            "_view_module_version": "1.2.0",
            "_view_name": "LayoutView",
            "align_content": null,
            "align_items": null,
            "align_self": null,
            "border": null,
            "bottom": null,
            "display": null,
            "flex": null,
            "flex_flow": null,
            "grid_area": null,
            "grid_auto_columns": null,
            "grid_auto_flow": null,
            "grid_auto_rows": null,
            "grid_column": null,
            "grid_gap": null,
            "grid_row": null,
            "grid_template_areas": null,
            "grid_template_columns": null,
            "grid_template_rows": null,
            "height": null,
            "justify_content": null,
            "justify_items": null,
            "left": null,
            "margin": null,
            "max_height": null,
            "max_width": null,
            "min_height": null,
            "min_width": null,
            "object_fit": null,
            "object_position": null,
            "order": null,
            "overflow": null,
            "overflow_x": null,
            "overflow_y": null,
            "padding": null,
            "right": null,
            "top": null,
            "visibility": null,
            "width": null
          }
        },
        "10b2c0f71c8549a0821c7e240a5b521c": {
          "model_module": "@jupyter-widgets/controls",
          "model_name": "TabModel",
          "model_module_version": "1.5.0",
          "state": {
            "_dom_classes": [],
            "_model_module": "@jupyter-widgets/controls",
            "_model_module_version": "1.5.0",
            "_model_name": "TabModel",
            "_titles": {
              "0": "Youtube",
              "1": "Bilibili"
            },
            "_view_count": null,
            "_view_module": "@jupyter-widgets/controls",
            "_view_module_version": "1.5.0",
            "_view_name": "TabView",
            "box_style": "",
            "children": [
              "IPY_MODEL_899d1a1b9aaf4fbea8b1db6012950730",
              "IPY_MODEL_68ed7343e8b74baaa7b28bd9e02a7cde"
            ],
            "layout": "IPY_MODEL_394fbc0135a14515999f7a218b12a492",
            "selected_index": 0
          }
        },
        "899d1a1b9aaf4fbea8b1db6012950730": {
          "model_module": "@jupyter-widgets/output",
          "model_name": "OutputModel",
          "model_module_version": "1.0.0",
          "state": {
            "_dom_classes": [],
            "_model_module": "@jupyter-widgets/output",
            "_model_module_version": "1.0.0",
            "_model_name": "OutputModel",
            "_view_count": null,
            "_view_module": "@jupyter-widgets/output",
            "_view_module_version": "1.0.0",
            "_view_name": "OutputView",
            "layout": "IPY_MODEL_3415cad2fa9f459da32a24412dbf7c6b",
            "msg_id": "",
            "outputs": [
              {
                "output_type": "stream",
                "name": "stdout",
                "text": [
                  "Video available at https://youtube.com/watch?v=iprFMHch2_g\n"
                ]
              },
              {
                "output_type": "display_data",
                "data": {
                  "text/plain": "<IPython.lib.display.YouTubeVideo at 0x7fc5b8cd19d0>",
                  "text/html": "\n        <iframe\n            width=\"854\"\n            height=\"480\"\n            src=\"https://www.youtube.com/embed/iprFMHch2_g?fs=1&rel=0\"\n            frameborder=\"0\"\n            allowfullscreen\n        ></iframe>\n        ",
                  "image/jpeg": "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\n"
                },
                "metadata": {}
              }
            ]
          }
        },
        "68ed7343e8b74baaa7b28bd9e02a7cde": {
          "model_module": "@jupyter-widgets/output",
          "model_name": "OutputModel",
          "model_module_version": "1.0.0",
          "state": {
            "_dom_classes": [],
            "_model_module": "@jupyter-widgets/output",
            "_model_module_version": "1.0.0",
            "_model_name": "OutputModel",
            "_view_count": null,
            "_view_module": "@jupyter-widgets/output",
            "_view_module_version": "1.0.0",
            "_view_name": "OutputView",
            "layout": "IPY_MODEL_28c6f8ae80844e6aa0cf99ca8d42dd22",
            "msg_id": "",
            "outputs": [
              {
                "output_type": "stream",
                "name": "stdout",
                "text": [
                  "Video available at https://www.bilibili.com/video/BV1Zq4y1p7N6\n"
                ]
              },
              {
                "output_type": "display_data",
                "data": {
                  "text/plain": "<__main__.BiliVideo at 0x7fc5b8cd1a90>",
                  "text/html": "\n        <iframe\n            width=\"854\"\n            height=\"480\"\n            src=\"https://player.bilibili.com/player.html?bvid=BV1Zq4y1p7N6&page=1?fs=1\"\n            frameborder=\"0\"\n            allowfullscreen\n        ></iframe>\n        "
                },
                "metadata": {}
              }
            ]
          }
        },
        "394fbc0135a14515999f7a218b12a492": {
          "model_module": "@jupyter-widgets/base",
          "model_name": "LayoutModel",
          "model_module_version": "1.2.0",
          "state": {
            "_model_module": "@jupyter-widgets/base",
            "_model_module_version": "1.2.0",
            "_model_name": "LayoutModel",
            "_view_count": null,
            "_view_module": "@jupyter-widgets/base",
            "_view_module_version": "1.2.0",
            "_view_name": "LayoutView",
            "align_content": null,
            "align_items": null,
            "align_self": null,
            "border": null,
            "bottom": null,
            "display": null,
            "flex": null,
            "flex_flow": null,
            "grid_area": null,
            "grid_auto_columns": null,
            "grid_auto_flow": null,
            "grid_auto_rows": null,
            "grid_column": null,
            "grid_gap": null,
            "grid_row": null,
            "grid_template_areas": null,
            "grid_template_columns": null,
            "grid_template_rows": null,
            "height": null,
            "justify_content": null,
            "justify_items": null,
            "left": null,
            "margin": null,
            "max_height": null,
            "max_width": null,
            "min_height": null,
            "min_width": null,
            "object_fit": null,
            "object_position": null,
            "order": null,
            "overflow": null,
            "overflow_x": null,
            "overflow_y": null,
            "padding": null,
            "right": null,
            "top": null,
            "visibility": null,
            "width": null
          }
        },
        "3415cad2fa9f459da32a24412dbf7c6b": {
          "model_module": "@jupyter-widgets/base",
          "model_name": "LayoutModel",
          "model_module_version": "1.2.0",
          "state": {
            "_model_module": "@jupyter-widgets/base",
            "_model_module_version": "1.2.0",
            "_model_name": "LayoutModel",
            "_view_count": null,
            "_view_module": "@jupyter-widgets/base",
            "_view_module_version": "1.2.0",
            "_view_name": "LayoutView",
            "align_content": null,
            "align_items": null,
            "align_self": null,
            "border": null,
            "bottom": null,
            "display": null,
            "flex": null,
            "flex_flow": null,
            "grid_area": null,
            "grid_auto_columns": null,
            "grid_auto_flow": null,
            "grid_auto_rows": null,
            "grid_column": null,
            "grid_gap": null,
            "grid_row": null,
            "grid_template_areas": null,
            "grid_template_columns": null,
            "grid_template_rows": null,
            "height": null,
            "justify_content": null,
            "justify_items": null,
            "left": null,
            "margin": null,
            "max_height": null,
            "max_width": null,
            "min_height": null,
            "min_width": null,
            "object_fit": null,
            "object_position": null,
            "order": null,
            "overflow": null,
            "overflow_x": null,
            "overflow_y": null,
            "padding": null,
            "right": null,
            "top": null,
            "visibility": null,
            "width": null
          }
        },
        "28c6f8ae80844e6aa0cf99ca8d42dd22": {
          "model_module": "@jupyter-widgets/base",
          "model_name": "LayoutModel",
          "model_module_version": "1.2.0",
          "state": {
            "_model_module": "@jupyter-widgets/base",
            "_model_module_version": "1.2.0",
            "_model_name": "LayoutModel",
            "_view_count": null,
            "_view_module": "@jupyter-widgets/base",
            "_view_module_version": "1.2.0",
            "_view_name": "LayoutView",
            "align_content": null,
            "align_items": null,
            "align_self": null,
            "border": null,
            "bottom": null,
            "display": null,
            "flex": null,
            "flex_flow": null,
            "grid_area": null,
            "grid_auto_columns": null,
            "grid_auto_flow": null,
            "grid_auto_rows": null,
            "grid_column": null,
            "grid_gap": null,
            "grid_row": null,
            "grid_template_areas": null,
            "grid_template_columns": null,
            "grid_template_rows": null,
            "height": null,
            "justify_content": null,
            "justify_items": null,
            "left": null,
            "margin": null,
            "max_height": null,
            "max_width": null,
            "min_height": null,
            "min_width": null,
            "object_fit": null,
            "object_position": null,
            "order": null,
            "overflow": null,
            "overflow_x": null,
            "overflow_y": null,
            "padding": null,
            "right": null,
            "top": null,
            "visibility": null,
            "width": null
          }
        },
        "8a28d85b5ac14d78a9f4df34bac84e80": {
          "model_module": "@jupyter-widgets/controls",
          "model_name": "VBoxModel",
          "model_module_version": "1.5.0",
          "state": {
            "_dom_classes": [
              "widget-interact"
            ],
            "_model_module": "@jupyter-widgets/controls",
            "_model_module_version": "1.5.0",
            "_model_name": "VBoxModel",
            "_view_count": null,
            "_view_module": "@jupyter-widgets/controls",
            "_view_module_version": "1.5.0",
            "_view_name": "VBoxView",
            "box_style": "",
            "children": [
              "IPY_MODEL_20365e30ee24481c8f9cc1522ccb1eb3",
              "IPY_MODEL_fafafd04c0fb40138c1d528bf276a35a",
              "IPY_MODEL_22e878f12d69422eb1129dcf05102dc2",
              "IPY_MODEL_e7b746d49959415e9790500e1744de36"
            ],
            "layout": "IPY_MODEL_3d4f1cd05efb42bfbfd6ccbd44a92972"
          }
        },
        "20365e30ee24481c8f9cc1522ccb1eb3": {
          "model_module": "@jupyter-widgets/controls",
          "model_name": "FloatSliderModel",
          "model_module_version": "1.5.0",
          "state": {
            "_dom_classes": [],
            "_model_module": "@jupyter-widgets/controls",
            "_model_module_version": "1.5.0",
            "_model_name": "FloatSliderModel",
            "_view_count": null,
            "_view_module": "@jupyter-widgets/controls",
            "_view_module_version": "1.5.0",
            "_view_name": "FloatSliderView",
            "continuous_update": true,
            "description": "p(color=golden)",
            "description_tooltip": null,
            "disabled": false,
            "layout": "IPY_MODEL_c428920b77a24b669940faffea410241",
            "max": 0.99,
            "min": 0.01,
            "orientation": "horizontal",
            "readout": true,
            "readout_format": ".2f",
            "step": 0.01,
            "style": "IPY_MODEL_c99a611e2b9d4f2c9798fd5b34f0fa72",
            "value": 0.44
          }
        },
        "fafafd04c0fb40138c1d528bf276a35a": {
          "model_module": "@jupyter-widgets/controls",
          "model_name": "FloatSliderModel",
          "model_module_version": "1.5.0",
          "state": {
            "_dom_classes": [],
            "_model_module": "@jupyter-widgets/controls",
            "_model_module_version": "1.5.0",
            "_model_name": "FloatSliderModel",
            "_view_count": null,
            "_view_module": "@jupyter-widgets/controls",
            "_view_module_version": "1.5.0",
            "_view_name": "FloatSliderView",
            "continuous_update": true,
            "description": "p(size=large)",
            "description_tooltip": null,
            "disabled": false,
            "layout": "IPY_MODEL_7302ae1220b24f7ab5cfba376e2e3450",
            "max": 0.99,
            "min": 0.01,
            "orientation": "horizontal",
            "readout": true,
            "readout_format": ".2f",
            "step": 0.01,
            "style": "IPY_MODEL_1287a2b502094e79af5711376bb69fbf",
            "value": 0.25
          }
        },
        "22e878f12d69422eb1129dcf05102dc2": {
          "model_module": "@jupyter-widgets/controls",
          "model_name": "FloatSliderModel",
          "model_module_version": "1.5.0",
          "state": {
            "_dom_classes": [],
            "_model_module": "@jupyter-widgets/controls",
            "_model_module_version": "1.5.0",
            "_model_name": "FloatSliderModel",
            "_view_count": null,
            "_view_module": "@jupyter-widgets/controls",
            "_view_module_version": "1.5.0",
            "_view_name": "FloatSliderView",
            "continuous_update": true,
            "description": "ρ",
            "description_tooltip": null,
            "disabled": false,
            "layout": "IPY_MODEL_8124f3f6517e452c8c0f24e1e5aeb823",
            "max": 0.6413389472789294,
            "min": -0.501766315719159,
            "orientation": "horizontal",
            "readout": true,
            "readout_format": ".2f",
            "step": 0.01,
            "style": "IPY_MODEL_def28b78ee2b4aa9a228fe049edc2b75",
            "value": -0.501766315719159
          }
        },
        "e7b746d49959415e9790500e1744de36": {
          "model_module": "@jupyter-widgets/output",
          "model_name": "OutputModel",
          "model_module_version": "1.0.0",
          "state": {
            "_dom_classes": [],
            "_model_module": "@jupyter-widgets/output",
            "_model_module_version": "1.0.0",
            "_model_name": "OutputModel",
            "_view_count": null,
            "_view_module": "@jupyter-widgets/output",
            "_view_module_version": "1.0.0",
            "_view_name": "OutputView",
            "layout": "IPY_MODEL_b789d9ee3a6b462d8d6ba1d605cefaa1",
            "msg_id": "",
            "outputs": [
              {
                "output_type": "display_data",
                "data": {
                  "text/plain": "<Figure size 360x360 with 3 Axes>",
                  "image/png": "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\n"
                },
                "metadata": {
                  "image/png": {
                    "width": 397,
                    "height": 361
                  },
                  "needs_background": "light"
                }
              },
              {
                "output_type": "display_data",
                "data": {
                  "text/plain": "<Figure size 360x360 with 3 Axes>",
                  "image/png": "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\n"
                },
                "metadata": {
                  "image/png": {
                    "width": 397,
                    "height": 361
                  },
                  "needs_background": "light"
                }
              }
            ]
          }
        },
        "3d4f1cd05efb42bfbfd6ccbd44a92972": {
          "model_module": "@jupyter-widgets/base",
          "model_name": "LayoutModel",
          "model_module_version": "1.2.0",
          "state": {
            "_model_module": "@jupyter-widgets/base",
            "_model_module_version": "1.2.0",
            "_model_name": "LayoutModel",
            "_view_count": null,
            "_view_module": "@jupyter-widgets/base",
            "_view_module_version": "1.2.0",
            "_view_name": "LayoutView",
            "align_content": null,
            "align_items": null,
            "align_self": null,
            "border": null,
            "bottom": null,
            "display": null,
            "flex": null,
            "flex_flow": null,
            "grid_area": null,
            "grid_auto_columns": null,
            "grid_auto_flow": null,
            "grid_auto_rows": null,
            "grid_column": null,
            "grid_gap": null,
            "grid_row": null,
            "grid_template_areas": null,
            "grid_template_columns": null,
            "grid_template_rows": null,
            "height": null,
            "justify_content": null,
            "justify_items": null,
            "left": null,
            "margin": null,
            "max_height": null,
            "max_width": null,
            "min_height": null,
            "min_width": null,
            "object_fit": null,
            "object_position": null,
            "order": null,
            "overflow": null,
            "overflow_x": null,
            "overflow_y": null,
            "padding": null,
            "right": null,
            "top": null,
            "visibility": null,
            "width": null
          }
        },
        "c428920b77a24b669940faffea410241": {
          "model_module": "@jupyter-widgets/base",
          "model_name": "LayoutModel",
          "model_module_version": "1.2.0",
          "state": {
            "_model_module": "@jupyter-widgets/base",
            "_model_module_version": "1.2.0",
            "_model_name": "LayoutModel",
            "_view_count": null,
            "_view_module": "@jupyter-widgets/base",
            "_view_module_version": "1.2.0",
            "_view_name": "LayoutView",
            "align_content": null,
            "align_items": null,
            "align_self": null,
            "border": null,
            "bottom": null,
            "display": null,
            "flex": null,
            "flex_flow": null,
            "grid_area": "widget002",
            "grid_auto_columns": null,
            "grid_auto_flow": null,
            "grid_auto_rows": null,
            "grid_column": null,
            "grid_gap": null,
            "grid_row": null,
            "grid_template_areas": null,
            "grid_template_columns": null,
            "grid_template_rows": null,
            "height": null,
            "justify_content": null,
            "justify_items": null,
            "left": null,
            "margin": null,
            "max_height": null,
            "max_width": null,
            "min_height": null,
            "min_width": null,
            "object_fit": null,
            "object_position": null,
            "order": null,
            "overflow": null,
            "overflow_x": null,
            "overflow_y": null,
            "padding": null,
            "right": null,
            "top": null,
            "visibility": null,
            "width": null
          }
        },
        "c99a611e2b9d4f2c9798fd5b34f0fa72": {
          "model_module": "@jupyter-widgets/controls",
          "model_name": "SliderStyleModel",
          "model_module_version": "1.5.0",
          "state": {
            "_model_module": "@jupyter-widgets/controls",
            "_model_module_version": "1.5.0",
            "_model_name": "SliderStyleModel",
            "_view_count": null,
            "_view_module": "@jupyter-widgets/base",
            "_view_module_version": "1.2.0",
            "_view_name": "StyleView",
            "description_width": "initial",
            "handle_color": null
          }
        },
        "7302ae1220b24f7ab5cfba376e2e3450": {
          "model_module": "@jupyter-widgets/base",
          "model_name": "LayoutModel",
          "model_module_version": "1.2.0",
          "state": {
            "_model_module": "@jupyter-widgets/base",
            "_model_module_version": "1.2.0",
            "_model_name": "LayoutModel",
            "_view_count": null,
            "_view_module": "@jupyter-widgets/base",
            "_view_module_version": "1.2.0",
            "_view_name": "LayoutView",
            "align_content": null,
            "align_items": null,
            "align_self": null,
            "border": null,
            "bottom": null,
            "display": null,
            "flex": null,
            "flex_flow": null,
            "grid_area": "widget003",
            "grid_auto_columns": null,
            "grid_auto_flow": null,
            "grid_auto_rows": null,
            "grid_column": null,
            "grid_gap": null,
            "grid_row": null,
            "grid_template_areas": null,
            "grid_template_columns": null,
            "grid_template_rows": null,
            "height": null,
            "justify_content": null,
            "justify_items": null,
            "left": null,
            "margin": null,
            "max_height": null,
            "max_width": null,
            "min_height": null,
            "min_width": null,
            "object_fit": null,
            "object_position": null,
            "order": null,
            "overflow": null,
            "overflow_x": null,
            "overflow_y": null,
            "padding": null,
            "right": null,
            "top": null,
            "visibility": null,
            "width": null
          }
        },
        "1287a2b502094e79af5711376bb69fbf": {
          "model_module": "@jupyter-widgets/controls",
          "model_name": "SliderStyleModel",
          "model_module_version": "1.5.0",
          "state": {
            "_model_module": "@jupyter-widgets/controls",
            "_model_module_version": "1.5.0",
            "_model_name": "SliderStyleModel",
            "_view_count": null,
            "_view_module": "@jupyter-widgets/base",
            "_view_module_version": "1.2.0",
            "_view_name": "StyleView",
            "description_width": "initial",
            "handle_color": null
          }
        },
        "8124f3f6517e452c8c0f24e1e5aeb823": {
          "model_module": "@jupyter-widgets/base",
          "model_name": "LayoutModel",
          "model_module_version": "1.2.0",
          "state": {
            "_model_module": "@jupyter-widgets/base",
            "_model_module_version": "1.2.0",
            "_model_name": "LayoutModel",
            "_view_count": null,
            "_view_module": "@jupyter-widgets/base",
            "_view_module_version": "1.2.0",
            "_view_name": "LayoutView",
            "align_content": null,
            "align_items": null,
            "align_self": null,
            "border": null,
            "bottom": null,
            "display": null,
            "flex": null,
            "flex_flow": null,
            "grid_area": "widget001",
            "grid_auto_columns": null,
            "grid_auto_flow": null,
            "grid_auto_rows": null,
            "grid_column": null,
            "grid_gap": null,
            "grid_row": null,
            "grid_template_areas": null,
            "grid_template_columns": null,
            "grid_template_rows": null,
            "height": null,
            "justify_content": null,
            "justify_items": null,
            "left": null,
            "margin": null,
            "max_height": null,
            "max_width": null,
            "min_height": null,
            "min_width": null,
            "object_fit": null,
            "object_position": null,
            "order": null,
            "overflow": null,
            "overflow_x": null,
            "overflow_y": null,
            "padding": null,
            "right": null,
            "top": null,
            "visibility": null,
            "width": null
          }
        },
        "def28b78ee2b4aa9a228fe049edc2b75": {
          "model_module": "@jupyter-widgets/controls",
          "model_name": "SliderStyleModel",
          "model_module_version": "1.5.0",
          "state": {
            "_model_module": "@jupyter-widgets/controls",
            "_model_module_version": "1.5.0",
            "_model_name": "SliderStyleModel",
            "_view_count": null,
            "_view_module": "@jupyter-widgets/base",
            "_view_module_version": "1.2.0",
            "_view_name": "StyleView",
            "description_width": "",
            "handle_color": null
          }
        },
        "b789d9ee3a6b462d8d6ba1d605cefaa1": {
          "model_module": "@jupyter-widgets/base",
          "model_name": "LayoutModel",
          "model_module_version": "1.2.0",
          "state": {
            "_model_module": "@jupyter-widgets/base",
            "_model_module_version": "1.2.0",
            "_model_name": "LayoutModel",
            "_view_count": null,
            "_view_module": "@jupyter-widgets/base",
            "_view_module_version": "1.2.0",
            "_view_name": "LayoutView",
            "align_content": null,
            "align_items": null,
            "align_self": null,
            "border": null,
            "bottom": null,
            "display": null,
            "flex": null,
            "flex_flow": null,
            "grid_area": null,
            "grid_auto_columns": null,
            "grid_auto_flow": null,
            "grid_auto_rows": null,
            "grid_column": null,
            "grid_gap": null,
            "grid_row": null,
            "grid_template_areas": null,
            "grid_template_columns": null,
            "grid_template_rows": null,
            "height": null,
            "justify_content": null,
            "justify_items": null,
            "left": null,
            "margin": null,
            "max_height": null,
            "max_width": null,
            "min_height": null,
            "min_width": null,
            "object_fit": null,
            "object_position": null,
            "order": null,
            "overflow": null,
            "overflow_x": null,
            "overflow_y": null,
            "padding": null,
            "right": null,
            "top": null,
            "visibility": null,
            "width": null
          }
        },
        "299cb1206cbe4aaab840e38c1c879c59": {
          "model_module": "@jupyter-widgets/controls",
          "model_name": "TabModel",
          "model_module_version": "1.5.0",
          "state": {
            "_dom_classes": [],
            "_model_module": "@jupyter-widgets/controls",
            "_model_module_version": "1.5.0",
            "_model_name": "TabModel",
            "_titles": {
              "0": "Youtube",
              "1": "Bilibili"
            },
            "_view_count": null,
            "_view_module": "@jupyter-widgets/controls",
            "_view_module_version": "1.5.0",
            "_view_name": "TabView",
            "box_style": "",
            "children": [
              "IPY_MODEL_ebb8c2de68b846aebf68adf50c72f43b",
              "IPY_MODEL_a5f3edb1049944b0838687ad90efd5aa"
            ],
            "layout": "IPY_MODEL_69fd79b5a93b4490b5be67e7e51fada2",
            "selected_index": 0
          }
        },
        "ebb8c2de68b846aebf68adf50c72f43b": {
          "model_module": "@jupyter-widgets/output",
          "model_name": "OutputModel",
          "model_module_version": "1.0.0",
          "state": {
            "_dom_classes": [],
            "_model_module": "@jupyter-widgets/output",
            "_model_module_version": "1.0.0",
            "_model_name": "OutputModel",
            "_view_count": null,
            "_view_module": "@jupyter-widgets/output",
            "_view_module_version": "1.0.0",
            "_view_name": "OutputView",
            "layout": "IPY_MODEL_4822c82c485b4176a036dcaa4e623a44",
            "msg_id": "",
            "outputs": [
              {
                "output_type": "stream",
                "name": "stdout",
                "text": [
                  "Video available at https://youtube.com/watch?v=cOAJQ4utwD0\n"
                ]
              },
              {
                "output_type": "display_data",
                "data": {
                  "text/plain": "<IPython.lib.display.YouTubeVideo at 0x7fc5b87f6dd0>",
                  "text/html": "\n        <iframe\n            width=\"854\"\n            height=\"480\"\n            src=\"https://www.youtube.com/embed/cOAJQ4utwD0?fs=1&rel=0\"\n            frameborder=\"0\"\n            allowfullscreen\n        ></iframe>\n        ",
                  "image/jpeg": "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\n"
                },
                "metadata": {}
              }
            ]
          }
        },
        "a5f3edb1049944b0838687ad90efd5aa": {
          "model_module": "@jupyter-widgets/output",
          "model_name": "OutputModel",
          "model_module_version": "1.0.0",
          "state": {
            "_dom_classes": [],
            "_model_module": "@jupyter-widgets/output",
            "_model_module_version": "1.0.0",
            "_model_name": "OutputModel",
            "_view_count": null,
            "_view_module": "@jupyter-widgets/output",
            "_view_module_version": "1.0.0",
            "_view_name": "OutputView",
            "layout": "IPY_MODEL_4675f2ee852d49ca90d2d9b2ca97d4e5",
            "msg_id": "",
            "outputs": [
              {
                "output_type": "stream",
                "name": "stdout",
                "text": [
                  "Video available at https://www.bilibili.com/video/BV1fK4y1M7EC\n"
                ]
              },
              {
                "output_type": "display_data",
                "data": {
                  "text/plain": "<__main__.BiliVideo at 0x7fc5b87eac50>",
                  "text/html": "\n        <iframe\n            width=\"854\"\n            height=\"480\"\n            src=\"https://player.bilibili.com/player.html?bvid=BV1fK4y1M7EC&page=1?fs=1\"\n            frameborder=\"0\"\n            allowfullscreen\n        ></iframe>\n        "
                },
                "metadata": {}
              }
            ]
          }
        },
        "69fd79b5a93b4490b5be67e7e51fada2": {
          "model_module": "@jupyter-widgets/base",
          "model_name": "LayoutModel",
          "model_module_version": "1.2.0",
          "state": {
            "_model_module": "@jupyter-widgets/base",
            "_model_module_version": "1.2.0",
            "_model_name": "LayoutModel",
            "_view_count": null,
            "_view_module": "@jupyter-widgets/base",
            "_view_module_version": "1.2.0",
            "_view_name": "LayoutView",
            "align_content": null,
            "align_items": null,
            "align_self": null,
            "border": null,
            "bottom": null,
            "display": null,
            "flex": null,
            "flex_flow": null,
            "grid_area": null,
            "grid_auto_columns": null,
            "grid_auto_flow": null,
            "grid_auto_rows": null,
            "grid_column": null,
            "grid_gap": null,
            "grid_row": null,
            "grid_template_areas": null,
            "grid_template_columns": null,
            "grid_template_rows": null,
            "height": null,
            "justify_content": null,
            "justify_items": null,
            "left": null,
            "margin": null,
            "max_height": null,
            "max_width": null,
            "min_height": null,
            "min_width": null,
            "object_fit": null,
            "object_position": null,
            "order": null,
            "overflow": null,
            "overflow_x": null,
            "overflow_y": null,
            "padding": null,
            "right": null,
            "top": null,
            "visibility": null,
            "width": null
          }
        },
        "4822c82c485b4176a036dcaa4e623a44": {
          "model_module": "@jupyter-widgets/base",
          "model_name": "LayoutModel",
          "model_module_version": "1.2.0",
          "state": {
            "_model_module": "@jupyter-widgets/base",
            "_model_module_version": "1.2.0",
            "_model_name": "LayoutModel",
            "_view_count": null,
            "_view_module": "@jupyter-widgets/base",
            "_view_module_version": "1.2.0",
            "_view_name": "LayoutView",
            "align_content": null,
            "align_items": null,
            "align_self": null,
            "border": null,
            "bottom": null,
            "display": null,
            "flex": null,
            "flex_flow": null,
            "grid_area": null,
            "grid_auto_columns": null,
            "grid_auto_flow": null,
            "grid_auto_rows": null,
            "grid_column": null,
            "grid_gap": null,
            "grid_row": null,
            "grid_template_areas": null,
            "grid_template_columns": null,
            "grid_template_rows": null,
            "height": null,
            "justify_content": null,
            "justify_items": null,
            "left": null,
            "margin": null,
            "max_height": null,
            "max_width": null,
            "min_height": null,
            "min_width": null,
            "object_fit": null,
            "object_position": null,
            "order": null,
            "overflow": null,
            "overflow_x": null,
            "overflow_y": null,
            "padding": null,
            "right": null,
            "top": null,
            "visibility": null,
            "width": null
          }
        },
        "4675f2ee852d49ca90d2d9b2ca97d4e5": {
          "model_module": "@jupyter-widgets/base",
          "model_name": "LayoutModel",
          "model_module_version": "1.2.0",
          "state": {
            "_model_module": "@jupyter-widgets/base",
            "_model_module_version": "1.2.0",
            "_model_name": "LayoutModel",
            "_view_count": null,
            "_view_module": "@jupyter-widgets/base",
            "_view_module_version": "1.2.0",
            "_view_name": "LayoutView",
            "align_content": null,
            "align_items": null,
            "align_self": null,
            "border": null,
            "bottom": null,
            "display": null,
            "flex": null,
            "flex_flow": null,
            "grid_area": null,
            "grid_auto_columns": null,
            "grid_auto_flow": null,
            "grid_auto_rows": null,
            "grid_column": null,
            "grid_gap": null,
            "grid_row": null,
            "grid_template_areas": null,
            "grid_template_columns": null,
            "grid_template_rows": null,
            "height": null,
            "justify_content": null,
            "justify_items": null,
            "left": null,
            "margin": null,
            "max_height": null,
            "max_width": null,
            "min_height": null,
            "min_width": null,
            "object_fit": null,
            "object_position": null,
            "order": null,
            "overflow": null,
            "overflow_x": null,
            "overflow_y": null,
            "padding": null,
            "right": null,
            "top": null,
            "visibility": null,
            "width": null
          }
        },
        "46e63b6260444c46afe77376b08940d1": {
          "model_module": "@jupyter-widgets/controls",
          "model_name": "VBoxModel",
          "model_module_version": "1.5.0",
          "state": {
            "_dom_classes": [],
            "_model_module": "@jupyter-widgets/controls",
            "_model_module_version": "1.5.0",
            "_model_name": "VBoxModel",
            "_view_count": null,
            "_view_module": "@jupyter-widgets/controls",
            "_view_module_version": "1.5.0",
            "_view_name": "VBoxView",
            "box_style": "",
            "children": [
              "IPY_MODEL_10b1145b58bb410bb97ad6e1dc1e92fa",
              "IPY_MODEL_8511b5db8d8247bfb6b741b5c0b29c5f",
              "IPY_MODEL_d67e2eb79d5a461b9b2ab6cf59af6542"
            ],
            "layout": "IPY_MODEL_32728964850644acb8c19b9b1ce819c7"
          }
        },
        "10b1145b58bb410bb97ad6e1dc1e92fa": {
          "model_module": "@jupyter-widgets/controls",
          "model_name": "FloatSliderModel",
          "model_module_version": "1.5.0",
          "state": {
            "_dom_classes": [],
            "_model_module": "@jupyter-widgets/controls",
            "_model_module_version": "1.5.0",
            "_model_name": "FloatSliderModel",
            "_view_count": null,
            "_view_module": "@jupyter-widgets/controls",
            "_view_module_version": "1.5.0",
            "_view_name": "FloatSliderView",
            "continuous_update": true,
            "description": "p(s = left)",
            "description_tooltip": null,
            "disabled": false,
            "layout": "IPY_MODEL_3a1ffaef7e954e918cfcb1904b946bc9",
            "max": 0.99,
            "min": 0.01,
            "orientation": "horizontal",
            "readout": true,
            "readout_format": ".2f",
            "step": 0.01,
            "style": "IPY_MODEL_273358c101c349269ffea5c70b7e695e",
            "value": 0.6
          }
        },
        "8511b5db8d8247bfb6b741b5c0b29c5f": {
          "model_module": "@jupyter-widgets/controls",
          "model_name": "HBoxModel",
          "model_module_version": "1.5.0",
          "state": {
            "_dom_classes": [],
            "_model_module": "@jupyter-widgets/controls",
            "_model_module_version": "1.5.0",
            "_model_name": "HBoxModel",
            "_view_count": null,
            "_view_module": "@jupyter-widgets/controls",
            "_view_module_version": "1.5.0",
            "_view_name": "HBoxView",
            "box_style": "",
            "children": [
              "IPY_MODEL_a0380eeff9ba4330a9fad0fe67a2822f",
              "IPY_MODEL_e5d4534fef1c45479e9c0857f25ccf5d"
            ],
            "layout": "IPY_MODEL_31bd538329604d3a9b8e90f53925ed67"
          }
        },
        "d67e2eb79d5a461b9b2ab6cf59af6542": {
          "model_module": "@jupyter-widgets/controls",
          "model_name": "ToggleButtonsModel",
          "model_module_version": "1.5.0",
          "state": {
            "_dom_classes": [],
            "_model_module": "@jupyter-widgets/controls",
            "_model_module_version": "1.5.0",
            "_model_name": "ToggleButtonsModel",
            "_options_labels": [
              "Fish",
              "No Fish"
            ],
            "_view_count": null,
            "_view_module": "@jupyter-widgets/controls",
            "_view_module_version": "1.5.0",
            "_view_name": "ToggleButtonsView",
            "button_style": "",
            "description": "Observation (m) on the left:",
            "description_tooltip": null,
            "disabled": false,
            "icons": [],
            "index": 1,
            "layout": "IPY_MODEL_d41bfa2353c14de788de7012e3b2d46c",
            "style": "IPY_MODEL_8346c2807844497cad92654b6640cd08",
            "tooltips": []
          }
        },
        "32728964850644acb8c19b9b1ce819c7": {
          "model_module": "@jupyter-widgets/base",
          "model_name": "LayoutModel",
          "model_module_version": "1.2.0",
          "state": {
            "_model_module": "@jupyter-widgets/base",
            "_model_module_version": "1.2.0",
            "_model_name": "LayoutModel",
            "_view_count": null,
            "_view_module": "@jupyter-widgets/base",
            "_view_module_version": "1.2.0",
            "_view_name": "LayoutView",
            "align_content": null,
            "align_items": null,
            "align_self": null,
            "border": null,
            "bottom": null,
            "display": null,
            "flex": null,
            "flex_flow": null,
            "grid_area": null,
            "grid_auto_columns": null,
            "grid_auto_flow": null,
            "grid_auto_rows": null,
            "grid_column": null,
            "grid_gap": null,
            "grid_row": null,
            "grid_template_areas": null,
            "grid_template_columns": null,
            "grid_template_rows": null,
            "height": null,
            "justify_content": null,
            "justify_items": null,
            "left": null,
            "margin": null,
            "max_height": null,
            "max_width": null,
            "min_height": null,
            "min_width": null,
            "object_fit": null,
            "object_position": null,
            "order": null,
            "overflow": null,
            "overflow_x": null,
            "overflow_y": null,
            "padding": null,
            "right": null,
            "top": null,
            "visibility": null,
            "width": null
          }
        },
        "3a1ffaef7e954e918cfcb1904b946bc9": {
          "model_module": "@jupyter-widgets/base",
          "model_name": "LayoutModel",
          "model_module_version": "1.2.0",
          "state": {
            "_model_module": "@jupyter-widgets/base",
            "_model_module_version": "1.2.0",
            "_model_name": "LayoutModel",
            "_view_count": null,
            "_view_module": "@jupyter-widgets/base",
            "_view_module_version": "1.2.0",
            "_view_name": "LayoutView",
            "align_content": null,
            "align_items": null,
            "align_self": null,
            "border": null,
            "bottom": null,
            "display": null,
            "flex": null,
            "flex_flow": null,
            "grid_area": null,
            "grid_auto_columns": null,
            "grid_auto_flow": null,
            "grid_auto_rows": null,
            "grid_column": null,
            "grid_gap": null,
            "grid_row": null,
            "grid_template_areas": null,
            "grid_template_columns": null,
            "grid_template_rows": null,
            "height": null,
            "justify_content": null,
            "justify_items": null,
            "left": null,
            "margin": null,
            "max_height": null,
            "max_width": null,
            "min_height": null,
            "min_width": null,
            "object_fit": null,
            "object_position": null,
            "order": null,
            "overflow": null,
            "overflow_x": null,
            "overflow_y": null,
            "padding": null,
            "right": null,
            "top": null,
            "visibility": null,
            "width": null
          }
        },
        "273358c101c349269ffea5c70b7e695e": {
          "model_module": "@jupyter-widgets/controls",
          "model_name": "SliderStyleModel",
          "model_module_version": "1.5.0",
          "state": {
            "_model_module": "@jupyter-widgets/controls",
            "_model_module_version": "1.5.0",
            "_model_name": "SliderStyleModel",
            "_view_count": null,
            "_view_module": "@jupyter-widgets/base",
            "_view_module_version": "1.2.0",
            "_view_name": "StyleView",
            "description_width": "",
            "handle_color": null
          }
        },
        "a0380eeff9ba4330a9fad0fe67a2822f": {
          "model_module": "@jupyter-widgets/controls",
          "model_name": "FloatSliderModel",
          "model_module_version": "1.5.0",
          "state": {
            "_dom_classes": [],
            "_model_module": "@jupyter-widgets/controls",
            "_model_module_version": "1.5.0",
            "_model_name": "FloatSliderModel",
            "_view_count": null,
            "_view_module": "@jupyter-widgets/controls",
            "_view_module_version": "1.5.0",
            "_view_name": "FloatSliderView",
            "continuous_update": true,
            "description": "p(fish on left | state = left)",
            "description_tooltip": null,
            "disabled": false,
            "layout": "IPY_MODEL_8818809d2cf24c1797219fdf89a534d1",
            "max": 0.99,
            "min": 0.01,
            "orientation": "horizontal",
            "readout": true,
            "readout_format": ".2f",
            "step": 0.01,
            "style": "IPY_MODEL_f02045534f934145af5c838c541542dc",
            "value": 0.01
          }
        },
        "e5d4534fef1c45479e9c0857f25ccf5d": {
          "model_module": "@jupyter-widgets/controls",
          "model_name": "FloatSliderModel",
          "model_module_version": "1.5.0",
          "state": {
            "_dom_classes": [],
            "_model_module": "@jupyter-widgets/controls",
            "_model_module_version": "1.5.0",
            "_model_name": "FloatSliderModel",
            "_view_count": null,
            "_view_module": "@jupyter-widgets/controls",
            "_view_module_version": "1.5.0",
            "_view_name": "FloatSliderView",
            "continuous_update": true,
            "description": "p(fish on left | state = right)",
            "description_tooltip": null,
            "disabled": false,
            "layout": "IPY_MODEL_ffd97ff2610f49419d98d29458565243",
            "max": 0.99,
            "min": 0.01,
            "orientation": "horizontal",
            "readout": true,
            "readout_format": ".2f",
            "step": 0.01,
            "style": "IPY_MODEL_7ac9b741c72f4d7b9b7f582158bd7aff",
            "value": 0.99
          }
        },
        "31bd538329604d3a9b8e90f53925ed67": {
          "model_module": "@jupyter-widgets/base",
          "model_name": "LayoutModel",
          "model_module_version": "1.2.0",
          "state": {
            "_model_module": "@jupyter-widgets/base",
            "_model_module_version": "1.2.0",
            "_model_name": "LayoutModel",
            "_view_count": null,
            "_view_module": "@jupyter-widgets/base",
            "_view_module_version": "1.2.0",
            "_view_name": "LayoutView",
            "align_content": null,
            "align_items": null,
            "align_self": null,
            "border": null,
            "bottom": null,
            "display": null,
            "flex": null,
            "flex_flow": null,
            "grid_area": null,
            "grid_auto_columns": null,
            "grid_auto_flow": null,
            "grid_auto_rows": null,
            "grid_column": null,
            "grid_gap": null,
            "grid_row": null,
            "grid_template_areas": null,
            "grid_template_columns": null,
            "grid_template_rows": null,
            "height": null,
            "justify_content": null,
            "justify_items": null,
            "left": null,
            "margin": null,
            "max_height": null,
            "max_width": null,
            "min_height": null,
            "min_width": null,
            "object_fit": null,
            "object_position": null,
            "order": null,
            "overflow": null,
            "overflow_x": null,
            "overflow_y": null,
            "padding": null,
            "right": null,
            "top": null,
            "visibility": null,
            "width": null
          }
        },
        "d41bfa2353c14de788de7012e3b2d46c": {
          "model_module": "@jupyter-widgets/base",
          "model_name": "LayoutModel",
          "model_module_version": "1.2.0",
          "state": {
            "_model_module": "@jupyter-widgets/base",
            "_model_module_version": "1.2.0",
            "_model_name": "LayoutModel",
            "_view_count": null,
            "_view_module": "@jupyter-widgets/base",
            "_view_module_version": "1.2.0",
            "_view_name": "LayoutView",
            "align_content": null,
            "align_items": null,
            "align_self": null,
            "border": null,
            "bottom": null,
            "display": "flex",
            "flex": null,
            "flex_flow": null,
            "grid_area": null,
            "grid_auto_columns": null,
            "grid_auto_flow": null,
            "grid_auto_rows": null,
            "grid_column": null,
            "grid_gap": null,
            "grid_row": null,
            "grid_template_areas": null,
            "grid_template_columns": null,
            "grid_template_rows": null,
            "height": null,
            "justify_content": null,
            "justify_items": null,
            "left": null,
            "margin": null,
            "max_height": null,
            "max_width": null,
            "min_height": null,
            "min_width": null,
            "object_fit": null,
            "object_position": null,
            "order": null,
            "overflow": null,
            "overflow_x": null,
            "overflow_y": null,
            "padding": null,
            "right": null,
            "top": null,
            "visibility": null,
            "width": "auto"
          }
        },
        "8346c2807844497cad92654b6640cd08": {
          "model_module": "@jupyter-widgets/controls",
          "model_name": "ToggleButtonsStyleModel",
          "model_module_version": "1.5.0",
          "state": {
            "_model_module": "@jupyter-widgets/controls",
            "_model_module_version": "1.5.0",
            "_model_name": "ToggleButtonsStyleModel",
            "_view_count": null,
            "_view_module": "@jupyter-widgets/base",
            "_view_module_version": "1.2.0",
            "_view_name": "StyleView",
            "button_width": "",
            "description_width": "initial",
            "font_weight": ""
          }
        },
        "8818809d2cf24c1797219fdf89a534d1": {
          "model_module": "@jupyter-widgets/base",
          "model_name": "LayoutModel",
          "model_module_version": "1.2.0",
          "state": {
            "_model_module": "@jupyter-widgets/base",
            "_model_module_version": "1.2.0",
            "_model_name": "LayoutModel",
            "_view_count": null,
            "_view_module": "@jupyter-widgets/base",
            "_view_module_version": "1.2.0",
            "_view_name": "LayoutView",
            "align_content": null,
            "align_items": null,
            "align_self": null,
            "border": null,
            "bottom": null,
            "display": null,
            "flex": null,
            "flex_flow": null,
            "grid_area": null,
            "grid_auto_columns": null,
            "grid_auto_flow": null,
            "grid_auto_rows": null,
            "grid_column": null,
            "grid_gap": null,
            "grid_row": null,
            "grid_template_areas": null,
            "grid_template_columns": null,
            "grid_template_rows": null,
            "height": null,
            "justify_content": null,
            "justify_items": null,
            "left": null,
            "margin": null,
            "max_height": null,
            "max_width": null,
            "min_height": null,
            "min_width": null,
            "object_fit": null,
            "object_position": null,
            "order": null,
            "overflow": null,
            "overflow_x": null,
            "overflow_y": null,
            "padding": null,
            "right": null,
            "top": null,
            "visibility": null,
            "width": "370px"
          }
        },
        "f02045534f934145af5c838c541542dc": {
          "model_module": "@jupyter-widgets/controls",
          "model_name": "SliderStyleModel",
          "model_module_version": "1.5.0",
          "state": {
            "_model_module": "@jupyter-widgets/controls",
            "_model_module_version": "1.5.0",
            "_model_name": "SliderStyleModel",
            "_view_count": null,
            "_view_module": "@jupyter-widgets/base",
            "_view_module_version": "1.2.0",
            "_view_name": "StyleView",
            "description_width": "initial",
            "handle_color": null
          }
        },
        "ffd97ff2610f49419d98d29458565243": {
          "model_module": "@jupyter-widgets/base",
          "model_name": "LayoutModel",
          "model_module_version": "1.2.0",
          "state": {
            "_model_module": "@jupyter-widgets/base",
            "_model_module_version": "1.2.0",
            "_model_name": "LayoutModel",
            "_view_count": null,
            "_view_module": "@jupyter-widgets/base",
            "_view_module_version": "1.2.0",
            "_view_name": "LayoutView",
            "align_content": null,
            "align_items": null,
            "align_self": null,
            "border": null,
            "bottom": null,
            "display": null,
            "flex": null,
            "flex_flow": null,
            "grid_area": null,
            "grid_auto_columns": null,
            "grid_auto_flow": null,
            "grid_auto_rows": null,
            "grid_column": null,
            "grid_gap": null,
            "grid_row": null,
            "grid_template_areas": null,
            "grid_template_columns": null,
            "grid_template_rows": null,
            "height": null,
            "justify_content": null,
            "justify_items": null,
            "left": null,
            "margin": null,
            "max_height": null,
            "max_width": null,
            "min_height": null,
            "min_width": null,
            "object_fit": null,
            "object_position": null,
            "order": null,
            "overflow": null,
            "overflow_x": null,
            "overflow_y": null,
            "padding": null,
            "right": null,
            "top": null,
            "visibility": null,
            "width": "370px"
          }
        },
        "7ac9b741c72f4d7b9b7f582158bd7aff": {
          "model_module": "@jupyter-widgets/controls",
          "model_name": "SliderStyleModel",
          "model_module_version": "1.5.0",
          "state": {
            "_model_module": "@jupyter-widgets/controls",
            "_model_module_version": "1.5.0",
            "_model_name": "SliderStyleModel",
            "_view_count": null,
            "_view_module": "@jupyter-widgets/base",
            "_view_module_version": "1.2.0",
            "_view_name": "StyleView",
            "description_width": "initial",
            "handle_color": null
          }
        },
        "38907b6bc56e49e8940ca4a345b868e8": {
          "model_module": "@jupyter-widgets/output",
          "model_name": "OutputModel",
          "model_module_version": "1.0.0",
          "state": {
            "_dom_classes": [],
            "_model_module": "@jupyter-widgets/output",
            "_model_module_version": "1.0.0",
            "_model_name": "OutputModel",
            "_view_count": null,
            "_view_module": "@jupyter-widgets/output",
            "_view_module_version": "1.0.0",
            "_view_name": "OutputView",
            "layout": "IPY_MODEL_f7d1976d3c514cf3adf254e05febb717",
            "msg_id": "",
            "outputs": [
              {
                "output_type": "display_data",
                "data": {
                  "text/plain": "<Figure size 864x288 with 3 Axes>",
                  "image/png": "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\n"
                },
                "metadata": {
                  "image/png": {
                    "width": 816,
                    "height": 345
                  },
                  "needs_background": "light"
                }
              }
            ]
          }
        },
        "f7d1976d3c514cf3adf254e05febb717": {
          "model_module": "@jupyter-widgets/base",
          "model_name": "LayoutModel",
          "model_module_version": "1.2.0",
          "state": {
            "_model_module": "@jupyter-widgets/base",
            "_model_module_version": "1.2.0",
            "_model_name": "LayoutModel",
            "_view_count": null,
            "_view_module": "@jupyter-widgets/base",
            "_view_module_version": "1.2.0",
            "_view_name": "LayoutView",
            "align_content": null,
            "align_items": null,
            "align_self": null,
            "border": null,
            "bottom": null,
            "display": null,
            "flex": null,
            "flex_flow": null,
            "grid_area": null,
            "grid_auto_columns": null,
            "grid_auto_flow": null,
            "grid_auto_rows": null,
            "grid_column": null,
            "grid_gap": null,
            "grid_row": null,
            "grid_template_areas": null,
            "grid_template_columns": null,
            "grid_template_rows": null,
            "height": null,
            "justify_content": null,
            "justify_items": null,
            "left": null,
            "margin": null,
            "max_height": null,
            "max_width": null,
            "min_height": null,
            "min_width": null,
            "object_fit": null,
            "object_position": null,
            "order": null,
            "overflow": null,
            "overflow_x": null,
            "overflow_y": null,
            "padding": null,
            "right": null,
            "top": null,
            "visibility": null,
            "width": null
          }
        },
        "373fe23a797045f48e61cc97e7a5a4b3": {
          "model_module": "@jupyter-widgets/controls",
          "model_name": "TabModel",
          "model_module_version": "1.5.0",
          "state": {
            "_dom_classes": [],
            "_model_module": "@jupyter-widgets/controls",
            "_model_module_version": "1.5.0",
            "_model_name": "TabModel",
            "_titles": {
              "0": "Youtube",
              "1": "Bilibili"
            },
            "_view_count": null,
            "_view_module": "@jupyter-widgets/controls",
            "_view_module_version": "1.5.0",
            "_view_name": "TabView",
            "box_style": "",
            "children": [
              "IPY_MODEL_a6f3eb0dcee64480864ca4363d8f3316",
              "IPY_MODEL_4c468e2a26634977a0edb30a5630b5b7"
            ],
            "layout": "IPY_MODEL_ba11aab522264804bf3d997eb9dbfe82",
            "selected_index": 0
          }
        },
        "a6f3eb0dcee64480864ca4363d8f3316": {
          "model_module": "@jupyter-widgets/output",
          "model_name": "OutputModel",
          "model_module_version": "1.0.0",
          "state": {
            "_dom_classes": [],
            "_model_module": "@jupyter-widgets/output",
            "_model_module_version": "1.0.0",
            "_model_name": "OutputModel",
            "_view_count": null,
            "_view_module": "@jupyter-widgets/output",
            "_view_module_version": "1.0.0",
            "_view_name": "OutputView",
            "layout": "IPY_MODEL_95378d945f2f4f2fac8eee4940df5689",
            "msg_id": "",
            "outputs": [
              {
                "output_type": "stream",
                "name": "stdout",
                "text": [
                  "Video available at https://youtube.com/watch?v=YPQgLVolvBs\n"
                ]
              },
              {
                "output_type": "display_data",
                "data": {
                  "text/plain": "<IPython.lib.display.YouTubeVideo at 0x7fc5b824fd10>",
                  "text/html": "\n        <iframe\n            width=\"854\"\n            height=\"480\"\n            src=\"https://www.youtube.com/embed/YPQgLVolvBs?fs=1&rel=0\"\n            frameborder=\"0\"\n            allowfullscreen\n        ></iframe>\n        ",
                  "image/jpeg": "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\n"
                },
                "metadata": {}
              }
            ]
          }
        },
        "4c468e2a26634977a0edb30a5630b5b7": {
          "model_module": "@jupyter-widgets/output",
          "model_name": "OutputModel",
          "model_module_version": "1.0.0",
          "state": {
            "_dom_classes": [],
            "_model_module": "@jupyter-widgets/output",
            "_model_module_version": "1.0.0",
            "_model_name": "OutputModel",
            "_view_count": null,
            "_view_module": "@jupyter-widgets/output",
            "_view_module_version": "1.0.0",
            "_view_name": "OutputView",
            "layout": "IPY_MODEL_aea3552faf0f43988b3b190ce47d93eb",
            "msg_id": "",
            "outputs": [
              {
                "output_type": "stream",
                "name": "stdout",
                "text": [
                  "Video available at https://www.bilibili.com/video/BV1TU4y1G7SM\n"
                ]
              },
              {
                "output_type": "display_data",
                "data": {
                  "text/plain": "<__main__.BiliVideo at 0x7fc5b8e254d0>",
                  "text/html": "\n        <iframe\n            width=\"854\"\n            height=\"480\"\n            src=\"https://player.bilibili.com/player.html?bvid=BV1TU4y1G7SM&page=1?fs=1\"\n            frameborder=\"0\"\n            allowfullscreen\n        ></iframe>\n        "
                },
                "metadata": {}
              }
            ]
          }
        },
        "ba11aab522264804bf3d997eb9dbfe82": {
          "model_module": "@jupyter-widgets/base",
          "model_name": "LayoutModel",
          "model_module_version": "1.2.0",
          "state": {
            "_model_module": "@jupyter-widgets/base",
            "_model_module_version": "1.2.0",
            "_model_name": "LayoutModel",
            "_view_count": null,
            "_view_module": "@jupyter-widgets/base",
            "_view_module_version": "1.2.0",
            "_view_name": "LayoutView",
            "align_content": null,
            "align_items": null,
            "align_self": null,
            "border": null,
            "bottom": null,
            "display": null,
            "flex": null,
            "flex_flow": null,
            "grid_area": null,
            "grid_auto_columns": null,
            "grid_auto_flow": null,
            "grid_auto_rows": null,
            "grid_column": null,
            "grid_gap": null,
            "grid_row": null,
            "grid_template_areas": null,
            "grid_template_columns": null,
            "grid_template_rows": null,
            "height": null,
            "justify_content": null,
            "justify_items": null,
            "left": null,
            "margin": null,
            "max_height": null,
            "max_width": null,
            "min_height": null,
            "min_width": null,
            "object_fit": null,
            "object_position": null,
            "order": null,
            "overflow": null,
            "overflow_x": null,
            "overflow_y": null,
            "padding": null,
            "right": null,
            "top": null,
            "visibility": null,
            "width": null
          }
        },
        "95378d945f2f4f2fac8eee4940df5689": {
          "model_module": "@jupyter-widgets/base",
          "model_name": "LayoutModel",
          "model_module_version": "1.2.0",
          "state": {
            "_model_module": "@jupyter-widgets/base",
            "_model_module_version": "1.2.0",
            "_model_name": "LayoutModel",
            "_view_count": null,
            "_view_module": "@jupyter-widgets/base",
            "_view_module_version": "1.2.0",
            "_view_name": "LayoutView",
            "align_content": null,
            "align_items": null,
            "align_self": null,
            "border": null,
            "bottom": null,
            "display": null,
            "flex": null,
            "flex_flow": null,
            "grid_area": null,
            "grid_auto_columns": null,
            "grid_auto_flow": null,
            "grid_auto_rows": null,
            "grid_column": null,
            "grid_gap": null,
            "grid_row": null,
            "grid_template_areas": null,
            "grid_template_columns": null,
            "grid_template_rows": null,
            "height": null,
            "justify_content": null,
            "justify_items": null,
            "left": null,
            "margin": null,
            "max_height": null,
            "max_width": null,
            "min_height": null,
            "min_width": null,
            "object_fit": null,
            "object_position": null,
            "order": null,
            "overflow": null,
            "overflow_x": null,
            "overflow_y": null,
            "padding": null,
            "right": null,
            "top": null,
            "visibility": null,
            "width": null
          }
        },
        "aea3552faf0f43988b3b190ce47d93eb": {
          "model_module": "@jupyter-widgets/base",
          "model_name": "LayoutModel",
          "model_module_version": "1.2.0",
          "state": {
            "_model_module": "@jupyter-widgets/base",
            "_model_module_version": "1.2.0",
            "_model_name": "LayoutModel",
            "_view_count": null,
            "_view_module": "@jupyter-widgets/base",
            "_view_module_version": "1.2.0",
            "_view_name": "LayoutView",
            "align_content": null,
            "align_items": null,
            "align_self": null,
            "border": null,
            "bottom": null,
            "display": null,
            "flex": null,
            "flex_flow": null,
            "grid_area": null,
            "grid_auto_columns": null,
            "grid_auto_flow": null,
            "grid_auto_rows": null,
            "grid_column": null,
            "grid_gap": null,
            "grid_row": null,
            "grid_template_areas": null,
            "grid_template_columns": null,
            "grid_template_rows": null,
            "height": null,
            "justify_content": null,
            "justify_items": null,
            "left": null,
            "margin": null,
            "max_height": null,
            "max_width": null,
            "min_height": null,
            "min_width": null,
            "object_fit": null,
            "object_position": null,
            "order": null,
            "overflow": null,
            "overflow_x": null,
            "overflow_y": null,
            "padding": null,
            "right": null,
            "top": null,
            "visibility": null,
            "width": null
          }
        },
        "44d2dddcd69b4ac28cc147a8a38da607": {
          "model_module": "@jupyter-widgets/controls",
          "model_name": "TabModel",
          "model_module_version": "1.5.0",
          "state": {
            "_dom_classes": [],
            "_model_module": "@jupyter-widgets/controls",
            "_model_module_version": "1.5.0",
            "_model_name": "TabModel",
            "_titles": {
              "0": "Youtube",
              "1": "Bilibili"
            },
            "_view_count": null,
            "_view_module": "@jupyter-widgets/controls",
            "_view_module_version": "1.5.0",
            "_view_name": "TabView",
            "box_style": "",
            "children": [
              "IPY_MODEL_786aa12718be4b61b9430b1d6161b05b",
              "IPY_MODEL_8f2a45642b2a47baa68d3acd1204bad2"
            ],
            "layout": "IPY_MODEL_bd0b31c9d89046cba3926072f9df2fe3",
            "selected_index": 0
          }
        },
        "786aa12718be4b61b9430b1d6161b05b": {
          "model_module": "@jupyter-widgets/output",
          "model_name": "OutputModel",
          "model_module_version": "1.0.0",
          "state": {
            "_dom_classes": [],
            "_model_module": "@jupyter-widgets/output",
            "_model_module_version": "1.0.0",
            "_model_name": "OutputModel",
            "_view_count": null,
            "_view_module": "@jupyter-widgets/output",
            "_view_module_version": "1.0.0",
            "_view_name": "OutputView",
            "layout": "IPY_MODEL_e1464c55d5c34485bb0ff9cf5327ee12",
            "msg_id": "",
            "outputs": [
              {
                "output_type": "stream",
                "name": "stdout",
                "text": [
                  "Video available at https://youtube.com/watch?v=tz9zsmTHR68\n"
                ]
              },
              {
                "output_type": "display_data",
                "data": {
                  "text/plain": "<IPython.lib.display.YouTubeVideo at 0x7fc5b847a810>",
                  "text/html": "\n        <iframe\n            width=\"854\"\n            height=\"480\"\n            src=\"https://www.youtube.com/embed/tz9zsmTHR68?fs=1&rel=0\"\n            frameborder=\"0\"\n            allowfullscreen\n        ></iframe>\n        ",
                  "image/jpeg": "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\n"
                },
                "metadata": {}
              }
            ]
          }
        },
        "8f2a45642b2a47baa68d3acd1204bad2": {
          "model_module": "@jupyter-widgets/output",
          "model_name": "OutputModel",
          "model_module_version": "1.0.0",
          "state": {
            "_dom_classes": [],
            "_model_module": "@jupyter-widgets/output",
            "_model_module_version": "1.0.0",
            "_model_name": "OutputModel",
            "_view_count": null,
            "_view_module": "@jupyter-widgets/output",
            "_view_module_version": "1.0.0",
            "_view_name": "OutputView",
            "layout": "IPY_MODEL_3044fe4c0b5547218b6d1463b8c00d9b",
            "msg_id": "",
            "outputs": [
              {
                "output_type": "stream",
                "name": "stdout",
                "text": [
                  "Video available at https://www.bilibili.com/video/BV1954y1n7uH\n"
                ]
              },
              {
                "output_type": "display_data",
                "data": {
                  "text/plain": "<__main__.BiliVideo at 0x7fc5b84a7ad0>",
                  "text/html": "\n        <iframe\n            width=\"854\"\n            height=\"480\"\n            src=\"https://player.bilibili.com/player.html?bvid=BV1954y1n7uH&page=1?fs=1\"\n            frameborder=\"0\"\n            allowfullscreen\n        ></iframe>\n        "
                },
                "metadata": {}
              }
            ]
          }
        },
        "bd0b31c9d89046cba3926072f9df2fe3": {
          "model_module": "@jupyter-widgets/base",
          "model_name": "LayoutModel",
          "model_module_version": "1.2.0",
          "state": {
            "_model_module": "@jupyter-widgets/base",
            "_model_module_version": "1.2.0",
            "_model_name": "LayoutModel",
            "_view_count": null,
            "_view_module": "@jupyter-widgets/base",
            "_view_module_version": "1.2.0",
            "_view_name": "LayoutView",
            "align_content": null,
            "align_items": null,
            "align_self": null,
            "border": null,
            "bottom": null,
            "display": null,
            "flex": null,
            "flex_flow": null,
            "grid_area": null,
            "grid_auto_columns": null,
            "grid_auto_flow": null,
            "grid_auto_rows": null,
            "grid_column": null,
            "grid_gap": null,
            "grid_row": null,
            "grid_template_areas": null,
            "grid_template_columns": null,
            "grid_template_rows": null,
            "height": null,
            "justify_content": null,
            "justify_items": null,
            "left": null,
            "margin": null,
            "max_height": null,
            "max_width": null,
            "min_height": null,
            "min_width": null,
            "object_fit": null,
            "object_position": null,
            "order": null,
            "overflow": null,
            "overflow_x": null,
            "overflow_y": null,
            "padding": null,
            "right": null,
            "top": null,
            "visibility": null,
            "width": null
          }
        },
        "e1464c55d5c34485bb0ff9cf5327ee12": {
          "model_module": "@jupyter-widgets/base",
          "model_name": "LayoutModel",
          "model_module_version": "1.2.0",
          "state": {
            "_model_module": "@jupyter-widgets/base",
            "_model_module_version": "1.2.0",
            "_model_name": "LayoutModel",
            "_view_count": null,
            "_view_module": "@jupyter-widgets/base",
            "_view_module_version": "1.2.0",
            "_view_name": "LayoutView",
            "align_content": null,
            "align_items": null,
            "align_self": null,
            "border": null,
            "bottom": null,
            "display": null,
            "flex": null,
            "flex_flow": null,
            "grid_area": null,
            "grid_auto_columns": null,
            "grid_auto_flow": null,
            "grid_auto_rows": null,
            "grid_column": null,
            "grid_gap": null,
            "grid_row": null,
            "grid_template_areas": null,
            "grid_template_columns": null,
            "grid_template_rows": null,
            "height": null,
            "justify_content": null,
            "justify_items": null,
            "left": null,
            "margin": null,
            "max_height": null,
            "max_width": null,
            "min_height": null,
            "min_width": null,
            "object_fit": null,
            "object_position": null,
            "order": null,
            "overflow": null,
            "overflow_x": null,
            "overflow_y": null,
            "padding": null,
            "right": null,
            "top": null,
            "visibility": null,
            "width": null
          }
        },
        "3044fe4c0b5547218b6d1463b8c00d9b": {
          "model_module": "@jupyter-widgets/base",
          "model_name": "LayoutModel",
          "model_module_version": "1.2.0",
          "state": {
            "_model_module": "@jupyter-widgets/base",
            "_model_module_version": "1.2.0",
            "_model_name": "LayoutModel",
            "_view_count": null,
            "_view_module": "@jupyter-widgets/base",
            "_view_module_version": "1.2.0",
            "_view_name": "LayoutView",
            "align_content": null,
            "align_items": null,
            "align_self": null,
            "border": null,
            "bottom": null,
            "display": null,
            "flex": null,
            "flex_flow": null,
            "grid_area": null,
            "grid_auto_columns": null,
            "grid_auto_flow": null,
            "grid_auto_rows": null,
            "grid_column": null,
            "grid_gap": null,
            "grid_row": null,
            "grid_template_areas": null,
            "grid_template_columns": null,
            "grid_template_rows": null,
            "height": null,
            "justify_content": null,
            "justify_items": null,
            "left": null,
            "margin": null,
            "max_height": null,
            "max_width": null,
            "min_height": null,
            "min_width": null,
            "object_fit": null,
            "object_position": null,
            "order": null,
            "overflow": null,
            "overflow_x": null,
            "overflow_y": null,
            "padding": null,
            "right": null,
            "top": null,
            "visibility": null,
            "width": null
          }
        },
        "d1c1eac261f940f49cc36959e0306ef1": {
          "model_module": "@jupyter-widgets/controls",
          "model_name": "VBoxModel",
          "model_module_version": "1.5.0",
          "state": {
            "_dom_classes": [],
            "_model_module": "@jupyter-widgets/controls",
            "_model_module_version": "1.5.0",
            "_model_name": "VBoxModel",
            "_view_count": null,
            "_view_module": "@jupyter-widgets/controls",
            "_view_module_version": "1.5.0",
            "_view_name": "VBoxView",
            "box_style": "",
            "children": [
              "IPY_MODEL_345d9802d15145ec9d38ad28674d3bb8",
              "IPY_MODEL_8b93c31fa4b243a6b0c2dd024ecf34a6",
              "IPY_MODEL_3017ed480fd64a0390e752bcb73eb2f6"
            ],
            "layout": "IPY_MODEL_12ebfc6d03b1422989ec90a9d54f3351"
          }
        },
        "345d9802d15145ec9d38ad28674d3bb8": {
          "model_module": "@jupyter-widgets/controls",
          "model_name": "FloatSliderModel",
          "model_module_version": "1.5.0",
          "state": {
            "_dom_classes": [],
            "_model_module": "@jupyter-widgets/controls",
            "_model_module_version": "1.5.0",
            "_model_name": "FloatSliderModel",
            "_view_count": null,
            "_view_module": "@jupyter-widgets/controls",
            "_view_module_version": "1.5.0",
            "_view_name": "FloatSliderView",
            "continuous_update": true,
            "description": "p(s = left)",
            "description_tooltip": null,
            "disabled": false,
            "layout": "IPY_MODEL_285cebe0ef624d5f93deee7f630d2cc5",
            "max": 0.99,
            "min": 0.01,
            "orientation": "horizontal",
            "readout": true,
            "readout_format": ".2f",
            "step": 0.01,
            "style": "IPY_MODEL_9414fc8b15cf440a8864432aec31c4f0",
            "value": 0.8
          }
        },
        "8b93c31fa4b243a6b0c2dd024ecf34a6": {
          "model_module": "@jupyter-widgets/controls",
          "model_name": "HBoxModel",
          "model_module_version": "1.5.0",
          "state": {
            "_dom_classes": [],
            "_model_module": "@jupyter-widgets/controls",
            "_model_module_version": "1.5.0",
            "_model_name": "HBoxModel",
            "_view_count": null,
            "_view_module": "@jupyter-widgets/controls",
            "_view_module_version": "1.5.0",
            "_view_name": "HBoxView",
            "box_style": "",
            "children": [
              "IPY_MODEL_a83fa15df8654a988252ba6a38737b8e",
              "IPY_MODEL_47ee373a0d7142a88c37d8565374ce84"
            ],
            "layout": "IPY_MODEL_4466e47a179c40cba13835754b011489"
          }
        },
        "3017ed480fd64a0390e752bcb73eb2f6": {
          "model_module": "@jupyter-widgets/controls",
          "model_name": "ToggleButtonsModel",
          "model_module_version": "1.5.0",
          "state": {
            "_dom_classes": [],
            "_model_module": "@jupyter-widgets/controls",
            "_model_module_version": "1.5.0",
            "_model_name": "ToggleButtonsModel",
            "_options_labels": [
              "Fish",
              "No Fish"
            ],
            "_view_count": null,
            "_view_module": "@jupyter-widgets/controls",
            "_view_module_version": "1.5.0",
            "_view_name": "ToggleButtonsView",
            "button_style": "",
            "description": "Observation (m) on the left:",
            "description_tooltip": null,
            "disabled": false,
            "icons": [],
            "index": 0,
            "layout": "IPY_MODEL_fa7de7059cec4378be0e28f5c6669c09",
            "style": "IPY_MODEL_38a2d8032e0b43ae92bbb547b364edc0",
            "tooltips": []
          }
        },
        "12ebfc6d03b1422989ec90a9d54f3351": {
          "model_module": "@jupyter-widgets/base",
          "model_name": "LayoutModel",
          "model_module_version": "1.2.0",
          "state": {
            "_model_module": "@jupyter-widgets/base",
            "_model_module_version": "1.2.0",
            "_model_name": "LayoutModel",
            "_view_count": null,
            "_view_module": "@jupyter-widgets/base",
            "_view_module_version": "1.2.0",
            "_view_name": "LayoutView",
            "align_content": null,
            "align_items": null,
            "align_self": null,
            "border": null,
            "bottom": null,
            "display": null,
            "flex": null,
            "flex_flow": null,
            "grid_area": null,
            "grid_auto_columns": null,
            "grid_auto_flow": null,
            "grid_auto_rows": null,
            "grid_column": null,
            "grid_gap": null,
            "grid_row": null,
            "grid_template_areas": null,
            "grid_template_columns": null,
            "grid_template_rows": null,
            "height": null,
            "justify_content": null,
            "justify_items": null,
            "left": null,
            "margin": null,
            "max_height": null,
            "max_width": null,
            "min_height": null,
            "min_width": null,
            "object_fit": null,
            "object_position": null,
            "order": null,
            "overflow": null,
            "overflow_x": null,
            "overflow_y": null,
            "padding": null,
            "right": null,
            "top": null,
            "visibility": null,
            "width": null
          }
        },
        "285cebe0ef624d5f93deee7f630d2cc5": {
          "model_module": "@jupyter-widgets/base",
          "model_name": "LayoutModel",
          "model_module_version": "1.2.0",
          "state": {
            "_model_module": "@jupyter-widgets/base",
            "_model_module_version": "1.2.0",
            "_model_name": "LayoutModel",
            "_view_count": null,
            "_view_module": "@jupyter-widgets/base",
            "_view_module_version": "1.2.0",
            "_view_name": "LayoutView",
            "align_content": null,
            "align_items": null,
            "align_self": null,
            "border": null,
            "bottom": null,
            "display": null,
            "flex": null,
            "flex_flow": null,
            "grid_area": null,
            "grid_auto_columns": null,
            "grid_auto_flow": null,
            "grid_auto_rows": null,
            "grid_column": null,
            "grid_gap": null,
            "grid_row": null,
            "grid_template_areas": null,
            "grid_template_columns": null,
            "grid_template_rows": null,
            "height": null,
            "justify_content": null,
            "justify_items": null,
            "left": null,
            "margin": null,
            "max_height": null,
            "max_width": null,
            "min_height": null,
            "min_width": null,
            "object_fit": null,
            "object_position": null,
            "order": null,
            "overflow": null,
            "overflow_x": null,
            "overflow_y": null,
            "padding": null,
            "right": null,
            "top": null,
            "visibility": null,
            "width": "300px"
          }
        },
        "9414fc8b15cf440a8864432aec31c4f0": {
          "model_module": "@jupyter-widgets/controls",
          "model_name": "SliderStyleModel",
          "model_module_version": "1.5.0",
          "state": {
            "_model_module": "@jupyter-widgets/controls",
            "_model_module_version": "1.5.0",
            "_model_name": "SliderStyleModel",
            "_view_count": null,
            "_view_module": "@jupyter-widgets/base",
            "_view_module_version": "1.2.0",
            "_view_name": "StyleView",
            "description_width": "",
            "handle_color": null
          }
        },
        "a83fa15df8654a988252ba6a38737b8e": {
          "model_module": "@jupyter-widgets/controls",
          "model_name": "FloatSliderModel",
          "model_module_version": "1.5.0",
          "state": {
            "_dom_classes": [],
            "_model_module": "@jupyter-widgets/controls",
            "_model_module_version": "1.5.0",
            "_model_name": "FloatSliderModel",
            "_view_count": null,
            "_view_module": "@jupyter-widgets/controls",
            "_view_module_version": "1.5.0",
            "_view_name": "FloatSliderView",
            "continuous_update": true,
            "description": "p(fish on left | state = left)",
            "description_tooltip": null,
            "disabled": false,
            "layout": "IPY_MODEL_3449ecca9f5c44e580e4a207325f4bde",
            "max": 0.99,
            "min": 0.01,
            "orientation": "horizontal",
            "readout": true,
            "readout_format": ".2f",
            "step": 0.01,
            "style": "IPY_MODEL_1bfd7614a5d149dabc3675361bf4c603",
            "value": 0.5
          }
        },
        "47ee373a0d7142a88c37d8565374ce84": {
          "model_module": "@jupyter-widgets/controls",
          "model_name": "FloatSliderModel",
          "model_module_version": "1.5.0",
          "state": {
            "_dom_classes": [],
            "_model_module": "@jupyter-widgets/controls",
            "_model_module_version": "1.5.0",
            "_model_name": "FloatSliderModel",
            "_view_count": null,
            "_view_module": "@jupyter-widgets/controls",
            "_view_module_version": "1.5.0",
            "_view_name": "FloatSliderView",
            "continuous_update": true,
            "description": "p(fish on left | state = right)",
            "description_tooltip": null,
            "disabled": false,
            "layout": "IPY_MODEL_52446f15cc9e43c29a2f8b9dd3175592",
            "max": 0.99,
            "min": 0.01,
            "orientation": "horizontal",
            "readout": true,
            "readout_format": ".2f",
            "step": 0.01,
            "style": "IPY_MODEL_a3c7a58e2be749c39b689c21b1c2c147",
            "value": 0.5
          }
        },
        "4466e47a179c40cba13835754b011489": {
          "model_module": "@jupyter-widgets/base",
          "model_name": "LayoutModel",
          "model_module_version": "1.2.0",
          "state": {
            "_model_module": "@jupyter-widgets/base",
            "_model_module_version": "1.2.0",
            "_model_name": "LayoutModel",
            "_view_count": null,
            "_view_module": "@jupyter-widgets/base",
            "_view_module_version": "1.2.0",
            "_view_name": "LayoutView",
            "align_content": null,
            "align_items": null,
            "align_self": null,
            "border": null,
            "bottom": null,
            "display": null,
            "flex": null,
            "flex_flow": null,
            "grid_area": null,
            "grid_auto_columns": null,
            "grid_auto_flow": null,
            "grid_auto_rows": null,
            "grid_column": null,
            "grid_gap": null,
            "grid_row": null,
            "grid_template_areas": null,
            "grid_template_columns": null,
            "grid_template_rows": null,
            "height": null,
            "justify_content": null,
            "justify_items": null,
            "left": null,
            "margin": null,
            "max_height": null,
            "max_width": null,
            "min_height": null,
            "min_width": null,
            "object_fit": null,
            "object_position": null,
            "order": null,
            "overflow": null,
            "overflow_x": null,
            "overflow_y": null,
            "padding": null,
            "right": null,
            "top": null,
            "visibility": null,
            "width": null
          }
        },
        "fa7de7059cec4378be0e28f5c6669c09": {
          "model_module": "@jupyter-widgets/base",
          "model_name": "LayoutModel",
          "model_module_version": "1.2.0",
          "state": {
            "_model_module": "@jupyter-widgets/base",
            "_model_module_version": "1.2.0",
            "_model_name": "LayoutModel",
            "_view_count": null,
            "_view_module": "@jupyter-widgets/base",
            "_view_module_version": "1.2.0",
            "_view_name": "LayoutView",
            "align_content": null,
            "align_items": null,
            "align_self": null,
            "border": null,
            "bottom": null,
            "display": "flex",
            "flex": null,
            "flex_flow": null,
            "grid_area": null,
            "grid_auto_columns": null,
            "grid_auto_flow": null,
            "grid_auto_rows": null,
            "grid_column": null,
            "grid_gap": null,
            "grid_row": null,
            "grid_template_areas": null,
            "grid_template_columns": null,
            "grid_template_rows": null,
            "height": null,
            "justify_content": null,
            "justify_items": null,
            "left": null,
            "margin": null,
            "max_height": null,
            "max_width": null,
            "min_height": null,
            "min_width": null,
            "object_fit": null,
            "object_position": null,
            "order": null,
            "overflow": null,
            "overflow_x": null,
            "overflow_y": null,
            "padding": null,
            "right": null,
            "top": null,
            "visibility": null,
            "width": "auto"
          }
        },
        "38a2d8032e0b43ae92bbb547b364edc0": {
          "model_module": "@jupyter-widgets/controls",
          "model_name": "ToggleButtonsStyleModel",
          "model_module_version": "1.5.0",
          "state": {
            "_model_module": "@jupyter-widgets/controls",
            "_model_module_version": "1.5.0",
            "_model_name": "ToggleButtonsStyleModel",
            "_view_count": null,
            "_view_module": "@jupyter-widgets/base",
            "_view_module_version": "1.2.0",
            "_view_name": "StyleView",
            "button_width": "",
            "description_width": "initial",
            "font_weight": ""
          }
        },
        "3449ecca9f5c44e580e4a207325f4bde": {
          "model_module": "@jupyter-widgets/base",
          "model_name": "LayoutModel",
          "model_module_version": "1.2.0",
          "state": {
            "_model_module": "@jupyter-widgets/base",
            "_model_module_version": "1.2.0",
            "_model_name": "LayoutModel",
            "_view_count": null,
            "_view_module": "@jupyter-widgets/base",
            "_view_module_version": "1.2.0",
            "_view_name": "LayoutView",
            "align_content": null,
            "align_items": null,
            "align_self": null,
            "border": null,
            "bottom": null,
            "display": null,
            "flex": null,
            "flex_flow": null,
            "grid_area": null,
            "grid_auto_columns": null,
            "grid_auto_flow": null,
            "grid_auto_rows": null,
            "grid_column": null,
            "grid_gap": null,
            "grid_row": null,
            "grid_template_areas": null,
            "grid_template_columns": null,
            "grid_template_rows": null,
            "height": null,
            "justify_content": null,
            "justify_items": null,
            "left": null,
            "margin": null,
            "max_height": null,
            "max_width": null,
            "min_height": null,
            "min_width": null,
            "object_fit": null,
            "object_position": null,
            "order": null,
            "overflow": null,
            "overflow_x": null,
            "overflow_y": null,
            "padding": null,
            "right": null,
            "top": null,
            "visibility": null,
            "width": "370px"
          }
        },
        "1bfd7614a5d149dabc3675361bf4c603": {
          "model_module": "@jupyter-widgets/controls",
          "model_name": "SliderStyleModel",
          "model_module_version": "1.5.0",
          "state": {
            "_model_module": "@jupyter-widgets/controls",
            "_model_module_version": "1.5.0",
            "_model_name": "SliderStyleModel",
            "_view_count": null,
            "_view_module": "@jupyter-widgets/base",
            "_view_module_version": "1.2.0",
            "_view_name": "StyleView",
            "description_width": "initial",
            "handle_color": null
          }
        },
        "52446f15cc9e43c29a2f8b9dd3175592": {
          "model_module": "@jupyter-widgets/base",
          "model_name": "LayoutModel",
          "model_module_version": "1.2.0",
          "state": {
            "_model_module": "@jupyter-widgets/base",
            "_model_module_version": "1.2.0",
            "_model_name": "LayoutModel",
            "_view_count": null,
            "_view_module": "@jupyter-widgets/base",
            "_view_module_version": "1.2.0",
            "_view_name": "LayoutView",
            "align_content": null,
            "align_items": null,
            "align_self": null,
            "border": null,
            "bottom": null,
            "display": null,
            "flex": null,
            "flex_flow": null,
            "grid_area": null,
            "grid_auto_columns": null,
            "grid_auto_flow": null,
            "grid_auto_rows": null,
            "grid_column": null,
            "grid_gap": null,
            "grid_row": null,
            "grid_template_areas": null,
            "grid_template_columns": null,
            "grid_template_rows": null,
            "height": null,
            "justify_content": null,
            "justify_items": null,
            "left": null,
            "margin": null,
            "max_height": null,
            "max_width": null,
            "min_height": null,
            "min_width": null,
            "object_fit": null,
            "object_position": null,
            "order": null,
            "overflow": null,
            "overflow_x": null,
            "overflow_y": null,
            "padding": null,
            "right": null,
            "top": null,
            "visibility": null,
            "width": "370px"
          }
        },
        "a3c7a58e2be749c39b689c21b1c2c147": {
          "model_module": "@jupyter-widgets/controls",
          "model_name": "SliderStyleModel",
          "model_module_version": "1.5.0",
          "state": {
            "_model_module": "@jupyter-widgets/controls",
            "_model_module_version": "1.5.0",
            "_model_name": "SliderStyleModel",
            "_view_count": null,
            "_view_module": "@jupyter-widgets/base",
            "_view_module_version": "1.2.0",
            "_view_name": "StyleView",
            "description_width": "initial",
            "handle_color": null
          }
        },
        "b8a5ff7f44d7437bb952903953d423de": {
          "model_module": "@jupyter-widgets/output",
          "model_name": "OutputModel",
          "model_module_version": "1.0.0",
          "state": {
            "_dom_classes": [],
            "_model_module": "@jupyter-widgets/output",
            "_model_module_version": "1.0.0",
            "_model_name": "OutputModel",
            "_view_count": null,
            "_view_module": "@jupyter-widgets/output",
            "_view_module_version": "1.0.0",
            "_view_name": "OutputView",
            "layout": "IPY_MODEL_9b01bc8750fe4112afa0be82df88c886",
            "msg_id": "",
            "outputs": [
              {
                "output_type": "display_data",
                "data": {
                  "text/plain": "<Figure size 720x648 with 5 Axes>",
                  "image/png": "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\n"
                },
                "metadata": {
                  "image/png": {
                    "width": 674,
                    "height": 549
                  },
                  "needs_background": "light"
                }
              }
            ]
          }
        },
        "9b01bc8750fe4112afa0be82df88c886": {
          "model_module": "@jupyter-widgets/base",
          "model_name": "LayoutModel",
          "model_module_version": "1.2.0",
          "state": {
            "_model_module": "@jupyter-widgets/base",
            "_model_module_version": "1.2.0",
            "_model_name": "LayoutModel",
            "_view_count": null,
            "_view_module": "@jupyter-widgets/base",
            "_view_module_version": "1.2.0",
            "_view_name": "LayoutView",
            "align_content": null,
            "align_items": null,
            "align_self": null,
            "border": null,
            "bottom": null,
            "display": null,
            "flex": null,
            "flex_flow": null,
            "grid_area": null,
            "grid_auto_columns": null,
            "grid_auto_flow": null,
            "grid_auto_rows": null,
            "grid_column": null,
            "grid_gap": null,
            "grid_row": null,
            "grid_template_areas": null,
            "grid_template_columns": null,
            "grid_template_rows": null,
            "height": null,
            "justify_content": null,
            "justify_items": null,
            "left": null,
            "margin": null,
            "max_height": null,
            "max_width": null,
            "min_height": null,
            "min_width": null,
            "object_fit": null,
            "object_position": null,
            "order": null,
            "overflow": null,
            "overflow_x": null,
            "overflow_y": null,
            "padding": null,
            "right": null,
            "top": null,
            "visibility": null,
            "width": null
          }
        },
        "1994755617ce46c381d03c10268b1293": {
          "model_module": "@jupyter-widgets/controls",
          "model_name": "TabModel",
          "model_module_version": "1.5.0",
          "state": {
            "_dom_classes": [],
            "_model_module": "@jupyter-widgets/controls",
            "_model_module_version": "1.5.0",
            "_model_name": "TabModel",
            "_titles": {
              "0": "Youtube",
              "1": "Bilibili"
            },
            "_view_count": null,
            "_view_module": "@jupyter-widgets/controls",
            "_view_module_version": "1.5.0",
            "_view_name": "TabView",
            "box_style": "",
            "children": [
              "IPY_MODEL_4d305a32beee4c4f91504f5898a1573c",
              "IPY_MODEL_50f1723ce4224f62a56a688a00608d11"
            ],
            "layout": "IPY_MODEL_d452f11291934ae48aa6ca9cf42021a5",
            "selected_index": 0
          }
        },
        "4d305a32beee4c4f91504f5898a1573c": {
          "model_module": "@jupyter-widgets/output",
          "model_name": "OutputModel",
          "model_module_version": "1.0.0",
          "state": {
            "_dom_classes": [],
            "_model_module": "@jupyter-widgets/output",
            "_model_module_version": "1.0.0",
            "_model_name": "OutputModel",
            "_view_count": null,
            "_view_module": "@jupyter-widgets/output",
            "_view_module_version": "1.0.0",
            "_view_name": "OutputView",
            "layout": "IPY_MODEL_5fd3fcd6239247d89bff6b1365ca8253",
            "msg_id": "",
            "outputs": [
              {
                "output_type": "stream",
                "name": "stdout",
                "text": [
                  "Video available at https://youtube.com/watch?v=h9L0EYmUpHs\n"
                ]
              },
              {
                "output_type": "display_data",
                "data": {
                  "text/plain": "<IPython.lib.display.YouTubeVideo at 0x7fc5b8273190>",
                  "text/html": "\n        <iframe\n            width=\"854\"\n            height=\"480\"\n            src=\"https://www.youtube.com/embed/h9L0EYmUpHs?fs=1&rel=0\"\n            frameborder=\"0\"\n            allowfullscreen\n        ></iframe>\n        ",
                  "image/jpeg": "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\n"
                },
                "metadata": {}
              }
            ]
          }
        },
        "50f1723ce4224f62a56a688a00608d11": {
          "model_module": "@jupyter-widgets/output",
          "model_name": "OutputModel",
          "model_module_version": "1.0.0",
          "state": {
            "_dom_classes": [],
            "_model_module": "@jupyter-widgets/output",
            "_model_module_version": "1.0.0",
            "_model_name": "OutputModel",
            "_view_count": null,
            "_view_module": "@jupyter-widgets/output",
            "_view_module_version": "1.0.0",
            "_view_name": "OutputView",
            "layout": "IPY_MODEL_3f144c8849ea464e8943cb4c1d21827e",
            "msg_id": "",
            "outputs": [
              {
                "output_type": "stream",
                "name": "stdout",
                "text": [
                  "Video available at https://www.bilibili.com/video/BV1QU4y137BS\n"
                ]
              },
              {
                "output_type": "display_data",
                "data": {
                  "text/plain": "<__main__.BiliVideo at 0x7fc5b8273c50>",
                  "text/html": "\n        <iframe\n            width=\"854\"\n            height=\"480\"\n            src=\"https://player.bilibili.com/player.html?bvid=BV1QU4y137BS&page=1?fs=1\"\n            frameborder=\"0\"\n            allowfullscreen\n        ></iframe>\n        "
                },
                "metadata": {}
              }
            ]
          }
        },
        "d452f11291934ae48aa6ca9cf42021a5": {
          "model_module": "@jupyter-widgets/base",
          "model_name": "LayoutModel",
          "model_module_version": "1.2.0",
          "state": {
            "_model_module": "@jupyter-widgets/base",
            "_model_module_version": "1.2.0",
            "_model_name": "LayoutModel",
            "_view_count": null,
            "_view_module": "@jupyter-widgets/base",
            "_view_module_version": "1.2.0",
            "_view_name": "LayoutView",
            "align_content": null,
            "align_items": null,
            "align_self": null,
            "border": null,
            "bottom": null,
            "display": null,
            "flex": null,
            "flex_flow": null,
            "grid_area": null,
            "grid_auto_columns": null,
            "grid_auto_flow": null,
            "grid_auto_rows": null,
            "grid_column": null,
            "grid_gap": null,
            "grid_row": null,
            "grid_template_areas": null,
            "grid_template_columns": null,
            "grid_template_rows": null,
            "height": null,
            "justify_content": null,
            "justify_items": null,
            "left": null,
            "margin": null,
            "max_height": null,
            "max_width": null,
            "min_height": null,
            "min_width": null,
            "object_fit": null,
            "object_position": null,
            "order": null,
            "overflow": null,
            "overflow_x": null,
            "overflow_y": null,
            "padding": null,
            "right": null,
            "top": null,
            "visibility": null,
            "width": null
          }
        },
        "5fd3fcd6239247d89bff6b1365ca8253": {
          "model_module": "@jupyter-widgets/base",
          "model_name": "LayoutModel",
          "model_module_version": "1.2.0",
          "state": {
            "_model_module": "@jupyter-widgets/base",
            "_model_module_version": "1.2.0",
            "_model_name": "LayoutModel",
            "_view_count": null,
            "_view_module": "@jupyter-widgets/base",
            "_view_module_version": "1.2.0",
            "_view_name": "LayoutView",
            "align_content": null,
            "align_items": null,
            "align_self": null,
            "border": null,
            "bottom": null,
            "display": null,
            "flex": null,
            "flex_flow": null,
            "grid_area": null,
            "grid_auto_columns": null,
            "grid_auto_flow": null,
            "grid_auto_rows": null,
            "grid_column": null,
            "grid_gap": null,
            "grid_row": null,
            "grid_template_areas": null,
            "grid_template_columns": null,
            "grid_template_rows": null,
            "height": null,
            "justify_content": null,
            "justify_items": null,
            "left": null,
            "margin": null,
            "max_height": null,
            "max_width": null,
            "min_height": null,
            "min_width": null,
            "object_fit": null,
            "object_position": null,
            "order": null,
            "overflow": null,
            "overflow_x": null,
            "overflow_y": null,
            "padding": null,
            "right": null,
            "top": null,
            "visibility": null,
            "width": null
          }
        },
        "3f144c8849ea464e8943cb4c1d21827e": {
          "model_module": "@jupyter-widgets/base",
          "model_name": "LayoutModel",
          "model_module_version": "1.2.0",
          "state": {
            "_model_module": "@jupyter-widgets/base",
            "_model_module_version": "1.2.0",
            "_model_name": "LayoutModel",
            "_view_count": null,
            "_view_module": "@jupyter-widgets/base",
            "_view_module_version": "1.2.0",
            "_view_name": "LayoutView",
            "align_content": null,
            "align_items": null,
            "align_self": null,
            "border": null,
            "bottom": null,
            "display": null,
            "flex": null,
            "flex_flow": null,
            "grid_area": null,
            "grid_auto_columns": null,
            "grid_auto_flow": null,
            "grid_auto_rows": null,
            "grid_column": null,
            "grid_gap": null,
            "grid_row": null,
            "grid_template_areas": null,
            "grid_template_columns": null,
            "grid_template_rows": null,
            "height": null,
            "justify_content": null,
            "justify_items": null,
            "left": null,
            "margin": null,
            "max_height": null,
            "max_width": null,
            "min_height": null,
            "min_width": null,
            "object_fit": null,
            "object_position": null,
            "order": null,
            "overflow": null,
            "overflow_x": null,
            "overflow_y": null,
            "padding": null,
            "right": null,
            "top": null,
            "visibility": null,
            "width": null
          }
        }
      }
    }
  },
  "nbformat": 4,
  "nbformat_minor": 0
}