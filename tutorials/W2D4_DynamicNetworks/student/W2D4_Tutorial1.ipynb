{
  "cells": [
    {
      "cell_type": "markdown",
      "metadata": {
        "id": "view-in-github",
        "colab_type": "text"
      },
      "source": [
        "<a href=\"https://colab.research.google.com/github/bainro/nma/blob/main/tutorials/W2D4_DynamicNetworks/student/W2D4_Tutorial1.ipynb\" target=\"_parent\"><img src=\"https://colab.research.google.com/assets/colab-badge.svg\" alt=\"Open In Colab\"/></a>"
      ]
    },
    {
      "cell_type": "markdown",
      "metadata": {
        "execution": {},
        "id": "-x2-JEHZkSdS"
      },
      "source": [
        "# Tutorial 1: Neural Rate Models\n",
        "**Week 2, Day 4: Dynamic Networks**\n",
        "\n",
        "**By Neuromatch Academy**\n",
        "\n",
        "__Content creators:__ Qinglong Gu, Songtin Li, Arvind Kumar, John Murray, Julijana Gjorgjieva \n",
        "\n",
        "__Content reviewers:__  Maryam Vaziri-Pashkam, Ella Batty, Lorenzo Fontolan, Richard Gao, Spiros Chavlis, Michael Waskom, Siddharth Suresh\n",
        "\n",
        "__Post-production team:__ Gagana B, Spiros Chavlis"
      ]
    },
    {
      "cell_type": "markdown",
      "metadata": {
        "execution": {},
        "id": "yF7bgHnRkSdb"
      },
      "source": [
        "<p align='center'><img src='https://github.com/NeuromatchAcademy/widgets/blob/master/sponsors.png?raw=True'/></p>"
      ]
    },
    {
      "cell_type": "markdown",
      "metadata": {
        "execution": {},
        "id": "uHm8kR6ykSdc"
      },
      "source": [
        "---\n",
        "# Tutorial Objectives\n",
        "\n",
        "*Estimated timing of tutorial: 1 hour, 25 minutes*\n",
        "\n",
        "The brain is a complex system, not because it is composed of a large number of diverse types of neurons, but mainly because of how neurons are connected to each other. The brain is indeed a network of highly specialized neuronal networks. \n",
        "\n",
        "The activity of a neural network constantly evolves in time. For this reason, neurons can be modeled as dynamical systems. The dynamical system approach is only one of the many modeling approaches that computational neuroscientists have developed (other points of view include information processing,  statistical models, etc.). \n",
        "\n",
        "How the dynamics of neuronal networks affect the representation and processing of information in the brain is an open question. However, signatures of altered brain dynamics present in many brain diseases (e.g., in epilepsy or Parkinson's disease) tell us that it is crucial to study network activity dynamics if we want to understand the brain.\n",
        "\n",
        "In this tutorial, we will simulate and study one of the simplest models of biological neuronal networks. Instead of modeling and simulating individual excitatory neurons (e.g., LIF models that you implemented yesterday), we will treat them as a single homogeneous population and approximate their dynamics using a single one-dimensional equation describing the evolution of their average spiking rate in time.\n",
        "\n",
        "In this tutorial, we will learn how to build a firing rate model of a single population of excitatory neurons. \n",
        "\n",
        "<br>\n",
        "\n",
        "**Steps:**\n",
        "- Write the equation for the firing rate dynamics of a 1D excitatory population.\n",
        "- Visualize the response of the population as a function of parameters such as threshold level and gain, using the frequency-current (F-I) curve.\n",
        "- Numerically simulate the dynamics of the excitatory population and find the fixed points of the system."
      ]
    },
    {
      "cell_type": "code",
      "execution_count": 1,
      "metadata": {
        "cellView": "form",
        "execution": {},
        "colab": {
          "base_uri": "https://localhost:8080/",
          "height": 501
        },
        "id": "dc1IsmwAkSdf",
        "outputId": "958093c2-8ee8-46dc-b7f8-96cdf413f72c"
      },
      "outputs": [
        {
          "output_type": "execute_result",
          "data": {
            "text/plain": [
              "<IPython.lib.display.IFrame at 0x7fb1d5e53110>"
            ],
            "text/html": [
              "\n",
              "        <iframe\n",
              "            width=\"854\"\n",
              "            height=\"480\"\n",
              "            src=\"https://mfr.ca-1.osf.io/render?url=https://osf.io/nvuty/?direct%26mode=render%26action=download%26mode=render\"\n",
              "            frameborder=\"0\"\n",
              "            allowfullscreen\n",
              "        ></iframe>\n",
              "        "
            ]
          },
          "metadata": {},
          "execution_count": 1
        }
      ],
      "source": [
        "# @title Tutorial slides\n",
        "\n",
        "# @markdown These are the slides for the videos in all tutorials today\n",
        "from IPython.display import IFrame\n",
        "IFrame(src=f\"https://mfr.ca-1.osf.io/render?url=https://osf.io/nvuty/?direct%26mode=render%26action=download%26mode=render\", width=854, height=480)"
      ]
    },
    {
      "cell_type": "markdown",
      "metadata": {
        "execution": {},
        "id": "FIdJl9bSkSdi"
      },
      "source": [
        "---\n",
        "# Setup"
      ]
    },
    {
      "cell_type": "code",
      "execution_count": 2,
      "metadata": {
        "cellView": "both",
        "execution": {},
        "id": "rw1mnRVVkSdk"
      },
      "outputs": [],
      "source": [
        "# Imports\n",
        "import matplotlib.pyplot as plt\n",
        "import numpy as np\n",
        "import scipy.optimize as opt  # root-finding algorithm"
      ]
    },
    {
      "cell_type": "code",
      "execution_count": 3,
      "metadata": {
        "cellView": "form",
        "execution": {},
        "id": "sbrnElggkSdl"
      },
      "outputs": [],
      "source": [
        "# @title Figure Settings\n",
        "import ipywidgets as widgets       # interactive display\n",
        "%config InlineBackend.figure_format = 'retina'\n",
        "plt.style.use(\"https://raw.githubusercontent.com/NeuromatchAcademy/course-content/main/nma.mplstyle\")"
      ]
    },
    {
      "cell_type": "code",
      "execution_count": 4,
      "metadata": {
        "cellView": "form",
        "execution": {},
        "id": "k_8k0GkekSdn"
      },
      "outputs": [],
      "source": [
        "# @title Plotting Functions\n",
        "\n",
        "\n",
        "def plot_fI(x, f):\n",
        "  plt.figure(figsize=(6, 4))  # plot the figure\n",
        "  plt.plot(x, f, 'k')\n",
        "  plt.xlabel('x (a.u.)', fontsize=14)\n",
        "  plt.ylabel('F(x)', fontsize=14)\n",
        "  plt.show()\n",
        "\n",
        "\n",
        "def plot_dr_r(r, drdt, x_fps=None):\n",
        "  plt.figure()\n",
        "  plt.plot(r, drdt, 'k')\n",
        "  plt.plot(r, 0. * r, 'k--')\n",
        "  if x_fps is not None:\n",
        "    plt.plot(x_fps, np.zeros_like(x_fps), \"ko\", ms=12)\n",
        "  plt.xlabel(r'$r$')\n",
        "  plt.ylabel(r'$\\frac{dr}{dt}$', fontsize=20)\n",
        "  plt.ylim(-0.1, 0.1)\n",
        "\n",
        "\n",
        "def plot_dFdt(x, dFdt):\n",
        "  plt.figure()\n",
        "  plt.plot(x, dFdt, 'r')\n",
        "  plt.xlabel('x (a.u.)', fontsize=14)\n",
        "  plt.ylabel('dF(x)', fontsize=14)\n",
        "  plt.show()"
      ]
    },
    {
      "cell_type": "markdown",
      "metadata": {
        "execution": {},
        "id": "hkI3g7xhkSdp"
      },
      "source": [
        "---\n",
        "# Section 1: Neuronal network dynamics"
      ]
    },
    {
      "cell_type": "code",
      "execution_count": 5,
      "metadata": {
        "cellView": "form",
        "execution": {},
        "colab": {
          "base_uri": "https://localhost:8080/",
          "height": 581,
          "referenced_widgets": [
            "6cea7eeb90c341b7a45bfce2b37ac78e",
            "52e42e9db1f242c8abb1edbf54d717a0",
            "0f1cc6360b994260ad296b5c293ec468",
            "c4cfcc54f5954267b4bbf94517d2d379",
            "be506213875b44d988dbdba3f63347d8",
            "03e54375e40340efa233e711bf2448e6"
          ]
        },
        "id": "FVWbw6zmkSdr",
        "outputId": "45e542a0-6cac-4641-bd41-7f291f167dc1"
      },
      "outputs": [
        {
          "output_type": "display_data",
          "data": {
            "text/plain": [
              "Tab(children=(Output(), Output()), _titles={'0': 'Youtube', '1': 'Bilibili'})"
            ],
            "application/vnd.jupyter.widget-view+json": {
              "version_major": 2,
              "version_minor": 0,
              "model_id": "6cea7eeb90c341b7a45bfce2b37ac78e"
            }
          },
          "metadata": {}
        }
      ],
      "source": [
        "# @title Video 1: Dynamic networks\n",
        "from ipywidgets import widgets\n",
        "\n",
        "out2 = widgets.Output()\n",
        "with out2:\n",
        "  from IPython.display import IFrame\n",
        "  class BiliVideo(IFrame):\n",
        "      def __init__(self, id, page=1, width=400, height=300, **kwargs):\n",
        "          self.id=id\n",
        "          src = 'https://player.bilibili.com/player.html?bvid={0}&page={1}'.format(id, page)\n",
        "          super(BiliVideo, self).__init__(src, width, height, **kwargs)\n",
        "\n",
        "  video = BiliVideo(id=\"BV1dh411o7qJ\", width=854, height=480, fs=1)\n",
        "  print('Video available at https://www.bilibili.com/video/{0}'.format(video.id))\n",
        "  display(video)\n",
        "\n",
        "out1 = widgets.Output()\n",
        "with out1:\n",
        "  from IPython.display import YouTubeVideo\n",
        "  video = YouTubeVideo(id=\"p848349hPyw\", width=854, height=480, fs=1, rel=0)\n",
        "  print('Video available at https://youtube.com/watch?v=' + video.id)\n",
        "  display(video)\n",
        "\n",
        "out = widgets.Tab([out1, out2])\n",
        "out.set_title(0, 'Youtube')\n",
        "out.set_title(1, 'Bilibili')\n",
        "\n",
        "display(out)"
      ]
    },
    {
      "cell_type": "markdown",
      "metadata": {
        "execution": {},
        "id": "UcKFLNURkSds"
      },
      "source": [
        "This video covers how to model a network with a single population of neurons and introduces neural rate-based models. It overviews feedforward networks and defines the F-I (firing rate vs. input) curve."
      ]
    },
    {
      "cell_type": "markdown",
      "metadata": {
        "execution": {},
        "id": "n5lL-E_BkSdt"
      },
      "source": [
        "## Section 1.1: Dynamics of a single excitatory population\n",
        "\n",
        "\n",
        "<details>\n",
        "<summary> <font color='blue'>Click here for text recap of relevant part of video </font></summary>\n",
        "\n",
        "Individual neurons respond by spiking. When we average the spikes of neurons in a population, we can define the average firing activity of the population. In this model, we are interested in how the population-averaged firing varies as a function of time and network parameters. Mathematically, we can describe the firing rate dynamic of a feed-forward network as:\n",
        "\n",
        "\\begin{equation}\n",
        "\\tau \\frac{dr}{dt} = -r + F(I_{\\text{ext}})  \\quad\\qquad (1)\n",
        "\\end{equation}\n",
        "\n",
        "$r(t)$ represents the average firing rate of the excitatory population at time $t$, $\\tau$ controls the timescale of the evolution of the average firing rate, $I_{\\text{ext}}$ represents the external input, and the transfer function $F(\\cdot)$ (which can be related to f-I curve of individual neurons described in the next sections) represents the population activation function in response to all received inputs.\n",
        "\n",
        "</details>\n",
        "\n",
        "To start building the model, please execute the cell below to initialize the simulation parameters."
      ]
    },
    {
      "cell_type": "code",
      "execution_count": 6,
      "metadata": {
        "cellView": "form",
        "execution": {},
        "colab": {
          "base_uri": "https://localhost:8080/"
        },
        "id": "iPb6nxIWkSdu",
        "outputId": "959bb3df-b253-481a-c894-9d526ea23292"
      },
      "outputs": [
        {
          "output_type": "stream",
          "name": "stdout",
          "text": [
            "{'tau': 1.0, 'a': 1.2, 'theta': 2.8, 'w': 0.0, 'I_ext': 0.0, 'T': 20.0, 'dt': 0.1, 'r_init': 0.2, 'range_t': array([ 0. ,  0.1,  0.2,  0.3,  0.4,  0.5,  0.6,  0.7,  0.8,  0.9,  1. ,\n",
            "        1.1,  1.2,  1.3,  1.4,  1.5,  1.6,  1.7,  1.8,  1.9,  2. ,  2.1,\n",
            "        2.2,  2.3,  2.4,  2.5,  2.6,  2.7,  2.8,  2.9,  3. ,  3.1,  3.2,\n",
            "        3.3,  3.4,  3.5,  3.6,  3.7,  3.8,  3.9,  4. ,  4.1,  4.2,  4.3,\n",
            "        4.4,  4.5,  4.6,  4.7,  4.8,  4.9,  5. ,  5.1,  5.2,  5.3,  5.4,\n",
            "        5.5,  5.6,  5.7,  5.8,  5.9,  6. ,  6.1,  6.2,  6.3,  6.4,  6.5,\n",
            "        6.6,  6.7,  6.8,  6.9,  7. ,  7.1,  7.2,  7.3,  7.4,  7.5,  7.6,\n",
            "        7.7,  7.8,  7.9,  8. ,  8.1,  8.2,  8.3,  8.4,  8.5,  8.6,  8.7,\n",
            "        8.8,  8.9,  9. ,  9.1,  9.2,  9.3,  9.4,  9.5,  9.6,  9.7,  9.8,\n",
            "        9.9, 10. , 10.1, 10.2, 10.3, 10.4, 10.5, 10.6, 10.7, 10.8, 10.9,\n",
            "       11. , 11.1, 11.2, 11.3, 11.4, 11.5, 11.6, 11.7, 11.8, 11.9, 12. ,\n",
            "       12.1, 12.2, 12.3, 12.4, 12.5, 12.6, 12.7, 12.8, 12.9, 13. , 13.1,\n",
            "       13.2, 13.3, 13.4, 13.5, 13.6, 13.7, 13.8, 13.9, 14. , 14.1, 14.2,\n",
            "       14.3, 14.4, 14.5, 14.6, 14.7, 14.8, 14.9, 15. , 15.1, 15.2, 15.3,\n",
            "       15.4, 15.5, 15.6, 15.7, 15.8, 15.9, 16. , 16.1, 16.2, 16.3, 16.4,\n",
            "       16.5, 16.6, 16.7, 16.8, 16.9, 17. , 17.1, 17.2, 17.3, 17.4, 17.5,\n",
            "       17.6, 17.7, 17.8, 17.9, 18. , 18.1, 18.2, 18.3, 18.4, 18.5, 18.6,\n",
            "       18.7, 18.8, 18.9, 19. , 19.1, 19.2, 19.3, 19.4, 19.5, 19.6, 19.7,\n",
            "       19.8, 19.9])}\n"
          ]
        }
      ],
      "source": [
        "# @markdown *Execute this cell to set default parameters for a single excitatory population model*\n",
        "\n",
        "\n",
        "def default_pars_single(**kwargs):\n",
        "  pars = {}\n",
        "\n",
        "  # Excitatory parameters\n",
        "  pars['tau'] = 1.     # Timescale of the E population [ms]\n",
        "  pars['a'] = 1.2      # Gain of the E population\n",
        "  pars['theta'] = 2.8  # Threshold of the E population\n",
        "\n",
        "  # Connection strength\n",
        "  pars['w'] = 0.  # E to E, we first set it to 0\n",
        "\n",
        "  # External input\n",
        "  pars['I_ext'] = 0.\n",
        "\n",
        "  # simulation parameters\n",
        "  pars['T'] = 20.       # Total duration of simulation [ms]\n",
        "  pars['dt'] = .1       # Simulation time step [ms]\n",
        "  pars['r_init'] = 0.2  # Initial value of E\n",
        "\n",
        "  # External parameters if any\n",
        "  pars.update(kwargs)\n",
        "\n",
        "  # Vector of discretized time points [ms]\n",
        "  pars['range_t'] = np.arange(0, pars['T'], pars['dt'])\n",
        "\n",
        "  return pars\n",
        "\n",
        "pars = default_pars_single()\n",
        "print(pars)"
      ]
    },
    {
      "cell_type": "markdown",
      "metadata": {
        "execution": {},
        "id": "fBrNRoK2kSdv"
      },
      "source": [
        "You can now use:\n",
        "- `pars = default_pars_single()` to get all the parameters. \n",
        "- `pars = default_pars_single(T=T_sim, dt=time_step)` to set new simulation time and time step\n",
        "- To update an existing parameter dictionary, use `pars['New_para'] = value`\n",
        "\n",
        "Because `pars` is a dictionary, it can be passed to a function that requires individual parameters as arguments using `my_func(**pars)` syntax."
      ]
    },
    {
      "cell_type": "markdown",
      "metadata": {
        "execution": {},
        "id": "CtTVk9DXkSdw"
      },
      "source": [
        "## Section 1.2: F-I curves\n",
        "\n",
        "*Estimated timing to here from start of tutorial: 17 min*\n",
        "\n",
        "<details>\n",
        "<summary> <font color='blue'>Click here for text recap of relevant part of video </font></summary>\n",
        "\n",
        "In electrophysiology, a neuron is often characterized by its spike rate output in response to input currents. This is often called the **F-I** curve, denoting the output spike frequency (**F**) in response to different injected currents (**I**). We estimated this for an LIF neuron in yesterday's tutorial.\n",
        "\n",
        "The transfer function $F(\\cdot)$ in Equation $1$ represents the gain of the population as a function of the total input. The gain is often modeled as a sigmoidal function, i.e., more input drive leads to a nonlinear increase in the population firing rate. The output firing rate will eventually saturate for high input values. \n",
        "\n",
        "A sigmoidal $F(\\cdot)$ is parameterized by its gain $a$ and threshold $\\theta$.\n",
        "\n",
        "$$ F(x;a,\\theta) = \\frac{1}{1+\\text{e}^{-a(x-\\theta)}} - \\frac{1}{1+\\text{e}^{a\\theta}}  \\quad(2)$$\n",
        "\n",
        "The argument $x$ represents the input to the population. Note that the second term is chosen so that $F(0;a,\\theta)=0$.\n",
        "\n",
        "Many other transfer functions (generally monotonic) can be also used. Examples are the rectified linear function $ReLU(x)$ or the hyperbolic tangent $tanh(x)$."
      ]
    },
    {
      "cell_type": "markdown",
      "metadata": {
        "execution": {},
        "id": "2B-NsZMRkSdx"
      },
      "source": [
        "### Coding Exercise 1.2: Implement F-I curve \n",
        "\n",
        "Let's first investigate the activation functions before simulating the dynamics of the entire population. \n",
        "\n",
        "In this exercise, you will implement a sigmoidal **F-I** curve or transfer function $F(x)$, with gain $a$ and threshold level $\\theta$ as parameters:\n",
        "\n",
        "\\begin{equation}\n",
        "F(x;a,\\theta) = \\frac{1}{1+\\text{e}^{-a(x-\\theta)}} - \\frac{1}{1+\\text{e}^{a\\theta}}\n",
        "\\end{equation}"
      ]
    },
    {
      "cell_type": "code",
      "execution_count": 11,
      "metadata": {
        "execution": {},
        "colab": {
          "base_uri": "https://localhost:8080/",
          "height": 287
        },
        "id": "Em9KgDq1kSdx",
        "outputId": "df2e00ce-8f93-4f36-889c-45301e8a235c"
      },
      "outputs": [
        {
          "output_type": "display_data",
          "data": {
            "text/plain": [
              "<Figure size 432x288 with 1 Axes>"
            ],
            "image/png": "[encoded data removed]"
          },
          "metadata": {
            "image/png": {
              "width": 413,
              "height": 270
            },
            "needs_background": "light"
          }
        }
      ],
      "source": [
        "def F(x, a, theta):\n",
        "  \"\"\"\n",
        "  Population activation function.\n",
        "\n",
        "  Args:\n",
        "    x (float): the population input\n",
        "    a (float): the gain of the function\n",
        "    theta (float): the threshold of the function\n",
        "\n",
        "  Returns:\n",
        "    float: the population activation response F(x) for input x\n",
        "  \"\"\"\n",
        "  #################################################\n",
        "  ## TODO for students: compute f = F(x) ##\n",
        "  # Fill out function and remove\n",
        "  # raise NotImplementedError(\"Student exercise: implement the f-I function\")\n",
        "  #################################################\n",
        "\n",
        "  # Define the sigmoidal transfer function f = F(x)\n",
        "  f = (1 / (1 + (np.e ** (-a * (x - theta))))) - (1 / (1 + np.e ** (a * theta))) \n",
        "\n",
        "  return f\n",
        "\n",
        "\n",
        "# Set parameters\n",
        "pars = default_pars_single()  # get default parameters\n",
        "x = np.arange(0, 10, .1)      # set the range of input\n",
        "\n",
        "# Compute transfer function\n",
        "f = F(x, pars['a'], pars['theta'])\n",
        "\n",
        "# Visualize\n",
        "plot_fI(x, f)"
      ]
    },
    {
      "cell_type": "markdown",
      "metadata": {
        "cellView": "both",
        "execution": {},
        "id": "hgY1g9NnkSdy"
      },
      "source": [
        "[*Click for solution*](https://github.com/NeuromatchAcademy/course-content/tree/main//tutorials/W2D4_DynamicNetworks/solutions/W2D4_Tutorial1_Solution_04e84428.py)\n",
        "\n",
        "*Example output:*\n",
        "\n",
        "<img alt='Solution hint' align='left' width=849.0 height=561.0 src=https://raw.githubusercontent.com/NeuromatchAcademy/course-content/main/tutorials/W2D4_DynamicNetworks/static/W2D4_Tutorial1_Solution_04e84428_0.png>\n",
        "\n"
      ]
    },
    {
      "cell_type": "markdown",
      "metadata": {
        "execution": {},
        "id": "MNoMEYGzkSdy"
      },
      "source": [
        "### Interactive Demo 1.2 : Parameter exploration of F-I curve\n",
        "\n",
        "Here's an interactive demo that shows how the F-I curve changes for different values of the gain and threshold parameters. \n",
        "\n",
        "1. How does the gain parameter ($a$) affect the F-I curve?\n",
        "2. How does the threshold parameter ($\\theta$) affect the F-I curve?"
      ]
    },
    {
      "cell_type": "code",
      "execution_count": 12,
      "metadata": {
        "cellView": "form",
        "execution": {},
        "colab": {
          "base_uri": "https://localhost:8080/",
          "height": 494,
          "referenced_widgets": [
            "255298dc541a442b995a60af7ac46b98",
            "0855837660ea413ea4d986368903e800",
            "c68de412ceb445b683d5bcfaae0fc8a6",
            "22a1ee94a7314be8a5977603372141a4",
            "08c4d4a910514da9b0b53368df25651b",
            "37f4471f284f4be0ab2ad6c80eade6c5",
            "dc96a64c01434366b8ebff8f9bd53ccc",
            "52c6f250a165453fbcf477b72b5e22bf",
            "8fc6b7592be143babec3d0fe6e154982",
            "ef7f06b83ee147019605e4acbfdff264"
          ]
        },
        "id": "Onm9pBgNkSdy",
        "outputId": "8b569b4b-08a0-4c3e-cc6e-bfcc01bb96e1"
      },
      "outputs": [
        {
          "output_type": "display_data",
          "data": {
            "text/plain": [
              "interactive(children=(FloatSlider(value=1.5, description='a', max=3.0, min=0.3, step=0.3), FloatSlider(value=3…"
            ],
            "application/vnd.jupyter.widget-view+json": {
              "version_major": 2,
              "version_minor": 0,
              "model_id": "255298dc541a442b995a60af7ac46b98"
            }
          },
          "metadata": {}
        }
      ],
      "source": [
        "# @title\n",
        "\n",
        "# @markdown Make sure you execute this cell to enable the widget!\n",
        "\n",
        "\n",
        "def interactive_plot_FI(a, theta):\n",
        "  \"\"\"\n",
        "  Population activation function.\n",
        "\n",
        "  Expecxts:\n",
        "    a     : the gain of the function\n",
        "    theta : the threshold of the function\n",
        "\n",
        "  Returns:\n",
        "    plot the F-I curve with give parameters\n",
        "  \"\"\"\n",
        "\n",
        "  # set the range of input\n",
        "  x = np.arange(0, 10, .1)\n",
        "  plt.figure()\n",
        "  plt.plot(x, F(x, a, theta), 'k')\n",
        "  plt.xlabel('x (a.u.)', fontsize=14)\n",
        "  plt.ylabel('F(x)', fontsize=14)\n",
        "  plt.show()\n",
        "\n",
        "\n",
        "_ = widgets.interact(interactive_plot_FI, a=(0.3, 3, 0.3), theta=(2, 4, 0.2))"
      ]
    },
    {
      "cell_type": "markdown",
      "metadata": {
        "execution": {},
        "id": "jlCtEwgUkSdz"
      },
      "source": [
        "[*Click for solution*](https://github.com/NeuromatchAcademy/course-content/tree/main//tutorials/W2D4_DynamicNetworks/solutions/W2D4_Tutorial1_Solution_89e4146a.py)\n",
        "\n"
      ]
    },
    {
      "cell_type": "markdown",
      "metadata": {
        "execution": {},
        "id": "8k1xzuN7kSd0"
      },
      "source": [
        "## Section 1.3: Simulation scheme of E dynamics\n",
        "\n",
        "*Estimated timing to here from start of tutorial: 27 min*\n",
        "\n",
        "Because $F(\\cdot)$ is a nonlinear function, the exact solution of our differential equation of population activity can not be determined via analytical methods. As we have seen before, we can use numerical methods, specifically the Euler method, to find the solution (that is, simulate the population activity)."
      ]
    },
    {
      "cell_type": "code",
      "execution_count": 13,
      "metadata": {
        "cellView": "form",
        "execution": {},
        "colab": {
          "base_uri": "https://localhost:8080/"
        },
        "id": "6P0QUGwkkSd1",
        "outputId": "8ff4c535-e0db-4ffc-92e1-68615d6cbb99"
      },
      "outputs": [
        {
          "output_type": "stream",
          "name": "stdout",
          "text": [
            "Help on function simulate_single in module __main__:\n",
            "\n",
            "simulate_single(pars)\n",
            "    Simulate an excitatory population of neurons\n",
            "    \n",
            "    Args:\n",
            "      pars   : Parameter dictionary\n",
            "    \n",
            "    Returns:\n",
            "      rE     : Activity of excitatory population (array)\n",
            "    \n",
            "    Example:\n",
            "      pars = default_pars_single()\n",
            "      r = simulate_single(pars)\n",
            "\n"
          ]
        }
      ],
      "source": [
        "# @markdown *Execute this cell to enable the single population rate model simulator: `simulate_single`*\n",
        "\n",
        "\n",
        "def simulate_single(pars):\n",
        "  \"\"\"\n",
        "  Simulate an excitatory population of neurons\n",
        "\n",
        "  Args:\n",
        "    pars   : Parameter dictionary\n",
        "\n",
        "  Returns:\n",
        "    rE     : Activity of excitatory population (array)\n",
        "\n",
        "  Example:\n",
        "    pars = default_pars_single()\n",
        "    r = simulate_single(pars)\n",
        "  \"\"\"\n",
        "\n",
        "  # Set parameters\n",
        "  tau, a, theta = pars['tau'], pars['a'], pars['theta']\n",
        "  w = pars['w']\n",
        "  I_ext = pars['I_ext']\n",
        "  r_init = pars['r_init']\n",
        "  dt, range_t = pars['dt'], pars['range_t']\n",
        "  Lt = range_t.size\n",
        "\n",
        "  # Initialize activity\n",
        "  r = np.zeros(Lt)\n",
        "  r[0] = r_init\n",
        "  I_ext = I_ext * np.ones(Lt)\n",
        "\n",
        "  # Update the E activity\n",
        "  for k in range(Lt - 1):\n",
        "      dr = dt / tau * (-r[k] + F(w * r[k] + I_ext[k], a, theta))\n",
        "      r[k+1] = r[k] + dr\n",
        "\n",
        "  return r\n",
        "\n",
        "help(simulate_single)"
      ]
    },
    {
      "cell_type": "markdown",
      "metadata": {
        "execution": {},
        "id": "FQ9lHSsjkSd7"
      },
      "source": [
        "### Interactive Demo 1.3: Parameter Exploration of single population dynamics\n",
        "\n",
        "Explore these dynamics of the population activity in this interactive demo.\n",
        "\n",
        "1.  How does $r_{\\text{sim}}(t)$ change with different $I_{\\text{ext}}$ values? \n",
        "2.  How does it change with different $\\tau$ values? \n",
        "\n",
        "<br>\n",
        "\n",
        "Note that, $r_{\\rm ana}(t)$ denotes the analytical solution - you will learn how this is computed in the next section."
      ]
    },
    {
      "cell_type": "code",
      "execution_count": 14,
      "metadata": {
        "cellView": "form",
        "execution": {},
        "colab": {
          "base_uri": "https://localhost:8080/",
          "height": 494,
          "referenced_widgets": [
            "118475c8d522460988963f5535321f06",
            "58a5f1c509714d40bc76a87f6db8cb5e",
            "85bd4be423e143038049bc480681d893",
            "79c3f3e884c84a9899550d8821b61623",
            "8d3e2c14b8924d2c88d7d4017d676180",
            "5c92d040cc0543b791ec339abab0896d",
            "a308b92def9b4a9c9759bf17cd722ab1",
            "35bba3f4576f4b229c4833fa8c015937",
            "20417fae511442c09255b16239f7de1f",
            "483bb4a99ee4493281210ab5c388c7c2"
          ]
        },
        "id": "HKX8b2cvkSd8",
        "outputId": "c15c349d-7da8-4854-c76f-8b99d0f15146"
      },
      "outputs": [
        {
          "output_type": "display_data",
          "data": {
            "text/plain": [
              "interactive(children=(FloatSlider(value=5.0, description='I_ext', max=10.0, step=1.0), FloatSlider(value=3.0, …"
            ],
            "application/vnd.jupyter.widget-view+json": {
              "version_major": 2,
              "version_minor": 0,
              "model_id": "118475c8d522460988963f5535321f06"
            }
          },
          "metadata": {}
        }
      ],
      "source": [
        "# @title\n",
        "\n",
        "# @markdown Make sure you execute this cell to enable the widget!\n",
        "\n",
        "# get default parameters\n",
        "pars = default_pars_single(T=20.)\n",
        "\n",
        "\n",
        "def Myplot_E_diffI_difftau(I_ext, tau):\n",
        "  # set external input and time constant\n",
        "  pars['I_ext'] = I_ext\n",
        "  pars['tau'] = tau\n",
        "\n",
        "  # simulation\n",
        "  r = simulate_single(pars)\n",
        "\n",
        "  # Analytical Solution\n",
        "  r_ana = (pars['r_init']\n",
        "           + (F(I_ext, pars['a'], pars['theta'])\n",
        "           - pars['r_init']) * (1. - np.exp(-pars['range_t'] / pars['tau'])))\n",
        "\n",
        "  # plot\n",
        "  plt.figure()\n",
        "  plt.plot(pars['range_t'], r, 'b', label=r'$r_{\\mathrm{sim}}$(t)', alpha=0.5,\n",
        "           zorder=1)\n",
        "  plt.plot(pars['range_t'], r_ana, 'b--', lw=5, dashes=(2, 2),\n",
        "           label=r'$r_{\\mathrm{ana}}$(t)', zorder=2)\n",
        "  plt.plot(pars['range_t'],\n",
        "           F(I_ext, pars['a'], pars['theta']) * np.ones(pars['range_t'].size),\n",
        "           'k--', label=r'$F(I_{\\mathrm{ext}})$')\n",
        "  plt.xlabel('t (ms)', fontsize=16.)\n",
        "  plt.ylabel('Activity r(t)', fontsize=16.)\n",
        "  plt.legend(loc='best', fontsize=14.)\n",
        "  plt.show()\n",
        "\n",
        "\n",
        "_ = widgets.interact(Myplot_E_diffI_difftau, I_ext=(0.0, 10., 1.),\n",
        "                     tau=(1., 5., 0.2))"
      ]
    },
    {
      "cell_type": "markdown",
      "metadata": {
        "execution": {},
        "id": "Ex0PPzu9kSd8"
      },
      "source": [
        "[*Click for solution*](https://github.com/NeuromatchAcademy/course-content/tree/main//tutorials/W2D4_DynamicNetworks/solutions/W2D4_Tutorial1_Solution_44a82c10.py)\n",
        "\n"
      ]
    },
    {
      "cell_type": "markdown",
      "metadata": {
        "execution": {},
        "id": "eXrtraQ7kSd9"
      },
      "source": [
        "## Think! 1.3: Finite activities\n",
        "\n",
        "Above, we have numerically solved a system driven by a positive input. Yet, $r_E(t)$ either decays to zero or reaches a fixed non-zero value.\n",
        "\n",
        "1. Why doesn't the solution of the system \"explode\" in a finite time? In other words, what guarantees that $r_E$(t) stays finite? \n",
        "2. Which parameter would you change in order to increase the maximum value of the response? "
      ]
    },
    {
      "cell_type": "markdown",
      "metadata": {
        "execution": {},
        "id": "30Y5VmHVkSd9"
      },
      "source": [
        "[*Click for solution*](https://github.com/NeuromatchAcademy/course-content/tree/main//tutorials/W2D4_DynamicNetworks/solutions/W2D4_Tutorial1_Solution_86ae968b.py)\n",
        "\n"
      ]
    },
    {
      "cell_type": "markdown",
      "metadata": {
        "execution": {},
        "id": "kiNkvX4bkSd9"
      },
      "source": [
        "---\n",
        "# Section 2: Fixed points of the single population system\n",
        "\n",
        "*Estimated timing to here from start of tutorial: 45 min*\n"
      ]
    },
    {
      "cell_type": "markdown",
      "metadata": {
        "execution": {},
        "id": "oNV26zX7kSd-"
      },
      "source": [
        "## Section 2.1: Finding fixed points"
      ]
    },
    {
      "cell_type": "code",
      "execution_count": 15,
      "metadata": {
        "cellView": "form",
        "execution": {},
        "colab": {
          "base_uri": "https://localhost:8080/",
          "height": 581,
          "referenced_widgets": [
            "2e4d6e39089747d9a76360cbb756fa55",
            "1cc83af75be241e29e528a7892da000b",
            "a04536b8499e4098914520e8f44f17d2",
            "7766f667203d4d8c963951a54c1ffdda",
            "864b95ce4c6e468da07c6d8a943b14a7",
            "64bc7f551b6448aeab66e0428bb8d18d"
          ]
        },
        "id": "xeVnJvXUkSd-",
        "outputId": "6aaea7be-6649-4dd2-90e4-24eb6b60a565"
      },
      "outputs": [
        {
          "output_type": "display_data",
          "data": {
            "text/plain": [
              "Tab(children=(Output(), Output()), _titles={'0': 'Youtube', '1': 'Bilibili'})"
            ],
            "application/vnd.jupyter.widget-view+json": {
              "version_major": 2,
              "version_minor": 0,
              "model_id": "2e4d6e39089747d9a76360cbb756fa55"
            }
          },
          "metadata": {}
        }
      ],
      "source": [
        "# @title Video 2: Fixed point\n",
        "from ipywidgets import widgets\n",
        "\n",
        "out2 = widgets.Output()\n",
        "with out2:\n",
        "  from IPython.display import IFrame\n",
        "  class BiliVideo(IFrame):\n",
        "      def __init__(self, id, page=1, width=400, height=300, **kwargs):\n",
        "          self.id=id\n",
        "          src = 'https://player.bilibili.com/player.html?bvid={0}&page={1}'.format(id, page)\n",
        "          super(BiliVideo, self).__init__(src, width, height, **kwargs)\n",
        "\n",
        "  video = BiliVideo(id=\"BV1v54y1v7Gr\", width=854, height=480, fs=1)\n",
        "  print('Video available at https://www.bilibili.com/video/{0}'.format(video.id))\n",
        "  display(video)\n",
        "\n",
        "out1 = widgets.Output()\n",
        "with out1:\n",
        "  from IPython.display import YouTubeVideo\n",
        "  video = YouTubeVideo(id=\"Ox3ELd1UFyo\", width=854, height=480, fs=1, rel=0)\n",
        "  print('Video available at https://youtube.com/watch?v=' + video.id)\n",
        "  display(video)\n",
        "\n",
        "out = widgets.Tab([out1, out2])\n",
        "out.set_title(0, 'Youtube')\n",
        "out.set_title(1, 'Bilibili')\n",
        "\n",
        "display(out)"
      ]
    },
    {
      "cell_type": "markdown",
      "metadata": {
        "execution": {},
        "id": "x_3Rw9vnkSd_"
      },
      "source": [
        "This video introduces recurrent networks and how to derive their fixed points. It also introduces vector fields and phase planes in one dimension.\n",
        "\n",
        "<details>\n",
        "<summary> <font color='blue'>Click here for text recap of video </font></summary>\n",
        "\n",
        "We can now extend our feed-forward network to a recurrent network, governed by the equation:\n",
        "\n",
        "\\begin{align}\n",
        "\\tau \\frac{dr}{dt} &= -r + F(w\\cdot r + I_{\\text{ext}})  \\quad\\qquad (3)\n",
        "\\end{align}\n",
        "\n",
        "where as before, $r(t)$ represents the average firing rate of the excitatory population at time $t$, $\\tau$ controls the timescale of the evolution of the average firing rate, $I_{\\text{ext}}$ represents the external input, and the transfer function $F(\\cdot)$ (which can be related to f-I curve of individual neurons described in the next sections) represents the population activation function in response to all received inputs. Now we also have $w$ which denotes the strength (synaptic weight) of the recurrent input to the population.\n",
        "\n",
        "As you varied the two parameters in the last Interactive Demo, you noticed that, while at first the system output quickly changes, with time, it reaches its maximum/minimum value and does not change anymore. The value eventually reached by the system is called the **steady state** of the system, or the **fixed point**. Essentially, in the steady states the derivative with respect to time of the activity ($r$) is zero, i.e. $\\displaystyle \\frac{dr}{dt}=0$. \n",
        "\n",
        "We can find that the steady state of the Equation. (1) by setting $\\displaystyle{\\frac{dr}{dt}=0}$ and solve for $r$:\n",
        "\n",
        "\\begin{equation}\n",
        "-r_{\\text{steady}} + F(w\\cdot r_{\\text{steady}} + I_{\\text{ext}};a,\\theta) = 0 \\qquad (4)\n",
        "\\end{equation}\n",
        "\n",
        "When it exists, the solution of Equation. (4) defines a **fixed point** of the dynamical system in Equation (3). Note that if $F(x)$ is nonlinear, it is not always possible to find an analytical solution, but the solution can be found via numerical simulations, as we will do later.\n",
        "\n",
        "From the Interactive Demo, one could also notice that the value of $\\tau$ influences how quickly the activity will converge to the steady state from its initial value. \n",
        "\n",
        "In the specific case of $w=0$, we can also analytically compute  the solution of Equation (1) (i.e., the thick blue dashed line) and deduce the role of $\\tau$ in determining the convergence to the fixed point: \n",
        "\n",
        "\\begin{equation}\n",
        "\\displaystyle{r(t) = \\big{[}F(I_{\\text{ext}};a,\\theta) -r(t=0)\\big{]} (1-\\text{e}^{-\\frac{t}{\\tau}})} + r(t=0)\n",
        "\\end{equation}\n",
        "\n",
        "<br>\n",
        "\n",
        "We can now numerically calculate the fixed point with a root finding algorithm."
      ]
    },
    {
      "cell_type": "markdown",
      "metadata": {
        "execution": {},
        "id": "O3-AftD2kSd_"
      },
      "source": [
        "### Coding Exercise 2.1.1: Visualization of the fixed points\n",
        "\n",
        "When it is not possible to find the solution for Equation (3) analytically, a graphical approach can be taken. To that end, it is useful to plot $\\displaystyle{\\frac{dr}{dt}}$ as a function of $r$. The values of $r$ for which the plotted function crosses zero on the y axis correspond to fixed points. \n",
        "\n",
        "Here, let us, for example, set $w=5.0$ and $I^{\\text{ext}}=0.5$. From Equation (3), you can obtain\n",
        "\n",
        "\\begin{equation}\n",
        "\\frac{dr}{dt} = [-r + F(w\\cdot r + I^{\\text{ext}})]\\,/\\,\\tau\n",
        "\\end{equation}\n",
        "\n",
        "Then, plot the $dr/dt$ as a function of $r$, and check for the presence of fixed points."
      ]
    },
    {
      "cell_type": "code",
      "execution_count": 16,
      "metadata": {
        "execution": {},
        "colab": {
          "base_uri": "https://localhost:8080/",
          "height": 430
        },
        "id": "-o_hmg7JkSeA",
        "outputId": "2cce5de0-1e37-4b08-b98e-a83c02e9749e"
      },
      "outputs": [
        {
          "output_type": "display_data",
          "data": {
            "text/plain": [
              "<Figure size 576x432 with 1 Axes>"
            ],
            "image/png": "[encoded data removed]"
          },
          "metadata": {
            "image/png": {
              "width": 558,
              "height": 413
            },
            "needs_background": "light"
          }
        }
      ],
      "source": [
        "def compute_drdt(r, I_ext, w, a, theta, tau, **other_pars):\n",
        "  \"\"\"Given parameters, compute dr/dt as a function of r.\n",
        "\n",
        "  Args:\n",
        "    r (1D array) : Average firing rate of the excitatory population\n",
        "    I_ext, w, a, theta, tau (numbers): Simulation parameters to use\n",
        "    other_pars : Other simulation parameters are unused by this function\n",
        "\n",
        "  Returns\n",
        "    drdt function for each value of r\n",
        "  \"\"\"\n",
        "  #########################################################################\n",
        "  # TODO compute drdt and disable the error\n",
        "  # raise NotImplementedError(\"Finish the compute_drdt function\")\n",
        "  #########################################################################\n",
        "\n",
        "  # Calculate drdt\n",
        "  drdt = (-r + F(w * r + I_ext, a, theta)) / tau\n",
        "\n",
        "  return drdt\n",
        "\n",
        "\n",
        "# Define a vector of r values and the simulation parameters\n",
        "r = np.linspace(0, 1, 1000)\n",
        "pars = default_pars_single(I_ext=0.5, w=5)\n",
        "\n",
        "# Compute dr/dt\n",
        "drdt = compute_drdt(r, **pars)\n",
        "\n",
        "# Visualize\n",
        "plot_dr_r(r, drdt)"
      ]
    },
    {
      "cell_type": "markdown",
      "metadata": {
        "execution": {},
        "id": "y_EeMZqokSeA"
      },
      "source": [
        "[*Click for solution*](https://github.com/NeuromatchAcademy/course-content/tree/main//tutorials/W2D4_DynamicNetworks/solutions/W2D4_Tutorial1_Solution_c4108be6.py)\n",
        "\n",
        "*Example output:*\n",
        "\n",
        "<img alt='Solution hint' align='left' width=775.0 height=575.0 src=https://raw.githubusercontent.com/NeuromatchAcademy/course-content/main/tutorials/W2D4_DynamicNetworks/static/W2D4_Tutorial1_Solution_c4108be6_0.png>\n",
        "\n"
      ]
    },
    {
      "cell_type": "markdown",
      "metadata": {
        "execution": {},
        "id": "-l85F88wkSeB"
      },
      "source": [
        "### Coding Exercise 2.1.2: Numerical calculation of fixed points\n",
        "\n",
        "We will now find the fixed points numerically. To do so, we need to specify initial values ($r_{\\text{guess}}$) for the root-finding algorithm to start from. From the line $\\displaystyle{\\frac{dr}{dt}}$ plotted above in the last exercise, initial values can be chosen as a set of values close to where the line crosses zero on the y axis (real fixed point).\n",
        "\n",
        "The next cell defines three helper functions that we will use:\n",
        "\n",
        "- `my_fp_single(r_guess, **pars)` uses a root-finding algorithm to locate a fixed point near a given initial value\n",
        "- `check_fp_single(x_fp, **pars)` verifies that the values of $r_{\\rm fp}$ for which $\\displaystyle{\\frac{dr}{dt}} = 0$ are the true fixed points\n",
        "- `my_fp_finder(r_guess_vector, **pars)` accepts an array of initial values and finds the same number of fixed points, using the above two functions"
      ]
    },
    {
      "cell_type": "code",
      "execution_count": 17,
      "metadata": {
        "cellView": "form",
        "execution": {},
        "colab": {
          "base_uri": "https://localhost:8080/"
        },
        "id": "lDc7VEzBkSeB",
        "outputId": "50085163-5948-4f46-af95-3f58d8a9f967"
      },
      "outputs": [
        {
          "output_type": "stream",
          "name": "stdout",
          "text": [
            "Help on function my_fp_finder in module __main__:\n",
            "\n",
            "my_fp_finder(pars, r_guess_vector, mytol=0.0001)\n",
            "    Calculate the fixed point(s) through drE/dt=0\n",
            "    \n",
            "    Args:\n",
            "      pars    : Parameter dictionary\n",
            "      r_guess_vector  : Initial values used for scipy.optimize function\n",
            "      mytol   : tolerance for checking fixed point, default as 10^{-4}\n",
            "    \n",
            "    Returns:\n",
            "      x_fps   : values of fixed points\n",
            "\n"
          ]
        }
      ],
      "source": [
        "# @markdown *Execute this cell to enable the fixed point functions*\n",
        "\n",
        "def my_fp_single(r_guess, a, theta, w, I_ext, **other_pars):\n",
        "  \"\"\"\n",
        "  Calculate the fixed point through drE/dt=0\n",
        "\n",
        "  Args:\n",
        "    r_guess  : Initial value used for scipy.optimize function\n",
        "    a, theta, w, I_ext : simulation parameters\n",
        "\n",
        "  Returns:\n",
        "    x_fp    : value of fixed point\n",
        "  \"\"\"\n",
        "  # define the right hand of E dynamics\n",
        "  def my_WCr(x):\n",
        "    r = x\n",
        "    drdt = (-r + F(w * r + I_ext, a, theta))\n",
        "    y = np.array(drdt)\n",
        "\n",
        "    return y\n",
        "\n",
        "  x0 = np.array(r_guess)\n",
        "  x_fp = opt.root(my_WCr, x0).x.item()\n",
        "\n",
        "  return x_fp\n",
        "\n",
        "\n",
        "def check_fp_single(x_fp, a, theta, w, I_ext, mytol=1e-4, **other_pars):\n",
        "  \"\"\"\n",
        "   Verify |dr/dt| < mytol\n",
        "\n",
        "  Args:\n",
        "    fp      : value of fixed point\n",
        "    a, theta, w, I_ext: simulation parameters\n",
        "    mytol   : tolerance, default as 10^{-4}\n",
        "\n",
        "  Returns :\n",
        "    Whether it is a correct fixed point: True/False\n",
        "  \"\"\"\n",
        "  # calculate Equation(3)\n",
        "  y = x_fp - F(w * x_fp + I_ext, a, theta)\n",
        "\n",
        "  # Here we set tolerance as 10^{-4}\n",
        "  return np.abs(y) < mytol\n",
        "\n",
        "\n",
        "def my_fp_finder(pars, r_guess_vector, mytol=1e-4):\n",
        "  \"\"\"\n",
        "  Calculate the fixed point(s) through drE/dt=0\n",
        "\n",
        "  Args:\n",
        "    pars    : Parameter dictionary\n",
        "    r_guess_vector  : Initial values used for scipy.optimize function\n",
        "    mytol   : tolerance for checking fixed point, default as 10^{-4}\n",
        "\n",
        "  Returns:\n",
        "    x_fps   : values of fixed points\n",
        "\n",
        "  \"\"\"\n",
        "  x_fps = []\n",
        "  correct_fps = []\n",
        "  for r_guess in r_guess_vector:\n",
        "    x_fp = my_fp_single(r_guess, **pars)\n",
        "    if check_fp_single(x_fp, **pars, mytol=mytol):\n",
        "      x_fps.append(x_fp)\n",
        "\n",
        "  return x_fps\n",
        "\n",
        "help(my_fp_finder)"
      ]
    },
    {
      "cell_type": "code",
      "execution_count": 25,
      "metadata": {
        "execution": {},
        "colab": {
          "base_uri": "https://localhost:8080/",
          "height": 430
        },
        "id": "8l5m5DS8kSeC",
        "outputId": "3d66d639-d8c7-4e0d-ecfd-d118a4eb2049"
      },
      "outputs": [
        {
          "output_type": "display_data",
          "data": {
            "text/plain": [
              "<Figure size 576x432 with 1 Axes>"
            ],
            "image/png": "[encoded data removed]"
          },
          "metadata": {
            "image/png": {
              "width": 558,
              "height": 413
            },
            "needs_background": "light"
          }
        }
      ],
      "source": [
        "# Set parameters\n",
        "r = np.linspace(0, 1, 1000)\n",
        "pars = default_pars_single(I_ext=0.5, w=5)\n",
        "\n",
        "# Compute dr/dt\n",
        "drdt = compute_drdt(r, **pars)\n",
        "\n",
        "#############################################################################\n",
        "# TODO for students:\n",
        "# Define initial values close to the intersections of drdt and y=0\n",
        "# (How many initial values? Hint: How many times do the two lines intersect?)\n",
        "# Calculate the fixed point with these initial values and plot them\n",
        "# raise NotImplementedError('student_exercise: find fixed points numerically')\n",
        "#############################################################################\n",
        "\n",
        "# Initial guesses for fixed points\n",
        "r_guess_vector = [0.0, 0.34, 0.90]\n",
        "\n",
        "# Find fixed point numerically\n",
        "x_fps = my_fp_finder(pars, r_guess_vector)\n",
        "\n",
        "# Visualize\n",
        "plot_dr_r(r, drdt, x_fps)"
      ]
    },
    {
      "cell_type": "markdown",
      "metadata": {
        "execution": {},
        "id": "iOyNqNYLkSeD"
      },
      "source": [
        "[*Click for solution*](https://github.com/NeuromatchAcademy/course-content/tree/main//tutorials/W2D4_DynamicNetworks/solutions/W2D4_Tutorial1_Solution_1c599fac.py)\n",
        "\n",
        "*Example output:*\n",
        "\n",
        "<img alt='Solution hint' align='left' width=775.0 height=575.0 src=https://raw.githubusercontent.com/NeuromatchAcademy/course-content/main/tutorials/W2D4_DynamicNetworks/static/W2D4_Tutorial1_Solution_1c599fac_0.png>\n",
        "\n"
      ]
    },
    {
      "cell_type": "markdown",
      "metadata": {
        "execution": {},
        "id": "StKUVjqwkSeD"
      },
      "source": [
        "### Interactive Demo 2.1: fixed points as a function of recurrent and external inputs.\n",
        "\n",
        "You can now explore how the previous plot changes when the recurrent coupling $w$ and the external input $I_{\\text{ext}}$ take different values. How does the number of fixed points change?"
      ]
    },
    {
      "cell_type": "code",
      "execution_count": 38,
      "metadata": {
        "execution": {},
        "colab": {
          "base_uri": "https://localhost:8080/",
          "height": 494,
          "referenced_widgets": [
            "7a5a3b89d2ba4faa9f45f83bdac23d93",
            "3e5e9f91bd3c47d1981de54c03d22f46",
            "7088ea9b0d6146e0bea2eaa931a013b2",
            "41f78266290048629bfaee729daa8572",
            "7d2f4ceab8a941a695cdeff8e94dbd7a",
            "e444b436d1894674b592820a8ceabf43",
            "6ebbe0a7a3ff468e8db2834416617ac6",
            "579112cc0ec14c35b11f00201dfc8f26",
            "9272b8f2bd7240d689835b630f69531a",
            "6c24a73e8bb74f638e06818cd543d8e3"
          ]
        },
        "id": "zFhLUdPNkSeE",
        "outputId": "7ea057e0-0fcb-487f-a86f-d22da81d7ccc"
      },
      "outputs": [
        {
          "output_type": "display_data",
          "data": {
            "text/plain": [
              "interactive(children=(FloatSlider(value=-8.0, description='w', max=0.0, min=-15.0, step=0.2), FloatSlider(valu…"
            ],
            "application/vnd.jupyter.widget-view+json": {
              "version_major": 2,
              "version_minor": 0,
              "model_id": "7a5a3b89d2ba4faa9f45f83bdac23d93"
            }
          },
          "metadata": {}
        }
      ],
      "source": [
        "# @title\n",
        "\n",
        "# @markdown Make sure you execute this cell to enable the widget!\n",
        "\n",
        "\n",
        "def plot_intersection_single(w, I_ext):\n",
        "  # set your parameters\n",
        "  pars = default_pars_single(w=w, I_ext=I_ext)\n",
        "\n",
        "  # find fixed points\n",
        "  r_init_vector = [0, .4, .9]\n",
        "  x_fps = my_fp_finder(pars, r_init_vector)\n",
        "\n",
        "  # plot\n",
        "  r = np.linspace(0, 1., 1000)\n",
        "  drdt = (-r + F(w * r + I_ext, pars['a'], pars['theta'])) / pars['tau']\n",
        "\n",
        "  plot_dr_r(r, drdt, x_fps)\n",
        "\n",
        "_ = widgets.interact(plot_intersection_single, w=(-15, 0, 0.2),\n",
        "                     I_ext=(0, 3, 0.1))"
      ]
    },
    {
      "cell_type": "markdown",
      "metadata": {
        "execution": {},
        "id": "G-9bvVJSkSeE"
      },
      "source": [
        "[*Click for solution*](https://github.com/NeuromatchAcademy/course-content/tree/main//tutorials/W2D4_DynamicNetworks/solutions/W2D4_Tutorial1_Solution_7b60d4a8.py)\n",
        "\n"
      ]
    },
    {
      "cell_type": "markdown",
      "metadata": {
        "execution": {},
        "id": "e7yXWFTnkSeF"
      },
      "source": [
        "## Section 2.2: Relationship between trajectories & fixed points\n",
        "\n",
        "Let's examine the relationship between the population activity over time and the fixed points.\n",
        "\n",
        "Here, let us first set $w=5.0$ and $I_{\\text{ext}}=0.5$, and investigate the dynamics of $r(t)$ starting with different initial values $r(0) \\equiv r_{\\text{init}}$. "
      ]
    },
    {
      "cell_type": "code",
      "execution_count": 28,
      "metadata": {
        "cellView": "form",
        "execution": {},
        "colab": {
          "base_uri": "https://localhost:8080/",
          "height": 430
        },
        "id": "9mlk4kG5kSeF",
        "outputId": "16d41e6d-2638-4271-8dd1-1ad10ce4762a"
      },
      "outputs": [
        {
          "output_type": "display_data",
          "data": {
            "text/plain": [
              "<Figure size 576x432 with 1 Axes>"
            ],
            "image/png": "[encoded data removed]"
          },
          "metadata": {
            "image/png": {
              "width": 558,
              "height": 413
            },
            "needs_background": "light"
          }
        }
      ],
      "source": [
        "# @markdown Execute to visualize dr/dt\n",
        "\n",
        "def plot_intersection_single(w, I_ext):\n",
        "  # set your parameters\n",
        "  pars = default_pars_single(w=w, I_ext=I_ext)\n",
        "\n",
        "  # find fixed points\n",
        "  r_init_vector = [0, .4, .9]\n",
        "  x_fps = my_fp_finder(pars, r_init_vector)\n",
        "\n",
        "  # plot\n",
        "  r = np.linspace(0, 1., 1000)\n",
        "  drdt = (-r + F(w * r + I_ext, pars['a'], pars['theta'])) / pars['tau']\n",
        "\n",
        "  plot_dr_r(r, drdt, x_fps)\n",
        "\n",
        "plot_intersection_single(w = 5.0, I_ext = 0.5)"
      ]
    },
    {
      "cell_type": "markdown",
      "metadata": {
        "execution": {},
        "id": "VeTEqJ3LkSeF"
      },
      "source": [
        "### Interactive Demo 2.2: dynamics as a function of the initial value\n",
        "\n",
        "Let's now set $r_{\\rm init}$ to a value of your choice in this demo. How does the solution change? What do you observe? How does that relate to the previous plot of $\\frac{dr}{dt}$?"
      ]
    },
    {
      "cell_type": "code",
      "execution_count": 29,
      "metadata": {
        "cellView": "form",
        "execution": {},
        "colab": {
          "base_uri": "https://localhost:8080/",
          "height": 462,
          "referenced_widgets": [
            "462376d4e08544a1aaad1bbf2a5209ce",
            "74e3c84a16d3452b9d49f9797190a7a5",
            "b05a021f92884498b41520245d36502d",
            "39660454772446ffb6ea1556911fc22e",
            "9c0d0f43018648ac9ea12b9d3b37ad57",
            "2ca1b011f2d44a1bb2905a1a0a8263a7",
            "3e966d5986e1412fbcf5e834d0906c06"
          ]
        },
        "id": "9RS2jRZ8kSeG",
        "outputId": "35ec4b21-dfe0-4001-8480-026abc3a7ec8"
      },
      "outputs": [
        {
          "output_type": "display_data",
          "data": {
            "text/plain": [
              "interactive(children=(FloatSlider(value=0.0, description='r_init', max=1.0, step=0.02), Output()), _dom_classe…"
            ],
            "application/vnd.jupyter.widget-view+json": {
              "version_major": 2,
              "version_minor": 0,
              "model_id": "462376d4e08544a1aaad1bbf2a5209ce"
            }
          },
          "metadata": {}
        }
      ],
      "source": [
        "# @markdown Make sure you execute this cell to enable the widget!\n",
        "\n",
        "pars = default_pars_single(w=5.0, I_ext=0.5)\n",
        "\n",
        "def plot_single_diffEinit(r_init):\n",
        "  pars['r_init'] = r_init\n",
        "  r = simulate_single(pars)\n",
        "\n",
        "  plt.figure()\n",
        "  plt.plot(pars['range_t'], r, 'b', zorder=1)\n",
        "  plt.plot(0, r[0], 'bo', alpha=0.7, zorder=2)\n",
        "  plt.xlabel('t (ms)', fontsize=16)\n",
        "  plt.ylabel(r'$r(t)$', fontsize=16)\n",
        "  plt.ylim(0, 1.0)\n",
        "  plt.show()\n",
        "\n",
        "\n",
        "_ = widgets.interact(plot_single_diffEinit, r_init=(0, 1, 0.02))"
      ]
    },
    {
      "cell_type": "markdown",
      "metadata": {
        "execution": {},
        "id": "PauKdyFSkSeH"
      },
      "source": [
        "[*Click for solution*](https://github.com/NeuromatchAcademy/course-content/tree/main//tutorials/W2D4_DynamicNetworks/solutions/W2D4_Tutorial1_Solution_c73e9caf.py)\n",
        "\n"
      ]
    },
    {
      "cell_type": "markdown",
      "metadata": {
        "execution": {},
        "id": "68mnI3OFkSeH"
      },
      "source": [
        "We will plot the trajectories of $r(t)$ with $r_{\\text{init}} = 0.0, 0.1, 0.2,..., 0.9$."
      ]
    },
    {
      "cell_type": "code",
      "execution_count": 30,
      "metadata": {
        "cellView": "form",
        "execution": {},
        "colab": {
          "base_uri": "https://localhost:8080/",
          "height": 358
        },
        "id": "PkOndgCgkSeI",
        "outputId": "5fa99d24-0473-44bd-f272-3604f0ea9053"
      },
      "outputs": [
        {
          "output_type": "display_data",
          "data": {
            "text/plain": [
              "<Figure size 576x360 with 1 Axes>"
            ],
            "image/png": "[encoded data removed]"
          },
          "metadata": {
            "image/png": {
              "width": 557,
              "height": 341
            },
            "needs_background": "light"
          }
        }
      ],
      "source": [
        "# @markdown Execute this cell to see the trajectories!\n",
        "\n",
        "pars = default_pars_single()\n",
        "pars['w'] = 5.0\n",
        "pars['I_ext'] = 0.5\n",
        "\n",
        "plt.figure(figsize=(8, 5))\n",
        "for ie in range(10):\n",
        "  pars['r_init'] = 0.1 * ie  # set the initial value\n",
        "  r = simulate_single(pars)  # run the simulation\n",
        "\n",
        "  # plot the activity with given initial\n",
        "  plt.plot(pars['range_t'], r, 'b', alpha=0.1 + 0.1 * ie,\n",
        "           label=r'r$_{\\mathrm{init}}$=%.1f' % (0.1 * ie))\n",
        "\n",
        "plt.xlabel('t (ms)')\n",
        "plt.title('Two steady states?')\n",
        "plt.ylabel(r'$r$(t)')\n",
        "plt.legend(loc=[1.01, -0.06], fontsize=14)\n",
        "plt.show()"
      ]
    },
    {
      "cell_type": "markdown",
      "metadata": {
        "execution": {},
        "id": "gFC7vIPMkSeK"
      },
      "source": [
        "We have three fixed points but only two steady states showing up - what's happening? \n",
        "\n",
        "It turns out that the stability of the fixed points matters. If a fixed point is stable, a trajectory starting near that fixed point will stay close to that fixed point and converge to it (the steady state will equal the fixed point). If a fixed point is unstable, any trajectories starting close to it will diverge and go towards stable fixed points. In fact, the only way for a trajectory to reach a stable state at an unstable fixed point is if the initial value **exactly** equals the value of the fixed point."
      ]
    },
    {
      "cell_type": "markdown",
      "metadata": {
        "execution": {},
        "id": "MZsJzvuakSeK"
      },
      "source": [
        "### Think! 2.2: Stable vs unstable fixed points\n",
        "\n",
        "Which of the fixed points for the model we've been examining in this section are stable vs unstable?"
      ]
    },
    {
      "cell_type": "code",
      "execution_count": 31,
      "metadata": {
        "cellView": "form",
        "execution": {},
        "colab": {
          "base_uri": "https://localhost:8080/"
        },
        "id": "F2Hjg2yskSeK",
        "outputId": "7f125e10-7f38-4564-e4cd-8c4ad554f848"
      },
      "outputs": [
        {
          "output_type": "stream",
          "name": "stdout",
          "text": [
            "Our fixed points are [0.04153669901331742, 0.4471192240898344, 0.8997171538560865]\n"
          ]
        }
      ],
      "source": [
        "# @markdown Execute to print fixed point values\n",
        "\n",
        "# Initial guesses for fixed points\n",
        "r_guess_vector = [0, .4, .9]\n",
        "\n",
        "# Find fixed point numerically\n",
        "x_fps = my_fp_finder(pars, r_guess_vector)\n",
        "\n",
        "print(f'Our fixed points are {x_fps}')"
      ]
    },
    {
      "cell_type": "markdown",
      "metadata": {
        "execution": {},
        "id": "4E3SAd22kSeL"
      },
      "source": [
        "[*Click for solution*](https://github.com/NeuromatchAcademy/course-content/tree/main//tutorials/W2D4_DynamicNetworks/solutions/W2D4_Tutorial1_Solution_3d44c9a3.py)\n",
        "\n"
      ]
    },
    {
      "cell_type": "markdown",
      "metadata": {
        "execution": {},
        "id": "gm-S6uXVkSeL"
      },
      "source": [
        "We can simulate the trajectory if we start at the unstable fixed point: you can see that it remains at that fixed point (the red line below)."
      ]
    },
    {
      "cell_type": "code",
      "execution_count": 35,
      "metadata": {
        "cellView": "form",
        "execution": {},
        "colab": {
          "base_uri": "https://localhost:8080/",
          "height": 358
        },
        "id": "6Dhg2LFzkSeL",
        "outputId": "876cc4a7-45e0-44c5-8ce3-b45a6a9f7a7e"
      },
      "outputs": [
        {
          "output_type": "display_data",
          "data": {
            "text/plain": [
              "<Figure size 576x360 with 1 Axes>"
            ],
            "image/png": "[encoded data removed]"
          },
          "metadata": {
            "image/png": {
              "width": 557,
              "height": 341
            },
            "needs_background": "light"
          }
        }
      ],
      "source": [
        "# @markdown Execute to visualize trajectory starting at unstable fixed point\n",
        "pars = default_pars_single()\n",
        "pars['w'] = 5.0\n",
        "pars['I_ext'] = 0.5\n",
        "\n",
        "plt.figure(figsize=(8, 5))\n",
        "for ie in range(10):\n",
        "  pars['r_init'] = 0.1 * ie  # set the initial value\n",
        "  r = simulate_single(pars)  # run the simulation\n",
        "\n",
        "  # plot the activity with given initial\n",
        "  plt.plot(pars['range_t'], r, 'b', alpha=0.1 + 0.1 * ie,\n",
        "           label=r'r$_{\\mathrm{init}}$=%.1f' % (0.1 * ie))\n",
        "\n",
        "pars['r_init'] = x_fps[1]  # set the initial value\n",
        "r = simulate_single(pars)  # run the simulation\n",
        "\n",
        "# plot the activity with given initial\n",
        "plt.plot(pars['range_t'], r, 'r', alpha=0.1 + 0.1 * ie,\n",
        "          label=r'r$_{\\mathrm{init}}$=%.4f' % (x_fps[1]))\n",
        "\n",
        "plt.xlabel('t (ms)')\n",
        "plt.title('Two steady states?')\n",
        "plt.ylabel(r'$r$(t)')\n",
        "plt.legend(loc=[1.01, -0.06], fontsize=14)\n",
        "plt.show()"
      ]
    },
    {
      "cell_type": "markdown",
      "metadata": {
        "execution": {},
        "id": "nR675LRfkSeM"
      },
      "source": [
        "See Bonus Section 1 to cover how to determine the stability of fixed points in a quantitative way."
      ]
    },
    {
      "cell_type": "markdown",
      "metadata": {
        "execution": {},
        "id": "gI_dmIrNkSeM"
      },
      "source": [
        "## Think! 2: Inhibitory populations\n",
        "\n",
        "Throughout the tutorial, we have assumed $w> 0 $, i.e., we considered a single population of **excitatory** neurons. What do you think will be the behavior of a population of inhibitory neurons, i.e., where $w> 0$ is replaced by $w< 0$? "
      ]
    },
    {
      "cell_type": "markdown",
      "metadata": {
        "execution": {},
        "id": "XvQWkBeDkSeM"
      },
      "source": [
        "[*Click for solution*](https://github.com/NeuromatchAcademy/course-content/tree/main//tutorials/W2D4_DynamicNetworks/solutions/W2D4_Tutorial1_Solution_f3418e5f.py)\n",
        "\n"
      ]
    },
    {
      "cell_type": "markdown",
      "metadata": {
        "execution": {},
        "id": "v6TVjzW3kSeN"
      },
      "source": [
        "---\n",
        "# Summary\n",
        "\n",
        "*Estimated timing of tutorial: 1 hour, 25 minutes*\n",
        "\n",
        "In this tutorial, we have investigated the dynamics of a rate-based single population of neurons.\n",
        "\n",
        "We learned about:\n",
        "- The effect of the input parameters and the time constant of the network on the dynamics of the population.\n",
        "- How to find the fixed point(s) of the system.\n",
        "\n",
        "We build on these concepts in the bonus material - check it out if you have time. You will learn:\n",
        "\n",
        "- How to determine the stability of a fixed point by linearizing the system.\n",
        "- How to add realistic inputs to our model."
      ]
    },
    {
      "cell_type": "markdown",
      "metadata": {
        "execution": {},
        "id": "ie7NxNiNkSeN"
      },
      "source": [
        "---\n",
        "# Bonus"
      ]
    },
    {
      "cell_type": "markdown",
      "metadata": {
        "execution": {},
        "id": "oVSPchHCkSeO"
      },
      "source": [
        "---\n",
        "## Bonus Section 1: Stability analysis via linearization of the dynamics"
      ]
    },
    {
      "cell_type": "code",
      "execution_count": 39,
      "metadata": {
        "cellView": "form",
        "execution": {},
        "colab": {
          "base_uri": "https://localhost:8080/",
          "height": 581,
          "referenced_widgets": [
            "1403aca5eb254fb9a64a2194967a187f",
            "0ece3483211c4252bfe79c6a9ff46630",
            "2705fca0f0a449fdad544a8d46541ea8",
            "6b39bfde3ced4f7d801a33708c1386c0",
            "9eca404893c944ba833d94e2f1b66907",
            "198f9a18c18a4425b74d35592a26cb63"
          ]
        },
        "id": "KpF6cKlWkSeO",
        "outputId": "b32ad004-62d1-4c1d-9682-bcc64bf1f96b"
      },
      "outputs": [
        {
          "output_type": "display_data",
          "data": {
            "text/plain": [
              "Tab(children=(Output(), Output()), _titles={'0': 'Youtube', '1': 'Bilibili'})"
            ],
            "application/vnd.jupyter.widget-view+json": {
              "version_major": 2,
              "version_minor": 0,
              "model_id": "1403aca5eb254fb9a64a2194967a187f"
            }
          },
          "metadata": {}
        }
      ],
      "source": [
        "# @title Video 3: Stability of fixed points\n",
        "from ipywidgets import widgets\n",
        "\n",
        "out2 = widgets.Output()\n",
        "with out2:\n",
        "  from IPython.display import IFrame\n",
        "  class BiliVideo(IFrame):\n",
        "      def __init__(self, id, page=1, width=400, height=300, **kwargs):\n",
        "          self.id=id\n",
        "          src = 'https://player.bilibili.com/player.html?bvid={0}&page={1}'.format(id, page)\n",
        "          super(BiliVideo, self).__init__(src, width, height, **kwargs)\n",
        "\n",
        "  video = BiliVideo(id=\"BV1oA411e7eg\", width=854, height=480, fs=1)\n",
        "  print('Video available at https://www.bilibili.com/video/{0}'.format(video.id))\n",
        "  display(video)\n",
        "\n",
        "out1 = widgets.Output()\n",
        "with out1:\n",
        "  from IPython.display import YouTubeVideo\n",
        "  video = YouTubeVideo(id=\"KKMlWWU83Jg\", width=854, height=480, fs=1, rel=0)\n",
        "  print('Video available at https://youtube.com/watch?v=' + video.id)\n",
        "  display(video)\n",
        "\n",
        "out = widgets.Tab([out1, out2])\n",
        "out.set_title(0, 'Youtube')\n",
        "out.set_title(1, 'Bilibili')\n",
        "\n",
        "display(out)"
      ]
    },
    {
      "cell_type": "markdown",
      "metadata": {
        "execution": {},
        "id": "9HNuyf_FkSeP"
      },
      "source": [
        "Here we will dive into the math of how to figure out the stability of a fixed point.\n",
        "\n",
        "\n",
        "Just like in our equation for the feedforward network, a generic linear system \n",
        "$\\frac{dx}{dt} = \\lambda (x - b)$, has a fixed point for $x=b$. The analytical solution of such a system can be found to be:\n",
        "\n",
        "\\begin{equation}\n",
        "x(t) = b + \\big{(} x(0) - b \\big{)} \\text{e}^{\\lambda t}.\n",
        "\\end{equation}\n",
        "\n",
        "Now consider a small perturbation of the activity around the fixed point: $x(0) = b + \\epsilon$, where $|\\epsilon| \\ll 1$. Will the perturbation $\\epsilon(t)$ grow with time or will it decay to the fixed point? The evolution of the perturbation with time can be written, using the analytical solution for $x(t)$, as:\n",
        "\n",
        "\\begin{equation}\n",
        "\\epsilon (t) = x(t) - b = \\epsilon \\text{e}^{\\lambda t}\n",
        "\\end{equation}\n",
        "\n",
        "<br>\n",
        "\n",
        "- if $\\lambda < 0$, $\\epsilon(t)$ decays to zero, $x(t)$ will still converge to $b$ and the fixed point is \"**stable**\".\n",
        "\n",
        "- if $\\lambda > 0$, $\\epsilon(t)$ grows with time, $x(t)$ will leave the fixed point $b$ exponentially, and the fixed point is, therefore, \"**unstable**\" ."
      ]
    },
    {
      "cell_type": "markdown",
      "metadata": {
        "execution": {},
        "id": "SwJPH_8ykSeP"
      },
      "source": [
        "Similar to what we did in the linear system above, in order to determine the stability of a fixed point $r^{*}$ of the excitatory population dynamics, we perturb Equation (1) around $r^{*}$ by $\\epsilon$, i.e. $r = r^{*} + \\epsilon$. We can plug in Equation (1) and obtain the equation determining the time evolution of the perturbation $\\epsilon(t)$:\n",
        "\n",
        "\\begin{equation}\n",
        "\\tau \\frac{d\\epsilon}{dt} \\approx -\\epsilon + w F'(w\\cdot r^{*} + I_{\\text{ext}};a,\\theta) \\epsilon \n",
        "\\end{equation}\n",
        "\n",
        "where $F'(\\cdot)$ is the derivative of the transfer function $F(\\cdot)$. We can rewrite the above equation as:\n",
        "\n",
        "\\begin{equation}\n",
        "\\frac{d\\epsilon}{dt} \\approx \\frac{\\epsilon}{\\tau }[-1 + w F'(w\\cdot r^* + I_{\\text{ext}};a,\\theta)] \n",
        "\\end{equation}\n",
        "\n",
        "That is, as in the linear system above, the value of\n",
        "\n",
        "\\begin{equation}\n",
        "\\lambda = [-1+ wF'(w\\cdot r^* + I_{\\text{ext}};a,\\theta)]/\\tau \\qquad (4)\n",
        "\\end{equation}\n",
        "\n",
        "determines whether the perturbation will grow or decay to zero, i.e., $\\lambda$ defines the stability of the fixed point. This value is called the **eigenvalue** of the dynamical system."
      ]
    },
    {
      "cell_type": "markdown",
      "metadata": {
        "execution": {},
        "id": "uFVbqW-MkSeP"
      },
      "source": [
        "The derivative of the sigmoid transfer function is:\n",
        "\n",
        "\\begin{align} \n",
        "\\frac{dF}{dx} & = \\frac{d}{dx} (1+\\exp\\{-a(x-\\theta)\\})^{-1}  \\\\\n",
        "& = a\\exp\\{-a(x-\\theta)\\} (1+\\exp\\{-a(x-\\theta)\\})^{-2}. \\qquad (5)\n",
        "\\end{align}\n",
        "\n",
        "We provide a helper function `dF` which computes this derivative."
      ]
    },
    {
      "cell_type": "code",
      "execution_count": null,
      "metadata": {
        "cellView": "form",
        "execution": {},
        "id": "E2zijizhkSeQ"
      },
      "outputs": [],
      "source": [
        "# @markdown Execute this cell to enable helper function `dF` and visualize derivative\n",
        "\n",
        "def dF(x, a, theta):\n",
        "  \"\"\"\n",
        "  Population activation function.\n",
        "\n",
        "  Args:\n",
        "    x     : the population input\n",
        "    a     : the gain of the function\n",
        "    theta : the threshold of the function\n",
        "\n",
        "  Returns:\n",
        "    dFdx  : the population activation response F(x) for input x\n",
        "  \"\"\"\n",
        "\n",
        "  # Calculate the population activation\n",
        "  dFdx = a * np.exp(-a * (x - theta)) * (1 + np.exp(-a * (x - theta)))**-2\n",
        "\n",
        "  return dFdx\n",
        "\n",
        "# Set parameters\n",
        "pars = default_pars_single()  # get default parameters\n",
        "x = np.arange(0, 10, .1)      # set the range of input\n",
        "\n",
        "# Compute derivative of transfer function\n",
        "df = dF(x, pars['a'], pars['theta'])\n",
        "\n",
        "# Visualize\n",
        "plot_dFdt(x, df)"
      ]
    },
    {
      "cell_type": "markdown",
      "metadata": {
        "execution": {},
        "id": "aiUVasNAkSeQ"
      },
      "source": [
        "### Bonus Coding Exercise 1: Compute eigenvalues\n",
        "\n",
        "As discussed above, for the case with $w=5.0$ and $I_{\\text{ext}}=0.5$, the system displays **three** fixed points. However, when we simulated the dynamics and varied the initial conditions $r_{\\rm init}$, we could only obtain **two** steady states. In this exercise, we will now check the stability of each of the three fixed points by calculating the corresponding eigenvalues with the function `eig_single`. Check the sign of each eigenvalue (i.e., stability of each fixed point). How many of the fixed points are stable?\n",
        "\n",
        "Note that the expression of the eigenvalue at fixed point $r^*$:\n",
        "\n",
        "\\begin{equation}\n",
        "\\lambda = [-1+ wF'(w\\cdot r^* + I_{\\text{ext}};a,\\theta)]/\\tau\n",
        "\\end{equation}"
      ]
    },
    {
      "cell_type": "code",
      "execution_count": null,
      "metadata": {
        "execution": {},
        "id": "7IyjYs2PkSeR"
      },
      "outputs": [],
      "source": [
        "def eig_single(fp, tau, a, theta, w, I_ext, **other_pars):\n",
        "  \"\"\"\n",
        "  Args:\n",
        "    fp   : fixed point r_fp\n",
        "    tau, a, theta, w, I_ext : Simulation parameters\n",
        "\n",
        "  Returns:\n",
        "    eig : eigenvalue of the linearized system\n",
        "  \"\"\"\n",
        "  #####################################################################\n",
        "  ## TODO for students: compute eigenvalue and disable the error\n",
        "  raise NotImplementedError(\"Student exercise: compute the eigenvalue\")\n",
        "  ######################################################################\n",
        "  # Compute the eigenvalue\n",
        "  eig = ...\n",
        "\n",
        "  return eig\n",
        "\n",
        "\n",
        "# Find the eigenvalues for all fixed points\n",
        "pars = default_pars_single(w=5, I_ext=.5)\n",
        "r_guess_vector = [0, .4, .9]\n",
        "x_fp = my_fp_finder(pars, r_guess_vector)\n",
        "\n",
        "\n",
        "for fp in x_fp:\n",
        "  eig_fp = eig_single(fp, **pars)\n",
        "  print(f'Fixed point1 at {fp:.3f} with Eigenvalue={eig_fp:.3f}')"
      ]
    },
    {
      "cell_type": "markdown",
      "metadata": {
        "execution": {},
        "id": "PX5NwZI7kSeS"
      },
      "source": [
        "[*Click for solution*](https://github.com/NeuromatchAcademy/course-content/tree/main//tutorials/W2D4_DynamicNetworks/solutions/W2D4_Tutorial1_Solution_12b2b44c.py)\n",
        "\n"
      ]
    },
    {
      "cell_type": "markdown",
      "metadata": {
        "execution": {},
        "id": "_GGofZ2ckSeS"
      },
      "source": [
        "**SAMPLE OUTPUT**\n",
        "\n",
        "```\n",
        "Fixed point1 at 0.042 with Eigenvalue=-0.583\n",
        "Fixed point2 at 0.447 with Eigenvalue=0.498\n",
        "Fixed point3 at 0.900 with Eigenvalue=-0.626\n",
        "```"
      ]
    },
    {
      "cell_type": "markdown",
      "metadata": {
        "execution": {},
        "id": "U5tPckLokSeS"
      },
      "source": [
        "We can see that the first and third fixed points are stable (negative eigenvalues) and the second is unstable (positive eigenvalue) - as we expected!"
      ]
    },
    {
      "cell_type": "markdown",
      "metadata": {
        "execution": {},
        "id": "uXlvjn67kSeT"
      },
      "source": [
        "---\n",
        "## Bonus Section 2: Noisy input drives the transition between two stable states"
      ]
    },
    {
      "cell_type": "markdown",
      "metadata": {
        "execution": {},
        "id": "AOrxG_NnkSeT"
      },
      "source": [
        "As discussed in several previous tutorials, the Ornstein-Uhlenbeck (OU) process is usually used to generate a noisy input into the neuron. The OU input $\\eta(t)$ follows: \n",
        "\n",
        "\\begin{equation}\n",
        "\\tau_\\eta \\frac{d}{dt}\\eta(t) = -\\eta (t) + \\sigma_\\eta\\sqrt{2\\tau_\\eta}\\xi(t)\n",
        "\\end{equation}\n",
        "\n",
        "Execute the following function `my_OU(pars, sig, myseed=False)` to generate an OU process."
      ]
    },
    {
      "cell_type": "code",
      "execution_count": null,
      "metadata": {
        "cellView": "form",
        "execution": {},
        "id": "Hpu4TEcLkSeT"
      },
      "outputs": [],
      "source": [
        "# @markdown Execute to get helper function `my_OU` and visualize OU process\n",
        "\n",
        "\n",
        "def my_OU(pars, sig, myseed=False):\n",
        "  \"\"\"\n",
        "  A functions that generates Ornstein-Uhlenback process\n",
        "\n",
        "  Args:\n",
        "    pars       : parameter dictionary\n",
        "    sig        : noise amplitute\n",
        "    myseed     : random seed. int or boolean\n",
        "\n",
        "  Returns:\n",
        "    I          : Ornstein-Uhlenbeck input current\n",
        "  \"\"\"\n",
        "\n",
        "  # Retrieve simulation parameters\n",
        "  dt, range_t = pars['dt'], pars['range_t']\n",
        "  Lt = range_t.size\n",
        "  tau_ou = pars['tau_ou']  # [ms]\n",
        "\n",
        "  # set random seed\n",
        "  if myseed:\n",
        "      np.random.seed(seed=myseed)\n",
        "  else:\n",
        "      np.random.seed()\n",
        "\n",
        "  # Initialize\n",
        "  noise = np.random.randn(Lt)\n",
        "  I_ou = np.zeros(Lt)\n",
        "  I_ou[0] = noise[0] * sig\n",
        "\n",
        "  # generate OU\n",
        "  for it in range(Lt - 1):\n",
        "    I_ou[it + 1] = (I_ou[it]\n",
        "                    + dt / tau_ou * (0. - I_ou[it])\n",
        "                    + np.sqrt(2 * dt / tau_ou) * sig * noise[it + 1])\n",
        "\n",
        "  return I_ou\n",
        "\n",
        "\n",
        "pars = default_pars_single(T=100)\n",
        "pars['tau_ou'] = 1.  # [ms]\n",
        "sig_ou = 0.1\n",
        "I_ou = my_OU(pars, sig=sig_ou, myseed=2020)\n",
        "plt.figure(figsize=(10, 4))\n",
        "plt.plot(pars['range_t'], I_ou, 'r')\n",
        "plt.xlabel('t (ms)')\n",
        "plt.ylabel(r'$I_{\\mathrm{OU}}$')\n",
        "plt.show()"
      ]
    },
    {
      "cell_type": "markdown",
      "metadata": {
        "execution": {},
        "id": "MrLf_mxTkSeU"
      },
      "source": [
        "In the presence of two or more fixed points, noisy inputs can drive a transition between the fixed points! Here, we stimulate an E population for 1,000 ms applying OU inputs."
      ]
    },
    {
      "cell_type": "code",
      "execution_count": null,
      "metadata": {
        "cellView": "form",
        "execution": {},
        "id": "-N2TXDAUkSeV"
      },
      "outputs": [],
      "source": [
        "# @markdown Execute this cell to simulate E population with OU inputs\n",
        "\n",
        "pars = default_pars_single(T=1000)\n",
        "pars['w'] = 5.0\n",
        "sig_ou = 0.7\n",
        "pars['tau_ou'] = 1.  # [ms]\n",
        "pars['I_ext'] = 0.56 + my_OU(pars, sig=sig_ou, myseed=2020)\n",
        "\n",
        "r = simulate_single(pars)\n",
        "\n",
        "plt.figure(figsize=(10, 4))\n",
        "plt.plot(pars['range_t'], r, 'b', alpha=0.8)\n",
        "plt.xlabel('t (ms)')\n",
        "plt.ylabel(r'$r(t)$')\n",
        "plt.show()"
      ]
    },
    {
      "cell_type": "markdown",
      "metadata": {
        "execution": {},
        "id": "V73s6wBZkSeV"
      },
      "source": [
        "You can see that the population activity is changing between fixed points (it goes up and down)!"
      ]
    }
  ],
  "metadata": {
    "colab": {
      "collapsed_sections": [],
      "name": "W2D4_Tutorial1",
      "provenance": [],
      "toc_visible": true,
      "include_colab_link": true
    },
    "kernel": {
      "display_name": "Python 3",
      "language": "python",
      "name": "python3"
    },
    "kernelspec": {
      "display_name": "Python 3",
      "name": "python3"
    },
    "language_info": {
      "codemirror_mode": {
        "name": "ipython",
        "version": 3
      },
      "file_extension": ".py",
      "mimetype": "text/x-python",
      "name": "python",
      "nbconvert_exporter": "python",
      "pygments_lexer": "ipython3",
      "version": "3.7.13"
    },
    "widgets": {
      "application/vnd.jupyter.widget-state+json": {
        "6cea7eeb90c341b7a45bfce2b37ac78e": {
          "model_module": "@jupyter-widgets/controls",
          "model_name": "TabModel",
          "model_module_version": "1.5.0",
          "state": {
            "_dom_classes": [],
            "_model_module": "@jupyter-widgets/controls",
            "_model_module_version": "1.5.0",
            "_model_name": "TabModel",
            "_titles": {
              "0": "Youtube",
              "1": "Bilibili"
            },
            "_view_count": null,
            "_view_module": "@jupyter-widgets/controls",
            "_view_module_version": "1.5.0",
            "_view_name": "TabView",
            "box_style": "",
            "children": [
              "IPY_MODEL_52e42e9db1f242c8abb1edbf54d717a0",
              "IPY_MODEL_0f1cc6360b994260ad296b5c293ec468"
            ],
            "layout": "IPY_MODEL_c4cfcc54f5954267b4bbf94517d2d379",
            "selected_index": 0
          }
        },
        "52e42e9db1f242c8abb1edbf54d717a0": {
          "model_module": "@jupyter-widgets/output",
          "model_name": "OutputModel",
          "model_module_version": "1.0.0",
          "state": {
            "_dom_classes": [],
            "_model_module": "@jupyter-widgets/output",
            "_model_module_version": "1.0.0",
            "_model_name": "OutputModel",
            "_view_count": null,
            "_view_module": "@jupyter-widgets/output",
            "_view_module_version": "1.0.0",
            "_view_name": "OutputView",
            "layout": "IPY_MODEL_be506213875b44d988dbdba3f63347d8",
            "msg_id": "",
            "outputs": [
              {
                "output_type": "stream",
                "name": "stdout",
                "text": [
                  "Video available at https://youtube.com/watch?v=p848349hPyw\n"
                ]
              },
              {
                "output_type": "display_data",
                "data": {
                  "text/plain": "<IPython.lib.display.YouTubeVideo at 0x7fb1cbf704d0>",
                  "text/html": "\n        <iframe\n            width=\"854\"\n            height=\"480\"\n            src=\"https://www.youtube.com/embed/p848349hPyw?fs=1&rel=0\"\n            frameborder=\"0\"\n            allowfullscreen\n        ></iframe>\n        ",
                  "image/jpeg": "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\n"
                },
                "metadata": {}
              }
            ]
          }
        },
        "0f1cc6360b994260ad296b5c293ec468": {
          "model_module": "@jupyter-widgets/output",
          "model_name": "OutputModel",
          "model_module_version": "1.0.0",
          "state": {
            "_dom_classes": [],
            "_model_module": "@jupyter-widgets/output",
            "_model_module_version": "1.0.0",
            "_model_name": "OutputModel",
            "_view_count": null,
            "_view_module": "@jupyter-widgets/output",
            "_view_module_version": "1.0.0",
            "_view_name": "OutputView",
            "layout": "IPY_MODEL_03e54375e40340efa233e711bf2448e6",
            "msg_id": "",
            "outputs": [
              {
                "output_type": "stream",
                "name": "stdout",
                "text": [
                  "Video available at https://www.bilibili.com/video/BV1dh411o7qJ\n"
                ]
              },
              {
                "output_type": "display_data",
                "data": {
                  "text/plain": "<__main__.BiliVideo at 0x7fb1ca620750>",
                  "text/html": "\n        <iframe\n            width=\"854\"\n            height=\"480\"\n            src=\"https://player.bilibili.com/player.html?bvid=BV1dh411o7qJ&page=1?fs=1\"\n            frameborder=\"0\"\n            allowfullscreen\n        ></iframe>\n        "
                },
                "metadata": {}
              }
            ]
          }
        },
        "c4cfcc54f5954267b4bbf94517d2d379": {
          "model_module": "@jupyter-widgets/base",
          "model_name": "LayoutModel",
          "model_module_version": "1.2.0",
          "state": {
            "_model_module": "@jupyter-widgets/base",
            "_model_module_version": "1.2.0",
            "_model_name": "LayoutModel",
            "_view_count": null,
            "_view_module": "@jupyter-widgets/base",
            "_view_module_version": "1.2.0",
            "_view_name": "LayoutView",
            "align_content": null,
            "align_items": null,
            "align_self": null,
            "border": null,
            "bottom": null,
            "display": null,
            "flex": null,
            "flex_flow": null,
            "grid_area": null,
            "grid_auto_columns": null,
            "grid_auto_flow": null,
            "grid_auto_rows": null,
            "grid_column": null,
            "grid_gap": null,
            "grid_row": null,
            "grid_template_areas": null,
            "grid_template_columns": null,
            "grid_template_rows": null,
            "height": null,
            "justify_content": null,
            "justify_items": null,
            "left": null,
            "margin": null,
            "max_height": null,
            "max_width": null,
            "min_height": null,
            "min_width": null,
            "object_fit": null,
            "object_position": null,
            "order": null,
            "overflow": null,
            "overflow_x": null,
            "overflow_y": null,
            "padding": null,
            "right": null,
            "top": null,
            "visibility": null,
            "width": null
          }
        },
        "be506213875b44d988dbdba3f63347d8": {
          "model_module": "@jupyter-widgets/base",
          "model_name": "LayoutModel",
          "model_module_version": "1.2.0",
          "state": {
            "_model_module": "@jupyter-widgets/base",
            "_model_module_version": "1.2.0",
            "_model_name": "LayoutModel",
            "_view_count": null,
            "_view_module": "@jupyter-widgets/base",
            "_view_module_version": "1.2.0",
            "_view_name": "LayoutView",
            "align_content": null,
            "align_items": null,
            "align_self": null,
            "border": null,
            "bottom": null,
            "display": null,
            "flex": null,
            "flex_flow": null,
            "grid_area": null,
            "grid_auto_columns": null,
            "grid_auto_flow": null,
            "grid_auto_rows": null,
            "grid_column": null,
            "grid_gap": null,
            "grid_row": null,
            "grid_template_areas": null,
            "grid_template_columns": null,
            "grid_template_rows": null,
            "height": null,
            "justify_content": null,
            "justify_items": null,
            "left": null,
            "margin": null,
            "max_height": null,
            "max_width": null,
            "min_height": null,
            "min_width": null,
            "object_fit": null,
            "object_position": null,
            "order": null,
            "overflow": null,
            "overflow_x": null,
            "overflow_y": null,
            "padding": null,
            "right": null,
            "top": null,
            "visibility": null,
            "width": null
          }
        },
        "03e54375e40340efa233e711bf2448e6": {
          "model_module": "@jupyter-widgets/base",
          "model_name": "LayoutModel",
          "model_module_version": "1.2.0",
          "state": {
            "_model_module": "@jupyter-widgets/base",
            "_model_module_version": "1.2.0",
            "_model_name": "LayoutModel",
            "_view_count": null,
            "_view_module": "@jupyter-widgets/base",
            "_view_module_version": "1.2.0",
            "_view_name": "LayoutView",
            "align_content": null,
            "align_items": null,
            "align_self": null,
            "border": null,
            "bottom": null,
            "display": null,
            "flex": null,
            "flex_flow": null,
            "grid_area": null,
            "grid_auto_columns": null,
            "grid_auto_flow": null,
            "grid_auto_rows": null,
            "grid_column": null,
            "grid_gap": null,
            "grid_row": null,
            "grid_template_areas": null,
            "grid_template_columns": null,
            "grid_template_rows": null,
            "height": null,
            "justify_content": null,
            "justify_items": null,
            "left": null,
            "margin": null,
            "max_height": null,
            "max_width": null,
            "min_height": null,
            "min_width": null,
            "object_fit": null,
            "object_position": null,
            "order": null,
            "overflow": null,
            "overflow_x": null,
            "overflow_y": null,
            "padding": null,
            "right": null,
            "top": null,
            "visibility": null,
            "width": null
          }
        },
        "255298dc541a442b995a60af7ac46b98": {
          "model_module": "@jupyter-widgets/controls",
          "model_name": "VBoxModel",
          "model_module_version": "1.5.0",
          "state": {
            "_dom_classes": [
              "widget-interact"
            ],
            "_model_module": "@jupyter-widgets/controls",
            "_model_module_version": "1.5.0",
            "_model_name": "VBoxModel",
            "_view_count": null,
            "_view_module": "@jupyter-widgets/controls",
            "_view_module_version": "1.5.0",
            "_view_name": "VBoxView",
            "box_style": "",
            "children": [
              "IPY_MODEL_0855837660ea413ea4d986368903e800",
              "IPY_MODEL_c68de412ceb445b683d5bcfaae0fc8a6",
              "IPY_MODEL_22a1ee94a7314be8a5977603372141a4"
            ],
            "layout": "IPY_MODEL_08c4d4a910514da9b0b53368df25651b"
          }
        },
        "0855837660ea413ea4d986368903e800": {
          "model_module": "@jupyter-widgets/controls",
          "model_name": "FloatSliderModel",
          "model_module_version": "1.5.0",
          "state": {
            "_dom_classes": [],
            "_model_module": "@jupyter-widgets/controls",
            "_model_module_version": "1.5.0",
            "_model_name": "FloatSliderModel",
            "_view_count": null,
            "_view_module": "@jupyter-widgets/controls",
            "_view_module_version": "1.5.0",
            "_view_name": "FloatSliderView",
            "continuous_update": true,
            "description": "a",
            "description_tooltip": null,
            "disabled": false,
            "layout": "IPY_MODEL_37f4471f284f4be0ab2ad6c80eade6c5",
            "max": 3,
            "min": 0.3,
            "orientation": "horizontal",
            "readout": true,
            "readout_format": ".2f",
            "step": 0.3,
            "style": "IPY_MODEL_dc96a64c01434366b8ebff8f9bd53ccc",
            "value": 1.8
          }
        },
        "c68de412ceb445b683d5bcfaae0fc8a6": {
          "model_module": "@jupyter-widgets/controls",
          "model_name": "FloatSliderModel",
          "model_module_version": "1.5.0",
          "state": {
            "_dom_classes": [],
            "_model_module": "@jupyter-widgets/controls",
            "_model_module_version": "1.5.0",
            "_model_name": "FloatSliderModel",
            "_view_count": null,
            "_view_module": "@jupyter-widgets/controls",
            "_view_module_version": "1.5.0",
            "_view_name": "FloatSliderView",
            "continuous_update": true,
            "description": "theta",
            "description_tooltip": null,
            "disabled": false,
            "layout": "IPY_MODEL_52c6f250a165453fbcf477b72b5e22bf",
            "max": 4,
            "min": 2,
            "orientation": "horizontal",
            "readout": true,
            "readout_format": ".2f",
            "step": 0.2,
            "style": "IPY_MODEL_8fc6b7592be143babec3d0fe6e154982",
            "value": 3.8
          }
        },
        "22a1ee94a7314be8a5977603372141a4": {
          "model_module": "@jupyter-widgets/output",
          "model_name": "OutputModel",
          "model_module_version": "1.0.0",
          "state": {
            "_dom_classes": [],
            "_model_module": "@jupyter-widgets/output",
            "_model_module_version": "1.0.0",
            "_model_name": "OutputModel",
            "_view_count": null,
            "_view_module": "@jupyter-widgets/output",
            "_view_module_version": "1.0.0",
            "_view_name": "OutputView",
            "layout": "IPY_MODEL_ef7f06b83ee147019605e4acbfdff264",
            "msg_id": "",
            "outputs": [
              {
                "output_type": "display_data",
                "data": {
                  "text/plain": "<Figure size 576x432 with 1 Axes>",
                  "image/png": "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\n"
                },
                "metadata": {
                  "image/png": {
                    "width": 558,
                    "height": 413
                  },
                  "needs_background": "light"
                }
              }
            ]
          }
        },
        "08c4d4a910514da9b0b53368df25651b": {
          "model_module": "@jupyter-widgets/base",
          "model_name": "LayoutModel",
          "model_module_version": "1.2.0",
          "state": {
            "_model_module": "@jupyter-widgets/base",
            "_model_module_version": "1.2.0",
            "_model_name": "LayoutModel",
            "_view_count": null,
            "_view_module": "@jupyter-widgets/base",
            "_view_module_version": "1.2.0",
            "_view_name": "LayoutView",
            "align_content": null,
            "align_items": null,
            "align_self": null,
            "border": null,
            "bottom": null,
            "display": null,
            "flex": null,
            "flex_flow": null,
            "grid_area": null,
            "grid_auto_columns": null,
            "grid_auto_flow": null,
            "grid_auto_rows": null,
            "grid_column": null,
            "grid_gap": null,
            "grid_row": null,
            "grid_template_areas": null,
            "grid_template_columns": null,
            "grid_template_rows": null,
            "height": null,
            "justify_content": null,
            "justify_items": null,
            "left": null,
            "margin": null,
            "max_height": null,
            "max_width": null,
            "min_height": null,
            "min_width": null,
            "object_fit": null,
            "object_position": null,
            "order": null,
            "overflow": null,
            "overflow_x": null,
            "overflow_y": null,
            "padding": null,
            "right": null,
            "top": null,
            "visibility": null,
            "width": null
          }
        },
        "37f4471f284f4be0ab2ad6c80eade6c5": {
          "model_module": "@jupyter-widgets/base",
          "model_name": "LayoutModel",
          "model_module_version": "1.2.0",
          "state": {
            "_model_module": "@jupyter-widgets/base",
            "_model_module_version": "1.2.0",
            "_model_name": "LayoutModel",
            "_view_count": null,
            "_view_module": "@jupyter-widgets/base",
            "_view_module_version": "1.2.0",
            "_view_name": "LayoutView",
            "align_content": null,
            "align_items": null,
            "align_self": null,
            "border": null,
            "bottom": null,
            "display": null,
            "flex": null,
            "flex_flow": null,
            "grid_area": null,
            "grid_auto_columns": null,
            "grid_auto_flow": null,
            "grid_auto_rows": null,
            "grid_column": null,
            "grid_gap": null,
            "grid_row": null,
            "grid_template_areas": null,
            "grid_template_columns": null,
            "grid_template_rows": null,
            "height": null,
            "justify_content": null,
            "justify_items": null,
            "left": null,
            "margin": null,
            "max_height": null,
            "max_width": null,
            "min_height": null,
            "min_width": null,
            "object_fit": null,
            "object_position": null,
            "order": null,
            "overflow": null,
            "overflow_x": null,
            "overflow_y": null,
            "padding": null,
            "right": null,
            "top": null,
            "visibility": null,
            "width": null
          }
        },
        "dc96a64c01434366b8ebff8f9bd53ccc": {
          "model_module": "@jupyter-widgets/controls",
          "model_name": "SliderStyleModel",
          "model_module_version": "1.5.0",
          "state": {
            "_model_module": "@jupyter-widgets/controls",
            "_model_module_version": "1.5.0",
            "_model_name": "SliderStyleModel",
            "_view_count": null,
            "_view_module": "@jupyter-widgets/base",
            "_view_module_version": "1.2.0",
            "_view_name": "StyleView",
            "description_width": "",
            "handle_color": null
          }
        },
        "52c6f250a165453fbcf477b72b5e22bf": {
          "model_module": "@jupyter-widgets/base",
          "model_name": "LayoutModel",
          "model_module_version": "1.2.0",
          "state": {
            "_model_module": "@jupyter-widgets/base",
            "_model_module_version": "1.2.0",
            "_model_name": "LayoutModel",
            "_view_count": null,
            "_view_module": "@jupyter-widgets/base",
            "_view_module_version": "1.2.0",
            "_view_name": "LayoutView",
            "align_content": null,
            "align_items": null,
            "align_self": null,
            "border": null,
            "bottom": null,
            "display": null,
            "flex": null,
            "flex_flow": null,
            "grid_area": null,
            "grid_auto_columns": null,
            "grid_auto_flow": null,
            "grid_auto_rows": null,
            "grid_column": null,
            "grid_gap": null,
            "grid_row": null,
            "grid_template_areas": null,
            "grid_template_columns": null,
            "grid_template_rows": null,
            "height": null,
            "justify_content": null,
            "justify_items": null,
            "left": null,
            "margin": null,
            "max_height": null,
            "max_width": null,
            "min_height": null,
            "min_width": null,
            "object_fit": null,
            "object_position": null,
            "order": null,
            "overflow": null,
            "overflow_x": null,
            "overflow_y": null,
            "padding": null,
            "right": null,
            "top": null,
            "visibility": null,
            "width": null
          }
        },
        "8fc6b7592be143babec3d0fe6e154982": {
          "model_module": "@jupyter-widgets/controls",
          "model_name": "SliderStyleModel",
          "model_module_version": "1.5.0",
          "state": {
            "_model_module": "@jupyter-widgets/controls",
            "_model_module_version": "1.5.0",
            "_model_name": "SliderStyleModel",
            "_view_count": null,
            "_view_module": "@jupyter-widgets/base",
            "_view_module_version": "1.2.0",
            "_view_name": "StyleView",
            "description_width": "",
            "handle_color": null
          }
        },
        "ef7f06b83ee147019605e4acbfdff264": {
          "model_module": "@jupyter-widgets/base",
          "model_name": "LayoutModel",
          "model_module_version": "1.2.0",
          "state": {
            "_model_module": "@jupyter-widgets/base",
            "_model_module_version": "1.2.0",
            "_model_name": "LayoutModel",
            "_view_count": null,
            "_view_module": "@jupyter-widgets/base",
            "_view_module_version": "1.2.0",
            "_view_name": "LayoutView",
            "align_content": null,
            "align_items": null,
            "align_self": null,
            "border": null,
            "bottom": null,
            "display": null,
            "flex": null,
            "flex_flow": null,
            "grid_area": null,
            "grid_auto_columns": null,
            "grid_auto_flow": null,
            "grid_auto_rows": null,
            "grid_column": null,
            "grid_gap": null,
            "grid_row": null,
            "grid_template_areas": null,
            "grid_template_columns": null,
            "grid_template_rows": null,
            "height": null,
            "justify_content": null,
            "justify_items": null,
            "left": null,
            "margin": null,
            "max_height": null,
            "max_width": null,
            "min_height": null,
            "min_width": null,
            "object_fit": null,
            "object_position": null,
            "order": null,
            "overflow": null,
            "overflow_x": null,
            "overflow_y": null,
            "padding": null,
            "right": null,
            "top": null,
            "visibility": null,
            "width": null
          }
        },
        "118475c8d522460988963f5535321f06": {
          "model_module": "@jupyter-widgets/controls",
          "model_name": "VBoxModel",
          "model_module_version": "1.5.0",
          "state": {
            "_dom_classes": [
              "widget-interact"
            ],
            "_model_module": "@jupyter-widgets/controls",
            "_model_module_version": "1.5.0",
            "_model_name": "VBoxModel",
            "_view_count": null,
            "_view_module": "@jupyter-widgets/controls",
            "_view_module_version": "1.5.0",
            "_view_name": "VBoxView",
            "box_style": "",
            "children": [
              "IPY_MODEL_58a5f1c509714d40bc76a87f6db8cb5e",
              "IPY_MODEL_85bd4be423e143038049bc480681d893",
              "IPY_MODEL_79c3f3e884c84a9899550d8821b61623"
            ],
            "layout": "IPY_MODEL_8d3e2c14b8924d2c88d7d4017d676180"
          }
        },
        "58a5f1c509714d40bc76a87f6db8cb5e": {
          "model_module": "@jupyter-widgets/controls",
          "model_name": "FloatSliderModel",
          "model_module_version": "1.5.0",
          "state": {
            "_dom_classes": [],
            "_model_module": "@jupyter-widgets/controls",
            "_model_module_version": "1.5.0",
            "_model_name": "FloatSliderModel",
            "_view_count": null,
            "_view_module": "@jupyter-widgets/controls",
            "_view_module_version": "1.5.0",
            "_view_name": "FloatSliderView",
            "continuous_update": true,
            "description": "I_ext",
            "description_tooltip": null,
            "disabled": false,
            "layout": "IPY_MODEL_5c92d040cc0543b791ec339abab0896d",
            "max": 10,
            "min": 0,
            "orientation": "horizontal",
            "readout": true,
            "readout_format": ".2f",
            "step": 1,
            "style": "IPY_MODEL_a308b92def9b4a9c9759bf17cd722ab1",
            "value": 10
          }
        },
        "85bd4be423e143038049bc480681d893": {
          "model_module": "@jupyter-widgets/controls",
          "model_name": "FloatSliderModel",
          "model_module_version": "1.5.0",
          "state": {
            "_dom_classes": [],
            "_model_module": "@jupyter-widgets/controls",
            "_model_module_version": "1.5.0",
            "_model_name": "FloatSliderModel",
            "_view_count": null,
            "_view_module": "@jupyter-widgets/controls",
            "_view_module_version": "1.5.0",
            "_view_name": "FloatSliderView",
            "continuous_update": true,
            "description": "tau",
            "description_tooltip": null,
            "disabled": false,
            "layout": "IPY_MODEL_35bba3f4576f4b229c4833fa8c015937",
            "max": 5,
            "min": 1,
            "orientation": "horizontal",
            "readout": true,
            "readout_format": ".2f",
            "step": 0.2,
            "style": "IPY_MODEL_20417fae511442c09255b16239f7de1f",
            "value": 1
          }
        },
        "79c3f3e884c84a9899550d8821b61623": {
          "model_module": "@jupyter-widgets/output",
          "model_name": "OutputModel",
          "model_module_version": "1.0.0",
          "state": {
            "_dom_classes": [],
            "_model_module": "@jupyter-widgets/output",
            "_model_module_version": "1.0.0",
            "_model_name": "OutputModel",
            "_view_count": null,
            "_view_module": "@jupyter-widgets/output",
            "_view_module_version": "1.0.0",
            "_view_name": "OutputView",
            "layout": "IPY_MODEL_483bb4a99ee4493281210ab5c388c7c2",
            "msg_id": "",
            "outputs": [
              {
                "output_type": "display_data",
                "data": {
                  "text/plain": "<Figure size 576x432 with 1 Axes>",
                  "image/png": "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\n"
                },
                "metadata": {
                  "image/png": {
                    "width": 558,
                    "height": 413
                  },
                  "needs_background": "light"
                }
              }
            ]
          }
        },
        "8d3e2c14b8924d2c88d7d4017d676180": {
          "model_module": "@jupyter-widgets/base",
          "model_name": "LayoutModel",
          "model_module_version": "1.2.0",
          "state": {
            "_model_module": "@jupyter-widgets/base",
            "_model_module_version": "1.2.0",
            "_model_name": "LayoutModel",
            "_view_count": null,
            "_view_module": "@jupyter-widgets/base",
            "_view_module_version": "1.2.0",
            "_view_name": "LayoutView",
            "align_content": null,
            "align_items": null,
            "align_self": null,
            "border": null,
            "bottom": null,
            "display": null,
            "flex": null,
            "flex_flow": null,
            "grid_area": null,
            "grid_auto_columns": null,
            "grid_auto_flow": null,
            "grid_auto_rows": null,
            "grid_column": null,
            "grid_gap": null,
            "grid_row": null,
            "grid_template_areas": null,
            "grid_template_columns": null,
            "grid_template_rows": null,
            "height": null,
            "justify_content": null,
            "justify_items": null,
            "left": null,
            "margin": null,
            "max_height": null,
            "max_width": null,
            "min_height": null,
            "min_width": null,
            "object_fit": null,
            "object_position": null,
            "order": null,
            "overflow": null,
            "overflow_x": null,
            "overflow_y": null,
            "padding": null,
            "right": null,
            "top": null,
            "visibility": null,
            "width": null
          }
        },
        "5c92d040cc0543b791ec339abab0896d": {
          "model_module": "@jupyter-widgets/base",
          "model_name": "LayoutModel",
          "model_module_version": "1.2.0",
          "state": {
            "_model_module": "@jupyter-widgets/base",
            "_model_module_version": "1.2.0",
            "_model_name": "LayoutModel",
            "_view_count": null,
            "_view_module": "@jupyter-widgets/base",
            "_view_module_version": "1.2.0",
            "_view_name": "LayoutView",
            "align_content": null,
            "align_items": null,
            "align_self": null,
            "border": null,
            "bottom": null,
            "display": null,
            "flex": null,
            "flex_flow": null,
            "grid_area": null,
            "grid_auto_columns": null,
            "grid_auto_flow": null,
            "grid_auto_rows": null,
            "grid_column": null,
            "grid_gap": null,
            "grid_row": null,
            "grid_template_areas": null,
            "grid_template_columns": null,
            "grid_template_rows": null,
            "height": null,
            "justify_content": null,
            "justify_items": null,
            "left": null,
            "margin": null,
            "max_height": null,
            "max_width": null,
            "min_height": null,
            "min_width": null,
            "object_fit": null,
            "object_position": null,
            "order": null,
            "overflow": null,
            "overflow_x": null,
            "overflow_y": null,
            "padding": null,
            "right": null,
            "top": null,
            "visibility": null,
            "width": null
          }
        },
        "a308b92def9b4a9c9759bf17cd722ab1": {
          "model_module": "@jupyter-widgets/controls",
          "model_name": "SliderStyleModel",
          "model_module_version": "1.5.0",
          "state": {
            "_model_module": "@jupyter-widgets/controls",
            "_model_module_version": "1.5.0",
            "_model_name": "SliderStyleModel",
            "_view_count": null,
            "_view_module": "@jupyter-widgets/base",
            "_view_module_version": "1.2.0",
            "_view_name": "StyleView",
            "description_width": "",
            "handle_color": null
          }
        },
        "35bba3f4576f4b229c4833fa8c015937": {
          "model_module": "@jupyter-widgets/base",
          "model_name": "LayoutModel",
          "model_module_version": "1.2.0",
          "state": {
            "_model_module": "@jupyter-widgets/base",
            "_model_module_version": "1.2.0",
            "_model_name": "LayoutModel",
            "_view_count": null,
            "_view_module": "@jupyter-widgets/base",
            "_view_module_version": "1.2.0",
            "_view_name": "LayoutView",
            "align_content": null,
            "align_items": null,
            "align_self": null,
            "border": null,
            "bottom": null,
            "display": null,
            "flex": null,
            "flex_flow": null,
            "grid_area": null,
            "grid_auto_columns": null,
            "grid_auto_flow": null,
            "grid_auto_rows": null,
            "grid_column": null,
            "grid_gap": null,
            "grid_row": null,
            "grid_template_areas": null,
            "grid_template_columns": null,
            "grid_template_rows": null,
            "height": null,
            "justify_content": null,
            "justify_items": null,
            "left": null,
            "margin": null,
            "max_height": null,
            "max_width": null,
            "min_height": null,
            "min_width": null,
            "object_fit": null,
            "object_position": null,
            "order": null,
            "overflow": null,
            "overflow_x": null,
            "overflow_y": null,
            "padding": null,
            "right": null,
            "top": null,
            "visibility": null,
            "width": null
          }
        },
        "20417fae511442c09255b16239f7de1f": {
          "model_module": "@jupyter-widgets/controls",
          "model_name": "SliderStyleModel",
          "model_module_version": "1.5.0",
          "state": {
            "_model_module": "@jupyter-widgets/controls",
            "_model_module_version": "1.5.0",
            "_model_name": "SliderStyleModel",
            "_view_count": null,
            "_view_module": "@jupyter-widgets/base",
            "_view_module_version": "1.2.0",
            "_view_name": "StyleView",
            "description_width": "",
            "handle_color": null
          }
        },
        "483bb4a99ee4493281210ab5c388c7c2": {
          "model_module": "@jupyter-widgets/base",
          "model_name": "LayoutModel",
          "model_module_version": "1.2.0",
          "state": {
            "_model_module": "@jupyter-widgets/base",
            "_model_module_version": "1.2.0",
            "_model_name": "LayoutModel",
            "_view_count": null,
            "_view_module": "@jupyter-widgets/base",
            "_view_module_version": "1.2.0",
            "_view_name": "LayoutView",
            "align_content": null,
            "align_items": null,
            "align_self": null,
            "border": null,
            "bottom": null,
            "display": null,
            "flex": null,
            "flex_flow": null,
            "grid_area": null,
            "grid_auto_columns": null,
            "grid_auto_flow": null,
            "grid_auto_rows": null,
            "grid_column": null,
            "grid_gap": null,
            "grid_row": null,
            "grid_template_areas": null,
            "grid_template_columns": null,
            "grid_template_rows": null,
            "height": null,
            "justify_content": null,
            "justify_items": null,
            "left": null,
            "margin": null,
            "max_height": null,
            "max_width": null,
            "min_height": null,
            "min_width": null,
            "object_fit": null,
            "object_position": null,
            "order": null,
            "overflow": null,
            "overflow_x": null,
            "overflow_y": null,
            "padding": null,
            "right": null,
            "top": null,
            "visibility": null,
            "width": null
          }
        },
        "2e4d6e39089747d9a76360cbb756fa55": {
          "model_module": "@jupyter-widgets/controls",
          "model_name": "TabModel",
          "model_module_version": "1.5.0",
          "state": {
            "_dom_classes": [],
            "_model_module": "@jupyter-widgets/controls",
            "_model_module_version": "1.5.0",
            "_model_name": "TabModel",
            "_titles": {
              "0": "Youtube",
              "1": "Bilibili"
            },
            "_view_count": null,
            "_view_module": "@jupyter-widgets/controls",
            "_view_module_version": "1.5.0",
            "_view_name": "TabView",
            "box_style": "",
            "children": [
              "IPY_MODEL_1cc83af75be241e29e528a7892da000b",
              "IPY_MODEL_a04536b8499e4098914520e8f44f17d2"
            ],
            "layout": "IPY_MODEL_7766f667203d4d8c963951a54c1ffdda",
            "selected_index": 0
          }
        },
        "1cc83af75be241e29e528a7892da000b": {
          "model_module": "@jupyter-widgets/output",
          "model_name": "OutputModel",
          "model_module_version": "1.0.0",
          "state": {
            "_dom_classes": [],
            "_model_module": "@jupyter-widgets/output",
            "_model_module_version": "1.0.0",
            "_model_name": "OutputModel",
            "_view_count": null,
            "_view_module": "@jupyter-widgets/output",
            "_view_module_version": "1.0.0",
            "_view_name": "OutputView",
            "layout": "IPY_MODEL_864b95ce4c6e468da07c6d8a943b14a7",
            "msg_id": "",
            "outputs": [
              {
                "output_type": "stream",
                "name": "stdout",
                "text": [
                  "Video available at https://youtube.com/watch?v=Ox3ELd1UFyo\n"
                ]
              },
              {
                "output_type": "display_data",
                "data": {
                  "text/plain": "<IPython.lib.display.YouTubeVideo at 0x7fb1c793c250>",
                  "text/html": "\n        <iframe\n            width=\"854\"\n            height=\"480\"\n            src=\"https://www.youtube.com/embed/Ox3ELd1UFyo?fs=1&rel=0\"\n            frameborder=\"0\"\n            allowfullscreen\n        ></iframe>\n        ",
                  "image/jpeg": "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\n"
                },
                "metadata": {}
              }
            ]
          }
        },
        "a04536b8499e4098914520e8f44f17d2": {
          "model_module": "@jupyter-widgets/output",
          "model_name": "OutputModel",
          "model_module_version": "1.0.0",
          "state": {
            "_dom_classes": [],
            "_model_module": "@jupyter-widgets/output",
            "_model_module_version": "1.0.0",
            "_model_name": "OutputModel",
            "_view_count": null,
            "_view_module": "@jupyter-widgets/output",
            "_view_module_version": "1.0.0",
            "_view_name": "OutputView",
            "layout": "IPY_MODEL_64bc7f551b6448aeab66e0428bb8d18d",
            "msg_id": "",
            "outputs": [
              {
                "output_type": "stream",
                "name": "stdout",
                "text": [
                  "Video available at https://www.bilibili.com/video/BV1v54y1v7Gr\n"
                ]
              },
              {
                "output_type": "display_data",
                "data": {
                  "text/plain": "<__main__.BiliVideo at 0x7fb1c793ca50>",
                  "text/html": "\n        <iframe\n            width=\"854\"\n            height=\"480\"\n            src=\"https://player.bilibili.com/player.html?bvid=BV1v54y1v7Gr&page=1?fs=1\"\n            frameborder=\"0\"\n            allowfullscreen\n        ></iframe>\n        "
                },
                "metadata": {}
              }
            ]
          }
        },
        "7766f667203d4d8c963951a54c1ffdda": {
          "model_module": "@jupyter-widgets/base",
          "model_name": "LayoutModel",
          "model_module_version": "1.2.0",
          "state": {
            "_model_module": "@jupyter-widgets/base",
            "_model_module_version": "1.2.0",
            "_model_name": "LayoutModel",
            "_view_count": null,
            "_view_module": "@jupyter-widgets/base",
            "_view_module_version": "1.2.0",
            "_view_name": "LayoutView",
            "align_content": null,
            "align_items": null,
            "align_self": null,
            "border": null,
            "bottom": null,
            "display": null,
            "flex": null,
            "flex_flow": null,
            "grid_area": null,
            "grid_auto_columns": null,
            "grid_auto_flow": null,
            "grid_auto_rows": null,
            "grid_column": null,
            "grid_gap": null,
            "grid_row": null,
            "grid_template_areas": null,
            "grid_template_columns": null,
            "grid_template_rows": null,
            "height": null,
            "justify_content": null,
            "justify_items": null,
            "left": null,
            "margin": null,
            "max_height": null,
            "max_width": null,
            "min_height": null,
            "min_width": null,
            "object_fit": null,
            "object_position": null,
            "order": null,
            "overflow": null,
            "overflow_x": null,
            "overflow_y": null,
            "padding": null,
            "right": null,
            "top": null,
            "visibility": null,
            "width": null
          }
        },
        "864b95ce4c6e468da07c6d8a943b14a7": {
          "model_module": "@jupyter-widgets/base",
          "model_name": "LayoutModel",
          "model_module_version": "1.2.0",
          "state": {
            "_model_module": "@jupyter-widgets/base",
            "_model_module_version": "1.2.0",
            "_model_name": "LayoutModel",
            "_view_count": null,
            "_view_module": "@jupyter-widgets/base",
            "_view_module_version": "1.2.0",
            "_view_name": "LayoutView",
            "align_content": null,
            "align_items": null,
            "align_self": null,
            "border": null,
            "bottom": null,
            "display": null,
            "flex": null,
            "flex_flow": null,
            "grid_area": null,
            "grid_auto_columns": null,
            "grid_auto_flow": null,
            "grid_auto_rows": null,
            "grid_column": null,
            "grid_gap": null,
            "grid_row": null,
            "grid_template_areas": null,
            "grid_template_columns": null,
            "grid_template_rows": null,
            "height": null,
            "justify_content": null,
            "justify_items": null,
            "left": null,
            "margin": null,
            "max_height": null,
            "max_width": null,
            "min_height": null,
            "min_width": null,
            "object_fit": null,
            "object_position": null,
            "order": null,
            "overflow": null,
            "overflow_x": null,
            "overflow_y": null,
            "padding": null,
            "right": null,
            "top": null,
            "visibility": null,
            "width": null
          }
        },
        "64bc7f551b6448aeab66e0428bb8d18d": {
          "model_module": "@jupyter-widgets/base",
          "model_name": "LayoutModel",
          "model_module_version": "1.2.0",
          "state": {
            "_model_module": "@jupyter-widgets/base",
            "_model_module_version": "1.2.0",
            "_model_name": "LayoutModel",
            "_view_count": null,
            "_view_module": "@jupyter-widgets/base",
            "_view_module_version": "1.2.0",
            "_view_name": "LayoutView",
            "align_content": null,
            "align_items": null,
            "align_self": null,
            "border": null,
            "bottom": null,
            "display": null,
            "flex": null,
            "flex_flow": null,
            "grid_area": null,
            "grid_auto_columns": null,
            "grid_auto_flow": null,
            "grid_auto_rows": null,
            "grid_column": null,
            "grid_gap": null,
            "grid_row": null,
            "grid_template_areas": null,
            "grid_template_columns": null,
            "grid_template_rows": null,
            "height": null,
            "justify_content": null,
            "justify_items": null,
            "left": null,
            "margin": null,
            "max_height": null,
            "max_width": null,
            "min_height": null,
            "min_width": null,
            "object_fit": null,
            "object_position": null,
            "order": null,
            "overflow": null,
            "overflow_x": null,
            "overflow_y": null,
            "padding": null,
            "right": null,
            "top": null,
            "visibility": null,
            "width": null
          }
        },
        "7a5a3b89d2ba4faa9f45f83bdac23d93": {
          "model_module": "@jupyter-widgets/controls",
          "model_name": "VBoxModel",
          "model_module_version": "1.5.0",
          "state": {
            "_dom_classes": [
              "widget-interact"
            ],
            "_model_module": "@jupyter-widgets/controls",
            "_model_module_version": "1.5.0",
            "_model_name": "VBoxModel",
            "_view_count": null,
            "_view_module": "@jupyter-widgets/controls",
            "_view_module_version": "1.5.0",
            "_view_name": "VBoxView",
            "box_style": "",
            "children": [
              "IPY_MODEL_3e5e9f91bd3c47d1981de54c03d22f46",
              "IPY_MODEL_7088ea9b0d6146e0bea2eaa931a013b2",
              "IPY_MODEL_41f78266290048629bfaee729daa8572"
            ],
            "layout": "IPY_MODEL_7d2f4ceab8a941a695cdeff8e94dbd7a"
          }
        },
        "3e5e9f91bd3c47d1981de54c03d22f46": {
          "model_module": "@jupyter-widgets/controls",
          "model_name": "FloatSliderModel",
          "model_module_version": "1.5.0",
          "state": {
            "_dom_classes": [],
            "_model_module": "@jupyter-widgets/controls",
            "_model_module_version": "1.5.0",
            "_model_name": "FloatSliderModel",
            "_view_count": null,
            "_view_module": "@jupyter-widgets/controls",
            "_view_module_version": "1.5.0",
            "_view_name": "FloatSliderView",
            "continuous_update": true,
            "description": "w",
            "description_tooltip": null,
            "disabled": false,
            "layout": "IPY_MODEL_e444b436d1894674b592820a8ceabf43",
            "max": 0,
            "min": -15,
            "orientation": "horizontal",
            "readout": true,
            "readout_format": ".2f",
            "step": 0.2,
            "style": "IPY_MODEL_6ebbe0a7a3ff468e8db2834416617ac6",
            "value": -10
          }
        },
        "7088ea9b0d6146e0bea2eaa931a013b2": {
          "model_module": "@jupyter-widgets/controls",
          "model_name": "FloatSliderModel",
          "model_module_version": "1.5.0",
          "state": {
            "_dom_classes": [],
            "_model_module": "@jupyter-widgets/controls",
            "_model_module_version": "1.5.0",
            "_model_name": "FloatSliderModel",
            "_view_count": null,
            "_view_module": "@jupyter-widgets/controls",
            "_view_module_version": "1.5.0",
            "_view_name": "FloatSliderView",
            "continuous_update": true,
            "description": "I_ext",
            "description_tooltip": null,
            "disabled": false,
            "layout": "IPY_MODEL_579112cc0ec14c35b11f00201dfc8f26",
            "max": 3,
            "min": 0,
            "orientation": "horizontal",
            "readout": true,
            "readout_format": ".2f",
            "step": 0.1,
            "style": "IPY_MODEL_9272b8f2bd7240d689835b630f69531a",
            "value": 1
          }
        },
        "41f78266290048629bfaee729daa8572": {
          "model_module": "@jupyter-widgets/output",
          "model_name": "OutputModel",
          "model_module_version": "1.0.0",
          "state": {
            "_dom_classes": [],
            "_model_module": "@jupyter-widgets/output",
            "_model_module_version": "1.0.0",
            "_model_name": "OutputModel",
            "_view_count": null,
            "_view_module": "@jupyter-widgets/output",
            "_view_module_version": "1.0.0",
            "_view_name": "OutputView",
            "layout": "IPY_MODEL_6c24a73e8bb74f638e06818cd543d8e3",
            "msg_id": "",
            "outputs": [
              {
                "output_type": "display_data",
                "data": {
                  "text/plain": "<Figure size 576x432 with 1 Axes>",
                  "image/png": "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\n"
                },
                "metadata": {
                  "image/png": {
                    "width": 558,
                    "height": 413
                  },
                  "needs_background": "light"
                }
              }
            ]
          }
        },
        "7d2f4ceab8a941a695cdeff8e94dbd7a": {
          "model_module": "@jupyter-widgets/base",
          "model_name": "LayoutModel",
          "model_module_version": "1.2.0",
          "state": {
            "_model_module": "@jupyter-widgets/base",
            "_model_module_version": "1.2.0",
            "_model_name": "LayoutModel",
            "_view_count": null,
            "_view_module": "@jupyter-widgets/base",
            "_view_module_version": "1.2.0",
            "_view_name": "LayoutView",
            "align_content": null,
            "align_items": null,
            "align_self": null,
            "border": null,
            "bottom": null,
            "display": null,
            "flex": null,
            "flex_flow": null,
            "grid_area": null,
            "grid_auto_columns": null,
            "grid_auto_flow": null,
            "grid_auto_rows": null,
            "grid_column": null,
            "grid_gap": null,
            "grid_row": null,
            "grid_template_areas": null,
            "grid_template_columns": null,
            "grid_template_rows": null,
            "height": null,
            "justify_content": null,
            "justify_items": null,
            "left": null,
            "margin": null,
            "max_height": null,
            "max_width": null,
            "min_height": null,
            "min_width": null,
            "object_fit": null,
            "object_position": null,
            "order": null,
            "overflow": null,
            "overflow_x": null,
            "overflow_y": null,
            "padding": null,
            "right": null,
            "top": null,
            "visibility": null,
            "width": null
          }
        },
        "e444b436d1894674b592820a8ceabf43": {
          "model_module": "@jupyter-widgets/base",
          "model_name": "LayoutModel",
          "model_module_version": "1.2.0",
          "state": {
            "_model_module": "@jupyter-widgets/base",
            "_model_module_version": "1.2.0",
            "_model_name": "LayoutModel",
            "_view_count": null,
            "_view_module": "@jupyter-widgets/base",
            "_view_module_version": "1.2.0",
            "_view_name": "LayoutView",
            "align_content": null,
            "align_items": null,
            "align_self": null,
            "border": null,
            "bottom": null,
            "display": null,
            "flex": null,
            "flex_flow": null,
            "grid_area": null,
            "grid_auto_columns": null,
            "grid_auto_flow": null,
            "grid_auto_rows": null,
            "grid_column": null,
            "grid_gap": null,
            "grid_row": null,
            "grid_template_areas": null,
            "grid_template_columns": null,
            "grid_template_rows": null,
            "height": null,
            "justify_content": null,
            "justify_items": null,
            "left": null,
            "margin": null,
            "max_height": null,
            "max_width": null,
            "min_height": null,
            "min_width": null,
            "object_fit": null,
            "object_position": null,
            "order": null,
            "overflow": null,
            "overflow_x": null,
            "overflow_y": null,
            "padding": null,
            "right": null,
            "top": null,
            "visibility": null,
            "width": null
          }
        },
        "6ebbe0a7a3ff468e8db2834416617ac6": {
          "model_module": "@jupyter-widgets/controls",
          "model_name": "SliderStyleModel",
          "model_module_version": "1.5.0",
          "state": {
            "_model_module": "@jupyter-widgets/controls",
            "_model_module_version": "1.5.0",
            "_model_name": "SliderStyleModel",
            "_view_count": null,
            "_view_module": "@jupyter-widgets/base",
            "_view_module_version": "1.2.0",
            "_view_name": "StyleView",
            "description_width": "",
            "handle_color": null
          }
        },
        "579112cc0ec14c35b11f00201dfc8f26": {
          "model_module": "@jupyter-widgets/base",
          "model_name": "LayoutModel",
          "model_module_version": "1.2.0",
          "state": {
            "_model_module": "@jupyter-widgets/base",
            "_model_module_version": "1.2.0",
            "_model_name": "LayoutModel",
            "_view_count": null,
            "_view_module": "@jupyter-widgets/base",
            "_view_module_version": "1.2.0",
            "_view_name": "LayoutView",
            "align_content": null,
            "align_items": null,
            "align_self": null,
            "border": null,
            "bottom": null,
            "display": null,
            "flex": null,
            "flex_flow": null,
            "grid_area": null,
            "grid_auto_columns": null,
            "grid_auto_flow": null,
            "grid_auto_rows": null,
            "grid_column": null,
            "grid_gap": null,
            "grid_row": null,
            "grid_template_areas": null,
            "grid_template_columns": null,
            "grid_template_rows": null,
            "height": null,
            "justify_content": null,
            "justify_items": null,
            "left": null,
            "margin": null,
            "max_height": null,
            "max_width": null,
            "min_height": null,
            "min_width": null,
            "object_fit": null,
            "object_position": null,
            "order": null,
            "overflow": null,
            "overflow_x": null,
            "overflow_y": null,
            "padding": null,
            "right": null,
            "top": null,
            "visibility": null,
            "width": null
          }
        },
        "9272b8f2bd7240d689835b630f69531a": {
          "model_module": "@jupyter-widgets/controls",
          "model_name": "SliderStyleModel",
          "model_module_version": "1.5.0",
          "state": {
            "_model_module": "@jupyter-widgets/controls",
            "_model_module_version": "1.5.0",
            "_model_name": "SliderStyleModel",
            "_view_count": null,
            "_view_module": "@jupyter-widgets/base",
            "_view_module_version": "1.2.0",
            "_view_name": "StyleView",
            "description_width": "",
            "handle_color": null
          }
        },
        "6c24a73e8bb74f638e06818cd543d8e3": {
          "model_module": "@jupyter-widgets/base",
          "model_name": "LayoutModel",
          "model_module_version": "1.2.0",
          "state": {
            "_model_module": "@jupyter-widgets/base",
            "_model_module_version": "1.2.0",
            "_model_name": "LayoutModel",
            "_view_count": null,
            "_view_module": "@jupyter-widgets/base",
            "_view_module_version": "1.2.0",
            "_view_name": "LayoutView",
            "align_content": null,
            "align_items": null,
            "align_self": null,
            "border": null,
            "bottom": null,
            "display": null,
            "flex": null,
            "flex_flow": null,
            "grid_area": null,
            "grid_auto_columns": null,
            "grid_auto_flow": null,
            "grid_auto_rows": null,
            "grid_column": null,
            "grid_gap": null,
            "grid_row": null,
            "grid_template_areas": null,
            "grid_template_columns": null,
            "grid_template_rows": null,
            "height": null,
            "justify_content": null,
            "justify_items": null,
            "left": null,
            "margin": null,
            "max_height": null,
            "max_width": null,
            "min_height": null,
            "min_width": null,
            "object_fit": null,
            "object_position": null,
            "order": null,
            "overflow": null,
            "overflow_x": null,
            "overflow_y": null,
            "padding": null,
            "right": null,
            "top": null,
            "visibility": null,
            "width": null
          }
        },
        "462376d4e08544a1aaad1bbf2a5209ce": {
          "model_module": "@jupyter-widgets/controls",
          "model_name": "VBoxModel",
          "model_module_version": "1.5.0",
          "state": {
            "_dom_classes": [
              "widget-interact"
            ],
            "_model_module": "@jupyter-widgets/controls",
            "_model_module_version": "1.5.0",
            "_model_name": "VBoxModel",
            "_view_count": null,
            "_view_module": "@jupyter-widgets/controls",
            "_view_module_version": "1.5.0",
            "_view_name": "VBoxView",
            "box_style": "",
            "children": [
              "IPY_MODEL_74e3c84a16d3452b9d49f9797190a7a5",
              "IPY_MODEL_b05a021f92884498b41520245d36502d"
            ],
            "layout": "IPY_MODEL_39660454772446ffb6ea1556911fc22e"
          }
        },
        "74e3c84a16d3452b9d49f9797190a7a5": {
          "model_module": "@jupyter-widgets/controls",
          "model_name": "FloatSliderModel",
          "model_module_version": "1.5.0",
          "state": {
            "_dom_classes": [],
            "_model_module": "@jupyter-widgets/controls",
            "_model_module_version": "1.5.0",
            "_model_name": "FloatSliderModel",
            "_view_count": null,
            "_view_module": "@jupyter-widgets/controls",
            "_view_module_version": "1.5.0",
            "_view_name": "FloatSliderView",
            "continuous_update": true,
            "description": "r_init",
            "description_tooltip": null,
            "disabled": false,
            "layout": "IPY_MODEL_9c0d0f43018648ac9ea12b9d3b37ad57",
            "max": 1,
            "min": 0,
            "orientation": "horizontal",
            "readout": true,
            "readout_format": ".2f",
            "step": 0.02,
            "style": "IPY_MODEL_2ca1b011f2d44a1bb2905a1a0a8263a7",
            "value": 0.2
          }
        },
        "b05a021f92884498b41520245d36502d": {
          "model_module": "@jupyter-widgets/output",
          "model_name": "OutputModel",
          "model_module_version": "1.0.0",
          "state": {
            "_dom_classes": [],
            "_model_module": "@jupyter-widgets/output",
            "_model_module_version": "1.0.0",
            "_model_name": "OutputModel",
            "_view_count": null,
            "_view_module": "@jupyter-widgets/output",
            "_view_module_version": "1.0.0",
            "_view_name": "OutputView",
            "layout": "IPY_MODEL_3e966d5986e1412fbcf5e834d0906c06",
            "msg_id": "",
            "outputs": [
              {
                "output_type": "display_data",
                "data": {
                  "text/plain": "<Figure size 576x432 with 1 Axes>",
                  "image/png": "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\n"
                },
                "metadata": {
                  "image/png": {
                    "width": 558,
                    "height": 413
                  },
                  "needs_background": "light"
                }
              }
            ]
          }
        },
        "39660454772446ffb6ea1556911fc22e": {
          "model_module": "@jupyter-widgets/base",
          "model_name": "LayoutModel",
          "model_module_version": "1.2.0",
          "state": {
            "_model_module": "@jupyter-widgets/base",
            "_model_module_version": "1.2.0",
            "_model_name": "LayoutModel",
            "_view_count": null,
            "_view_module": "@jupyter-widgets/base",
            "_view_module_version": "1.2.0",
            "_view_name": "LayoutView",
            "align_content": null,
            "align_items": null,
            "align_self": null,
            "border": null,
            "bottom": null,
            "display": null,
            "flex": null,
            "flex_flow": null,
            "grid_area": null,
            "grid_auto_columns": null,
            "grid_auto_flow": null,
            "grid_auto_rows": null,
            "grid_column": null,
            "grid_gap": null,
            "grid_row": null,
            "grid_template_areas": null,
            "grid_template_columns": null,
            "grid_template_rows": null,
            "height": null,
            "justify_content": null,
            "justify_items": null,
            "left": null,
            "margin": null,
            "max_height": null,
            "max_width": null,
            "min_height": null,
            "min_width": null,
            "object_fit": null,
            "object_position": null,
            "order": null,
            "overflow": null,
            "overflow_x": null,
            "overflow_y": null,
            "padding": null,
            "right": null,
            "top": null,
            "visibility": null,
            "width": null
          }
        },
        "9c0d0f43018648ac9ea12b9d3b37ad57": {
          "model_module": "@jupyter-widgets/base",
          "model_name": "LayoutModel",
          "model_module_version": "1.2.0",
          "state": {
            "_model_module": "@jupyter-widgets/base",
            "_model_module_version": "1.2.0",
            "_model_name": "LayoutModel",
            "_view_count": null,
            "_view_module": "@jupyter-widgets/base",
            "_view_module_version": "1.2.0",
            "_view_name": "LayoutView",
            "align_content": null,
            "align_items": null,
            "align_self": null,
            "border": null,
            "bottom": null,
            "display": null,
            "flex": null,
            "flex_flow": null,
            "grid_area": null,
            "grid_auto_columns": null,
            "grid_auto_flow": null,
            "grid_auto_rows": null,
            "grid_column": null,
            "grid_gap": null,
            "grid_row": null,
            "grid_template_areas": null,
            "grid_template_columns": null,
            "grid_template_rows": null,
            "height": null,
            "justify_content": null,
            "justify_items": null,
            "left": null,
            "margin": null,
            "max_height": null,
            "max_width": null,
            "min_height": null,
            "min_width": null,
            "object_fit": null,
            "object_position": null,
            "order": null,
            "overflow": null,
            "overflow_x": null,
            "overflow_y": null,
            "padding": null,
            "right": null,
            "top": null,
            "visibility": null,
            "width": null
          }
        },
        "2ca1b011f2d44a1bb2905a1a0a8263a7": {
          "model_module": "@jupyter-widgets/controls",
          "model_name": "SliderStyleModel",
          "model_module_version": "1.5.0",
          "state": {
            "_model_module": "@jupyter-widgets/controls",
            "_model_module_version": "1.5.0",
            "_model_name": "SliderStyleModel",
            "_view_count": null,
            "_view_module": "@jupyter-widgets/base",
            "_view_module_version": "1.2.0",
            "_view_name": "StyleView",
            "description_width": "",
            "handle_color": null
          }
        },
        "3e966d5986e1412fbcf5e834d0906c06": {
          "model_module": "@jupyter-widgets/base",
          "model_name": "LayoutModel",
          "model_module_version": "1.2.0",
          "state": {
            "_model_module": "@jupyter-widgets/base",
            "_model_module_version": "1.2.0",
            "_model_name": "LayoutModel",
            "_view_count": null,
            "_view_module": "@jupyter-widgets/base",
            "_view_module_version": "1.2.0",
            "_view_name": "LayoutView",
            "align_content": null,
            "align_items": null,
            "align_self": null,
            "border": null,
            "bottom": null,
            "display": null,
            "flex": null,
            "flex_flow": null,
            "grid_area": null,
            "grid_auto_columns": null,
            "grid_auto_flow": null,
            "grid_auto_rows": null,
            "grid_column": null,
            "grid_gap": null,
            "grid_row": null,
            "grid_template_areas": null,
            "grid_template_columns": null,
            "grid_template_rows": null,
            "height": null,
            "justify_content": null,
            "justify_items": null,
            "left": null,
            "margin": null,
            "max_height": null,
            "max_width": null,
            "min_height": null,
            "min_width": null,
            "object_fit": null,
            "object_position": null,
            "order": null,
            "overflow": null,
            "overflow_x": null,
            "overflow_y": null,
            "padding": null,
            "right": null,
            "top": null,
            "visibility": null,
            "width": null
          }
        },
        "1403aca5eb254fb9a64a2194967a187f": {
          "model_module": "@jupyter-widgets/controls",
          "model_name": "TabModel",
          "model_module_version": "1.5.0",
          "state": {
            "_dom_classes": [],
            "_model_module": "@jupyter-widgets/controls",
            "_model_module_version": "1.5.0",
            "_model_name": "TabModel",
            "_titles": {
              "0": "Youtube",
              "1": "Bilibili"
            },
            "_view_count": null,
            "_view_module": "@jupyter-widgets/controls",
            "_view_module_version": "1.5.0",
            "_view_name": "TabView",
            "box_style": "",
            "children": [
              "IPY_MODEL_0ece3483211c4252bfe79c6a9ff46630",
              "IPY_MODEL_2705fca0f0a449fdad544a8d46541ea8"
            ],
            "layout": "IPY_MODEL_6b39bfde3ced4f7d801a33708c1386c0",
            "selected_index": 0
          }
        },
        "0ece3483211c4252bfe79c6a9ff46630": {
          "model_module": "@jupyter-widgets/output",
          "model_name": "OutputModel",
          "model_module_version": "1.0.0",
          "state": {
            "_dom_classes": [],
            "_model_module": "@jupyter-widgets/output",
            "_model_module_version": "1.0.0",
            "_model_name": "OutputModel",
            "_view_count": null,
            "_view_module": "@jupyter-widgets/output",
            "_view_module_version": "1.0.0",
            "_view_name": "OutputView",
            "layout": "IPY_MODEL_9eca404893c944ba833d94e2f1b66907",
            "msg_id": "",
            "outputs": [
              {
                "output_type": "stream",
                "name": "stdout",
                "text": [
                  "Video available at https://youtube.com/watch?v=KKMlWWU83Jg\n"
                ]
              },
              {
                "output_type": "display_data",
                "data": {
                  "text/plain": "<IPython.lib.display.YouTubeVideo at 0x7fb1c75e5650>",
                  "text/html": "\n        <iframe\n            width=\"854\"\n            height=\"480\"\n            src=\"https://www.youtube.com/embed/KKMlWWU83Jg?fs=1&rel=0\"\n            frameborder=\"0\"\n            allowfullscreen\n        ></iframe>\n        ",
                  "image/jpeg": "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\n"
                },
                "metadata": {}
              }
            ]
          }
        },
        "2705fca0f0a449fdad544a8d46541ea8": {
          "model_module": "@jupyter-widgets/output",
          "model_name": "OutputModel",
          "model_module_version": "1.0.0",
          "state": {
            "_dom_classes": [],
            "_model_module": "@jupyter-widgets/output",
            "_model_module_version": "1.0.0",
            "_model_name": "OutputModel",
            "_view_count": null,
            "_view_module": "@jupyter-widgets/output",
            "_view_module_version": "1.0.0",
            "_view_name": "OutputView",
            "layout": "IPY_MODEL_198f9a18c18a4425b74d35592a26cb63",
            "msg_id": "",
            "outputs": [
              {
                "output_type": "stream",
                "name": "stdout",
                "text": [
                  "Video available at https://www.bilibili.com/video/BV1oA411e7eg\n"
                ]
              },
              {
                "output_type": "display_data",
                "data": {
                  "text/plain": "<__main__.BiliVideo at 0x7fb1c7768710>",
                  "text/html": "\n        <iframe\n            width=\"854\"\n            height=\"480\"\n            src=\"https://player.bilibili.com/player.html?bvid=BV1oA411e7eg&page=1?fs=1\"\n            frameborder=\"0\"\n            allowfullscreen\n        ></iframe>\n        "
                },
                "metadata": {}
              }
            ]
          }
        },
        "6b39bfde3ced4f7d801a33708c1386c0": {
          "model_module": "@jupyter-widgets/base",
          "model_name": "LayoutModel",
          "model_module_version": "1.2.0",
          "state": {
            "_model_module": "@jupyter-widgets/base",
            "_model_module_version": "1.2.0",
            "_model_name": "LayoutModel",
            "_view_count": null,
            "_view_module": "@jupyter-widgets/base",
            "_view_module_version": "1.2.0",
            "_view_name": "LayoutView",
            "align_content": null,
            "align_items": null,
            "align_self": null,
            "border": null,
            "bottom": null,
            "display": null,
            "flex": null,
            "flex_flow": null,
            "grid_area": null,
            "grid_auto_columns": null,
            "grid_auto_flow": null,
            "grid_auto_rows": null,
            "grid_column": null,
            "grid_gap": null,
            "grid_row": null,
            "grid_template_areas": null,
            "grid_template_columns": null,
            "grid_template_rows": null,
            "height": null,
            "justify_content": null,
            "justify_items": null,
            "left": null,
            "margin": null,
            "max_height": null,
            "max_width": null,
            "min_height": null,
            "min_width": null,
            "object_fit": null,
            "object_position": null,
            "order": null,
            "overflow": null,
            "overflow_x": null,
            "overflow_y": null,
            "padding": null,
            "right": null,
            "top": null,
            "visibility": null,
            "width": null
          }
        },
        "9eca404893c944ba833d94e2f1b66907": {
          "model_module": "@jupyter-widgets/base",
          "model_name": "LayoutModel",
          "model_module_version": "1.2.0",
          "state": {
            "_model_module": "@jupyter-widgets/base",
            "_model_module_version": "1.2.0",
            "_model_name": "LayoutModel",
            "_view_count": null,
            "_view_module": "@jupyter-widgets/base",
            "_view_module_version": "1.2.0",
            "_view_name": "LayoutView",
            "align_content": null,
            "align_items": null,
            "align_self": null,
            "border": null,
            "bottom": null,
            "display": null,
            "flex": null,
            "flex_flow": null,
            "grid_area": null,
            "grid_auto_columns": null,
            "grid_auto_flow": null,
            "grid_auto_rows": null,
            "grid_column": null,
            "grid_gap": null,
            "grid_row": null,
            "grid_template_areas": null,
            "grid_template_columns": null,
            "grid_template_rows": null,
            "height": null,
            "justify_content": null,
            "justify_items": null,
            "left": null,
            "margin": null,
            "max_height": null,
            "max_width": null,
            "min_height": null,
            "min_width": null,
            "object_fit": null,
            "object_position": null,
            "order": null,
            "overflow": null,
            "overflow_x": null,
            "overflow_y": null,
            "padding": null,
            "right": null,
            "top": null,
            "visibility": null,
            "width": null
          }
        },
        "198f9a18c18a4425b74d35592a26cb63": {
          "model_module": "@jupyter-widgets/base",
          "model_name": "LayoutModel",
          "model_module_version": "1.2.0",
          "state": {
            "_model_module": "@jupyter-widgets/base",
            "_model_module_version": "1.2.0",
            "_model_name": "LayoutModel",
            "_view_count": null,
            "_view_module": "@jupyter-widgets/base",
            "_view_module_version": "1.2.0",
            "_view_name": "LayoutView",
            "align_content": null,
            "align_items": null,
            "align_self": null,
            "border": null,
            "bottom": null,
            "display": null,
            "flex": null,
            "flex_flow": null,
            "grid_area": null,
            "grid_auto_columns": null,
            "grid_auto_flow": null,
            "grid_auto_rows": null,
            "grid_column": null,
            "grid_gap": null,
            "grid_row": null,
            "grid_template_areas": null,
            "grid_template_columns": null,
            "grid_template_rows": null,
            "height": null,
            "justify_content": null,
            "justify_items": null,
            "left": null,
            "margin": null,
            "max_height": null,
            "max_width": null,
            "min_height": null,
            "min_width": null,
            "object_fit": null,
            "object_position": null,
            "order": null,
            "overflow": null,
            "overflow_x": null,
            "overflow_y": null,
            "padding": null,
            "right": null,
            "top": null,
            "visibility": null,
            "width": null
          }
        }
      }
    }
  },
  "nbformat": 4,
  "nbformat_minor": 0
}