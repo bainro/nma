{
  "cells": [
    {
      "cell_type": "markdown",
      "metadata": {
        "id": "view-in-github",
        "colab_type": "text"
      },
      "source": [
        "<a href=\"https://colab.research.google.com/github/bainro/nma/blob/main/tutorials/W2D3_BiologicalNeuronModels/student/W2D3_Tutorial1.ipynb\" target=\"_parent\"><img src=\"https://colab.research.google.com/assets/colab-badge.svg\" alt=\"Open In Colab\"/></a>"
      ]
    },
    {
      "cell_type": "markdown",
      "metadata": {
        "execution": {},
        "id": "8Z6UDNYhPGn_"
      },
      "source": [
        "# Tutorial 1: The Leaky Integrate-and-Fire (LIF) Neuron Model\n",
        "**Week 2, Day 3: Biological Neuron Models**\n",
        "\n",
        "**By Neuromatch Academy**\n",
        "\n",
        "__Content creators:__ Qinglong Gu, Songtin Li, John Murray, Richard Naud, Arvind Kumar\n",
        "\n",
        "__Content reviewers:__  Maryam Vaziri-Pashkam, Ella Batty, Lorenzo Fontolan, Richard Gao, Matthew Krause, Spiros Chavlis, Michael Waskom, Ethan Cheng\n",
        "\n",
        "**Post-Production Team:** Gagana B, Spiros Chavlis"
      ]
    },
    {
      "cell_type": "markdown",
      "metadata": {
        "execution": {},
        "id": "HPszZc14PGoH"
      },
      "source": [
        "<p align='center'><img src='https://github.com/NeuromatchAcademy/widgets/blob/master/sponsors.png?raw=True'/></p>"
      ]
    },
    {
      "cell_type": "markdown",
      "metadata": {
        "execution": {},
        "id": "wz8SA9JqPGoI"
      },
      "source": [
        "---\n",
        "# Tutorial Objectives\n",
        "\n",
        "*Estimated timing of tutorial: 1 hour, 10 min*\n",
        "\n",
        "This is Tutorial 1 of a series on implementing realistic neuron models. In this tutorial, we will build up a leaky integrate-and-fire (LIF) neuron model and study its dynamics in response to various types of inputs. In particular, we are going to write a few lines of code to:\n",
        "\n",
        "- simulate the LIF neuron model\n",
        "\n",
        "- drive the LIF neuron with external inputs, such as direct currents, Gaussian white noise, and Poisson spike trains, etc.\n",
        "\n",
        "- study how different inputs affect the  LIF neuron's output (firing rate and spike time irregularity)\n",
        "\n",
        "Here, we will especially emphasize identifying conditions (input statistics) under which a neuron can spike at low firing rates and in an irregular manner. The reason for focusing on this is that in most cases, neocortical neurons spike in an irregular manner."
      ]
    },
    {
      "cell_type": "code",
      "execution_count": 1,
      "metadata": {
        "cellView": "form",
        "execution": {},
        "colab": {
          "base_uri": "https://localhost:8080/",
          "height": 501
        },
        "id": "NhbDn1XcPGoJ",
        "outputId": "fcb911bb-2e73-4e73-8270-50a716f59edc"
      },
      "outputs": [
        {
          "output_type": "execute_result",
          "data": {
            "text/plain": [
              "<IPython.lib.display.IFrame at 0x7f846d022890>"
            ],
            "text/html": [
              "\n",
              "        <iframe\n",
              "            width=\"854\"\n",
              "            height=\"480\"\n",
              "            src=\"https://mfr.ca-1.osf.io/render?url=https://osf.io/8djsm/?direct%26mode=render%26action=download%26mode=render\"\n",
              "            frameborder=\"0\"\n",
              "            allowfullscreen\n",
              "        ></iframe>\n",
              "        "
            ]
          },
          "metadata": {},
          "execution_count": 1
        }
      ],
      "source": [
        "# @title Tutorial slides\n",
        "\n",
        "# @markdown These are the slides for the videos in all tutorials today\n",
        "from IPython.display import IFrame\n",
        "IFrame(src=f\"https://mfr.ca-1.osf.io/render?url=https://osf.io/8djsm/?direct%26mode=render%26action=download%26mode=render\", width=854, height=480)"
      ]
    },
    {
      "cell_type": "markdown",
      "metadata": {
        "execution": {},
        "id": "w-pJgPMKPGoL"
      },
      "source": [
        "---\n",
        "# Setup"
      ]
    },
    {
      "cell_type": "code",
      "execution_count": 2,
      "metadata": {
        "cellView": "both",
        "execution": {},
        "id": "bdVeN05MPGoL"
      },
      "outputs": [],
      "source": [
        "# Imports\n",
        "import numpy as np\n",
        "import matplotlib.pyplot as plt"
      ]
    },
    {
      "cell_type": "code",
      "execution_count": 3,
      "metadata": {
        "cellView": "form",
        "execution": {},
        "id": "XNrBgZRbPGoM"
      },
      "outputs": [],
      "source": [
        "# @title Figure Settings\n",
        "import ipywidgets as widgets  # interactive display\n",
        "%config InlineBackend.figure_format = 'retina'\n",
        "# use NMA plot style\n",
        "plt.style.use(\"https://raw.githubusercontent.com/NeuromatchAcademy/course-content/main/nma.mplstyle\")\n",
        "my_layout = widgets.Layout()"
      ]
    },
    {
      "cell_type": "code",
      "execution_count": 4,
      "metadata": {
        "cellView": "form",
        "execution": {},
        "id": "AxSD8XNEPGoN"
      },
      "outputs": [],
      "source": [
        "# @title Plotting Functions\n",
        "\n",
        "def plot_volt_trace(pars, v, sp):\n",
        "  \"\"\"\n",
        "  Plot trajetory of membrane potential for a single neuron\n",
        "\n",
        "  Expects:\n",
        "  pars   : parameter dictionary\n",
        "  v      : volt trajetory\n",
        "  sp     : spike train\n",
        "\n",
        "  Returns:\n",
        "  figure of the membrane potential trajetory for a single neuron\n",
        "  \"\"\"\n",
        "\n",
        "  V_th = pars['V_th']\n",
        "  dt, range_t = pars['dt'], pars['range_t']\n",
        "  if sp.size:\n",
        "    sp_num = (sp / dt).astype(int) - 1\n",
        "    v[sp_num] += 20  # draw nicer spikes\n",
        "\n",
        "  plt.plot(pars['range_t'], v, 'b')\n",
        "  plt.axhline(V_th, 0, 1, color='k', ls='--')\n",
        "  plt.xlabel('Time (ms)')\n",
        "  plt.ylabel('V (mV)')\n",
        "  plt.legend(['Membrane\\npotential', r'Threshold V$_{\\mathrm{th}}$'],\n",
        "             loc=[1.05, 0.75])\n",
        "  plt.ylim([-80, -40])\n",
        "\n",
        "\n",
        "def plot_GWN(pars, I_GWN):\n",
        "  \"\"\"\n",
        "  Args:\n",
        "    pars  : parameter dictionary\n",
        "    I_GWN : Gaussian white noise input\n",
        "\n",
        "  Returns:\n",
        "    figure of the gaussian white noise input\n",
        "  \"\"\"\n",
        "\n",
        "  plt.figure(figsize=(12, 4))\n",
        "  plt.subplot(121)\n",
        "  plt.plot(pars['range_t'][::3], I_GWN[::3], 'b')\n",
        "  plt.xlabel('Time (ms)')\n",
        "  plt.ylabel(r'$I_{GWN}$ (pA)')\n",
        "  plt.subplot(122)\n",
        "  plot_volt_trace(pars, v, sp)\n",
        "  plt.tight_layout()\n",
        "\n",
        "\n",
        "def my_hists(isi1, isi2, cv1, cv2, sigma1, sigma2):\n",
        "  \"\"\"\n",
        "  Args:\n",
        "    isi1 : vector with inter-spike intervals\n",
        "    isi2 : vector with inter-spike intervals\n",
        "    cv1  : coefficient of variation for isi1\n",
        "    cv2  : coefficient of variation for isi2\n",
        "\n",
        "  Returns:\n",
        "    figure with two histograms, isi1, isi2\n",
        "\n",
        "  \"\"\"\n",
        "  plt.figure(figsize=(11, 4))\n",
        "  my_bins = np.linspace(10, 30, 20)\n",
        "  plt.subplot(121)\n",
        "  plt.hist(isi1, bins=my_bins, color='b', alpha=0.5)\n",
        "  plt.xlabel('ISI (ms)')\n",
        "  plt.ylabel('count')\n",
        "  plt.title(r'$\\sigma_{GWN}=$%.1f, CV$_{\\mathrm{isi}}$=%.3f' % (sigma1, cv1))\n",
        "\n",
        "  plt.subplot(122)\n",
        "  plt.hist(isi2, bins=my_bins, color='b', alpha=0.5)\n",
        "  plt.xlabel('ISI (ms)')\n",
        "  plt.ylabel('count')\n",
        "  plt.title(r'$\\sigma_{GWN}=$%.1f, CV$_{\\mathrm{isi}}$=%.3f' % (sigma2, cv2))\n",
        "  plt.tight_layout()\n",
        "  plt.show()"
      ]
    },
    {
      "cell_type": "markdown",
      "metadata": {
        "execution": {},
        "id": "zFIT0LGsPGoQ"
      },
      "source": [
        "---\n",
        "# Section 1: The Leaky Integrate-and-Fire (LIF) model"
      ]
    },
    {
      "cell_type": "code",
      "execution_count": 5,
      "metadata": {
        "cellView": "form",
        "execution": {},
        "colab": {
          "base_uri": "https://localhost:8080/",
          "height": 581,
          "referenced_widgets": [
            "6d85c6bec2924cb39555f011d1522b77",
            "ce94ce7bc4ae4b3e8c6700915c003840",
            "d4815385c0d3456c8ca08137e8c7a8a2",
            "3d6b812a0ead4e2db2850d09ceee0c95",
            "e249583382594000a22be4bfc76624ef",
            "360d95bec20248089aab8d7dc2709de3"
          ]
        },
        "id": "sJ-y_ZAhPGoS",
        "outputId": "4b7b8c6f-2ee5-49f0-c64b-c686ff7be1d3"
      },
      "outputs": [
        {
          "output_type": "display_data",
          "data": {
            "text/plain": [
              "Tab(children=(Output(), Output()), _titles={'0': 'Youtube', '1': 'Bilibili'})"
            ],
            "application/vnd.jupyter.widget-view+json": {
              "version_major": 2,
              "version_minor": 0,
              "model_id": "6d85c6bec2924cb39555f011d1522b77"
            }
          },
          "metadata": {}
        }
      ],
      "source": [
        "# @title Video 1: Reduced Neuron Models\n",
        "from ipywidgets import widgets\n",
        "\n",
        "out2 = widgets.Output()\n",
        "with out2:\n",
        "  from IPython.display import IFrame\n",
        "  class BiliVideo(IFrame):\n",
        "      def __init__(self, id, page=1, width=400, height=300, **kwargs):\n",
        "          self.id=id\n",
        "          src = 'https://player.bilibili.com/player.html?bvid={0}&page={1}'.format(id, page)\n",
        "          super(BiliVideo, self).__init__(src, width, height, **kwargs)\n",
        "\n",
        "  video = BiliVideo(id=\"av456396195\", width=854, height=480, fs=1)\n",
        "  print('Video available at https://www.bilibili.com/video/{0}'.format(video.id))\n",
        "  display(video)\n",
        "\n",
        "out1 = widgets.Output()\n",
        "with out1:\n",
        "  from IPython.display import YouTubeVideo\n",
        "  video = YouTubeVideo(id=\"rSExvwCVRYg\", width=854, height=480, fs=1, rel=0)\n",
        "  print('Video available at https://youtube.com/watch?v=' + video.id)\n",
        "  display(video)\n",
        "\n",
        "out = widgets.Tab([out1, out2])\n",
        "out.set_title(0, 'Youtube')\n",
        "out.set_title(1, 'Bilibili')\n",
        "\n",
        "display(out)"
      ]
    },
    {
      "cell_type": "markdown",
      "metadata": {
        "execution": {},
        "id": "9dbHxrbOPGoS"
      },
      "source": [
        "This video introduces the reduction of a biological neuron to a simple leaky-integrate-fire (LIF) neuron model.\n",
        "\n",
        "<details>\n",
        "<summary> <font color='blue'>Click here for text recap of video </font></summary>\n",
        "\n",
        "Now, it's your turn to implement one of the simplest mathematical model of a neuron: the leaky integrate-and-fire (LIF) model. The basic idea of LIF neuron was proposed in 1907 by Louis Édouard Lapicque, long before we understood the electrophysiology of a neuron (see a translation of [Lapicque's paper](https://pubmed.ncbi.nlm.nih.gov/17968583/) ). More details of the model can be found in the book [**Theoretical neuroscience**](http://www.gatsby.ucl.ac.uk/~dayan/book/) by Peter Dayan and Laurence F. Abbott.\n",
        "\n",
        "The subthreshold membrane potential dynamics of a LIF neuron is described by\n",
        "\n",
        "\\begin{eqnarray}\n",
        "C_m\\frac{dV}{dt} = -g_L(V-E_L) + I,\\quad (1)\n",
        "\\end{eqnarray}\n",
        "\n",
        "where $C_m$ is the membrane capacitance, $V$ is the membrane potential, $g_L$ is the leak conductance ($g_L = 1/R$, the inverse of the leak resistance $R$ mentioned in previous tutorials), $E_L$ is the resting potential, and $I$ is the external input current. \n",
        "\n",
        "Dividing both sides of the above equation by $g_L$ gives\n",
        "\n",
        "\\begin{align}\n",
        "\\tau_m\\frac{dV}{dt} = -(V-E_L) + \\frac{I}{g_L}\\,,\\quad (2)\n",
        "\\end{align}\n",
        "\n",
        "where the $\\tau_m$ is membrane time constant and is defined as $\\tau_m=C_m/g_L$. \n",
        "\n",
        "Note that dividing capacitance by conductance gives units of time! \n",
        "\n",
        "Below, we will use Eqn.(2) to simulate LIF neuron dynamics. \n",
        "\n",
        "If $I$ is sufficiently strong such that $V$ reaches a certain threshold value $V_{\\rm th}$, $V$ is reset to a reset potential $V_{\\rm reset}< V_{\\rm th}$, and voltage is clamped to $V_{\\rm reset}$ for $\\tau_{\\rm ref}$ ms, mimicking the refractoriness of the neuron during an action potential:\n",
        "\n",
        "\\begin{eqnarray}\n",
        "\\mathrm{if}\\quad V(t_{\\text{sp}})\\geq V_{\\rm th}&:& V(t)=V_{\\rm reset} \\text{  for } t\\in(t_{\\text{sp}}, t_{\\text{sp}} + \\tau_{\\text{ref}}]\n",
        "\\end{eqnarray}\n",
        "where $t_{\\rm sp}$ is the spike time when $V(t)$ just exceeded $V_{\\rm th}$.\n",
        "\n",
        "(**Note:** in the lecture slides, $\\theta$ corresponds to the threshold voltage $V_{th}$, and $\\Delta$ corresponds to the refractory time $\\tau_{\\rm ref}$.)\n",
        "\n",
        "</details>\n",
        "\n",
        "Note that you have seen the LIF model before if you looked at the pre-reqs Python or Calculus days!\n",
        "\n",
        "The LIF model captures the facts that a neuron:\n",
        "- performs spatial and temporal integration of synaptic inputs\n",
        "- generates a spike when the voltage reaches a certain threshold\n",
        "- goes refractory during the action potential\n",
        "- has a leaky membrane\n",
        "\n",
        "The LIF model assumes that the spatial and temporal integration of inputs is linear. Also, membrane potential dynamics close to the spike threshold are much slower in LIF neurons than in real neurons."
      ]
    },
    {
      "cell_type": "markdown",
      "metadata": {
        "execution": {},
        "id": "j7NIOASHPGoT"
      },
      "source": [
        "## Coding Exercise 1: Python code to simulate the LIF neuron\n",
        "\n",
        "We now write Python code to calculate our equation for the LIF neuron and simulate the LIF neuron dynamics. We will use the Euler method, which you saw in the linear systems case yesterday  to numerically integrate this equation:\n",
        "\n",
        "\\begin{equation}\n",
        "\\tau_m\\frac{dV}{dt} = -(V-E_L) + \\frac{I}{g_L}\\,\n",
        "\\end{equation}\n",
        "\n",
        "where $V$ is the membrane potential, $g_L$ is the leak conductance, $E_L$ is the resting potential, $I$ is the external input current, and $\\tau_m$ is membrane time constant.\n",
        "\n",
        "The cell below initializes a dictionary that stores parameters of the LIF neuron model and the simulation scheme. You can use `pars=default_pars(T=simulation_time, dt=time_step)` to get the parameters. Note that, `simulation_time` and `time_step` have the unit `ms`. In addition, you can add the value to a new parameter by `pars['New_param'] = value`."
      ]
    },
    {
      "cell_type": "code",
      "execution_count": 6,
      "metadata": {
        "cellView": "form",
        "execution": {},
        "colab": {
          "base_uri": "https://localhost:8080/"
        },
        "id": "HhMheYlsPGoU",
        "outputId": "e77983cc-f243-484b-f968-d367309f5e32"
      },
      "outputs": [
        {
          "output_type": "stream",
          "name": "stdout",
          "text": [
            "{'V_th': -55.0, 'V_reset': -75.0, 'tau_m': 10.0, 'g_L': 10.0, 'V_init': -75.0, 'E_L': -75.0, 'tref': 2.0, 'T': 400.0, 'dt': 0.1, 'range_t': array([0.000e+00, 1.000e-01, 2.000e-01, ..., 3.997e+02, 3.998e+02,\n",
            "       3.999e+02])}\n"
          ]
        }
      ],
      "source": [
        "# @markdown Execute this code to initialize the default parameters\n",
        "\n",
        "\n",
        "def default_pars(**kwargs):\n",
        "  pars = {}\n",
        "\n",
        "  # typical neuron parameters#\n",
        "  pars['V_th'] = -55.     # spike threshold [mV]\n",
        "  pars['V_reset'] = -75.  # reset potential [mV]\n",
        "  pars['tau_m'] = 10.     # membrane time constant [ms]\n",
        "  pars['g_L'] = 10.       # leak conductance [nS]\n",
        "  pars['V_init'] = -75.   # initial potential [mV]\n",
        "  pars['E_L'] = -75.      # leak reversal potential [mV]\n",
        "  pars['tref'] = 2.       # refractory time (ms)\n",
        "\n",
        "  # simulation parameters #\n",
        "  pars['T'] = 400.  # Total duration of simulation [ms]\n",
        "  pars['dt'] = .1   # Simulation time step [ms]\n",
        "\n",
        "  # external parameters if any #\n",
        "  for k in kwargs:\n",
        "    pars[k] = kwargs[k]\n",
        "\n",
        "  pars['range_t'] = np.arange(0, pars['T'], pars['dt'])  # Vector of discretized time points [ms]\n",
        "\n",
        "  return pars\n",
        "\n",
        "\n",
        "pars = default_pars()\n",
        "print(pars)"
      ]
    },
    {
      "cell_type": "markdown",
      "metadata": {
        "execution": {},
        "id": "QSwO3lZFPGoU"
      },
      "source": [
        "Complete the function below to simulate the LIF neuron when receiving external current inputs. You can use `v, sp = run_LIF(pars, Iinj)` to get the membrane potential (`v`) and spike train (`sp`) given the dictionary `pars` and input current `Iinj`. "
      ]
    },
    {
      "cell_type": "code",
      "execution_count": 10,
      "metadata": {
        "cellView": "both",
        "execution": {},
        "colab": {
          "base_uri": "https://localhost:8080/",
          "height": 431
        },
        "id": "s_5XpbkPPGoV",
        "outputId": "b072d14e-4b3c-4b51-efb2-7c7f7956cd6d"
      },
      "outputs": [
        {
          "output_type": "display_data",
          "data": {
            "text/plain": [
              "<Figure size 576x432 with 1 Axes>"
            ],
            "image/png": "[encoded data removed]"
          },
          "metadata": {
            "image/png": {
              "width": 558,
              "height": 414
            },
            "needs_background": "light"
          }
        }
      ],
      "source": [
        "def run_LIF(pars, Iinj, stop=False):\n",
        "  \"\"\"\n",
        "  Simulate the LIF dynamics with external input current\n",
        "\n",
        "  Args:\n",
        "    pars       : parameter dictionary\n",
        "    Iinj       : input current [pA]. The injected current here can be a value\n",
        "                 or an array\n",
        "    stop       : boolean. If True, use a current pulse\n",
        "\n",
        "  Returns:\n",
        "    rec_v      : membrane potential\n",
        "    rec_sp     : spike times\n",
        "  \"\"\"\n",
        "\n",
        "  # Set parameters\n",
        "  V_th, V_reset = pars['V_th'], pars['V_reset']\n",
        "  tau_m, g_L = pars['tau_m'], pars['g_L']\n",
        "  V_init, E_L = pars['V_init'], pars['E_L']\n",
        "  dt, range_t = pars['dt'], pars['range_t']\n",
        "  Lt = range_t.size\n",
        "  tref = pars['tref']\n",
        "\n",
        "  # Initialize voltage\n",
        "  v = np.zeros(Lt)\n",
        "  v[0] = V_init\n",
        "\n",
        "  # Set current time course\n",
        "  Iinj = Iinj * np.ones(Lt)\n",
        "\n",
        "  # If current pulse, set beginning and end to 0\n",
        "  if stop:\n",
        "    Iinj[:int(len(Iinj) / 2) - 1000] = 0\n",
        "    Iinj[int(len(Iinj) / 2) + 1000:] = 0\n",
        "\n",
        "  # Loop over time\n",
        "  rec_spikes = []  # record spike times\n",
        "  tr = 0.  # the count for refractory duration\n",
        "\n",
        "  for it in range(Lt - 1):\n",
        "\n",
        "    if tr > 0:  # check if in refractory period\n",
        "      v[it] = V_reset  # set voltage to reset\n",
        "      tr = tr - 1 # reduce running counter of refractory period\n",
        "\n",
        "    elif v[it] >= V_th:  # if voltage over threshold\n",
        "      rec_spikes.append(it)  # record spike event\n",
        "      v[it] = V_reset  # reset voltage\n",
        "      tr = tref / dt  # set refractory time\n",
        "\n",
        "    ########################################################################\n",
        "    ## TODO for students: compute the membrane potential v, spike train sp #\n",
        "    # Fill out function and remove\n",
        "    # raise NotImplementedError('Student Exercise: calculate the dv/dt and the update step!')\n",
        "    ########################################################################\n",
        "\n",
        "    # Calculate the increment of the membrane potential\n",
        "    dv = (-1 * (v[it] - E_L) + Iinj[it] / g_L) * dt / tau_m\n",
        "\n",
        "    # Update the membrane potential\n",
        "    v[it + 1] = v[it] + dv\n",
        "\n",
        "  # Get spike times in ms\n",
        "  rec_spikes = np.array(rec_spikes) * dt\n",
        "\n",
        "  return v, rec_spikes\n",
        "\n",
        "\n",
        "# Get parameters\n",
        "pars = default_pars(T=500)\n",
        "\n",
        "# Simulate LIF model\n",
        "v, sp = run_LIF(pars, Iinj=100, stop=True)\n",
        "\n",
        "# Visualize\n",
        "plot_volt_trace(pars, v, sp)"
      ]
    },
    {
      "cell_type": "markdown",
      "metadata": {
        "execution": {},
        "id": "t9TkpgPSPGoV"
      },
      "source": [
        "[*Click for solution*](https://github.com/NeuromatchAcademy/course-content/tree/main//tutorials/W2D3_BiologicalNeuronModels/solutions/W2D3_Tutorial1_Solution_60a1e954.py)\n",
        "\n",
        "*Example output:*\n",
        "\n",
        "<img alt='Solution hint' align='left' width=820.0 height=539.0 src=https://raw.githubusercontent.com/NeuromatchAcademy/course-content/main/tutorials/W2D3_BiologicalNeuronModels/static/W2D3_Tutorial1_Solution_60a1e954_0.png>\n",
        "\n"
      ]
    },
    {
      "cell_type": "markdown",
      "metadata": {
        "execution": {},
        "id": "hNXk2kRxPGoW"
      },
      "source": [
        "---\n",
        "# Section 2: Response of an LIF model to different types of input currents\n",
        "\n",
        "*Estimated timing to here from start of tutorial: 20 min*\n",
        "\n",
        "In the following section, we will learn how to inject direct current and white noise to study the response of an LIF neuron."
      ]
    },
    {
      "cell_type": "code",
      "execution_count": 11,
      "metadata": {
        "cellView": "form",
        "execution": {},
        "colab": {
          "base_uri": "https://localhost:8080/",
          "height": 581,
          "referenced_widgets": [
            "3befd8862786456999fb9d0c26fdb3e3",
            "af304ee384314395ab9bc573041febe5",
            "4a659154e1dc4357afe75553b901d781",
            "8d9ac68b99d84d62956d61bfd12a46a2",
            "d16ad753ec1a4553bd0a0c75439194ba",
            "6b20953a314f4c18b230963fe278fb57"
          ]
        },
        "id": "c70aQLAgPGoW",
        "outputId": "022ac65f-b7a6-43fc-ad95-ec455c5f700d"
      },
      "outputs": [
        {
          "output_type": "display_data",
          "data": {
            "text/plain": [
              "Tab(children=(Output(), Output()), _titles={'0': 'Youtube', '1': 'Bilibili'})"
            ],
            "application/vnd.jupyter.widget-view+json": {
              "version_major": 2,
              "version_minor": 0,
              "model_id": "3befd8862786456999fb9d0c26fdb3e3"
            }
          },
          "metadata": {}
        }
      ],
      "source": [
        "# @title Video 2: Response of the LIF neuron to different inputs\n",
        "from ipywidgets import widgets\n",
        "\n",
        "out2 = widgets.Output()\n",
        "with out2:\n",
        "  from IPython.display import IFrame\n",
        "  class BiliVideo(IFrame):\n",
        "      def __init__(self, id, page=1, width=400, height=300, **kwargs):\n",
        "          self.id=id\n",
        "          src = 'https://player.bilibili.com/player.html?bvid={0}&page={1}'.format(id, page)\n",
        "          super(BiliVideo, self).__init__(src, width, height, **kwargs)\n",
        "\n",
        "  video = BiliVideo(id=\"av541417171\", width=854, height=480, fs=1)\n",
        "  print('Video available at https://www.bilibili.com/video/{0}'.format(video.id))\n",
        "  display(video)\n",
        "\n",
        "out1 = widgets.Output()\n",
        "with out1:\n",
        "  from IPython.display import YouTubeVideo\n",
        "  video = YouTubeVideo(id=\"preNGdab7Kk\", width=854, height=480, fs=1, rel=0)\n",
        "  print('Video available at https://youtube.com/watch?v=' + video.id)\n",
        "  display(video)\n",
        "\n",
        "out = widgets.Tab([out1, out2])\n",
        "out.set_title(0, 'Youtube')\n",
        "out.set_title(1, 'Bilibili')\n",
        "\n",
        "display(out)"
      ]
    },
    {
      "cell_type": "markdown",
      "metadata": {
        "execution": {},
        "id": "9uKJvxm3PGoX"
      },
      "source": [
        "## Section 2.1: Direct current (DC)\n",
        "\n",
        "*Estimated timing to here from start of tutorial: 30 min*\n"
      ]
    },
    {
      "cell_type": "markdown",
      "metadata": {
        "execution": {},
        "id": "BZ99LraGPGoX"
      },
      "source": [
        "### Interactive Demo 2.1: Parameter exploration of DC input amplitude \n",
        "Here's an interactive demo that shows how the LIF neuron behavior changes for DC input (constant current) with different amplitudes. We plot the membrane potential of an LIF neuron. You may notice that the neuron generates a spike. But this is just a cosmetic spike only for illustration purposes. In an LIF neuron, we only need to keep track of times when the neuron hits the threshold so the postsynaptic neurons can be informed of the spike. \n",
        "\n",
        "How much DC is needed to reach the threshold (rheobase current)? How does the membrane time constant affect the frequency of the neuron?"
      ]
    },
    {
      "cell_type": "code",
      "execution_count": 12,
      "metadata": {
        "cellView": "form",
        "execution": {},
        "colab": {
          "base_uri": "https://localhost:8080/",
          "height": 495,
          "referenced_widgets": [
            "a5e3710bbd1149c0950a0fc4c0cfcc30",
            "4b60068adf2e4dbc9bb6dba200910bbc",
            "1e2c32088727486fb01f671d746fde20",
            "562f1a6f519f449c8c34a0d1e9546075",
            "255ec5d9356d4999953ce995fa0b6e47",
            "99de4ba3a00f4f0aa75e9522e34f64dc",
            "49e3173606bc4e2b84465672771ecf2b",
            "5bf7eaf13e45451087599912878de6f8",
            "e8d859d8e82746a887b1c2a89dc08b78"
          ]
        },
        "id": "tuNLsZVQPGoX",
        "outputId": "65b7b51a-8b7d-404e-b665-e6a974ae1863"
      },
      "outputs": [
        {
          "output_type": "display_data",
          "data": {
            "text/plain": [
              "interactive(children=(FloatSlider(value=50.0, description='I_dc', layout=Layout(width='450px'), max=300.0, ste…"
            ],
            "application/vnd.jupyter.widget-view+json": {
              "version_major": 2,
              "version_minor": 0,
              "model_id": "a5e3710bbd1149c0950a0fc4c0cfcc30"
            }
          },
          "metadata": {}
        }
      ],
      "source": [
        "# @title\n",
        "# @markdown Make sure you execute this cell to enable the widget!\n",
        "my_layout.width = '450px'\n",
        "@widgets.interact(\n",
        "    I_dc=widgets.FloatSlider(50., min=0., max=300., step=10.,\n",
        "                               layout=my_layout),\n",
        "    tau_m=widgets.FloatSlider(10., min=2., max=20., step=2.,\n",
        "                                layout=my_layout)\n",
        ")\n",
        "\n",
        "def diff_DC(I_dc=200., tau_m=10.):\n",
        "  pars = default_pars(T=100.)\n",
        "  pars['tau_m'] = tau_m\n",
        "  v, sp = run_LIF(pars, Iinj=I_dc)\n",
        "  plot_volt_trace(pars, v, sp)\n",
        "  plt.show()"
      ]
    },
    {
      "cell_type": "markdown",
      "metadata": {
        "execution": {},
        "id": "Uu-qdgaIPGoY"
      },
      "source": [
        "[*Click for solution*](https://github.com/NeuromatchAcademy/course-content/tree/main//tutorials/W2D3_BiologicalNeuronModels/solutions/W2D3_Tutorial1_Solution_1058324c.py)\n",
        "\n"
      ]
    },
    {
      "cell_type": "markdown",
      "metadata": {
        "execution": {},
        "id": "94aqfLwEPGoY"
      },
      "source": [
        "## Section 2.2: Gaussian white noise (GWN) current \n",
        "\n",
        "*Estimated timing to here from start of tutorial: 38 min*\n",
        "\n",
        "Given the noisy nature of neuronal activity _in vivo_, neurons usually receive complex, time-varying inputs.\n",
        "\n",
        "To mimic this, we will now investigate the neuronal response when the LIF neuron receives Gaussian white noise $\\xi(t)$ with mean 0 ($\\mu = 0$) and some standard deviation $\\sigma$.\n",
        "\n",
        "Note that the GWN has zero mean, that is, it describes only the fluctuations of the input received by a neuron. We can thus modify our definition of GWN to have a nonzero mean value $\\mu$ that equals the DC input, since this is the average input into the cell. The cell below defines the modified gaussian white noise currents with nonzero mean $\\mu$."
      ]
    },
    {
      "cell_type": "markdown",
      "metadata": {
        "execution": {},
        "id": "3ib8yrPzPGoY"
      },
      "source": [
        "### Interactive Demo 2.2: LIF neuron Explorer for noisy input\n",
        "\n",
        "\n",
        "The mean of the Gaussian white noise (GWN) is the amplitude of DC. Indeed, when $\\sigma = 0$, GWN is just a DC.\n",
        "\n",
        "So the question arises how does $\\sigma$ of the GWN affect the spiking behavior of the neuron. For instance we may want to know\n",
        "1.  how does the minimum input (i.e., $\\mu$) needed to make a neuron spike change with increase in $\\sigma$\n",
        "2.  how does the spike regularity change with increase in $\\sigma$\n",
        "\n",
        "To get an intuition about these questions you can use the following interactive demo that shows how the LIF neuron behavior changes for noisy input with different amplitudes (the mean $\\mu$) and fluctuation sizes ($\\sigma$). We use a helper function to generate this noisy input current: `my_GWN(pars, mu, sig, myseed=False)`.  Note that fixing the value of the random seed (e.g., `myseed=2020`) will allow you to obtain the same result every time you run this. We then use our `run_LIF` function to simulate the LIF model.\n"
      ]
    },
    {
      "cell_type": "code",
      "execution_count": 13,
      "metadata": {
        "cellView": "form",
        "execution": {},
        "colab": {
          "base_uri": "https://localhost:8080/"
        },
        "id": "7eeEJFq8PGoZ",
        "outputId": "ce17efe2-6c5e-4a34-eaf8-0ed932419742"
      },
      "outputs": [
        {
          "output_type": "stream",
          "name": "stdout",
          "text": [
            "Help on function my_GWN in module __main__:\n",
            "\n",
            "my_GWN(pars, mu, sig, myseed=False)\n",
            "    Function that generates Gaussian white noise input\n",
            "    \n",
            "    Args:\n",
            "      pars       : parameter dictionary\n",
            "      mu         : noise baseline (mean)\n",
            "      sig        : noise amplitute (standard deviation)\n",
            "      myseed     : random seed. int or boolean\n",
            "                   the same seed will give the same\n",
            "                   random number sequence\n",
            "    \n",
            "    Returns:\n",
            "      I          : Gaussian white noise input\n",
            "\n"
          ]
        }
      ],
      "source": [
        "# @markdown Execute to enable helper function `my_GWN`\n",
        "\n",
        "def my_GWN(pars, mu, sig, myseed=False):\n",
        "  \"\"\"\n",
        "  Function that generates Gaussian white noise input\n",
        "\n",
        "  Args:\n",
        "    pars       : parameter dictionary\n",
        "    mu         : noise baseline (mean)\n",
        "    sig        : noise amplitute (standard deviation)\n",
        "    myseed     : random seed. int or boolean\n",
        "                 the same seed will give the same\n",
        "                 random number sequence\n",
        "\n",
        "  Returns:\n",
        "    I          : Gaussian white noise input\n",
        "  \"\"\"\n",
        "\n",
        "  # Retrieve simulation parameters\n",
        "  dt, range_t = pars['dt'], pars['range_t']\n",
        "  Lt = range_t.size\n",
        "\n",
        "  # Set random seed\n",
        "  if myseed:\n",
        "      np.random.seed(seed=myseed)\n",
        "  else:\n",
        "      np.random.seed()\n",
        "\n",
        "  # Generate GWN\n",
        "  # we divide here by 1000 to convert units to sec.\n",
        "  I_gwn = mu + sig * np.random.randn(Lt) / np.sqrt(dt / 1000.)\n",
        "\n",
        "  return I_gwn\n",
        "\n",
        "help(my_GWN)"
      ]
    },
    {
      "cell_type": "code",
      "execution_count": 14,
      "metadata": {
        "cellView": "form",
        "execution": {},
        "colab": {
          "base_uri": "https://localhost:8080/",
          "height": 351,
          "referenced_widgets": [
            "1695a638f9f844c29e507febe483ceb7",
            "3a227c1869c24dbfba7432c0c5c9e214",
            "dc099a8b2b8e4f1390525b563bb33761",
            "c00cf30c7ed746f1b216faa5bad69f6c",
            "a3e7b9869e75457882e6f31874cda899",
            "99de4ba3a00f4f0aa75e9522e34f64dc",
            "f5660d905bc647d4985700ebf08088a8",
            "4beb9d0a14f74dbea1295112819847f7",
            "d0c116a82c9a495793ab44c542a9cbdf"
          ]
        },
        "id": "Qn2u3mxNPGoZ",
        "outputId": "40e610f6-7ab8-47f8-f808-617619928023"
      },
      "outputs": [
        {
          "output_type": "display_data",
          "data": {
            "text/plain": [
              "interactive(children=(FloatSlider(value=200.0, description='mu_gwn', layout=Layout(width='450px'), max=300.0, …"
            ],
            "application/vnd.jupyter.widget-view+json": {
              "version_major": 2,
              "version_minor": 0,
              "model_id": "1695a638f9f844c29e507febe483ceb7"
            }
          },
          "metadata": {}
        }
      ],
      "source": [
        "# @title\n",
        "\n",
        "# @markdown Make sure you execute this cell to enable the widget!\n",
        "\n",
        "my_layout.width = '450px'\n",
        "@widgets.interact(\n",
        "    mu_gwn=widgets.FloatSlider(200., min=100., max=300., step=5.,\n",
        "                               layout=my_layout),\n",
        "    sig_gwn=widgets.FloatSlider(2.5, min=0., max=5., step=.5,\n",
        "                                layout=my_layout)\n",
        ")\n",
        "\n",
        "\n",
        "def diff_GWN_to_LIF(mu_gwn, sig_gwn):\n",
        "  pars = default_pars(T=100.)\n",
        "  I_GWN = my_GWN(pars, mu=mu_gwn, sig=sig_gwn)\n",
        "  v, sp = run_LIF(pars, Iinj=I_GWN)\n",
        "  plt.figure(figsize=(12, 4))\n",
        "  plt.subplot(121)\n",
        "  plt.plot(pars['range_t'][::3], I_GWN[::3], 'b')\n",
        "  plt.xlabel('Time (ms)')\n",
        "  plt.ylabel(r'$I_{GWN}$ (pA)')\n",
        "  plt.subplot(122)\n",
        "  plot_volt_trace(pars, v, sp)\n",
        "  plt.tight_layout()\n",
        "  plt.show()"
      ]
    },
    {
      "cell_type": "markdown",
      "metadata": {
        "execution": {},
        "id": "9f-6HrWPPGoZ"
      },
      "source": [
        "[*Click for solution*](https://github.com/NeuromatchAcademy/course-content/tree/main//tutorials/W2D3_BiologicalNeuronModels/solutions/W2D3_Tutorial1_Solution_2de5d8a9.py)\n",
        "\n"
      ]
    },
    {
      "cell_type": "markdown",
      "metadata": {
        "execution": {},
        "id": "xCX2POHqPGoZ"
      },
      "source": [
        "### Think! 2.2: Analyzing GWN Effects on Spiking\n",
        "- As we increase the input average ($\\mu$) or the input fluctuation ($\\sigma$), the spike count changes. How much can we increase the spike count, and what might be the relationship between GWN mean/std or DC value and spike count? \n",
        "\n",
        "- We have seen above that when we inject DC, the neuron spikes in a regular manner (clock-like), and this regularity is reduced when GWN is injected. The question is, how irregular can we make the neurons spiking by changing the parameters of the GWN? \n",
        "\n",
        "We will see the answers to these questions in the next section but discuss first!\n"
      ]
    },
    {
      "cell_type": "markdown",
      "metadata": {
        "execution": {},
        "id": "smO6kvwwPGoa"
      },
      "source": [
        "---\n",
        "# Section 3: Firing rate and spike time irregularity\n",
        "\n",
        "*Estimated timing to here from start of tutorial: 48 min*\n",
        "\n",
        "When we plot the output firing rate as a function of GWN mean or DC value, it is called the input-output transfer function of the neuron (so simply F-I curve).\n",
        "\n",
        "Spike regularity can be quantified as the **coefficient of variation (CV) of the interspike interval (ISI)**:\n",
        "\n",
        "\\begin{equation}\n",
        "\\text{CV}_{\\text{ISI}} = \\frac{std(\\text{ISI})}{mean(\\text{ISI})}\n",
        "\\end{equation}\n",
        "\n",
        "A Poisson train is an example of high irregularity, in which $\\textbf{CV}_{\\textbf{ISI}} \\textbf{= 1}$. And for a clocklike (regular) process we have $\\textbf{CV}_{\\textbf{ISI}} \\textbf{= 0}$ because of **std(ISI)=0**."
      ]
    },
    {
      "cell_type": "markdown",
      "metadata": {
        "execution": {},
        "id": "lhbN-zIkPGoa"
      },
      "source": [
        "## Interactive Demo 3A: F-I Explorer for different `sig_gwn`\n",
        "\n",
        "How does the F-I curve of the LIF neuron change as we increase the $\\sigma$ of the GWN? We can already expect that the F-I curve will be stochastic and the results will vary from one trial to another. But will there be any other change compared to the F-I curved measured using DC?\n",
        "\n",
        "Here's an interactive demo that shows how the F-I curve of a LIF neuron changes for different levels of fluctuation $\\sigma$.\n"
      ]
    },
    {
      "cell_type": "code",
      "execution_count": 18,
      "metadata": {
        "cellView": "form",
        "execution": {},
        "colab": {
          "base_uri": "https://localhost:8080/",
          "height": 462,
          "referenced_widgets": [
            "a3540d0e36fb4d8ebe767231c482898f",
            "6b58cd54a05a4afdab6320d45378ceb7",
            "d9f0a159179146f8900a6f7a923bb37b",
            "3ad3385273c24b9fb09d157a3ce184eb",
            "99de4ba3a00f4f0aa75e9522e34f64dc",
            "bc4ec9917f49477fa24bc509675ace7d",
            "72ba65fe20d844079d5cdafde0a94dd1"
          ]
        },
        "id": "ehcepvMSPGob",
        "outputId": "e30c0af3-de27-4fc8-bfc7-cdfdf95300f7"
      },
      "outputs": [
        {
          "output_type": "display_data",
          "data": {
            "text/plain": [
              "interactive(children=(FloatSlider(value=3.0, description='sig_gwn', layout=Layout(width='450px'), max=6.0, ste…"
            ],
            "application/vnd.jupyter.widget-view+json": {
              "version_major": 2,
              "version_minor": 0,
              "model_id": "a3540d0e36fb4d8ebe767231c482898f"
            }
          },
          "metadata": {}
        }
      ],
      "source": [
        "# @title\n",
        "\n",
        "# @markdown Make sure you execute this cell to enable the widget!\n",
        "\n",
        "\n",
        "my_layout.width = '450px'\n",
        "@widgets.interact(\n",
        "    sig_gwn=widgets.FloatSlider(3.0, min=0., max=6., step=0.5,\n",
        "                                layout=my_layout)\n",
        ")\n",
        "\n",
        "\n",
        "def diff_std_affect_fI(sig_gwn):\n",
        "  pars = default_pars(T=1000.)\n",
        "  I_mean = np.arange(100., 400., 10.)\n",
        "  spk_count = np.zeros(len(I_mean))\n",
        "  spk_count_dc = np.zeros(len(I_mean))\n",
        "\n",
        "  for idx in range(len(I_mean)):\n",
        "      I_GWN = my_GWN(pars, mu=I_mean[idx], sig=sig_gwn, myseed=2020)\n",
        "      v, rec_spikes = run_LIF(pars, Iinj=I_GWN)\n",
        "      v_dc, rec_sp_dc = run_LIF(pars, Iinj=I_mean[idx])\n",
        "      spk_count[idx] = len(rec_spikes)\n",
        "      spk_count_dc[idx] = len(rec_sp_dc)\n",
        "\n",
        "  # Plot the F-I curve i.e. Output firing rate as a function of input mean.\n",
        "  plt.figure()\n",
        "  plt.plot(I_mean, spk_count, 'k',\n",
        "           label=r'$\\sigma_{\\mathrm{GWN}}=%.2f$' % sig_gwn)\n",
        "  plt.plot(I_mean, spk_count_dc, 'k--', alpha=0.5, lw=4, dashes=(2, 2),\n",
        "           label='DC input')\n",
        "  plt.ylabel('Spike count')\n",
        "  plt.xlabel('Average injected current (pA)')\n",
        "  plt.legend(loc='best')\n",
        "  plt.show()"
      ]
    },
    {
      "cell_type": "markdown",
      "metadata": {
        "execution": {},
        "id": "H1z3UHHNPGob"
      },
      "source": [
        "[*Click for solution*](https://github.com/NeuromatchAcademy/course-content/tree/main//tutorials/W2D3_BiologicalNeuronModels/solutions/W2D3_Tutorial1_Solution_5aa4e3b0.py)\n",
        "\n"
      ]
    },
    {
      "cell_type": "markdown",
      "metadata": {
        "execution": {},
        "id": "Lbs-xHlGPGob"
      },
      "source": [
        "## Coding Exercise 3: Compute $CV_{ISI}$ values\n",
        "\n",
        "As shown above, the F-I curve becomes smoother while increasing the amplitude of the fluctuation ($\\sigma$). In addition, the fluctuation can also change the irregularity of the spikes. Let's investigate the effect of $\\mu=250$ with $\\sigma=0.5$ vs $\\sigma=3$. \n",
        "\n",
        "Fill in the code below to compute ISI, then plot the histogram of the ISI and compute the $CV_{ISI}$. Note that, you can use `np.diff` to calculate ISI."
      ]
    },
    {
      "cell_type": "code",
      "execution_count": 17,
      "metadata": {
        "execution": {},
        "colab": {
          "base_uri": "https://localhost:8080/",
          "height": 286
        },
        "id": "ftOsm3y2PGob",
        "outputId": "8d88a211-dbaa-44f2-cb54-72854243999e"
      },
      "outputs": [
        {
          "output_type": "display_data",
          "data": {
            "text/plain": [
              "<Figure size 792x288 with 2 Axes>"
            ],
            "image/png": "[encoded data removed]"
          },
          "metadata": {
            "image/png": {
              "width": 773,
              "height": 269
            },
            "needs_background": "light"
          }
        }
      ],
      "source": [
        "def isi_cv_LIF(spike_times):\n",
        "  \"\"\"\n",
        "  Calculates the interspike intervals (isi) and\n",
        "  the coefficient of variation (cv) for a given spike_train\n",
        "\n",
        "  Args:\n",
        "    spike_times : (n, ) vector with the spike times (ndarray)\n",
        "\n",
        "  Returns:\n",
        "    isi         : (n-1,) vector with the inter-spike intervals (ms)\n",
        "    cv          : coefficient of variation of isi (float)\n",
        "\n",
        "  \"\"\"\n",
        "  ########################################################################\n",
        "  ## TODO for students: compute the membrane potential v, spike train sp #\n",
        "  # Fill out function and remove\n",
        "  # raise NotImplementedError('Student Exercise: calculate the isi and the cv!')\n",
        "  ########################################################################\n",
        "  if len(spike_times) >= 2:\n",
        "    # Compute isi\n",
        "    isi = np.diff(spike_times)\n",
        "    # Compute cv\n",
        "    cv = isi.std() / isi.mean()\n",
        "  else:\n",
        "    isi = np.nan\n",
        "    cv = np.nan\n",
        "\n",
        "  return isi, cv\n",
        "\n",
        "\n",
        "# Set parameters\n",
        "pars = default_pars(T=1000.)\n",
        "mu_gwn = 250\n",
        "sig_gwn1 = 0.5\n",
        "sig_gwn2 = 3.0\n",
        "\n",
        "# Run LIF model for sigma = 0.5\n",
        "I_GWN1 = my_GWN(pars, mu=mu_gwn, sig=sig_gwn1, myseed=2020)\n",
        "_, sp1 = run_LIF(pars, Iinj=I_GWN1)\n",
        "\n",
        "# Run LIF model for sigma = 3\n",
        "I_GWN2 = my_GWN(pars, mu=mu_gwn, sig=sig_gwn2, myseed=2020)\n",
        "_, sp2 = run_LIF(pars, Iinj=I_GWN2)\n",
        "\n",
        "# Compute ISIs/CV\n",
        "isi1, cv1 = isi_cv_LIF(sp1)\n",
        "isi2, cv2 = isi_cv_LIF(sp2)\n",
        "\n",
        "# Visualize\n",
        "my_hists(isi1, isi2, cv1, cv2, sig_gwn1, sig_gwn2)"
      ]
    },
    {
      "cell_type": "markdown",
      "metadata": {
        "execution": {},
        "id": "bNYdxT-SPGoc"
      },
      "source": [
        "[*Click for solution*](https://github.com/NeuromatchAcademy/course-content/tree/main//tutorials/W2D3_BiologicalNeuronModels/solutions/W2D3_Tutorial1_Solution_27d69c89.py)\n",
        "\n",
        "*Example output:*\n",
        "\n",
        "<img alt='Solution hint' align='left' width=1078.0 height=378.0 src=https://raw.githubusercontent.com/NeuromatchAcademy/course-content/main/tutorials/W2D3_BiologicalNeuronModels/static/W2D3_Tutorial1_Solution_27d69c89_0.png>\n",
        "\n"
      ]
    },
    {
      "cell_type": "markdown",
      "metadata": {
        "execution": {},
        "id": "Zg8H-4pMPGoc"
      },
      "source": [
        "## Interactive Demo 3B: Spike irregularity explorer for different `sig_gwn`\n",
        "\n",
        "In the above illustration, we see that the CV of inter-spike-interval (ISI) distribution depends on $\\sigma$ of GWN. What about the mean of GWN, should that also affect the CV$_{\\rm ISI}$? If yes, how? Does the efficacy of $\\sigma$ in increasing the CV$_{\\rm ISI}$ depend on $\\mu$?\n",
        "\n",
        "In the following interactive demo, you will examine how different levels of fluctuation $\\sigma$ affect the CVs for different average injected currents ($\\mu$).\n",
        "\n",
        "1. Does the standard deviation of the injected current affect the F-I curve in any qualitative manner?\n",
        "2. Why does increasing the mean of GWN reduce the CV$_{\\rm ISI}$?\n",
        "3.  If you plot spike count (or rate) vs. CV$_{\\rm ISI}$, should there be a relationship between the two? Try out yourself."
      ]
    },
    {
      "cell_type": "code",
      "execution_count": 19,
      "metadata": {
        "cellView": "form",
        "execution": {},
        "colab": {
          "base_uri": "https://localhost:8080/",
          "height": 462,
          "referenced_widgets": [
            "571a14e885b643c4973f18f084a95fab",
            "c0ae9a634923404d8c11c9f9669222a5",
            "98558d06518747448f05c7d9910ab35a",
            "49ecb29d32d449238bd8dc3df386e37e",
            "99de4ba3a00f4f0aa75e9522e34f64dc",
            "36aacf12190f4bce8086a4a754934c79",
            "58686f7c02d945b0af46d8b487186d46"
          ]
        },
        "id": "V6AlQ45SPGoc",
        "outputId": "af4c3455-3515-48ea-e1a2-01849e60471b"
      },
      "outputs": [
        {
          "output_type": "display_data",
          "data": {
            "text/plain": [
              "interactive(children=(FloatSlider(value=0.0, description='sig_gwn', layout=Layout(width='450px'), max=10.0, st…"
            ],
            "application/vnd.jupyter.widget-view+json": {
              "version_major": 2,
              "version_minor": 0,
              "model_id": "571a14e885b643c4973f18f084a95fab"
            }
          },
          "metadata": {}
        }
      ],
      "source": [
        "#@title\n",
        "\n",
        "#@markdown Make sure you execute this cell to enable the widget!\n",
        "\n",
        "my_layout.width = '450px'\n",
        "@widgets.interact(\n",
        "    sig_gwn=widgets.FloatSlider(0.0, min=0., max=10.,\n",
        "                                step=0.5, layout=my_layout)\n",
        ")\n",
        "\n",
        "\n",
        "def diff_std_affect_fI(sig_gwn):\n",
        "  pars = default_pars(T=1000.)\n",
        "  I_mean = np.arange(100., 400., 20)\n",
        "  spk_count = np.zeros(len(I_mean))\n",
        "  cv_isi = np.empty(len(I_mean))\n",
        "\n",
        "  for idx in range(len(I_mean)):\n",
        "    I_GWN = my_GWN(pars, mu=I_mean[idx], sig=sig_gwn)\n",
        "    v, rec_spikes = run_LIF(pars, Iinj=I_GWN)\n",
        "    spk_count[idx] = len(rec_spikes)\n",
        "    if len(rec_spikes) > 3:\n",
        "      isi = np.diff(rec_spikes)\n",
        "      cv_isi[idx] = np.std(isi) / np.mean(isi)\n",
        "\n",
        "  # Plot the F-I curve i.e. Output firing rate as a function of input mean.\n",
        "  plt.figure()\n",
        "  plt.plot(I_mean[spk_count > 5], cv_isi[spk_count > 5], 'bo', alpha=0.5)\n",
        "  plt.xlabel('Average injected current (pA)')\n",
        "  plt.ylabel(r'Spike irregularity ($\\mathrm{CV}_\\mathrm{ISI}$)')\n",
        "  plt.ylim(-0.1, 1.5)\n",
        "  plt.grid(True)\n",
        "  plt.show()"
      ]
    },
    {
      "cell_type": "markdown",
      "metadata": {
        "execution": {},
        "id": "t8SKsavPPGod"
      },
      "source": [
        "[*Click for solution*](https://github.com/NeuromatchAcademy/course-content/tree/main//tutorials/W2D3_BiologicalNeuronModels/solutions/W2D3_Tutorial1_Solution_c6f1c4a2.py)\n",
        "\n"
      ]
    },
    {
      "cell_type": "markdown",
      "metadata": {
        "execution": {},
        "id": "NKIAtSkYPGod"
      },
      "source": [
        "---\n",
        "# Summary\n",
        "\n",
        "*Estimated timing of tutorial: 1 hour, 10 min*\n",
        "\n",
        "Congratulations! You've just built a leaky integrate-and-fire (LIF) neuron model from scratch, and studied its dynamics in response to various types of inputs, having:\n",
        "\n",
        "- simulated the LIF neuron model\n",
        "\n",
        "- driven the LIF neuron with external inputs, such as direct current and Gaussian white noise\n",
        "\n",
        "- studied how different inputs affect the  LIF neuron's output (firing rate and spike time irregularity),\n",
        "\n",
        "with a special focus on low rate and irregular firing regime to mimic real cortical neurons. The next tutorial will look at how spiking statistics may be influenced by a neuron's input statistics.\n",
        "\n",
        "If you have extra time, look at the bonus sections below to explore a different type of noise input and learn about extensions to integrate-and-fire models.\n"
      ]
    },
    {
      "cell_type": "markdown",
      "metadata": {
        "execution": {},
        "id": "zlqG4Ca7PGoe"
      },
      "source": [
        "---\n",
        "# Bonus"
      ]
    },
    {
      "cell_type": "markdown",
      "metadata": {
        "execution": {},
        "id": "nZydbw2APGoe"
      },
      "source": [
        "---\n",
        "## Bonus Section 1: Ornstein-Uhlenbeck Process\n",
        "\n",
        "When a neuron receives spiking input, the synaptic current is Shot Noise -- which is a kind of colored noise and the spectrum of the noise determined by the synaptic kernel time constant. That is, a neuron is driven by **colored noise** and not GWN.\n",
        "\n",
        "We can model colored noise using the Ornstein-Uhlenbeck process - filtered white noise. "
      ]
    },
    {
      "cell_type": "markdown",
      "metadata": {
        "execution": {},
        "id": "itURCHxwPGof"
      },
      "source": [
        "We next study if the input current is temporally correlated and is modeled as an Ornstein-Uhlenbeck process $\\eta(t)$, i.e., low-pass filtered GWN with a time constant $\\tau_{\\eta}$: \n",
        "\n",
        "\\begin{equation}\n",
        "\\tau_\\eta \\frac{d}{dt}\\eta(t) = \\mu-\\eta(t) + \\sigma_\\eta\\sqrt{2\\tau_\\eta}\\xi(t)\n",
        "\\end{equation}\n",
        "\n",
        "**Hint:** An OU process as defined above has\n",
        "\n",
        "\\begin{equation}\n",
        "\\mathbb{E}[\\eta(t)]=\\mu\n",
        "\\end{equation}\n",
        "\n",
        "and autocovariance \n",
        "\n",
        "\\begin{equation}\n",
        "[\\eta(t)\\eta(t+\\tau)]=\\sigma_\\eta^2e^{-|t-\\tau|/\\tau_\\eta}\n",
        "\\end{equation}\n",
        "\n",
        "which can be used to check your code. "
      ]
    },
    {
      "cell_type": "code",
      "execution_count": 20,
      "metadata": {
        "cellView": "form",
        "execution": {},
        "colab": {
          "base_uri": "https://localhost:8080/"
        },
        "id": "vAtiqLQRPGof",
        "outputId": "070bbe78-0670-4cbb-cba0-4ede29a82592"
      },
      "outputs": [
        {
          "output_type": "stream",
          "name": "stdout",
          "text": [
            "Help on function my_OU in module __main__:\n",
            "\n",
            "my_OU(pars, mu, sig, myseed=False)\n",
            "    Function that produces Ornstein-Uhlenbeck input\n",
            "    \n",
            "    Args:\n",
            "      pars       : parameter dictionary\n",
            "      sig        : noise amplitute\n",
            "      myseed     : random seed. int or boolean\n",
            "    \n",
            "    Returns:\n",
            "      I_ou       : Ornstein-Uhlenbeck input current\n",
            "\n"
          ]
        }
      ],
      "source": [
        "# @markdown Execute this cell to get helper function `my_OU`\n",
        "\n",
        "\n",
        "def my_OU(pars, mu, sig, myseed=False):\n",
        "  \"\"\"\n",
        "  Function that produces Ornstein-Uhlenbeck input\n",
        "\n",
        "  Args:\n",
        "    pars       : parameter dictionary\n",
        "    sig        : noise amplitute\n",
        "    myseed     : random seed. int or boolean\n",
        "\n",
        "  Returns:\n",
        "    I_ou       : Ornstein-Uhlenbeck input current\n",
        "  \"\"\"\n",
        "\n",
        "  # Retrieve simulation parameters\n",
        "  dt, range_t = pars['dt'], pars['range_t']\n",
        "  Lt = range_t.size\n",
        "  tau_ou = pars['tau_ou']  # [ms]\n",
        "\n",
        "  # set random seed\n",
        "  if myseed:\n",
        "    np.random.seed(seed=myseed)\n",
        "  else:\n",
        "    np.random.seed()\n",
        "\n",
        "  # Initialize\n",
        "  noise = np.random.randn(Lt)\n",
        "  I_ou = np.zeros(Lt)\n",
        "  I_ou[0] = noise[0] * sig\n",
        "\n",
        "  # generate OU\n",
        "  for it in range(Lt-1):\n",
        "    I_ou[it+1] = I_ou[it] + (dt / tau_ou) * (mu - I_ou[it]) + np.sqrt(2 * dt / tau_ou) * sig * noise[it + 1]\n",
        "\n",
        "  return I_ou\n",
        "\n",
        "\n",
        "help(my_OU)"
      ]
    },
    {
      "cell_type": "markdown",
      "metadata": {
        "execution": {},
        "id": "gJ3USZ_XPGof"
      },
      "source": [
        "### Bonus Interactive Demo 1: LIF Explorer with OU input\n",
        "In the following, we will check how a neuron responds to a noisy current that follows the statistics of an OU process.\n",
        "\n",
        "-  How does the OU type input change neuron responsiveness? \n",
        "-  What do you think will happen to the spike pattern and rate if you increased or decreased the time constant of the OU process?"
      ]
    },
    {
      "cell_type": "code",
      "execution_count": 21,
      "metadata": {
        "execution": {},
        "colab": {
          "base_uri": "https://localhost:8080/",
          "height": 383,
          "referenced_widgets": [
            "e20e9376eff04e998339a4230b3f3a92",
            "e36349f8a0794eeebf367784350f7ea7",
            "0a726ff9bf5b4764aaf2c09dd99632f8",
            "a4fa5700261d419d97b43f280e0813e2",
            "2a9c76a9d32c450696e22e005b0f6d7b",
            "7c4940c67bd94420a2e6dd99dd280970",
            "99de4ba3a00f4f0aa75e9522e34f64dc",
            "91a9bffbe4a84a719fddaf0bac64617f",
            "3a370c4188bf4b07b1d2fb4263e1c52f",
            "c0c52cfe09c44290bd49c8c5bfc86ed9",
            "646d1f8f8cd14baca11cba5225e6e3a5"
          ]
        },
        "id": "Nm7lHHYvPGof",
        "outputId": "430137bd-7c3d-40f3-f883-19bf296bb3e7"
      },
      "outputs": [
        {
          "output_type": "display_data",
          "data": {
            "text/plain": [
              "interactive(children=(FloatSlider(value=10.0, description='tau_ou', layout=Layout(width='450px'), max=20.0, mi…"
            ],
            "application/vnd.jupyter.widget-view+json": {
              "version_major": 2,
              "version_minor": 0,
              "model_id": "e20e9376eff04e998339a4230b3f3a92"
            }
          },
          "metadata": {}
        }
      ],
      "source": [
        "# @title\n",
        "\n",
        "# @markdown Remember to enable the widget by running the cell!\n",
        "\n",
        "my_layout.width = '450px'\n",
        "@widgets.interact(\n",
        "  tau_ou=widgets.FloatSlider(10.0, min=5., max=20.,\n",
        "                             step=2.5, layout=my_layout),\n",
        "  sig_ou=widgets.FloatSlider(10.0, min=5., max=40.,\n",
        "                             step=2.5, layout=my_layout),\n",
        "  mu_ou=widgets.FloatSlider(190.0, min=180., max=220.,\n",
        "                            step=2.5, layout=my_layout)\n",
        ")\n",
        "\n",
        "\n",
        "def LIF_with_OU(tau_ou=10., sig_ou=40., mu_ou=200.):\n",
        "  pars = default_pars(T=1000.)\n",
        "  pars['tau_ou'] = tau_ou  # [ms]\n",
        "\n",
        "  I_ou = my_OU(pars, mu_ou, sig_ou)\n",
        "\n",
        "  v, sp = run_LIF(pars, Iinj=I_ou)\n",
        "\n",
        "  plt.figure(figsize=(12, 4))\n",
        "  plt.subplot(121)\n",
        "  plt.plot(pars['range_t'], I_ou, 'b', lw=1.0)\n",
        "  plt.xlabel('Time (ms)')\n",
        "  plt.ylabel(r'$I_{\\mathrm{OU}}$ (pA)')\n",
        "  plt.subplot(122)\n",
        "  plot_volt_trace(pars, v, sp)\n",
        "  plt.tight_layout()\n",
        "  plt.show()"
      ]
    },
    {
      "cell_type": "markdown",
      "metadata": {
        "execution": {},
        "id": "DG4Ei6dKPGog"
      },
      "source": [
        "[*Click for solution*](https://github.com/NeuromatchAcademy/course-content/tree/main//tutorials/W2D3_BiologicalNeuronModels/solutions/W2D3_Tutorial1_Solution_a0f797af.py)\n",
        "\n"
      ]
    },
    {
      "cell_type": "markdown",
      "metadata": {
        "execution": {},
        "id": "JvOWUWi8PGog"
      },
      "source": [
        "---\n",
        "## Bonus Section 2: Generalized Integrate-and-Fire models\n",
        "\n",
        "LIF model is not the only abstraction of real neurons. If you want to learn about more realistic types of neuronal models, watch the Bonus Video!"
      ]
    },
    {
      "cell_type": "code",
      "execution_count": null,
      "metadata": {
        "cellView": "form",
        "execution": {},
        "id": "zWoXaYkUPGog"
      },
      "outputs": [],
      "source": [
        "# @title Video 3 (Bonus): Extensions to Integrate-and-Fire models\n",
        "from ipywidgets import widgets\n",
        "\n",
        "out2 = widgets.Output()\n",
        "with out2:\n",
        "  from IPython.display import IFrame\n",
        "  class BiliVideo(IFrame):\n",
        "      def __init__(self, id, page=1, width=400, height=300, **kwargs):\n",
        "          self.id=id\n",
        "          src = 'https://player.bilibili.com/player.html?bvid={0}&page={1}'.format(id, page)\n",
        "          super(BiliVideo, self).__init__(src, width, height, **kwargs)\n",
        "\n",
        "  video = BiliVideo(id=\"\", width=854, height=480, fs=1)\n",
        "  print('Video available at https://www.bilibili.com/video/{0}'.format(video.id))\n",
        "  display(video)\n",
        "\n",
        "out1 = widgets.Output()\n",
        "with out1:\n",
        "  from IPython.display import YouTubeVideo\n",
        "  video = YouTubeVideo(id=\"G0b6wLhuQxE\", width=854, height=480, fs=1, rel=0)\n",
        "  print('Video available at https://youtube.com/watch?v=' + video.id)\n",
        "  display(video)\n",
        "\n",
        "out = widgets.Tab([out1, out2])\n",
        "out.set_title(0, 'Youtube')\n",
        "out.set_title(1, 'Bilibili')\n",
        "\n",
        "display(out)"
      ]
    }
  ],
  "metadata": {
    "colab": {
      "collapsed_sections": [],
      "name": "W2D3_Tutorial1",
      "provenance": [],
      "toc_visible": true,
      "include_colab_link": true
    },
    "kernel": {
      "display_name": "Python 3",
      "language": "python",
      "name": "python3"
    },
    "kernelspec": {
      "display_name": "Python 3",
      "name": "python3"
    },
    "language_info": {
      "codemirror_mode": {
        "name": "ipython",
        "version": 3
      },
      "file_extension": ".py",
      "mimetype": "text/x-python",
      "name": "python",
      "nbconvert_exporter": "python",
      "pygments_lexer": "ipython3",
      "version": "3.7.13"
    },
    "widgets": {
      "application/vnd.jupyter.widget-state+json": {
        "6d85c6bec2924cb39555f011d1522b77": {
          "model_module": "@jupyter-widgets/controls",
          "model_name": "TabModel",
          "model_module_version": "1.5.0",
          "state": {
            "_dom_classes": [],
            "_model_module": "@jupyter-widgets/controls",
            "_model_module_version": "1.5.0",
            "_model_name": "TabModel",
            "_titles": {
              "0": "Youtube",
              "1": "Bilibili"
            },
            "_view_count": null,
            "_view_module": "@jupyter-widgets/controls",
            "_view_module_version": "1.5.0",
            "_view_name": "TabView",
            "box_style": "",
            "children": [
              "IPY_MODEL_ce94ce7bc4ae4b3e8c6700915c003840",
              "IPY_MODEL_d4815385c0d3456c8ca08137e8c7a8a2"
            ],
            "layout": "IPY_MODEL_3d6b812a0ead4e2db2850d09ceee0c95",
            "selected_index": 0
          }
        },
        "ce94ce7bc4ae4b3e8c6700915c003840": {
          "model_module": "@jupyter-widgets/output",
          "model_name": "OutputModel",
          "model_module_version": "1.0.0",
          "state": {
            "_dom_classes": [],
            "_model_module": "@jupyter-widgets/output",
            "_model_module_version": "1.0.0",
            "_model_name": "OutputModel",
            "_view_count": null,
            "_view_module": "@jupyter-widgets/output",
            "_view_module_version": "1.0.0",
            "_view_name": "OutputView",
            "layout": "IPY_MODEL_e249583382594000a22be4bfc76624ef",
            "msg_id": "",
            "outputs": [
              {
                "output_type": "stream",
                "name": "stdout",
                "text": [
                  "Video available at https://youtube.com/watch?v=rSExvwCVRYg\n"
                ]
              },
              {
                "output_type": "display_data",
                "data": {
                  "text/plain": "<IPython.lib.display.YouTubeVideo at 0x7f846d0f8050>",
                  "text/html": "\n        <iframe\n            width=\"854\"\n            height=\"480\"\n            src=\"https://www.youtube.com/embed/rSExvwCVRYg?fs=1&rel=0\"\n            frameborder=\"0\"\n            allowfullscreen\n        ></iframe>\n        ",
                  "image/jpeg": "/9j/4AAQSkZJRgABAQAAAQABAAD/2wCEAAUDBAkKCAgICAgICAgICAgICAgICQgICAgICAgICAgICAgIChANCAgOCggIDRUNDhERExMTCAsWGBYSGBASExIBBQUFCAcIDwgIDhINDQ0SEhISEhISEhISEhISEhISEhISEhISEhISEhISEhISEhISEhISEhISEhISEhISEhISEv/AABEIAWgB4AMBIgACEQEDEQH/xAAdAAEAAQUBAQEAAAAAAAAAAAAABgMEBQcIAQIJ/8QAWBAAAQQBAQMHBQcRBQYFBAMAAQACAwQFEQYSIQcTFBYxUpIIIkFR0jJTYXGRsdEVGCMzNEJUVXKBk5ShssHi8DZzdLO0JDd1guHxCTVidsIXg6K1Q2SG/8QAGgEBAQEBAQEBAAAAAAAAAAAAAAECAwUEBv/EACwRAQEAAgECBQIFBQEAAAAAAAABAhEDBDESEyFBYTKBBTNRcbEVkaHB8BT/2gAMAwEAAhEDEQA/AOMkREBERAREQEREBERAREQEREBERAREQEREBERAREQEREBERAREQEREBERAREQEREBERAREQEREBERAREQEREBERAREQEREBERAREQEREBERAREQEREBERAREQEREBERAREQEREBERAREQEREBERAREQEREBERAREQEREBERAREQEREBERAREQEREBERAREQEREBERAREQEWf6qT9+HxP8AYTqpP34fE/2EGARZ/qpP34fE/wBhOqk/fh8T/YQYBFn+qk/fh8T/AGE6qT9+HxP9hBgEWf6qT9+HxP8AYTqpP34fE/2EGARZ/qpP34fE/wBhOqk/fh8T/YQYBFn+qk/fh8T/AGE6qT9+HxP9hBgEWf6qT9+HxP8AYTqpP34fE/2EGARZ/qpP34fE/wBhOqk/fh8T/YQYBFn+qk/fh8T/AGE6qT9+HxP9hBgEWf6qT9+HxP8AYTqpP34fE/2EGARZ/qpP34fE/wBhOqk/fh8T/YQYBFn+qk/fh8T/AGE6qT9+HxP9hBgEWf6qT9+HxP8AYTqpP34fE/2EGARZ/qpP34fE/wBhOqk/fh8T/YQYBFn+qk/fh8T/AGE6qT9+HxP9hBgEWf6qT9+HxP8AYTqpP34fE/2EGARZ/qpP34fE/wBhOqk/fh8T/YQYBFn+qk/fh8T/AGE6qT9+HxP9hBgEWf6qT9+HxP8AYTqpP34fE/2EGARZ/qpP34fE/wBhOqk/fh8T/YQYBFn+qk/fh8T/AGE6qT9+HxP9hBgEWf6qT9+HxP8AYTqpP34fE/2EGARZ/qpP34fE/wBhOqk/fh8T/YQYBFn+qk/fh8T/AGE6qT9+HxP9hBgEWf6qT9+HxP8AYTqpP34fE/2EGARZ/qpP34fE/wBhOqk/fh8T/YQYBFn+qk/fh8T/AGE6qT9+HxP9hBgEWf6qT9+HxP8AYTqpP34fE/2EGARZ/qpP34fE/wBhOqk/fh8T/YQYBFn+qk/fh8T/AGE6qT9+HxP9hBM0RFpkREQEREBERAREQEREBERAREQEREBERAREQEREBERAREQEREBERAREQEREBERAREQEREBERAREQEREBERAREQEREBERAREQEREBERARFGpdqwHObzBO6SNec9R07iipKii/W4fg5/S/wAidbh+Dn9L/IhpKEUX63D8HP6X+ROtw/Bz+l/kQ0lCKL9bh+Dn9L/InW4fg5/S/wAiGkoRRfrcPwc/pf5E63D8HP6X+RDSUIov1uH4Of0v8idbh+Dn9L/IhpKEUX63D8HP6X+ROtw/Bz+l/kQ0lCKL9bh+Dn9L/InW4fg5/S/yIaShFF+tw/Bz+l/kTrcPwc/pf5ENJQii/W4fg5/S/wAidbh+Dn9L/IhpKEUX63D8HP6X+ROtw/Bz+l/kQ0lCKL9bh+Dn9L/InW4fg5/S/wAiGkoRRfrcPwc/pf5E63D8HP6X+RDSUIov1uH4Of0v8idbh+Dn9L/IhpKEUX63D8HP6X+ROtw/Bz+l/kQ0lCKL9bh+Dn9L/InW4fg5/S/yIaShFHKe1AfJHHzBG+9jNec103nBuum5x7VI0BERVBERAREQEREBERAREQEREBERAREQEREBERAREQEREALWVv7Y/wDLd+8Vs0LWVv7Y/wDLd+8VKsUkRFFEREBERAW/X+SLtaASK1B2noF2LU/AN4AfKtBLtnywuTLaLK7W4y1galkiLEVIRkIpW1Y6s7b+Re4myXtMbmslY47urtHDQEnRByJt3sdkcRcdQy1OWlbaxsnNybjg+N+obLDLG50c8RLXt32OcNWPGurSBlOVDk1yWDdSZk2QsN+t0qvzMrZtYtQPO3fcu4jgtueXNtxTv3MNjqtuPIWcNTlhyN+HQwzXJxWEkbJG8JC013OO7q0Gct11a4DA+VlsFHiJcE2LIZS/0zFiw45Oy2y6A7zRzVctjbzcPH3PH40Gj0XRmU5JNmdnaNB+2l3Ly5jIQi0MNhRUD6cDxujpL7PB7mvDm74ewFzJGtEgYXmPcsnI/RrYWntRszfs5LA2pOjzC4xrL1GwHuj0n3I2NcwyMcwncboTHoXtka5BHM1yVug2Px21hvNe3IZF9AUOYLXRFjr7edNnnSH69BPm7g+2dvDjrddK7bf7nNm//cU/+Zn1H+TfkfxTNnute1t65Txc8pgx1LHNiN+/I1zwC107XNY1xhm0aQNWxueXtboSGikXQl3kiwGZwmRzGxdzKGxiWunv4bLtrmz0cNe8PrvqjTUshlc1u9IXbhb5rtAY55PfI/DmIclmMxdfjdncPG5121EA6zNI2PnDBWBY8Nc1ha4ndeSZImtY4v1YGnlJuTPYe7m8hHjMa2J1qSOWVomkETN2Fhe/V57DoFvjkv5Ldg9osm2lisntHTkjbM+SnfbSbLbhijAE9GzHFIyPR5a5zJRvODnaNaGlQzkF5P4bm20+D6dkqUEEuWiZaoTsr3tymZWs1m5st84MG9o0a6nsQagzeOkq2rNScATVZ5q0wad5olgkdFIGuHuhvNPFWa2bspyW2cxtZbwFKZ32K/fbPdtEyviqVbL45bc+7pz0x80aDd3pJWjVoJI2DtXslybY27Jh7eS2ot2oJDDbv0hQNStPH5ssWj4d4gOBBDGS6HUb3A6Bzii2Fyd4jZmS5knZzKX6uNrF3QG0oBJeyAdK8RtBfE5kDhE0OJe1o1cBqDoDsqxyV7LZfZzM5rZS1moLeBhE9ujmOiO5yBrJJXSf7K07jnxwzlrg8jWAtLG67yDX/IryTuztXPWW3m0/qHR6aWGuZ+k/Y7UnNhwlZzX3NpvaO932cOOs1075En/lW33/AAEf6bKLmJAREQEREBERBd4f7pr/AN/F/mNWx1rjD/dNf+/i/wAxq2OrEoiIqgiIgIiICIiAiIgIrea6xp0JJPZwGo+f9qqRSh3YdT6vSpuLpURERBERUEREBERAREQEREBERAC1lb+2P/Ld+8Vs0LWVv7Y/8t37xUqxSREUUREQEREBdf8AlybbZnHbXYxuIyWQqOOGpyNgqTTCKWc5HJtG/VaTHYc4MY3de128GgEFcgLfx8rva38IoD4qUX8SgmPlqYVkuA2W2hvVI6G0V+KKLJwsjEEk5dTZNI+xC4b7ZYZGtbo7zmCxuO13W6e+WxcZBldirErS+KDG1ppGgal0cViF72geklrSFzvyjcoGVzdhtrMXpbksbSyIOEcUULCQS2GCFrY49SBqWtBdujUnRXXKfyk5LOOpPyb4XmhW6LX5mJsOkWoOjt33TuA4oNzf+IZQlO0GOyTQZKF3D121LLfOhkdFNYfJGx44Ehk8MnxTtKu8RVfR5GsoL2sJzOaglxjJNQ6WPpOMcNxr9CA5uOuyjTtaN7sOq1tyeeUNtBiqTMbHLUv0IgBXrZOs22ysBroIX7zZA0a8GucWt0AaBx1jfKtypZfPzxzZa1zrYA4Vq0TGw1awdpvc1Cz746DV7i5xAA10AADb+23+5zZv/wBxT/5mfWT5ddbvJfsbdpB0lXHvjq3eba4iCdkEtN0k4A+xt5+FzA52gJsR6Hz266FyPKLkJsBU2bkfCcXStuuwMETRMJ3m0SXTdrm625uHwj1LI8kvLBmcBzzMZZZ0Wyd6xRtRixTlfu7nOGJ3GOQtDQXMLS4MaHahoADdXkDsNWLarM2g6PF1cXzc8zwRE+RnOWXsaSNJJGRRnVo1I5+PvjVyJ4+TKcle1OHxsYmyUOSjuPqRavsTwtfjLTHCJoLnSPZQssY0Al7qwA4lam5UuXbO5uo3H25q9bHBzXuoY6AVK0rmO32GYBznytDtHBjnFu81rtN5oIv/ACZtmNprVi9d2TvxVL2PjgEsT7DYX247Jm3Y2wzRugssaYCS2bRoJjI46EBsfyFeTrLw7SNylvHWaVKvVtQumuxPq87PNGWshrsmaHTv0a9x3QQ0RnUgloNr5Ln+9G7/AIraH9+wtqcnp2nx1mTajlGysdenjKlplGg6bH781uZobvxVsbpBJMYudY3iZCZdOA1XIOyPKRfxualz1AxR3ZZLcn2WMTRjpheZRuu7fdnQoOhvJEykEPKRtJBKWNlu/VuGsXHRz5Y8rHZfCwekmKCV/wAUC5p5QdmbuPy1zHX45umw2ZI3l7X79gukO5Yj3uMjJQQ9rhrvB4I11VlPtBaOQflGTPhvPtvvCeAmF8dl8pmMkRYdYyHuJGnYt0Q+VttSIWRufjJZ2M3W3ZKLDa7NC7zXCIO+KPT4EFTyeeTbGuwm0O1Gco2MmzBF8UWGZJLW5yxDGyWV9t0f2RkTOcj19DWsmLmv03Vs3ka2o+qWyPKDPDs7jMHTZhZWVpMZUnhFwihlTMyxakeW25IBzZ80N3eknUeeFzxyactecwt27eo2Y3vyUrp78NmJslazM975DM6Jm7zcgdI86xlvutOzgpNX8qLaluQdeNqtIw131hjX1wMYyJ5a47taNzSZN5uvOOcXaEt13fNQTDyJP/Ktvv8AgI/02UXMSn2zPK1lKMmdkp9Eh6wiZuQjbXZzQZM6wXMrM7K7B0qUADsG76lAUBERAREQEREF3h/umv8A38X+Y1bHWuMP901/7+L/ADGrY6sSiIiqCIiAiIgIiIKVmw1g1cdPQB6SfUFZWMkNzeAHbwB473q7PmVPaOEjddoS4t0aBqdNeOmg++PDh8S3Nyc8lrYoIZbjN+09jXOaRvCDVo+xs9G963fBwXz83POObr6un6e8l9GjXCw//wDik07S0tO7r3tdOB7e31q4q880t32Pbp2OAO98BB9fArrCDZuu0ac031aaD9vrX07ZSo8t3q8fA6jQAen1L4b+IfD0P6d6fV/hy5HM4aE6kffA6gg6akj06cVeafAuksvyfULETon12RkjzZI/New+sEdvxFaB2xwb8Zb6FZcXNcDJVn7Gyxa6aHuvadAR8IPAEL6eDqpn6Pj6jpLx+veMUi9e3QrxfZHxCIiqCIiAiIgIiICIiAFrK39sf+W794rZoWsrf2x/5bv3ipVikiIorK4PZy/cZPJRoXbjKrQ+y+pWnsMrscHua+d0LCIWkRyHV2n2t3qKxS63/wDD6zsOPo7Z5GzvdHpQYizPuDeeIYhl3yua375wYHHT06aLXHldclUeHyUeSxgY/AZsdLx8kGjq8EkjWyyVWPZ5vNEPEsWmgMb9Brzbig1BlMFcrxVp7VO1WguMMlOaeCaGK1G0MJkrSSNDZ2ASRnVhI89vrCxy6P8AKr/snyZ/8Ftf6bCKNbE8gjpsZVy+dzmN2apZDjjRf8+zdZoDzzYC9m5AQ5hDt4khwdoGuYXBpVFPOWjkuu7P24YLUkFqtch6Tj8hUcX1blckaPjcRweA5hc3jpzjSC4Oa41eVLkvmw2P2eyE1qGwzaHHjIQxxse11dhgpz83KXcHu0uNGo7hQa+RbHfyTzjZJu1vS4ejuudD6HuSc9vc8Yd/nPc6ajXRZ7kx8nrJZvCNzGPs1iX3+g9Fl34+ba10fPWprHFsdeNj3SHgXERkNDnFrSGmkWzNvuSgVsnjcThctS2mt5FugGKdC9kNjnHMMD3tne1oDW75e8sAbq46AEqev8mavFMzHXNs9n6ucfuMGLLy7dnlAMMD5nSNc2R+9Ho3mtTvt0DtRqHOyKR8o+xV/C5GfF5OHmbMOhBad+KeJ/GKxXk00kheBwPAghzXBrmuaN15ryT7tO29uRzmKx+JihhfLmbjjXrmed0zW1II5nN56cCJjjq5o0lboSeCDnFX2CxFq3O2vRq2bllwc5sFSGWxO4MG85zYoWlxAAJJA4ALYHLtyOWtnnUZTcrZPG5OIy0MlT+1Tta2N5DmguDCWyse0tc5r2uBBOjg2U+Qf/bWj/hch/pJEGmNocfcr2HwZCC1WtsDOchuRyw2GhzGvj345wHtBY5pGo4ggr3Z/BXLspgx9O1enDDIYacE1mURtLWukMcLXODAXNBOmnnD1rpzy88RFchwe1lQDmrkcmKubpBEdqs+Z8cbiB50rXMvxOP/APUaFIvIDwsVCm/NWmaWM9kmYPF6jzjFWhmu23scNdI3GvJrr99QA9IQccZGlLBLJBYilgnhe6OaGZjopYpGHR0ckbwHMeCCCCAQrdbP5ZsHav7c5uhQgfZt2s9dhggj03nvdZk9LiGsYAC4vcQ1rWuJIAJU6f5M1eKZmOubZ7P1c4/cYMWXl2k8oBhrvmdI1zZH70ejea1O+3QO1Goc7IpJyjbE38NkpsXk4OatQkEbp34p4n/ap68gH2WF47D2ghzXBrmuaNtxeTZ0atWftBtPhdnr9yITVsbdeDMGO4NNqQyMFfztQSA9o0I11BADWG0vJvkqWIx2ctRRNx+Udu05GzRvked17/Piad5nBju1Q9db+Vbs/PjtgNkMdaMTp6lt0L3wPEsMmkFktlhkHu4ntLXAkA6OGoB1A1Pybch0l3GNzmWy+P2dw80pgqWsgd6W5KC4EVq+8zfZ9jl47wP2JxDSAXANQKYbQ8nGSp4bH56zFE3HZR5jqSNmY+RzgJT58QO8waQv7fUPWsvy18kdvAupzGzWyeLyUfO4/K0nb1awAAXMcNTzcoa5rhxc1zXAtcSHhu1+XD/dbsR/i3f5d9BzCi3TsByCmziIM7ms7jtncdde6Og66DJPaLHPa54hL4wyM824t84khpdoG7pdAuVTZOvi74qVctRzULoI523ce9r4fsheDE7de7cmbucW66jeCCJoiILvD/dNf+/i/wAxq2OtcYf7pr/38X+Y1bHViUREVQREQEREBAi9aeIJ7PT/AEFKrKbA4sT5SrvjfZHIJnajVriw+YwAjiNdD+b5en4B8Ho/7rS3IPihLNYsuA3YXbo4AauPZp/XpW3bmarVzu2JmRuI1DXHQ6dmp4cF4vVZeLPU9nt9HjMePd913M8a/wBfnXsUo9fasbDnKsn2uaJ4Pdc0kfIVWM8YOocNPh07fSviuNejLLPRmqp1HHj6v6K1X5TeGbLjIren2SnZjIcO3mpvsUrfi1Mbv/thbMo2Gbvuh+cj9ijPLHDzmFu6AENiMnoI0bx1C7cFuOcvy4dRJlhZ8OY6kjvcPIJb2OHY5vwK4VKtFo3Xh6NPj0OunwfSVVXv4dn5vLuIiLbIiIgIiICIiAiIgBayt/bH/lu/eK2aFrK39sf+W794qVYpIiKK6P8AJU/snymf8Fq/6bNrO+TFtFV2jwVzk/zcoEnNPsbP25NHyQviDpeaj1Ic58Dt6RrQfOhdYZq1rQDpnkr5UDiMTtLixRFobRUoqZnM5h6Hzcd2PnBHzTuf16Zru7zPtfbx4QbBZWepar3KkroLVWaOeCZmm9HLE4OY4Agg6EdhBB7CCEHSflpYWejgOT7H2mhtmljsjUna07zRLXiw8T9133zNWkg+kELZnla39koLOGbn8XmrkJxgGLlxk0MdJsDZNHxNa6ww88GmuSdNN2SHjwOnOflH8uMm1LMSJccyhJjG2w90dh1hth9sU99zWOiaYGg1SQ3ef9s014anI7G8vcX1GgwG02Cr7R42oGMovfYkp3acTWlgjjssY5xa1mjG7hjcGjdLiNAAqeUPyq4PLYbB4nDUclXGEdJHDJkOjuc2m+JrOZbLHO9zjrFD2gDSJvqWe8rv+zXJp/7bb/oMKtY8qm3GHvVq1TDbMVsDHXmfK6dtqS9cstc3cayWxNG1+4Pdbpc7ip9s75Q9E4XGYraDZWln5MLE2DG2ZrAhDIWNjjZHJGa8nARxRNdod2TmY95uo3kEjv1pI+RiDnI3x85mBLHvtLd+N12Tdkbr2sOh0Pp0TZi7LFyM5QwyviMmY5mQxuLC6GW1RZLES3juPaS1w9IcQdQSFDOU7yjLOZ2flwdrGwROkux2I7Febm4K1eBw6PSgpCHzY2Rhrd7nOOhOnFRqlyslmxtjZHoAIsXm3fqh0jQs0mgl5vovM+d9o03ucHuuzhxCcf8Ah+RwnbAGYNMjMXedV3tNROTAxxZr2O5h1gcPQXLTXKY+Z2bzDrOvSDlcgZ973XPG3MZdfh395W2xe0tvGZCrk6Epht05RLC/TUa6Fr2Pb9/G9jnsc30te4elbytcvuz9i4zM39hKdjOtMb32WZKeKnNOwfdElEwOjc/e0PniRx0Gr9QCgznl/t1GyMk4H1Rfh5BdJ0506dFcwP8AToJn29NfSX/Crf8A8RrJTu2joVHTSGtDiIZ4oCTzTJp7Vxk0rW9m+5sEIJ7dI2+paO5WuUG9n8nLlMk5hme1sUUUQLYa1eMuMdeFriSIwXvdxJJdI8niVnPKI5UztLlosoaIx/NUYqXMCx0rURTWJuc5zmY9Nekabu79528eAbY8ok68m+wRPHgB+YVXgD5APkUV8g/+2tH/AAuQ/wBJIovyh8rRyWzmB2f6AK4wnZb6Rzps/YnR/aOZbzPbr7tyxfITyhnZ/NQZgVBe5mKxF0czdG3ufidFvc7zUmmm9rpunXT0IOiOTZjtoNm9utkvOlvY/JXcpiI9Yw9xdblnZXhL9A0G1BIxznaaDJdo9GZhsx0duNgtjqr2mDZylObZjJayXKX8bZmsSPjHAuLd2UOPEG7IOGp15f2H5U8hic3bzmL5qGxbNsPimaZ4uZtzCd0Thq3f3XtjIPDjGD8CrbG8qlmrtVHtXchF+2LVm3NDzhrtkfZhmh3GSbj+ajYJQGjdOgjaEHQXINHCeV3aMyhpkZLnXVd7TUTm1GxxZr2O5h1gcPQXLlzlLfM7NZh1nXpDspkDPve65425jLr8O/vLLZDlItjaafaegOg3JMjPkIYw/nhEZ3vL4HvLW89GWSPjd5o3mucNBqtp2uX3Z+xdZmb2wlOxnWmN77LMlPFTmnYPumSiYHRufvaHzxI46DV+oBQbV8oCrDLtXyYG9oLsrqQvbwaZHuZaovgil1B1Y6y6y3Q9960X5b0sztuMuJi/dYzHtrh2u6IPqdVdpHr94ZHSk6ffOf6dVB+UrlLyWYzH1btzCO4x0XRRX3o46TK7zJBHWBcSxrHlz9SSS5znE6lbiyflM46/HXsZ3YrF5bL1oWwtvSzMbDLu751lrPqvJiDnb3NF7m6ySabmqC+8oBjhyZbChwcDzjTo4EHddWsuYeP3paQQfUQp/wAt1zZaHZrYk5zHZe9QOIiGOfi5GxQxE0seXizzk0Z557Awt3tT5k3p3loLlt5erG0WIx2Ot0Y4Z6VqS1Jbjm1jnMjZWiKOrzI6PExsga0b7zpGNSe1ffJny7mpiDs9ncPW2jwrX79avZlNexTcS4nmLIjeQ0b8hboGvbzjgHhp3QGT5Z+VXZ65srj9msDQy1SPHZPpsJyBryNEcjb5nj51k73kmW7vAaacO3gFI+XD/dbsR/i3f5d9as5UNucFboR0MHsrBg9y2yy6667NkLszGxTx9HMtiPfjhLpg8t33DWFnqGn3tvysm/svhNmugCEYaUy9N6RzhsatsN3ej8y3mvt/bvu9z8PANgcm/Kzs7kMDR2W21qWWwY5zhjszTLzJVa4ShvPRwjfBjY8MG6yZrwI96PVm+YP5SXJGNnbtUV7gv4zJwOtY615ge6JpbvRybh3Xua2SIiRujXiQEBvEDKbPcq2zfQaFbLbDVL9rH14om3q9+XHyXHwNDY3XI68A57UDiZHSdgG6R2Rnl25VrW0V2GxNXhpVKcArUKFc70VWDUEjf3W78h0aCQ1o0jYA0aINdoiILvD/AHTX/v4v8xq2OtcYf7pr/wB/F/mNWx1YlERFUEREBERAV7RxU8sNieOKR8NZm9NI1pLWakAAnTt0OpHoAJVktuckZgFCZ873CBkM0bo26kSWJ5XDR8YcOcJgY1uh9BXz9Ry+XjvW/V9fR9PObO4261LV5yB6/Uu2/wBduTR3Zruxs14/GVgdsL9VrpxLvzvjAfMW77ms3iGtDnek6kDh6/SdVtLZTDMgoMhhaWskknsBu7uFjLEr5Yoy0HgWxOjZ6fcLF57ZwOYWczC4HiWvaNO0E8QOPEa/IvIvLPHbe1etjw5eCY/o1ZstdhdMwxxGMP0LXNLuI3i3XQgcNQfR6Dx4Kd7YQyVqzHvmdo4u7O0k6H8y9wOybI5Gvdze8PMYyNgAjZrr2/CfnUr2mxjLNfmHaAOYWg+ga+bx0Uyy3dzs+jj4bMPlpfFzMml3ZL8jH66iN03uteIHN9uvwaaqekTMw+The8SwNo2JYn6hwDebcSGkdrfmIKw+N2CY2w908BdJuOjJDgQ6Ms5slof/AOg6at19fapzT2fa3GZCs3eDZqdtjA4l5aXwyaAudxdxPp1K3lnNzV2+by8pLuac1VHfYmD4Br8YA7Pg4lfazVrZ0wY6tYl5xk8uknNuADOjOJYxw472+XDXiNNHBYVezxZTKejxOXjywusprc39qIiLo5CIiAiIgIiICIiAFrK39sf+W794rZoWsrf2x/5bv3ipVikiIooiIgIiICIiAiKXcmPKFewk89jHtqOksQiCTpdaK0zcD2yea2UaNdq0cQgiKLsTL8sOTj5P6G0TYMV9UrG0L8dI846qYuitq3ZQ0RbugdvQR+d29q0rSr5XbbJ25ZJMbXs4vBz23lsHRIX1KU4c5jWVo3b1gvunznAcG6a8Ag1KimPJzyfWctBmZ601eJuExdjK2BOZA6WCuxz3xwc2xwMpDDpvFo7OK2pyaciuMv7F3MxPlcZVyBuwxw2rNyaKpjYueijfXyDGRENtSDfLR5w0ni4jVBz0i2RsHyQW8nPlDFdxtfFYeV0d3O2p3RYvdEpjY6vJub07pGjfY0NGoczeLC9utblD5HZ6GNGao5LHZ3D8+Ks17GSPealghpbHdge0Or72+zQ6n3bNd3fZvBrFFujZzyer1jG4zNWMrh8diMhDNM+9dsOhZT5uVkMUEokYOcszFzyxrCRpBJq4HdDvn6kZCLYbMczLh7GGr7UGs+w2OZ2TmtRw1Gslqzj7F9T3s5pwB87zn+sINMq5xlCaxKyCtDNYnk1EcMEb5pXlrS4hkcYLnaNaTwHYCtp7B8i8V6Gk+fajZ6hZyLY+hY+WxJLcL5XFkUdqONmlV7zu7oJcTvjh6FIPJv2VtYnlLxuKvta21Ss3opebdvxuBxVt8ckbtATG+N7HjUA6PGoB1ADQ08TmOcx7XMexxY9jwWuY5p0c1zTxa4EEEH1L4Ui5Tv8AzvM/8VyP+rmUdQEREBERAREQEREF3h/umv8A38X+Y1bHWuMP901/7+L/ADGrY6sSiIiqCIiAiIgLZXIvA2aO5XdJubktazr2nhzjAQ0jRzddARw92Drw0OtVf4DMT1JhPWfuSAFp1Ac17CQSx7Twc0kA/mBXHn4/MwuMfT0nP5PJM/b3+7qmS4SwOduhxEYIbqW724Gu3dQCW7wOnD1KP5i+Q0g9vHQDtPZpp+1Yjkvzc13Hy2J90yR3S3RgLWhjY4HgAEnvO+VZbNhzXAsjc/fJLiwB0m76GtBI4cRwC8PPG45eGvf4eaWbx7VZ0LTWGPnnc25xLY2kO0cPdEucBoD6NT/FZCxk4gGtMukjnubGNC7ePutDujgPjWLvXqwO6+bmyNQA9hY74SGyEEpi5IG671iI8QQdCGjQeaSSOB7flXTXpp9UyvfTLYnJAuIc08DxY7tb8Wqkdh7ZK84a8Rl0Mjd8gERkxuAdx7dNexRVj4pZ2tjcx7uAMsR10du6+6HBw7NRx7fQVdZjPVaEXPW3lkckojYAwybzmtc7TcAOuu64/IuPhty1O7hycmPv6NT8s2Te/orZeE0teNz26Bu6yOWYtO4B5u+XtP8A9la3Wc27zvTr89prTHG47sLDpq2NupG9p985xe8/C8rBr3uDj8GExfnus5/N5blO3aftBERdnyiIiAiIgIiICIiAFrK39sf+W794rZoWsrf2x/5bv3ipVikiIooiIgIiICIiAiIg6A2i/wB0eJ/94Sf6LJr3yGIXSZjPQRjelsbJ5aGFmoBklfYx+6xuva46H5CtHSZy46mzHuuWnUI5jYjounlNNlgtc0zsrF3Ntm3XvG+Bro93HiV84HL2admK5SsTVLUDi6GxXkdFNGS0tduvYQQC1zmkekOIPAlB0r5OWwGUoYHbq9kqU+PisbK5atXjusdWs2Hx1JnzSR1pQJOYj1jBkIDdZmAF2jt3D8leOmtcl+1danDLastzWPmNeux00/NB+P1kEUYLi0COQkgcBG89jStO5jlFzdmWeazmcnLJZrOp2CblgCam/XfqSMa8NdVdvO1i03TvHUcSrPY7bHJ4uV82KyFuhJI0NlNaZ8QlaNd1srWndkA3iRvA6E6jRBvTk8xli7yZ7RYijDLJlKO0MN27j42vdcfV5unEHGvpv+bJXl1aBw6K70rzk2xVjFcn22k+ZgmqQZaTG0cXVuRvgksXYnSvfNXgnDS8ASRv32g8KMvbzZ00TiNrMjWuvyVXIXK9+V8kktyGxLHYldK/nJjLK129KHv4uDtQ49uqqbY7ZZPKSMlyuRuX3xgiLpU8krYg4NDhCxx3Yg7cbrugaloJ1KDcHL9O8bEcnEYe4Rvq5t7ow4hjnxz0mxvc3XQuaJZACeIEjvWV7s7/ALpMt/7vi/0WNWkMhm7c8NatYt2p69JsjadeaeWWGo2UtMra0T3FsDXFjCQwDXdbr2JHnLjab8e25abQkmFiSi2eUU32A1rRO+sHc26bdYwb5GujG8eAQdS43k1q4iTZOOjstY2kt5SDHZKxnny5B+PqOnlY97K8VF7IWthZuy85MfcuYTqCdMpcpys5cInyRSMZNIHwvc1zWSsbszuOdE4jR7Q5rmkjXQtI7QuXIuUHMtxxxLcvkW40hzDSFqcV+beCHQ82HadHOp1i9wSSdNeK+sjyiZuaxUtTZnJPtUInQ0rPS7DbFWN7Sx4hma8OY57CWucDq4cCSgo8p3/neZ/4rkP9XMo6qtqw+SR8sr3ySyPdJJJI4vkkkeS573vcSXPLiSSeJJKpICIiAiIgIiICIiC7w/3TX/v4v8xq2OtcYb7pr/38X+Y1bHViUREVQREQEREBERBt3yebDjHkYu1jXVpdNNdHPEzHO+SNvyLaNsgbju30ej5Vq7ybW6uyg/8ART+e0tjW5CNQ4cB2H1fR2rxeqx3y2ft/D2Oly1xy/wDd3zlpA6M6Na7h2OaHA/GCFbYWnATq+vXaNdRpFH7OuuqsLN4anU66fm1/69n7VWp22vAaHacOOjtSOHbqeIK5+VlJ6V93nzXdIYnsc9zm6AN8wacAR8HwLS3LxnOdtxUWAiOk3efrw3p52Mdrp6Q2PcGv/rct1YWMOII9wOOnbvOAHDj6FzlyozF+ZyLi0tJskbrtN5u4xjADoSNQG+grv0OM8y/Eed1ud8H71G0RF67yhERAREQEREBERAREQF8cy3uN8I+hfaIqnzLO43wj6FNuRLYOHNZePGSyurMfBYm52KON7wYWtIbuv4aHVQ1bi8jn+1df/BXv3GKDZ31olD8b2/1aqn1olD8b2/1aqulkUVzT9aJQ/G9v9Wqp9aJQ/G9v9WqrpZEHNP1olD8b2/1aqn1olD8b2/1aqulkQc0/WiUPxvb/AFaqn1olD8b2/wBWqrpZEHNP1olD8b2/1aqn1olD8b2/1aquiMTmalkztqW61p1WZ9ayK80Uxr2IyRJBOI3HmpmkEFjtCNOxXyDmn60Sh+N7f6tVT60Sh+N7f6tVXSyIOafrRKH43t/q1VPrRKH43t/q1VdLIg5p+tEofje3+rVU+tEofje3+rVV0RiszVsunbVtVrLqsz69lteaKZ1exGS2SCcRuJhmaQQWO0IIPBXyDmn60Sh+N7f6tVT60Sh+N7f6tVXSyIOafrRKH43t/q1VPrRKH43t/q1VdLIg5p+tEofje3+rVU+tEofje3+rVV0siDmn60Sh+N7f6tVT60Sh+N7f6tVXRORzFWCSCKxarwS2n81VjmmiiksyjTWOBj3AzP8AOb5rdTxCvUHNP1olD8b2/wBWqp9aJQ/G9v8AVqq6WRByFyqeTZSxeHvZSPI2J304myNikr12seXSxx6Oc3iBo8nh6lzlzLO43wj6F+gflNf2TzX+Hj/1MC4AVSvgRN7rfkC+0RVBERAREQEReOOnbwQeorWW60cBq4+oL1s5Pwejh6/Tx+RWSm26/JmHnZV3qbSb2jXUm0Rw/MfkW1JIRq4ka6/F+383BaY8mLJAXMnUcRvTVak8Y9J6NJYZNp6/uqL5FvF5Hb6+C8TrPTmv2/h6/SflT7/yh2a2eY77JFrG/UcAfNPwAH3J+LRfWE2eib58oLncPNJIGvbxHp7ew6rP32akBpA4gu+L4Vc82NOGh49vb2D1rhc7ru7+GL/Gwgbug/ormHlfhLM9lGHt6Q1+nHsmginZ29vmyNXUdEDQA/0Fy/5QF9sm0V/c4cyypCT6TIyuxzjr/wA4b/yL6fw78yz4/wBx8vXfRL8okitm2ezX+j8f/RVmyD1hezcbHl7faLwFeqAiIgIiICIiAiIgIiIC3F5HP9q6/wDgr37jFp1bi8jn+1df/BXv3GKK7kREUUXP3l0yyDCYVkcs0PPbUY6CR0Ej4XuilqZJr2b8ZBAP8AugVzt5fEHOYLCR774+c2qxrN+J25Izfp5Ju/G7Q7rxrqD6CAgiflDbJHZQYbL7M5PLR3p8vXpfUqfIWLdfIxyRzPcwwTOc6TzmRRnUlv2ZvY7dJ3D5R1nGsgwX1Vmy0LH7RY9lQ4l0DHyXXMsczHc5/wB1QID98N87UN09K03tHsxFsjtdiMxl57udwd5ooRZbN2H3ruDyLiXtlL3BsfNkM3g/dDg3pBHGP7JPfLMcDU2TIIIO2WGII4ggxXNCD6Qg2XyqcpOMwNWO1lJ3M5+QxVa0LDNbtygamOvC33RGo1c4taN5oJBc3XFcnXKs3KXDTOz+0+JdzL52T5nGdCrSNjdG0sjm552sv2QHd07AePBau5bdGcp2w8uQMYxbqtplUzac0MoBdDd3e4c7z8mJ3fTvc38C6WQcocjPKZRw1zbSOeO5evW9tMx0TF4uubuSsMjldzkkddrhpE0dr3Fo4EDUjRb65IuUyhn6s9mi21BJUsPqXKV6IQXKk7CfMnia9wGoGoIcexwOjmuaNYeSTjYPqrt7c5lnSnbW5OsZ9NZOjssSyiEOPuY997nEDtOmuug0t+QG7HW2p5UbEmrYa92hZk3Rro1jMtLK4NHa4hpPwoJNtB5RFCrzspwe1M2PgeWTZeHEOGMYA8xulFiaVhdCHDi4N04jTXUAzraPlBoVME7aMulsYwVYLrX1mb0stewYxE5kcrmaEiVhLXFpHHXiNFo/ObX7Q7QbG5zONlw+KwdjF5jo9J1axeyVirXitVpmz2zZjirzvfDI1pZG7d1adD6fraH/AHNM/wCAUP8AUV0G0dieWXH5TIx0MbUylmN8POSZRlUfUmvMIRO6lNdEmnS2ghpawObvHTeOh0xmX5fcdHetU6eM2gzLKEvMZC9hsa69QpSgkSxzTNkDi6PQl2413AO03tCFI+TymK+yeNioRNidHga7q8cQ0+zOotkDuHF0jpXFxcdSXOJOpJWv/IQkr9SaRhMfOMtZHppaW6tsdJe5vPadj+jGqeP3pZ6NEFn5GuShtT7b3KsglrW9rL9mvKA5olgne+WKQB4BAcx7ToQDxWB8tc5d2Z2RiwM00eR3c3brxwvc3npMfFTuiMxjzZ3lsD2tjcCHF26eDipD5HtuKa1tzPXkjmrzbXZGWCWJzXxSwySSPikiew6PjcwtII4EELI8sn9veTv/AP0v/wCtiQSTk95R6+f2UmytfSOU0bcVyBrtXVL0Vd3PQ6667vFr2E8SySM8CdBhfJ22kZU5P8Tkrz55GQ1JpJXNbLasSE3p42NYxur5ZHOc1oA9YWuOVyu/Y7PW8xXY/qztXFPUysETd5tDLSRSmK0xg4hrnOkk0GvB1oAcIgs3yd8orNnuS/D5V0HSpBEa9aAvETJLE96y1nOSkHm4mgPcTp95pw11QTPFeUBQdfpUL2H2kwpyUwrUbWZxhp1LM7nBkcTH865wc5zmaat0G+0uLQVM9suUCnjslhcXZZZdZz0tmGk6FjHRMfVEBk6Q50jSxulhmm6Hdjuz08/eUbW2hEGyc2eu4d+/tXiNKOLp2YhBPpOd4XbNp7p42t3mkc23UvadeGhl3lHPA2y5NS4gD6o5dupOg1czFtaPjLiB8ZQbU2/2+p4qbEwW2WHvzOSr4qpzDI3tbZsvaxjpy+Ru5CC4alu8eB4FW/Knyl4/CR1jcFmxavSmGhjsfCbWQvSjd3m1q4cN7d326kkDV7Rrq4A6r8rDM1vq5sBj+fjN3rXi7ZrA6ytrC3DCJntH2tjpDutLtN4sfpruO0+9opWf/VvEttEaDZeb6mh583pLprvPGIHgJjCLIJHEtaPgQRflN5Ra2W2k2DhbTymMu1M6ZJ8fmKUlG2yGbmWw2GtJcyWB7oZQHMedNziBqNerVz75S1yE7VcnlcSRmy3NSTGEOaZmQvNVjZHMHFsbnscATwJjdprunToJAREQa48pr+yea/w8f+pgXAC7/wDKa/snmv8ADx/6mBcAKxKIiKoIiIC+C/8ArsVRvzcVYg6jX16n5TqtY47ZuT7lscdB2evsVrPMXcB/1+Vfbm+tfB4dnaV0mMibUwN3sHnEdvq/6r7gk00aWnh6dQR6zr6QdUbHp28TqNfl4r0NV0m1qzIz17cNivPJXmZvbksTixzTw9I7QeAIPAjgdVtbZHlyuRDcyFdl1mn26IivYHwloHNyn4gxamyDfssXZx3v/iqprgdnD4jp+xcuTgw5Pqm3bDlyw+m6b4byy457tXx2oR6Q6Pe/N9hc7VZT/wCtmIY06NtzEDg2Ovu6/AXTPaB8fFc6c0e9r8YB/b+ZBCdPdafEAF81/D+K/r/d2/8AZyfDb+e5e7R3hj6cUGuuktomZwHwQxlrWns7XOHwLUrsjNZlntWZDNNPK98kjg0bztdOAYAAB2aADsVNsTQCT53o4neHyL3GgbvZw3nfJqV34uDj4/omnHk5cs/qqrJ8PZpwJ0HH418h+navt8ILgSNT6NdTp6PNHoXzI3UfEu7krQy/Crpsw9Py+hY2FyuApcdrtftGo1Gh9f8AR7UVjvEDt9B+ZXzTq0O+X+H9fAueWOllERFlRERAREQEREBbi8jn+1df/BXv3GLTq3B5HjwNqq5cQB0K9xJAHuGekqK7mRUelR++R+Nv0p0qP3yPxt+lRVZRblK2Co5qvWrZFsroql6HIQ8zIYnCzAyaOMucB5zNJ3+b8SkfSo/fI/G36U6VH75H42/SgxW3eylPLY+zjMjCJ6lpgbIzUtc0tcHxyRvHFkjHta4OHpb+ZRy7yS4yXG4jFTG5LUwdutcx+/YcZY5KgkbWjfLprJDGyQsDT2Na0ehTjpUfvkfjb9KdKj98j8bfpQRzlM5P8ZnKXQctVFiEPEkbg50c0EoBAlhmYQ6N2hIPoIOhBHBYTk95IqOLtMuMvZrIWIopIIXZXIz3WwRS7u+yGIhrGcGtGu7roFPulR++R+Nv0p0qP3yPxt+lBH9hthqWLkyctJsrXZbITZO5zkhkDrVhxdI6MEeYzU+5VLZfk+x9G7mb9eOQz56SKXIiZ5likMInDGsjcNGM0sSgj06hSXpUfvkfjb9KdKj98j8bfpQajwnk3bO13yNDMhPQfI6ZmHs37E2IilcNOcbT1HOP7NDK5+m609oBWZwfIxjK+Bt7N8/k7OLtvLjHatmWSvGZGS9HqPDB0euHxg7oHa55JJcSth9Kj98j8bfpTpUfvkfjb9KClhcfHWrV6kO9zNWCGvFvHedzcMbY2bzvvnbrRxWp8r5Nuz012zbDcjWivPMl/G0789XG3XucXuM8EWjg0lz/ADWPa0b50AW3elR++R+Nv0p0qP3yPxt+lBGuTzk9x2HOQ+pkToG5K5JesR72sTZpCdWwRgAQwgHQMHAAAK4z+xVO3k8Vl52ym5hul9Cc2Qtjb02JsM/ORgaSasaNNexZ3pUfvkfjb9KdKj98j8bfpQYvbjZenlcfZxmRhE9S3HuSs13XDRweySNw4slY9rXtcOwtCj03JLh37PM2YlryS4mNu7Gx80nPxls7rLJGWGkOEjZHEg9hGrSC0kGa9Kj98j8bfpTpUfvkfjb9KDT0vk14CSk+pZky1yXdjZXyNy/JYv0GQva+NmPke3mqjBugaNj4jQHXQaSnbvkmxuWxlLGZF96b6nmJ9TIm0/6qRTxR82LJuEEyzuHFxeHBzgHEataROOlR++R+Nv0p0qP3yPxt+lBq/F+T/gIXU5hFbmuU8lWy3T7NqSe9ZuVN3o5t2JNTLCwNAEQ3WcSdNSSs7ys8leLzzK4yMczJ6bzJTu05TXuVXktJMMoBHaxh0cHAFoI0I1Uz6VH75H42/SnSo/fI/G36UGsMHyA4GtPRtsjuS3qN1uQF+zaknuWrLGsZGbk7+M0bGxgNjG60bzyBq4k7VVHpUfvkfjb9KdKj98j8bfpQVkVHpUfvkfjb9KdKj98j8bfpQa+8pr+yea/w8f8AqYFwAu+/KXsMOymaAewno8fAOaT90wegFcCKxKIiKoIiIPiV3BWsJ1aPiVW6/Q8FZ1ZOOnq1+dd5NTTn3VJF4xq8PaqrGqo+ZW6DX1fw/or1o4lfb28NF5H2A+sfwCIxuUGjoT6nH/4q7cP6+QKhlx7j4z/D6Fc7vAfEo3OzzTh2/wBfSvCF96f0V8gKj4I9S8x480/lOGvb6Tr8yqHQAn1L4xX2oH1l/wC1xKgqxg68Tr+wrxrfN+MKo/TR3xHT49NB869h7ACqysyNCqgcqliNWwKNLknh+z5eCvoHa8OPH5/QsY93Z8Y+cK7pv0IPapUq6RfUzN1xHb6QfWCAQfkK+VwdBERAREQEREBfL2AjQgEeogEftX0iCl0aP3tnhb9CdGj97Z4W/QqqIKXRo/e2eFv0J0aP3tnhb9CqogpdGj97Z4W/QnRo/e2eFv0KqiCl0aP3tnhb9CdGj97Z4W/QqqIKXRo/e2eFv0J0aP3tnhb9CqogpdGj97Z4W/QnRo/e2eFv0KqiCl0aP3tnhb9CdGj97Z4W/QqqIKXRo/e2eFv0J0aP3tnhb9CqogpdGj97Z4W/QnRo/e2eFv0KqiCl0aP3tnhb9CdGj97Z4W/QqqIKXRo/e2eFv0J0aP3tnhb9CqogpdGj97Z4W/QnRo/e2eFv0KqiCl0aP3tnhb9CdGj97Z4W/QqqIKbYGA6hjAR6Q0A/LoqiIgIiIC+ou3U9gBcfzDgPl0XyviZ+jT6zoPza6/wCuPdL2WVmTUn41Z0n/ZXD4/k0P8Qq03rVlj3f7Rp62O/Zp9JXZllGM4q5avIwNF6qy8eviuOA+DUfISqhVOL0/AT+3QoLXJjUN+M/MvuMeaOI7F85I8GflgfKHL7b2AI1HgHD+v4r1unZw1+Bea+peg+j+vz+v/sg8sHzD8ITGt0jA+P5yvZvc6dnw9i+6TfMahX1MOHxkD+P8F61vBfUg9z8v8B/FfTgjL5c3ULHTcHceAKyTPlVtdh3gdO35iixaWXaNb+V/AlXVJ6xtlx3Wgjjv6fsKuaz9NFFZ2Qnh6QANPiOpHzn5F8KmJPcHvN3D/ykEfOPkKqLln3ax7CIiyoiIgIiICIiAiIgIiICIiAiIgIiICIiAiIgIiICIiAiIgIiICIiAiIgIiICIiArS4fkV2rLIHTTt1IB+X1reE9UyWUrlZUD/tI/u3/wCuZHDQq1x/3SPhjePmP8F1Rm43KoTp8KotXu8jCuHL4Z7p3w6H+Cpgr1p874wR/H+BQijlPcD4HA/OF608Bx4ej6Uyf2s8PS351ThPmj+viRpVavW9vxr5Hr/r4l6w/1og8mPD9n8e1Vqh81v5IVpaf5pV3XHmt+IfMgqH3fxAft1KOeqQcN4/GRpx9A09HxftX0WD4UTT1rlSkc4H0ftX2x44cB/Xwry12AorE5qch7G/8APwGnrbw+Dt+RfcDvSrTMP1nZ/dj8+r3qvCVn3VmIHasI9I0cPzdv/wCJJ/MrxYzFyaOGvZrx+I8D+xZJvYPTwHH1/CsZrHqIiwoiIgIs/sPs6y/LbhNyOpJXx16/A18Mk7rj6MLp31ImxkFsjoo53b3nECF2jXdgtsDsxkbjOco43IXY+P2WpUs2YgW8COdhjLd4H0a68EGJRXGRozQSmGzBPWnaA50NmKSvM0EkAuimaHAEg8SPQVboCIiAiIgIiICIiAiIgIiaoCIrirQnkZNJFBPLHXYJLEkUUkkdeNx3WyTvY0iFhPAOcQNUFuiIgIiICIiAiIgIiICIiAiIgIiIGmvD18Fjcg/VxPo9HxDsWQkfoNfkWItes/IumDN7rSV/qVtUd/tUXw7w+Vj/AOOiqzHsVtUP+1Q/lj5nfStqkJK80QhetKrOgIHcWn4f2dnzL0qlJ2IPvJD7G/8AN84VrU9yFd3DrET62En49OP7dVZ1uwfP+b0Iulz8XycP69S9aPV/H414zsI9fw/GvBw1/wC5RFvdfqP67FkIewfEsVad6Oz5Pg0WVJ0afRw+fh/FRVKE+n1nX5VXJ1VvGFXaVUU3jRVIyHNLT6fn9C+HO9BXsfbqEGEzDCJIwRpoH/JqNP4/KvGPVbaR3nxn07rvnborGNyy1OzK0n+lZqM8P69PH+KwFR/Zr6Vm6p4f1/XpWc+xFZERc1EREG++SDb3olajlc3Lj7tWgGYLEUq9OlNnqr9GA2GyBrJYqTapka7V7jISwbu84F9ly+7WMdcy1WYZ/G5SlbhrY+tHkA7CmnFJ91tqsZG6sZq27I0N39TJF5wAcFDNha0drCZ+jHUrS5KAU8tUm5kOvuq1ZdzJw15vdAMidHKI28XB0/A8NIiZLN20zeknu3LcsMLHzSvmnsTSFkEDDNM4l7iTGwbx7N0dgRU22K2tfefBg89PLdx9uRtetbsOM97D253ble5UtSayGDnHRtkhe4sLNdANCHQXNUJatizVnAE9SeetM0a6CWvI+KQNJHFu8w6H0jRbR2c5LsiaVxrMLfZtHi8tjpGOsFkdCSlK2Tgwy/YLQjnr7z3NcRuTMIJAc1RDljsMmzN+ePI1MsbBZLJdo13VKkszoWB7YIXSSasaWgb4e/f4u1JJQS7O8lOOx5pOzG0kVOK/SrWoGxY6zasb8rSZucihkIhqxkx6TOOshLwGt3CTjrnI/dZtA7AtsV3htYZB2RdrHWZjN3V96Rm8SwB32PcBPnkDe3Tvit5Td2Ge7iXV5op2t2WxUbnQvZK1sgkvuMZLCQH7r2Hd7dHt9a2lkttqFfaoc7dqx1clsbUxgv8A2GzWqWXvnmhdZDt6Mw7um814Lfske95pJRGn7uwmPmpX7eDzn1WfioBZvVpcfPjpDU3i2S7UdNI4TRM7XMOjmt0JOpa12J5QtjjjYMPMbAsfVbEV8puiLmujmdocYNd93OhoLfP83Xj5oWydoos7VoZB93M7KVIJ6Fqtu4+LDm1lY5o9H06Yp0mylko4b5LN3zXEDTVvztls+3O4jZu1RyeIgZjMJBjMmL91lV9GasyNjnyRuaXOjOkhHYSAwt3g/UFYWryMufnaGEGRG9dwkeY6R0UkRmRs46MIjON/z4ftm83g/wBzw42uO5K4LNuLHUM7Vt3YmzTZhzatmPHYqtXa3n5m5CQht8NlcIxzYbvFwJ3AHEbcrZugNu8PNFfqvps2QhhZaM0TIyR0+RrXuLtI5TEWv3DoQHDgtM+Tzm6kD8ljshYZSr5vCWcX02TzY6k8se7G+Zx4MiIdIC4kAEM10BJAXEnJtQs1bs2AzzcvYxtd1q1Skx9nHzS1ozpLYpGZ7ufa3uAa8W8dXNDvqHkypRYrE5nKZ5lCnk45nc2yhYuWmyxyaRxQRQPJmYYw575SGhhDG6PLxpJuT3BdWXZDL5a/invdirVLH0qFxl2a/YsuhLXMaxoLareabq9w4CTUhu7xjPKlchfszsRDFNFJJXp5dkzGPY98TjYpNaJWNOsZJjfpvaa7rvUiL7PckmPx80X1W2mrVqV1scmLsQUbNmW3BIxjjZngjfu0a7DIwb7nuDuJG7odMe3kcufV+5g5LMEUdCubtrKSNcKseP5tkgtGPe1DjvhvNlw0cyTzt1pevfKKuxTVtmRBNFMY9k8fHIIntkMcm48GN4YTuSag+aePBbU2v2lx0u020OOlyFaCvn9nK2NhyPOMkqwWuYlMTZ5WO3WRubYJJJA81g+/CDXOz/JRjsibjsPtIy3HRpT2Z2zY2zUsh8bdYebinkAlrSODwZAdYyGAtdvgjO1NlsE7YqN783FGx2da9+W+olySaOw6gA7Gcw13PPja0l3Oh3Nkjs1V3yNbIjC28rLlcph47EuByEFatWvxWHSRuMUs1iR2jRFGOYjDA7Rz9+Q7o5sqOcn9VmT2PnwVe3SgykGcZkmV7tiOp0iqaccBdA+Tg9zXl+o9G4NdN5uoYbGcnVOPH1snnM03FVsg6b6mQx0Z79y5BEQDbdBE8GvX4tdx14SR8QXNBm3JPszAyrtrQrZehbqzYXHPblW78NWKKU5B0j7cbtXV5Imte58eriAG+k6Czz2GbtBiMAzH3sbFkMFROJyFC5birP0g5qKO3WfqWT138yXb7SQRI3jq0hW+x1GvjcdttRdlMdckfg6IElOcPgfZc+62WpXkfu9KfG58TS5g01laNAdQAjmW5PKT8Rcy2FzgyzMY+BuRgkx9jHSxMsO3I7ELbDyXxak8CBwjk46tLVrpbP5J70Mezm20ck0Uck9LEthY+RjHzOFi4CImOOshBkZru66b7fWtYICIiAiIgIiICIiAiIgIiICIiD5m0DSe066AafKfmWCuu9fyBZXITkN3fz+o+rT9iws2p/r+K6zsz7reRyo1PumH8sfMUmcvMa7/AGiL8v8AgU91qR6IFU00CoPK2y93l8uC9AX04Io7jE4eoOHyjUKxrH+v4fMrz71w9Y+lWFd3Z+1Fi+9Hp/h+1eH4F6w/18ui8ePnRFjb90PjCy0h80D16fsH/ZYayfOHr1Hz/Ass48R+SD8v/ZZncr4BVUDgqT+1VYStI8KRqo5qpByDEbS+7iPra4f/AJD6VYxngsntO3zInep7mn/mbvD9z9qxTFj3bjJVjwCzNB3DT8/8PkWErOWXxzxqQfVwVs9EZBERcVEREF3hsnPVsQ26kz69qvIJYJ4yA+N4BGo1BBBaXNLXAtc1zmkEEgzKXanCWnc/kMHPVuFwkksYG82lDPLrqX9AtQSx1XE6EmFwBJJ0BUCRBv8A5KeVx4snEUG1sRTtQZF7b+ayNrIzRZHocj6lqa1be2GOIzRRB0DYt0mRxBLj52n9rdo23I6bBjcVRlqtnZNPjKsdMXnSvY5sk8cIDNWBmjd0AfZH6aAhowCIrwBAF6iI8DR6AAhaO3Qar1EHmg9S9REHgaB2AD4k0XqIM1itk8hYrm1XpyywDniHt5sOl5hu9OYInOElrcHujE127oddNFTbsxe6GcgKkvQhG6YzeYPsDZOadYEW9zjqwk80zBu4CCC7gVO+TvabF1W4mSaWOGSqLjLokxrr9x0lmS02OanckJbRpthngLmQBku9DP5shl3lg8lfx0tevM69dZYrYKrhjRqxOhfO+pXbSLjbfrH9TJ4mmV8ThvkyPZu8d5BhMpsdkK0LZrFCaKNz4o+xjnslnaXwRzQRuMleV4B3WSNa52nAFZDKcn9+Cn0izXljmdkqmMhqCNs0k81qC7KWtdDI7dsxuqMjNct39bLNd3gHTobcYqvJanrvhlacthsnVqx4t9ed8GMyJsurXslM581zIGKQfZJXui3oXuD9ZN0YvZrabF4x0LobdnJaZ+DJSA1HwFtP6m5ig92k79JMgx2Qje4cGOLGAPPEtCG2Nick2eGq6hM6ewyeSvHHzc/PNqsc+yInwucySSNrSXMBLm6tBALgDVv7CZWGKSeWhK2GGF1h0ofA9hgjbvyzwmOQ9IiY3i90W8GDXe3VKRtdTgjjqwzV3Rtr555fjsZ9S6rbOQwc2LqBsTtZpJ3PLOckO6xrREBv7pcsZhtpqsbsQXueG0tn85jptIyd21kOsHMNYPvmH6o1dXDgNXa+5RUXtYC3HJajkrSMkoxMmttdu/7PFI6Bkb3nXTdcbNcDQnXnW6arHLY+22R3MFjWSRzQ5LKVqcd9szCx0mOwMlqti592TR+7YbJAd8jzvqU0gkEa64RBERAREQEREBERAREQEREBERBYZEt11dx4dnxcOPyLDWrGvBo0H7flWZzMO84doBY3s4DXdAPH4wsBYljbwHnH4Oz/AKrtOwtnqphxrYjPqJPyAj+KtZZtf+ivtnRq95P3rQPEfoaVJPUqSSj0KjuqtJ6PhC+AFth4F8r6cvkFB56f69Tliq54gLMMb2n1D+BWGrlS3TUZOM/1+ZevOo1/7f12KjGV5IeH9a/OirOx7sfGPnWXb2n8w+QaLCzO4/Bqs8W6E/GkSqcoXxE/0L7kVIKsrtrgvl7V5GVV3UGLz7PsB+B7D+0t/wDksA1yk2db/s0vwNB+R7VFI+Px/Cs1uMjBMFmsYQSC0/Boo7CSODmlZvERjfaW/nB9CQrOIvXdp/ivFxBFDOtc/ch8L/bTrXP3IfC/21F0maKGda5+5D4X+2nWufuQ+F/toaTNFDOtc/ch8L/bTrXP3IfC/wBtDSZooZ1rn7kPhf7ada5+5D4X+2hpM0UM61z9yHwv9tOtc/ch8L/bQ0maKGda5+5D4X+2nWufuQ+F/toaTNFDOtc/ch8L/bTrXP3IfC/20NJmihnWufuQ+F/tp1rn7kPhf7aGkzRQzrXP3IfC/wBtOtc/ch8L/bQ0maKGda5+5D4X+2nWufuQ+F/toaTRxJOpJJ4DUnU6ABoGp9AAA+IBeKGda5+5D4X+2nWufuQ+F/toaTNFDOtc/ch8L/bTrXP3IfC/20NJmihnWufuQ+F/tp1rn7kPhf7aGkzRQzrXP3IfC/2061z9yHwv9tDSZooZ1rn7kPhf7ada5+5D4X+2hpM0UM61z9yHwv8AbTrXP3IfC/20NJmihnWufuQ+F/tp1rn7kPhf7aGkzQlQzrXP3IfC/wBtOtc/ch8L/bQ0kmVk1c4NHA69uoHH8yxM1R26fNG8ezdafl10Vj1rn7kPhf7ada5+5D4X+2t+M0ozwP103JD69GO01+DgsxgK7mxlxaQXOPAgg6DQdhHwH5VjetdjuQ+F/tp1rn7kPhf7aeM0lQHDsTc9OiivWufuQ+F/tp1rn7kPhf7avmJ4Ulew+o/t0XjmeoH5FG+tc/ch8L/bTrXP3IfC/wBtPMPCkkTiGyHQnzCR8YBWJghdp7l3yH6FY9a5+5D4X+2nWux3IfC/21LyLIzETXd0/IV7K06cGnX4lhutc/ch8L/bTrXP3IfC/wBtPGaXNiJ3dce370/QpH2tadDxaD+fQKJ9a5+5D4X+2nWufuQ+F/tpOTRZtJpG/AfkVHcOvYfkKj/WufuQ+F/tp1qn7kPhf7avmJ4UnY0+oqozX+vQop1rn7kPhf7adap+5D4X+2nmHhSm3DvRSNP3zHD19o4cPSooamhIdE/XUjVodpwOnDhoQvrrXP3IfC/20612O5D4X+2peRdLquw6aFjyPQXNOo/YspjXaHsIPwtKwPWufuQ+F/tp1rn7kPhf7aeM0mQK9UM61z9yHwv9tOtc/ch8L/bWNmmAREUUREQEREBERAREQEREBERAREQEREBERAREQEREBERAREQEREBERAREQEREBERAREQEREBERAREQEREBERAREQEREBERAREQEREBERAREQEREBERAREQEREBERAREQEREBERAREQEREBERAREQEREBERAREQEREBERAREQEREBERAREQEREBERAREQEREBERAREQEREBERAREQEREBERAREQEREBERAREQEREBERAREQEREBERAREQEREBERAREQEREBERAREQEREBERAREQEREBERAREQEREBERAREQEREH//Z\n"
                },
                "metadata": {}
              }
            ]
          }
        },
        "d4815385c0d3456c8ca08137e8c7a8a2": {
          "model_module": "@jupyter-widgets/output",
          "model_name": "OutputModel",
          "model_module_version": "1.0.0",
          "state": {
            "_dom_classes": [],
            "_model_module": "@jupyter-widgets/output",
            "_model_module_version": "1.0.0",
            "_model_name": "OutputModel",
            "_view_count": null,
            "_view_module": "@jupyter-widgets/output",
            "_view_module_version": "1.0.0",
            "_view_name": "OutputView",
            "layout": "IPY_MODEL_360d95bec20248089aab8d7dc2709de3",
            "msg_id": "",
            "outputs": [
              {
                "output_type": "stream",
                "name": "stdout",
                "text": [
                  "Video available at https://www.bilibili.com/video/av456396195\n"
                ]
              },
              {
                "output_type": "display_data",
                "data": {
                  "text/plain": "<__main__.BiliVideo at 0x7f846b6c1c10>",
                  "text/html": "\n        <iframe\n            width=\"854\"\n            height=\"480\"\n            src=\"https://player.bilibili.com/player.html?bvid=av456396195&page=1?fs=1\"\n            frameborder=\"0\"\n            allowfullscreen\n        ></iframe>\n        "
                },
                "metadata": {}
              }
            ]
          }
        },
        "3d6b812a0ead4e2db2850d09ceee0c95": {
          "model_module": "@jupyter-widgets/base",
          "model_name": "LayoutModel",
          "model_module_version": "1.2.0",
          "state": {
            "_model_module": "@jupyter-widgets/base",
            "_model_module_version": "1.2.0",
            "_model_name": "LayoutModel",
            "_view_count": null,
            "_view_module": "@jupyter-widgets/base",
            "_view_module_version": "1.2.0",
            "_view_name": "LayoutView",
            "align_content": null,
            "align_items": null,
            "align_self": null,
            "border": null,
            "bottom": null,
            "display": null,
            "flex": null,
            "flex_flow": null,
            "grid_area": null,
            "grid_auto_columns": null,
            "grid_auto_flow": null,
            "grid_auto_rows": null,
            "grid_column": null,
            "grid_gap": null,
            "grid_row": null,
            "grid_template_areas": null,
            "grid_template_columns": null,
            "grid_template_rows": null,
            "height": null,
            "justify_content": null,
            "justify_items": null,
            "left": null,
            "margin": null,
            "max_height": null,
            "max_width": null,
            "min_height": null,
            "min_width": null,
            "object_fit": null,
            "object_position": null,
            "order": null,
            "overflow": null,
            "overflow_x": null,
            "overflow_y": null,
            "padding": null,
            "right": null,
            "top": null,
            "visibility": null,
            "width": null
          }
        },
        "e249583382594000a22be4bfc76624ef": {
          "model_module": "@jupyter-widgets/base",
          "model_name": "LayoutModel",
          "model_module_version": "1.2.0",
          "state": {
            "_model_module": "@jupyter-widgets/base",
            "_model_module_version": "1.2.0",
            "_model_name": "LayoutModel",
            "_view_count": null,
            "_view_module": "@jupyter-widgets/base",
            "_view_module_version": "1.2.0",
            "_view_name": "LayoutView",
            "align_content": null,
            "align_items": null,
            "align_self": null,
            "border": null,
            "bottom": null,
            "display": null,
            "flex": null,
            "flex_flow": null,
            "grid_area": null,
            "grid_auto_columns": null,
            "grid_auto_flow": null,
            "grid_auto_rows": null,
            "grid_column": null,
            "grid_gap": null,
            "grid_row": null,
            "grid_template_areas": null,
            "grid_template_columns": null,
            "grid_template_rows": null,
            "height": null,
            "justify_content": null,
            "justify_items": null,
            "left": null,
            "margin": null,
            "max_height": null,
            "max_width": null,
            "min_height": null,
            "min_width": null,
            "object_fit": null,
            "object_position": null,
            "order": null,
            "overflow": null,
            "overflow_x": null,
            "overflow_y": null,
            "padding": null,
            "right": null,
            "top": null,
            "visibility": null,
            "width": null
          }
        },
        "360d95bec20248089aab8d7dc2709de3": {
          "model_module": "@jupyter-widgets/base",
          "model_name": "LayoutModel",
          "model_module_version": "1.2.0",
          "state": {
            "_model_module": "@jupyter-widgets/base",
            "_model_module_version": "1.2.0",
            "_model_name": "LayoutModel",
            "_view_count": null,
            "_view_module": "@jupyter-widgets/base",
            "_view_module_version": "1.2.0",
            "_view_name": "LayoutView",
            "align_content": null,
            "align_items": null,
            "align_self": null,
            "border": null,
            "bottom": null,
            "display": null,
            "flex": null,
            "flex_flow": null,
            "grid_area": null,
            "grid_auto_columns": null,
            "grid_auto_flow": null,
            "grid_auto_rows": null,
            "grid_column": null,
            "grid_gap": null,
            "grid_row": null,
            "grid_template_areas": null,
            "grid_template_columns": null,
            "grid_template_rows": null,
            "height": null,
            "justify_content": null,
            "justify_items": null,
            "left": null,
            "margin": null,
            "max_height": null,
            "max_width": null,
            "min_height": null,
            "min_width": null,
            "object_fit": null,
            "object_position": null,
            "order": null,
            "overflow": null,
            "overflow_x": null,
            "overflow_y": null,
            "padding": null,
            "right": null,
            "top": null,
            "visibility": null,
            "width": null
          }
        },
        "3befd8862786456999fb9d0c26fdb3e3": {
          "model_module": "@jupyter-widgets/controls",
          "model_name": "TabModel",
          "model_module_version": "1.5.0",
          "state": {
            "_dom_classes": [],
            "_model_module": "@jupyter-widgets/controls",
            "_model_module_version": "1.5.0",
            "_model_name": "TabModel",
            "_titles": {
              "0": "Youtube",
              "1": "Bilibili"
            },
            "_view_count": null,
            "_view_module": "@jupyter-widgets/controls",
            "_view_module_version": "1.5.0",
            "_view_name": "TabView",
            "box_style": "",
            "children": [
              "IPY_MODEL_af304ee384314395ab9bc573041febe5",
              "IPY_MODEL_4a659154e1dc4357afe75553b901d781"
            ],
            "layout": "IPY_MODEL_8d9ac68b99d84d62956d61bfd12a46a2",
            "selected_index": 0
          }
        },
        "af304ee384314395ab9bc573041febe5": {
          "model_module": "@jupyter-widgets/output",
          "model_name": "OutputModel",
          "model_module_version": "1.0.0",
          "state": {
            "_dom_classes": [],
            "_model_module": "@jupyter-widgets/output",
            "_model_module_version": "1.0.0",
            "_model_name": "OutputModel",
            "_view_count": null,
            "_view_module": "@jupyter-widgets/output",
            "_view_module_version": "1.0.0",
            "_view_name": "OutputView",
            "layout": "IPY_MODEL_d16ad753ec1a4553bd0a0c75439194ba",
            "msg_id": "",
            "outputs": [
              {
                "output_type": "stream",
                "name": "stdout",
                "text": [
                  "Video available at https://youtube.com/watch?v=preNGdab7Kk\n"
                ]
              },
              {
                "output_type": "display_data",
                "data": {
                  "text/plain": "<IPython.lib.display.YouTubeVideo at 0x7f845c166510>",
                  "text/html": "\n        <iframe\n            width=\"854\"\n            height=\"480\"\n            src=\"https://www.youtube.com/embed/preNGdab7Kk?fs=1&rel=0\"\n            frameborder=\"0\"\n            allowfullscreen\n        ></iframe>\n        ",
                  "image/jpeg": "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\n"
                },
                "metadata": {}
              }
            ]
          }
        },
        "4a659154e1dc4357afe75553b901d781": {
          "model_module": "@jupyter-widgets/output",
          "model_name": "OutputModel",
          "model_module_version": "1.0.0",
          "state": {
            "_dom_classes": [],
            "_model_module": "@jupyter-widgets/output",
            "_model_module_version": "1.0.0",
            "_model_name": "OutputModel",
            "_view_count": null,
            "_view_module": "@jupyter-widgets/output",
            "_view_module_version": "1.0.0",
            "_view_name": "OutputView",
            "layout": "IPY_MODEL_6b20953a314f4c18b230963fe278fb57",
            "msg_id": "",
            "outputs": [
              {
                "output_type": "stream",
                "name": "stdout",
                "text": [
                  "Video available at https://www.bilibili.com/video/av541417171\n"
                ]
              },
              {
                "output_type": "display_data",
                "data": {
                  "text/plain": "<__main__.BiliVideo at 0x7f845c160f50>",
                  "text/html": "\n        <iframe\n            width=\"854\"\n            height=\"480\"\n            src=\"https://player.bilibili.com/player.html?bvid=av541417171&page=1?fs=1\"\n            frameborder=\"0\"\n            allowfullscreen\n        ></iframe>\n        "
                },
                "metadata": {}
              }
            ]
          }
        },
        "8d9ac68b99d84d62956d61bfd12a46a2": {
          "model_module": "@jupyter-widgets/base",
          "model_name": "LayoutModel",
          "model_module_version": "1.2.0",
          "state": {
            "_model_module": "@jupyter-widgets/base",
            "_model_module_version": "1.2.0",
            "_model_name": "LayoutModel",
            "_view_count": null,
            "_view_module": "@jupyter-widgets/base",
            "_view_module_version": "1.2.0",
            "_view_name": "LayoutView",
            "align_content": null,
            "align_items": null,
            "align_self": null,
            "border": null,
            "bottom": null,
            "display": null,
            "flex": null,
            "flex_flow": null,
            "grid_area": null,
            "grid_auto_columns": null,
            "grid_auto_flow": null,
            "grid_auto_rows": null,
            "grid_column": null,
            "grid_gap": null,
            "grid_row": null,
            "grid_template_areas": null,
            "grid_template_columns": null,
            "grid_template_rows": null,
            "height": null,
            "justify_content": null,
            "justify_items": null,
            "left": null,
            "margin": null,
            "max_height": null,
            "max_width": null,
            "min_height": null,
            "min_width": null,
            "object_fit": null,
            "object_position": null,
            "order": null,
            "overflow": null,
            "overflow_x": null,
            "overflow_y": null,
            "padding": null,
            "right": null,
            "top": null,
            "visibility": null,
            "width": null
          }
        },
        "d16ad753ec1a4553bd0a0c75439194ba": {
          "model_module": "@jupyter-widgets/base",
          "model_name": "LayoutModel",
          "model_module_version": "1.2.0",
          "state": {
            "_model_module": "@jupyter-widgets/base",
            "_model_module_version": "1.2.0",
            "_model_name": "LayoutModel",
            "_view_count": null,
            "_view_module": "@jupyter-widgets/base",
            "_view_module_version": "1.2.0",
            "_view_name": "LayoutView",
            "align_content": null,
            "align_items": null,
            "align_self": null,
            "border": null,
            "bottom": null,
            "display": null,
            "flex": null,
            "flex_flow": null,
            "grid_area": null,
            "grid_auto_columns": null,
            "grid_auto_flow": null,
            "grid_auto_rows": null,
            "grid_column": null,
            "grid_gap": null,
            "grid_row": null,
            "grid_template_areas": null,
            "grid_template_columns": null,
            "grid_template_rows": null,
            "height": null,
            "justify_content": null,
            "justify_items": null,
            "left": null,
            "margin": null,
            "max_height": null,
            "max_width": null,
            "min_height": null,
            "min_width": null,
            "object_fit": null,
            "object_position": null,
            "order": null,
            "overflow": null,
            "overflow_x": null,
            "overflow_y": null,
            "padding": null,
            "right": null,
            "top": null,
            "visibility": null,
            "width": null
          }
        },
        "6b20953a314f4c18b230963fe278fb57": {
          "model_module": "@jupyter-widgets/base",
          "model_name": "LayoutModel",
          "model_module_version": "1.2.0",
          "state": {
            "_model_module": "@jupyter-widgets/base",
            "_model_module_version": "1.2.0",
            "_model_name": "LayoutModel",
            "_view_count": null,
            "_view_module": "@jupyter-widgets/base",
            "_view_module_version": "1.2.0",
            "_view_name": "LayoutView",
            "align_content": null,
            "align_items": null,
            "align_self": null,
            "border": null,
            "bottom": null,
            "display": null,
            "flex": null,
            "flex_flow": null,
            "grid_area": null,
            "grid_auto_columns": null,
            "grid_auto_flow": null,
            "grid_auto_rows": null,
            "grid_column": null,
            "grid_gap": null,
            "grid_row": null,
            "grid_template_areas": null,
            "grid_template_columns": null,
            "grid_template_rows": null,
            "height": null,
            "justify_content": null,
            "justify_items": null,
            "left": null,
            "margin": null,
            "max_height": null,
            "max_width": null,
            "min_height": null,
            "min_width": null,
            "object_fit": null,
            "object_position": null,
            "order": null,
            "overflow": null,
            "overflow_x": null,
            "overflow_y": null,
            "padding": null,
            "right": null,
            "top": null,
            "visibility": null,
            "width": null
          }
        },
        "a5e3710bbd1149c0950a0fc4c0cfcc30": {
          "model_module": "@jupyter-widgets/controls",
          "model_name": "VBoxModel",
          "model_module_version": "1.5.0",
          "state": {
            "_dom_classes": [
              "widget-interact"
            ],
            "_model_module": "@jupyter-widgets/controls",
            "_model_module_version": "1.5.0",
            "_model_name": "VBoxModel",
            "_view_count": null,
            "_view_module": "@jupyter-widgets/controls",
            "_view_module_version": "1.5.0",
            "_view_name": "VBoxView",
            "box_style": "",
            "children": [
              "IPY_MODEL_4b60068adf2e4dbc9bb6dba200910bbc",
              "IPY_MODEL_1e2c32088727486fb01f671d746fde20",
              "IPY_MODEL_562f1a6f519f449c8c34a0d1e9546075"
            ],
            "layout": "IPY_MODEL_255ec5d9356d4999953ce995fa0b6e47"
          }
        },
        "4b60068adf2e4dbc9bb6dba200910bbc": {
          "model_module": "@jupyter-widgets/controls",
          "model_name": "FloatSliderModel",
          "model_module_version": "1.5.0",
          "state": {
            "_dom_classes": [],
            "_model_module": "@jupyter-widgets/controls",
            "_model_module_version": "1.5.0",
            "_model_name": "FloatSliderModel",
            "_view_count": null,
            "_view_module": "@jupyter-widgets/controls",
            "_view_module_version": "1.5.0",
            "_view_name": "FloatSliderView",
            "continuous_update": true,
            "description": "I_dc",
            "description_tooltip": null,
            "disabled": false,
            "layout": "IPY_MODEL_99de4ba3a00f4f0aa75e9522e34f64dc",
            "max": 300,
            "min": 0,
            "orientation": "horizontal",
            "readout": true,
            "readout_format": ".2f",
            "step": 10,
            "style": "IPY_MODEL_49e3173606bc4e2b84465672771ecf2b",
            "value": 130
          }
        },
        "1e2c32088727486fb01f671d746fde20": {
          "model_module": "@jupyter-widgets/controls",
          "model_name": "FloatSliderModel",
          "model_module_version": "1.5.0",
          "state": {
            "_dom_classes": [],
            "_model_module": "@jupyter-widgets/controls",
            "_model_module_version": "1.5.0",
            "_model_name": "FloatSliderModel",
            "_view_count": null,
            "_view_module": "@jupyter-widgets/controls",
            "_view_module_version": "1.5.0",
            "_view_name": "FloatSliderView",
            "continuous_update": true,
            "description": "tau_m",
            "description_tooltip": null,
            "disabled": false,
            "layout": "IPY_MODEL_99de4ba3a00f4f0aa75e9522e34f64dc",
            "max": 20,
            "min": 2,
            "orientation": "horizontal",
            "readout": true,
            "readout_format": ".2f",
            "step": 2,
            "style": "IPY_MODEL_5bf7eaf13e45451087599912878de6f8",
            "value": 2
          }
        },
        "562f1a6f519f449c8c34a0d1e9546075": {
          "model_module": "@jupyter-widgets/output",
          "model_name": "OutputModel",
          "model_module_version": "1.0.0",
          "state": {
            "_dom_classes": [],
            "_model_module": "@jupyter-widgets/output",
            "_model_module_version": "1.0.0",
            "_model_name": "OutputModel",
            "_view_count": null,
            "_view_module": "@jupyter-widgets/output",
            "_view_module_version": "1.0.0",
            "_view_name": "OutputView",
            "layout": "IPY_MODEL_e8d859d8e82746a887b1c2a89dc08b78",
            "msg_id": "",
            "outputs": [
              {
                "output_type": "display_data",
                "data": {
                  "text/plain": "<Figure size 576x432 with 1 Axes>",
                  "image/png": "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\n"
                },
                "metadata": {
                  "image/png": {
                    "width": 552,
                    "height": 414
                  },
                  "needs_background": "light"
                }
              }
            ]
          }
        },
        "255ec5d9356d4999953ce995fa0b6e47": {
          "model_module": "@jupyter-widgets/base",
          "model_name": "LayoutModel",
          "model_module_version": "1.2.0",
          "state": {
            "_model_module": "@jupyter-widgets/base",
            "_model_module_version": "1.2.0",
            "_model_name": "LayoutModel",
            "_view_count": null,
            "_view_module": "@jupyter-widgets/base",
            "_view_module_version": "1.2.0",
            "_view_name": "LayoutView",
            "align_content": null,
            "align_items": null,
            "align_self": null,
            "border": null,
            "bottom": null,
            "display": null,
            "flex": null,
            "flex_flow": null,
            "grid_area": null,
            "grid_auto_columns": null,
            "grid_auto_flow": null,
            "grid_auto_rows": null,
            "grid_column": null,
            "grid_gap": null,
            "grid_row": null,
            "grid_template_areas": null,
            "grid_template_columns": null,
            "grid_template_rows": null,
            "height": null,
            "justify_content": null,
            "justify_items": null,
            "left": null,
            "margin": null,
            "max_height": null,
            "max_width": null,
            "min_height": null,
            "min_width": null,
            "object_fit": null,
            "object_position": null,
            "order": null,
            "overflow": null,
            "overflow_x": null,
            "overflow_y": null,
            "padding": null,
            "right": null,
            "top": null,
            "visibility": null,
            "width": null
          }
        },
        "99de4ba3a00f4f0aa75e9522e34f64dc": {
          "model_module": "@jupyter-widgets/base",
          "model_name": "LayoutModel",
          "model_module_version": "1.2.0",
          "state": {
            "_model_module": "@jupyter-widgets/base",
            "_model_module_version": "1.2.0",
            "_model_name": "LayoutModel",
            "_view_count": null,
            "_view_module": "@jupyter-widgets/base",
            "_view_module_version": "1.2.0",
            "_view_name": "LayoutView",
            "align_content": null,
            "align_items": null,
            "align_self": null,
            "border": null,
            "bottom": null,
            "display": null,
            "flex": null,
            "flex_flow": null,
            "grid_area": null,
            "grid_auto_columns": null,
            "grid_auto_flow": null,
            "grid_auto_rows": null,
            "grid_column": null,
            "grid_gap": null,
            "grid_row": null,
            "grid_template_areas": null,
            "grid_template_columns": null,
            "grid_template_rows": null,
            "height": null,
            "justify_content": null,
            "justify_items": null,
            "left": null,
            "margin": null,
            "max_height": null,
            "max_width": null,
            "min_height": null,
            "min_width": null,
            "object_fit": null,
            "object_position": null,
            "order": null,
            "overflow": null,
            "overflow_x": null,
            "overflow_y": null,
            "padding": null,
            "right": null,
            "top": null,
            "visibility": null,
            "width": "450px"
          }
        },
        "49e3173606bc4e2b84465672771ecf2b": {
          "model_module": "@jupyter-widgets/controls",
          "model_name": "SliderStyleModel",
          "model_module_version": "1.5.0",
          "state": {
            "_model_module": "@jupyter-widgets/controls",
            "_model_module_version": "1.5.0",
            "_model_name": "SliderStyleModel",
            "_view_count": null,
            "_view_module": "@jupyter-widgets/base",
            "_view_module_version": "1.2.0",
            "_view_name": "StyleView",
            "description_width": "",
            "handle_color": null
          }
        },
        "5bf7eaf13e45451087599912878de6f8": {
          "model_module": "@jupyter-widgets/controls",
          "model_name": "SliderStyleModel",
          "model_module_version": "1.5.0",
          "state": {
            "_model_module": "@jupyter-widgets/controls",
            "_model_module_version": "1.5.0",
            "_model_name": "SliderStyleModel",
            "_view_count": null,
            "_view_module": "@jupyter-widgets/base",
            "_view_module_version": "1.2.0",
            "_view_name": "StyleView",
            "description_width": "",
            "handle_color": null
          }
        },
        "e8d859d8e82746a887b1c2a89dc08b78": {
          "model_module": "@jupyter-widgets/base",
          "model_name": "LayoutModel",
          "model_module_version": "1.2.0",
          "state": {
            "_model_module": "@jupyter-widgets/base",
            "_model_module_version": "1.2.0",
            "_model_name": "LayoutModel",
            "_view_count": null,
            "_view_module": "@jupyter-widgets/base",
            "_view_module_version": "1.2.0",
            "_view_name": "LayoutView",
            "align_content": null,
            "align_items": null,
            "align_self": null,
            "border": null,
            "bottom": null,
            "display": null,
            "flex": null,
            "flex_flow": null,
            "grid_area": null,
            "grid_auto_columns": null,
            "grid_auto_flow": null,
            "grid_auto_rows": null,
            "grid_column": null,
            "grid_gap": null,
            "grid_row": null,
            "grid_template_areas": null,
            "grid_template_columns": null,
            "grid_template_rows": null,
            "height": null,
            "justify_content": null,
            "justify_items": null,
            "left": null,
            "margin": null,
            "max_height": null,
            "max_width": null,
            "min_height": null,
            "min_width": null,
            "object_fit": null,
            "object_position": null,
            "order": null,
            "overflow": null,
            "overflow_x": null,
            "overflow_y": null,
            "padding": null,
            "right": null,
            "top": null,
            "visibility": null,
            "width": null
          }
        },
        "1695a638f9f844c29e507febe483ceb7": {
          "model_module": "@jupyter-widgets/controls",
          "model_name": "VBoxModel",
          "model_module_version": "1.5.0",
          "state": {
            "_dom_classes": [
              "widget-interact"
            ],
            "_model_module": "@jupyter-widgets/controls",
            "_model_module_version": "1.5.0",
            "_model_name": "VBoxModel",
            "_view_count": null,
            "_view_module": "@jupyter-widgets/controls",
            "_view_module_version": "1.5.0",
            "_view_name": "VBoxView",
            "box_style": "",
            "children": [
              "IPY_MODEL_3a227c1869c24dbfba7432c0c5c9e214",
              "IPY_MODEL_dc099a8b2b8e4f1390525b563bb33761",
              "IPY_MODEL_c00cf30c7ed746f1b216faa5bad69f6c"
            ],
            "layout": "IPY_MODEL_a3e7b9869e75457882e6f31874cda899"
          }
        },
        "3a227c1869c24dbfba7432c0c5c9e214": {
          "model_module": "@jupyter-widgets/controls",
          "model_name": "FloatSliderModel",
          "model_module_version": "1.5.0",
          "state": {
            "_dom_classes": [],
            "_model_module": "@jupyter-widgets/controls",
            "_model_module_version": "1.5.0",
            "_model_name": "FloatSliderModel",
            "_view_count": null,
            "_view_module": "@jupyter-widgets/controls",
            "_view_module_version": "1.5.0",
            "_view_name": "FloatSliderView",
            "continuous_update": true,
            "description": "mu_gwn",
            "description_tooltip": null,
            "disabled": false,
            "layout": "IPY_MODEL_99de4ba3a00f4f0aa75e9522e34f64dc",
            "max": 300,
            "min": 100,
            "orientation": "horizontal",
            "readout": true,
            "readout_format": ".2f",
            "step": 5,
            "style": "IPY_MODEL_f5660d905bc647d4985700ebf08088a8",
            "value": 195
          }
        },
        "dc099a8b2b8e4f1390525b563bb33761": {
          "model_module": "@jupyter-widgets/controls",
          "model_name": "FloatSliderModel",
          "model_module_version": "1.5.0",
          "state": {
            "_dom_classes": [],
            "_model_module": "@jupyter-widgets/controls",
            "_model_module_version": "1.5.0",
            "_model_name": "FloatSliderModel",
            "_view_count": null,
            "_view_module": "@jupyter-widgets/controls",
            "_view_module_version": "1.5.0",
            "_view_name": "FloatSliderView",
            "continuous_update": true,
            "description": "sig_gwn",
            "description_tooltip": null,
            "disabled": false,
            "layout": "IPY_MODEL_99de4ba3a00f4f0aa75e9522e34f64dc",
            "max": 5,
            "min": 0,
            "orientation": "horizontal",
            "readout": true,
            "readout_format": ".2f",
            "step": 0.5,
            "style": "IPY_MODEL_4beb9d0a14f74dbea1295112819847f7",
            "value": 1.5
          }
        },
        "c00cf30c7ed746f1b216faa5bad69f6c": {
          "model_module": "@jupyter-widgets/output",
          "model_name": "OutputModel",
          "model_module_version": "1.0.0",
          "state": {
            "_dom_classes": [],
            "_model_module": "@jupyter-widgets/output",
            "_model_module_version": "1.0.0",
            "_model_name": "OutputModel",
            "_view_count": null,
            "_view_module": "@jupyter-widgets/output",
            "_view_module_version": "1.0.0",
            "_view_name": "OutputView",
            "layout": "IPY_MODEL_d0c116a82c9a495793ab44c542a9cbdf",
            "msg_id": "",
            "outputs": [
              {
                "output_type": "display_data",
                "data": {
                  "text/plain": "<Figure size 864x288 with 2 Axes>",
                  "image/png": "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\n"
                },
                "metadata": {
                  "image/png": {
                    "width": 846,
                    "height": 270
                  },
                  "needs_background": "light"
                }
              }
            ]
          }
        },
        "a3e7b9869e75457882e6f31874cda899": {
          "model_module": "@jupyter-widgets/base",
          "model_name": "LayoutModel",
          "model_module_version": "1.2.0",
          "state": {
            "_model_module": "@jupyter-widgets/base",
            "_model_module_version": "1.2.0",
            "_model_name": "LayoutModel",
            "_view_count": null,
            "_view_module": "@jupyter-widgets/base",
            "_view_module_version": "1.2.0",
            "_view_name": "LayoutView",
            "align_content": null,
            "align_items": null,
            "align_self": null,
            "border": null,
            "bottom": null,
            "display": null,
            "flex": null,
            "flex_flow": null,
            "grid_area": null,
            "grid_auto_columns": null,
            "grid_auto_flow": null,
            "grid_auto_rows": null,
            "grid_column": null,
            "grid_gap": null,
            "grid_row": null,
            "grid_template_areas": null,
            "grid_template_columns": null,
            "grid_template_rows": null,
            "height": null,
            "justify_content": null,
            "justify_items": null,
            "left": null,
            "margin": null,
            "max_height": null,
            "max_width": null,
            "min_height": null,
            "min_width": null,
            "object_fit": null,
            "object_position": null,
            "order": null,
            "overflow": null,
            "overflow_x": null,
            "overflow_y": null,
            "padding": null,
            "right": null,
            "top": null,
            "visibility": null,
            "width": null
          }
        },
        "f5660d905bc647d4985700ebf08088a8": {
          "model_module": "@jupyter-widgets/controls",
          "model_name": "SliderStyleModel",
          "model_module_version": "1.5.0",
          "state": {
            "_model_module": "@jupyter-widgets/controls",
            "_model_module_version": "1.5.0",
            "_model_name": "SliderStyleModel",
            "_view_count": null,
            "_view_module": "@jupyter-widgets/base",
            "_view_module_version": "1.2.0",
            "_view_name": "StyleView",
            "description_width": "",
            "handle_color": null
          }
        },
        "4beb9d0a14f74dbea1295112819847f7": {
          "model_module": "@jupyter-widgets/controls",
          "model_name": "SliderStyleModel",
          "model_module_version": "1.5.0",
          "state": {
            "_model_module": "@jupyter-widgets/controls",
            "_model_module_version": "1.5.0",
            "_model_name": "SliderStyleModel",
            "_view_count": null,
            "_view_module": "@jupyter-widgets/base",
            "_view_module_version": "1.2.0",
            "_view_name": "StyleView",
            "description_width": "",
            "handle_color": null
          }
        },
        "d0c116a82c9a495793ab44c542a9cbdf": {
          "model_module": "@jupyter-widgets/base",
          "model_name": "LayoutModel",
          "model_module_version": "1.2.0",
          "state": {
            "_model_module": "@jupyter-widgets/base",
            "_model_module_version": "1.2.0",
            "_model_name": "LayoutModel",
            "_view_count": null,
            "_view_module": "@jupyter-widgets/base",
            "_view_module_version": "1.2.0",
            "_view_name": "LayoutView",
            "align_content": null,
            "align_items": null,
            "align_self": null,
            "border": null,
            "bottom": null,
            "display": null,
            "flex": null,
            "flex_flow": null,
            "grid_area": null,
            "grid_auto_columns": null,
            "grid_auto_flow": null,
            "grid_auto_rows": null,
            "grid_column": null,
            "grid_gap": null,
            "grid_row": null,
            "grid_template_areas": null,
            "grid_template_columns": null,
            "grid_template_rows": null,
            "height": null,
            "justify_content": null,
            "justify_items": null,
            "left": null,
            "margin": null,
            "max_height": null,
            "max_width": null,
            "min_height": null,
            "min_width": null,
            "object_fit": null,
            "object_position": null,
            "order": null,
            "overflow": null,
            "overflow_x": null,
            "overflow_y": null,
            "padding": null,
            "right": null,
            "top": null,
            "visibility": null,
            "width": null
          }
        },
        "a3540d0e36fb4d8ebe767231c482898f": {
          "model_module": "@jupyter-widgets/controls",
          "model_name": "VBoxModel",
          "model_module_version": "1.5.0",
          "state": {
            "_dom_classes": [
              "widget-interact"
            ],
            "_model_module": "@jupyter-widgets/controls",
            "_model_module_version": "1.5.0",
            "_model_name": "VBoxModel",
            "_view_count": null,
            "_view_module": "@jupyter-widgets/controls",
            "_view_module_version": "1.5.0",
            "_view_name": "VBoxView",
            "box_style": "",
            "children": [
              "IPY_MODEL_6b58cd54a05a4afdab6320d45378ceb7",
              "IPY_MODEL_d9f0a159179146f8900a6f7a923bb37b"
            ],
            "layout": "IPY_MODEL_3ad3385273c24b9fb09d157a3ce184eb"
          }
        },
        "6b58cd54a05a4afdab6320d45378ceb7": {
          "model_module": "@jupyter-widgets/controls",
          "model_name": "FloatSliderModel",
          "model_module_version": "1.5.0",
          "state": {
            "_dom_classes": [],
            "_model_module": "@jupyter-widgets/controls",
            "_model_module_version": "1.5.0",
            "_model_name": "FloatSliderModel",
            "_view_count": null,
            "_view_module": "@jupyter-widgets/controls",
            "_view_module_version": "1.5.0",
            "_view_name": "FloatSliderView",
            "continuous_update": true,
            "description": "sig_gwn",
            "description_tooltip": null,
            "disabled": false,
            "layout": "IPY_MODEL_99de4ba3a00f4f0aa75e9522e34f64dc",
            "max": 6,
            "min": 0,
            "orientation": "horizontal",
            "readout": true,
            "readout_format": ".2f",
            "step": 0.5,
            "style": "IPY_MODEL_bc4ec9917f49477fa24bc509675ace7d",
            "value": 6
          }
        },
        "d9f0a159179146f8900a6f7a923bb37b": {
          "model_module": "@jupyter-widgets/output",
          "model_name": "OutputModel",
          "model_module_version": "1.0.0",
          "state": {
            "_dom_classes": [],
            "_model_module": "@jupyter-widgets/output",
            "_model_module_version": "1.0.0",
            "_model_name": "OutputModel",
            "_view_count": null,
            "_view_module": "@jupyter-widgets/output",
            "_view_module_version": "1.0.0",
            "_view_name": "OutputView",
            "layout": "IPY_MODEL_72ba65fe20d844079d5cdafde0a94dd1",
            "msg_id": "",
            "outputs": [
              {
                "output_type": "display_data",
                "data": {
                  "text/plain": "<Figure size 576x432 with 1 Axes>",
                  "image/png": "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\n"
                },
                "metadata": {
                  "image/png": {
                    "width": 557,
                    "height": 413
                  },
                  "needs_background": "light"
                }
              }
            ]
          }
        },
        "3ad3385273c24b9fb09d157a3ce184eb": {
          "model_module": "@jupyter-widgets/base",
          "model_name": "LayoutModel",
          "model_module_version": "1.2.0",
          "state": {
            "_model_module": "@jupyter-widgets/base",
            "_model_module_version": "1.2.0",
            "_model_name": "LayoutModel",
            "_view_count": null,
            "_view_module": "@jupyter-widgets/base",
            "_view_module_version": "1.2.0",
            "_view_name": "LayoutView",
            "align_content": null,
            "align_items": null,
            "align_self": null,
            "border": null,
            "bottom": null,
            "display": null,
            "flex": null,
            "flex_flow": null,
            "grid_area": null,
            "grid_auto_columns": null,
            "grid_auto_flow": null,
            "grid_auto_rows": null,
            "grid_column": null,
            "grid_gap": null,
            "grid_row": null,
            "grid_template_areas": null,
            "grid_template_columns": null,
            "grid_template_rows": null,
            "height": null,
            "justify_content": null,
            "justify_items": null,
            "left": null,
            "margin": null,
            "max_height": null,
            "max_width": null,
            "min_height": null,
            "min_width": null,
            "object_fit": null,
            "object_position": null,
            "order": null,
            "overflow": null,
            "overflow_x": null,
            "overflow_y": null,
            "padding": null,
            "right": null,
            "top": null,
            "visibility": null,
            "width": null
          }
        },
        "bc4ec9917f49477fa24bc509675ace7d": {
          "model_module": "@jupyter-widgets/controls",
          "model_name": "SliderStyleModel",
          "model_module_version": "1.5.0",
          "state": {
            "_model_module": "@jupyter-widgets/controls",
            "_model_module_version": "1.5.0",
            "_model_name": "SliderStyleModel",
            "_view_count": null,
            "_view_module": "@jupyter-widgets/base",
            "_view_module_version": "1.2.0",
            "_view_name": "StyleView",
            "description_width": "",
            "handle_color": null
          }
        },
        "72ba65fe20d844079d5cdafde0a94dd1": {
          "model_module": "@jupyter-widgets/base",
          "model_name": "LayoutModel",
          "model_module_version": "1.2.0",
          "state": {
            "_model_module": "@jupyter-widgets/base",
            "_model_module_version": "1.2.0",
            "_model_name": "LayoutModel",
            "_view_count": null,
            "_view_module": "@jupyter-widgets/base",
            "_view_module_version": "1.2.0",
            "_view_name": "LayoutView",
            "align_content": null,
            "align_items": null,
            "align_self": null,
            "border": null,
            "bottom": null,
            "display": null,
            "flex": null,
            "flex_flow": null,
            "grid_area": null,
            "grid_auto_columns": null,
            "grid_auto_flow": null,
            "grid_auto_rows": null,
            "grid_column": null,
            "grid_gap": null,
            "grid_row": null,
            "grid_template_areas": null,
            "grid_template_columns": null,
            "grid_template_rows": null,
            "height": null,
            "justify_content": null,
            "justify_items": null,
            "left": null,
            "margin": null,
            "max_height": null,
            "max_width": null,
            "min_height": null,
            "min_width": null,
            "object_fit": null,
            "object_position": null,
            "order": null,
            "overflow": null,
            "overflow_x": null,
            "overflow_y": null,
            "padding": null,
            "right": null,
            "top": null,
            "visibility": null,
            "width": null
          }
        },
        "571a14e885b643c4973f18f084a95fab": {
          "model_module": "@jupyter-widgets/controls",
          "model_name": "VBoxModel",
          "model_module_version": "1.5.0",
          "state": {
            "_dom_classes": [
              "widget-interact"
            ],
            "_model_module": "@jupyter-widgets/controls",
            "_model_module_version": "1.5.0",
            "_model_name": "VBoxModel",
            "_view_count": null,
            "_view_module": "@jupyter-widgets/controls",
            "_view_module_version": "1.5.0",
            "_view_name": "VBoxView",
            "box_style": "",
            "children": [
              "IPY_MODEL_c0ae9a634923404d8c11c9f9669222a5",
              "IPY_MODEL_98558d06518747448f05c7d9910ab35a"
            ],
            "layout": "IPY_MODEL_49ecb29d32d449238bd8dc3df386e37e"
          }
        },
        "c0ae9a634923404d8c11c9f9669222a5": {
          "model_module": "@jupyter-widgets/controls",
          "model_name": "FloatSliderModel",
          "model_module_version": "1.5.0",
          "state": {
            "_dom_classes": [],
            "_model_module": "@jupyter-widgets/controls",
            "_model_module_version": "1.5.0",
            "_model_name": "FloatSliderModel",
            "_view_count": null,
            "_view_module": "@jupyter-widgets/controls",
            "_view_module_version": "1.5.0",
            "_view_name": "FloatSliderView",
            "continuous_update": true,
            "description": "sig_gwn",
            "description_tooltip": null,
            "disabled": false,
            "layout": "IPY_MODEL_99de4ba3a00f4f0aa75e9522e34f64dc",
            "max": 10,
            "min": 0,
            "orientation": "horizontal",
            "readout": true,
            "readout_format": ".2f",
            "step": 0.5,
            "style": "IPY_MODEL_36aacf12190f4bce8086a4a754934c79",
            "value": 1.5
          }
        },
        "98558d06518747448f05c7d9910ab35a": {
          "model_module": "@jupyter-widgets/output",
          "model_name": "OutputModel",
          "model_module_version": "1.0.0",
          "state": {
            "_dom_classes": [],
            "_model_module": "@jupyter-widgets/output",
            "_model_module_version": "1.0.0",
            "_model_name": "OutputModel",
            "_view_count": null,
            "_view_module": "@jupyter-widgets/output",
            "_view_module_version": "1.0.0",
            "_view_name": "OutputView",
            "layout": "IPY_MODEL_58686f7c02d945b0af46d8b487186d46",
            "msg_id": "",
            "outputs": [
              {
                "output_type": "display_data",
                "data": {
                  "text/plain": "<Figure size 576x432 with 1 Axes>",
                  "image/png": "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\n"
                },
                "metadata": {
                  "image/png": {
                    "width": 558,
                    "height": 413
                  },
                  "needs_background": "light"
                }
              }
            ]
          }
        },
        "49ecb29d32d449238bd8dc3df386e37e": {
          "model_module": "@jupyter-widgets/base",
          "model_name": "LayoutModel",
          "model_module_version": "1.2.0",
          "state": {
            "_model_module": "@jupyter-widgets/base",
            "_model_module_version": "1.2.0",
            "_model_name": "LayoutModel",
            "_view_count": null,
            "_view_module": "@jupyter-widgets/base",
            "_view_module_version": "1.2.0",
            "_view_name": "LayoutView",
            "align_content": null,
            "align_items": null,
            "align_self": null,
            "border": null,
            "bottom": null,
            "display": null,
            "flex": null,
            "flex_flow": null,
            "grid_area": null,
            "grid_auto_columns": null,
            "grid_auto_flow": null,
            "grid_auto_rows": null,
            "grid_column": null,
            "grid_gap": null,
            "grid_row": null,
            "grid_template_areas": null,
            "grid_template_columns": null,
            "grid_template_rows": null,
            "height": null,
            "justify_content": null,
            "justify_items": null,
            "left": null,
            "margin": null,
            "max_height": null,
            "max_width": null,
            "min_height": null,
            "min_width": null,
            "object_fit": null,
            "object_position": null,
            "order": null,
            "overflow": null,
            "overflow_x": null,
            "overflow_y": null,
            "padding": null,
            "right": null,
            "top": null,
            "visibility": null,
            "width": null
          }
        },
        "36aacf12190f4bce8086a4a754934c79": {
          "model_module": "@jupyter-widgets/controls",
          "model_name": "SliderStyleModel",
          "model_module_version": "1.5.0",
          "state": {
            "_model_module": "@jupyter-widgets/controls",
            "_model_module_version": "1.5.0",
            "_model_name": "SliderStyleModel",
            "_view_count": null,
            "_view_module": "@jupyter-widgets/base",
            "_view_module_version": "1.2.0",
            "_view_name": "StyleView",
            "description_width": "",
            "handle_color": null
          }
        },
        "58686f7c02d945b0af46d8b487186d46": {
          "model_module": "@jupyter-widgets/base",
          "model_name": "LayoutModel",
          "model_module_version": "1.2.0",
          "state": {
            "_model_module": "@jupyter-widgets/base",
            "_model_module_version": "1.2.0",
            "_model_name": "LayoutModel",
            "_view_count": null,
            "_view_module": "@jupyter-widgets/base",
            "_view_module_version": "1.2.0",
            "_view_name": "LayoutView",
            "align_content": null,
            "align_items": null,
            "align_self": null,
            "border": null,
            "bottom": null,
            "display": null,
            "flex": null,
            "flex_flow": null,
            "grid_area": null,
            "grid_auto_columns": null,
            "grid_auto_flow": null,
            "grid_auto_rows": null,
            "grid_column": null,
            "grid_gap": null,
            "grid_row": null,
            "grid_template_areas": null,
            "grid_template_columns": null,
            "grid_template_rows": null,
            "height": null,
            "justify_content": null,
            "justify_items": null,
            "left": null,
            "margin": null,
            "max_height": null,
            "max_width": null,
            "min_height": null,
            "min_width": null,
            "object_fit": null,
            "object_position": null,
            "order": null,
            "overflow": null,
            "overflow_x": null,
            "overflow_y": null,
            "padding": null,
            "right": null,
            "top": null,
            "visibility": null,
            "width": null
          }
        },
        "e20e9376eff04e998339a4230b3f3a92": {
          "model_module": "@jupyter-widgets/controls",
          "model_name": "VBoxModel",
          "model_module_version": "1.5.0",
          "state": {
            "_dom_classes": [
              "widget-interact"
            ],
            "_model_module": "@jupyter-widgets/controls",
            "_model_module_version": "1.5.0",
            "_model_name": "VBoxModel",
            "_view_count": null,
            "_view_module": "@jupyter-widgets/controls",
            "_view_module_version": "1.5.0",
            "_view_name": "VBoxView",
            "box_style": "",
            "children": [
              "IPY_MODEL_e36349f8a0794eeebf367784350f7ea7",
              "IPY_MODEL_0a726ff9bf5b4764aaf2c09dd99632f8",
              "IPY_MODEL_a4fa5700261d419d97b43f280e0813e2",
              "IPY_MODEL_2a9c76a9d32c450696e22e005b0f6d7b"
            ],
            "layout": "IPY_MODEL_7c4940c67bd94420a2e6dd99dd280970"
          }
        },
        "e36349f8a0794eeebf367784350f7ea7": {
          "model_module": "@jupyter-widgets/controls",
          "model_name": "FloatSliderModel",
          "model_module_version": "1.5.0",
          "state": {
            "_dom_classes": [],
            "_model_module": "@jupyter-widgets/controls",
            "_model_module_version": "1.5.0",
            "_model_name": "FloatSliderModel",
            "_view_count": null,
            "_view_module": "@jupyter-widgets/controls",
            "_view_module_version": "1.5.0",
            "_view_name": "FloatSliderView",
            "continuous_update": true,
            "description": "tau_ou",
            "description_tooltip": null,
            "disabled": false,
            "layout": "IPY_MODEL_99de4ba3a00f4f0aa75e9522e34f64dc",
            "max": 20,
            "min": 5,
            "orientation": "horizontal",
            "readout": true,
            "readout_format": ".2f",
            "step": 2.5,
            "style": "IPY_MODEL_91a9bffbe4a84a719fddaf0bac64617f",
            "value": 10
          }
        },
        "0a726ff9bf5b4764aaf2c09dd99632f8": {
          "model_module": "@jupyter-widgets/controls",
          "model_name": "FloatSliderModel",
          "model_module_version": "1.5.0",
          "state": {
            "_dom_classes": [],
            "_model_module": "@jupyter-widgets/controls",
            "_model_module_version": "1.5.0",
            "_model_name": "FloatSliderModel",
            "_view_count": null,
            "_view_module": "@jupyter-widgets/controls",
            "_view_module_version": "1.5.0",
            "_view_name": "FloatSliderView",
            "continuous_update": true,
            "description": "sig_ou",
            "description_tooltip": null,
            "disabled": false,
            "layout": "IPY_MODEL_99de4ba3a00f4f0aa75e9522e34f64dc",
            "max": 40,
            "min": 5,
            "orientation": "horizontal",
            "readout": true,
            "readout_format": ".2f",
            "step": 2.5,
            "style": "IPY_MODEL_3a370c4188bf4b07b1d2fb4263e1c52f",
            "value": 17.5
          }
        },
        "a4fa5700261d419d97b43f280e0813e2": {
          "model_module": "@jupyter-widgets/controls",
          "model_name": "FloatSliderModel",
          "model_module_version": "1.5.0",
          "state": {
            "_dom_classes": [],
            "_model_module": "@jupyter-widgets/controls",
            "_model_module_version": "1.5.0",
            "_model_name": "FloatSliderModel",
            "_view_count": null,
            "_view_module": "@jupyter-widgets/controls",
            "_view_module_version": "1.5.0",
            "_view_name": "FloatSliderView",
            "continuous_update": true,
            "description": "mu_ou",
            "description_tooltip": null,
            "disabled": false,
            "layout": "IPY_MODEL_99de4ba3a00f4f0aa75e9522e34f64dc",
            "max": 220,
            "min": 180,
            "orientation": "horizontal",
            "readout": true,
            "readout_format": ".2f",
            "step": 2.5,
            "style": "IPY_MODEL_c0c52cfe09c44290bd49c8c5bfc86ed9",
            "value": 195
          }
        },
        "2a9c76a9d32c450696e22e005b0f6d7b": {
          "model_module": "@jupyter-widgets/output",
          "model_name": "OutputModel",
          "model_module_version": "1.0.0",
          "state": {
            "_dom_classes": [],
            "_model_module": "@jupyter-widgets/output",
            "_model_module_version": "1.0.0",
            "_model_name": "OutputModel",
            "_view_count": null,
            "_view_module": "@jupyter-widgets/output",
            "_view_module_version": "1.0.0",
            "_view_name": "OutputView",
            "layout": "IPY_MODEL_646d1f8f8cd14baca11cba5225e6e3a5",
            "msg_id": "",
            "outputs": [
              {
                "output_type": "display_data",
                "data": {
                  "text/plain": "<Figure size 864x288 with 2 Axes>",
                  "image/png": "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\n"
                },
                "metadata": {
                  "image/png": {
                    "width": 846,
                    "height": 270
                  },
                  "needs_background": "light"
                }
              }
            ]
          }
        },
        "7c4940c67bd94420a2e6dd99dd280970": {
          "model_module": "@jupyter-widgets/base",
          "model_name": "LayoutModel",
          "model_module_version": "1.2.0",
          "state": {
            "_model_module": "@jupyter-widgets/base",
            "_model_module_version": "1.2.0",
            "_model_name": "LayoutModel",
            "_view_count": null,
            "_view_module": "@jupyter-widgets/base",
            "_view_module_version": "1.2.0",
            "_view_name": "LayoutView",
            "align_content": null,
            "align_items": null,
            "align_self": null,
            "border": null,
            "bottom": null,
            "display": null,
            "flex": null,
            "flex_flow": null,
            "grid_area": null,
            "grid_auto_columns": null,
            "grid_auto_flow": null,
            "grid_auto_rows": null,
            "grid_column": null,
            "grid_gap": null,
            "grid_row": null,
            "grid_template_areas": null,
            "grid_template_columns": null,
            "grid_template_rows": null,
            "height": null,
            "justify_content": null,
            "justify_items": null,
            "left": null,
            "margin": null,
            "max_height": null,
            "max_width": null,
            "min_height": null,
            "min_width": null,
            "object_fit": null,
            "object_position": null,
            "order": null,
            "overflow": null,
            "overflow_x": null,
            "overflow_y": null,
            "padding": null,
            "right": null,
            "top": null,
            "visibility": null,
            "width": null
          }
        },
        "91a9bffbe4a84a719fddaf0bac64617f": {
          "model_module": "@jupyter-widgets/controls",
          "model_name": "SliderStyleModel",
          "model_module_version": "1.5.0",
          "state": {
            "_model_module": "@jupyter-widgets/controls",
            "_model_module_version": "1.5.0",
            "_model_name": "SliderStyleModel",
            "_view_count": null,
            "_view_module": "@jupyter-widgets/base",
            "_view_module_version": "1.2.0",
            "_view_name": "StyleView",
            "description_width": "",
            "handle_color": null
          }
        },
        "3a370c4188bf4b07b1d2fb4263e1c52f": {
          "model_module": "@jupyter-widgets/controls",
          "model_name": "SliderStyleModel",
          "model_module_version": "1.5.0",
          "state": {
            "_model_module": "@jupyter-widgets/controls",
            "_model_module_version": "1.5.0",
            "_model_name": "SliderStyleModel",
            "_view_count": null,
            "_view_module": "@jupyter-widgets/base",
            "_view_module_version": "1.2.0",
            "_view_name": "StyleView",
            "description_width": "",
            "handle_color": null
          }
        },
        "c0c52cfe09c44290bd49c8c5bfc86ed9": {
          "model_module": "@jupyter-widgets/controls",
          "model_name": "SliderStyleModel",
          "model_module_version": "1.5.0",
          "state": {
            "_model_module": "@jupyter-widgets/controls",
            "_model_module_version": "1.5.0",
            "_model_name": "SliderStyleModel",
            "_view_count": null,
            "_view_module": "@jupyter-widgets/base",
            "_view_module_version": "1.2.0",
            "_view_name": "StyleView",
            "description_width": "",
            "handle_color": null
          }
        },
        "646d1f8f8cd14baca11cba5225e6e3a5": {
          "model_module": "@jupyter-widgets/base",
          "model_name": "LayoutModel",
          "model_module_version": "1.2.0",
          "state": {
            "_model_module": "@jupyter-widgets/base",
            "_model_module_version": "1.2.0",
            "_model_name": "LayoutModel",
            "_view_count": null,
            "_view_module": "@jupyter-widgets/base",
            "_view_module_version": "1.2.0",
            "_view_name": "LayoutView",
            "align_content": null,
            "align_items": null,
            "align_self": null,
            "border": null,
            "bottom": null,
            "display": null,
            "flex": null,
            "flex_flow": null,
            "grid_area": null,
            "grid_auto_columns": null,
            "grid_auto_flow": null,
            "grid_auto_rows": null,
            "grid_column": null,
            "grid_gap": null,
            "grid_row": null,
            "grid_template_areas": null,
            "grid_template_columns": null,
            "grid_template_rows": null,
            "height": null,
            "justify_content": null,
            "justify_items": null,
            "left": null,
            "margin": null,
            "max_height": null,
            "max_width": null,
            "min_height": null,
            "min_width": null,
            "object_fit": null,
            "object_position": null,
            "order": null,
            "overflow": null,
            "overflow_x": null,
            "overflow_y": null,
            "padding": null,
            "right": null,
            "top": null,
            "visibility": null,
            "width": null
          }
        }
      }
    }
  },
  "nbformat": 4,
  "nbformat_minor": 0
}